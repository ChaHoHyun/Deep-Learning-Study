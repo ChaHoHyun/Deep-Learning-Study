{
 "cells": [
  {
   "cell_type": "code",
   "execution_count": 10,
   "id": "c97a0567",
   "metadata": {
    "ExecuteTime": {
     "end_time": "2022-10-26T11:50:53.775503Z",
     "start_time": "2022-10-26T11:50:53.763359Z"
    }
   },
   "outputs": [],
   "source": [
    "from selenium import webdriver\n",
    "import time\n",
    "from urllib.request import urlopen, urlparse, urlunparse, urlretrieve"
   ]
  },
  {
   "cell_type": "code",
   "execution_count": 11,
   "id": "61691099",
   "metadata": {
    "ExecuteTime": {
     "end_time": "2022-10-26T11:54:50.455234Z",
     "start_time": "2022-10-26T11:54:50.448242Z"
    }
   },
   "outputs": [],
   "source": [
    "chrome_path = './cnn_example/chromedriver_win32/chromedriver.exe'\n",
    "base_url = \"https://www.google.co.kr/imghp\" # Google image URL"
   ]
  },
  {
   "cell_type": "code",
   "execution_count": 22,
   "id": "1f0f1e61",
   "metadata": {
    "ExecuteTime": {
     "end_time": "2022-10-26T12:09:49.711415Z",
     "start_time": "2022-10-26T12:09:28.380979Z"
    },
    "scrolled": true
   },
   "outputs": [
    {
     "name": "stdout",
     "output_type": "stream",
     "text": [
      "검색할 키워드를 입력 : shark underwater\n"
     ]
    }
   ],
   "source": [
    "driver = webdriver.Chrome(chrome_path) # 크롬드라이버 설치한 경로 작성 필요 \n",
    "driver.get(\"https://www.google.co.kr/imghp?hl=ko&tab=wi&authuser=0&ogbl\") # 구글 이미지 검색 url\n",
    "elem = driver.find_element_by_name(\"q\") #구글 검색창 선택\n",
    "\n",
    "name=input(\"검색할 키워드를 입력 : \")\n",
    "\n",
    "\n",
    "elem.send_keys(name) # 검색창에 검색할 내용(name)넣기\n",
    "elem.send_keys(Keys.RETURN) # 검색할 내용을 넣고 enter를 치는것!"
   ]
  },
  {
   "cell_type": "code",
   "execution_count": 13,
   "id": "093bfd2c",
   "metadata": {
    "ExecuteTime": {
     "end_time": "2022-10-26T11:55:44.248218Z",
     "start_time": "2022-10-26T11:55:41.169717Z"
    }
   },
   "outputs": [
    {
     "name": "stderr",
     "output_type": "stream",
     "text": [
      "C:\\Users\\ChaHoHyun\\anaconda3\\envs\\keras\\lib\\site-packages\\ipykernel_launcher.py:4: DeprecationWarning: use options instead of chrome_options\n",
      "  after removing the cwd from sys.path.\n"
     ]
    }
   ],
   "source": [
    "chrome_options = webdriver.ChromeOptions()\n",
    "chrome_options.add_argument(\"lang=ko_KR\") # 한국어\n",
    "chrome_options.add_argument('window-size=1920x1080')\n",
    "driver = webdriver.Chrome(chrome_path,chrome_options=chrome_options)\n",
    "driver.get(base_url)\n",
    "driver.implicitly_wait(3) # element가 로드될 때까지 지정한 시간만큼 대기할 수 있도록 설정\n",
    "driver.get_screenshot_as_file('google_screen.png')\n",
    "driver.close()"
   ]
  },
  {
   "cell_type": "code",
   "execution_count": 14,
   "id": "acdf4e89",
   "metadata": {
    "ExecuteTime": {
     "end_time": "2022-10-26T11:56:32.679686Z",
     "start_time": "2022-10-26T11:56:32.668594Z"
    }
   },
   "outputs": [],
   "source": [
    "def selenium_scroll_option():\n",
    "  SCROLL_PAUSE_SEC = 3\n",
    "  \n",
    "  # 스크롤 높이 가져옴\n",
    "  last_height = driver.execute_script(\"return document.body.scrollHeight\")\n",
    "  \n",
    "  while True:\n",
    "    # 끝까지 스크롤 다운\n",
    "    driver.execute_script(\"window.scrollTo(0, document.body.scrollHeight);\")\n",
    "\n",
    "    # 1초 대기\n",
    "    time.sleep(SCROLL_PAUSE_SEC)\n",
    "\n",
    "    # 스크롤 다운 후 스크롤 높이 다시 가져옴\n",
    "    new_height = driver.execute_script(\"return document.body.scrollHeight\")\n",
    "  \n",
    "    if new_height == last_height:\n",
    "        break\n",
    "    last_height = new_height"
   ]
  },
  {
   "cell_type": "code",
   "execution_count": 15,
   "id": "03c0ac4c",
   "metadata": {
    "ExecuteTime": {
     "end_time": "2022-10-26T11:56:33.517547Z",
     "start_time": "2022-10-26T11:56:33.501290Z"
    }
   },
   "outputs": [],
   "source": [
    "# 검색어로 이미지 크롤링 하기\n",
    "shark = './shark/'\n",
    "whale = './whale/'\n",
    "dolphin= './dolphin/'"
   ]
  },
  {
   "cell_type": "code",
   "execution_count": 17,
   "id": "b31f9105",
   "metadata": {
    "ExecuteTime": {
     "end_time": "2022-10-26T12:02:20.385633Z",
     "start_time": "2022-10-26T12:01:43.111893Z"
    }
   },
   "outputs": [
    {
     "name": "stdout",
     "output_type": "stream",
     "text": [
      "검색할 키워드를 입력 : shark underwater\n",
      "저장할 이미지 이름 : shark\n"
     ]
    },
    {
     "ename": "IndexError",
     "evalue": "list index out of range",
     "output_type": "error",
     "traceback": [
      "\u001b[1;31m---------------------------------------------------------------------------\u001b[0m",
      "\u001b[1;31mIndexError\u001b[0m                                Traceback (most recent call last)",
      "\u001b[1;32m<ipython-input-17-90ee95b7e3c8>\u001b[0m in \u001b[0;36m<module>\u001b[1;34m\u001b[0m\n\u001b[0;32m     22\u001b[0m \u001b[1;33m\u001b[0m\u001b[0m\n\u001b[0;32m     23\u001b[0m \u001b[0mselenium_scroll_option\u001b[0m\u001b[1;33m(\u001b[0m\u001b[1;33m)\u001b[0m \u001b[1;31m# 스크롤하여 이미지를 많이 확보\u001b[0m\u001b[1;33m\u001b[0m\u001b[1;33m\u001b[0m\u001b[0m\n\u001b[1;32m---> 24\u001b[1;33m \u001b[0mdriver\u001b[0m\u001b[1;33m.\u001b[0m\u001b[0mfind_elements_by_xpath\u001b[0m\u001b[1;33m(\u001b[0m\u001b[1;34m'//*[@id=\"islmp\"]/div/div/div/div/div[3]/div[2]/input'\u001b[0m\u001b[1;33m)\u001b[0m\u001b[1;33m[\u001b[0m\u001b[1;36m0\u001b[0m\u001b[1;33m]\u001b[0m\u001b[1;33m.\u001b[0m\u001b[0mclick\u001b[0m\u001b[1;33m(\u001b[0m\u001b[1;33m)\u001b[0m\u001b[1;33m\u001b[0m\u001b[1;33m\u001b[0m\u001b[0m\n\u001b[0m\u001b[0;32m     25\u001b[0m \u001b[1;31m# 이미지 더보기 클릭\u001b[0m\u001b[1;33m\u001b[0m\u001b[1;33m\u001b[0m\u001b[1;33m\u001b[0m\u001b[0m\n\u001b[0;32m     26\u001b[0m \u001b[0mselenium_scroll_option\u001b[0m\u001b[1;33m(\u001b[0m\u001b[1;33m)\u001b[0m\u001b[1;33m\u001b[0m\u001b[1;33m\u001b[0m\u001b[0m\n",
      "\u001b[1;31mIndexError\u001b[0m: list index out of range"
     ]
    }
   ],
   "source": [
    "from selenium import webdriver\n",
    "from selenium.webdriver.common.keys import Keys\n",
    "import time\n",
    "import urllib.request\n",
    "import os\n",
    "import pandas as pd\n",
    "\n",
    "# 키워드 검색하기\n",
    "\n",
    "a=input(\"검색할 키워드를 입력 : \")\n",
    "image_name = input(\"저장할 이미지 이름 : \")\n",
    "#b=int(input(\"몇 개 저장할래? : \"))\n",
    "driver = webdriver.Chrome(chrome_path)\n",
    "driver.get('http://www.google.co.kr/imghp?hl=ko')\n",
    "browser = driver.find_element_by_name(\"q\")\n",
    "browser.send_keys(a)\n",
    "browser.send_keys(Keys.RETURN)\n",
    "\n",
    "\n",
    "\n",
    "# 클래스를 찾고 해당 클래스의 src 리스트를 만들자\n",
    "\n",
    "selenium_scroll_option() # 스크롤하여 이미지를 많이 확보\n",
    "driver.find_elements_by_xpath('//*[@id=\"islmp\"]/div/div/div/div/div[3]/div[2]/input')[0].click() \n",
    "# 이미지 더보기 클릭\n",
    "selenium_scroll_option()\n",
    "\n",
    "\n",
    "\n",
    "'''이미지 src요소를 리스트업해서 이미지 url 저장'''\n",
    "\n",
    "images = driver.find_elements_by_css_selector(\".rg_i.Q4LuWd\") #  클래스 네임에서 공백은 .을 찍어줌\n",
    "images_url = []\n",
    "for i in images: \n",
    "   \n",
    "   if i.get_attribute('src')!= None :\n",
    "        images_url.append(i.get_attribute('src'))\n",
    "   else :\n",
    "       images_url.append(i.get_attribute('data-src'))\n",
    "driver.close()\n",
    "\n",
    "\n",
    "\n",
    "# 겹치는 이미지 url 제거\n",
    "\n",
    "print(\"전체 다운로드한 이미지 개수: {}\\n동일한 이미지를 제거한 이미지 개수: {}\".format(len(images_url), len(pd.DataFrame(images_url)[0].unique())))\n",
    "images_url=pd.DataFrame(images_url)[0].unique()\n",
    "\n",
    "\n",
    "        \n",
    "#'''해당하는 파일에 이미지 다운로드'''        \n",
    "#        \n",
    "#if image_name == 'shark' :   \n",
    "#   for t, url in enumerate(images_url, 0):        \n",
    "#      urlretrieve(url, shark + image_name + '_' + str(t) + '.jpg')\n",
    "#   driver.close()\n",
    "#   \n",
    "#elif image_name == 'whale' :\n",
    "#   for t, url in enumerate(images_url, 0):        \n",
    "#      urlretrieve(url, whale + image_name + '_' + str(t) + '.jpg')\n",
    "#   driver.close()    \n",
    "#\n",
    "#elif image_name == 'dolphin' :\n",
    "#   for t, url in enumerate(images_url, 0):        \n",
    "#      urlretrieve(url, dolphin + image_name + '_' + str(t) + '.jpg')\n",
    "#   driver.close()\n",
    "#"
   ]
  },
  {
   "cell_type": "code",
   "execution_count": null,
   "id": "2587f970",
   "metadata": {},
   "outputs": [],
   "source": []
  },
  {
   "cell_type": "code",
   "execution_count": null,
   "id": "b68e9a58",
   "metadata": {},
   "outputs": [],
   "source": []
  },
  {
   "cell_type": "code",
   "execution_count": null,
   "id": "10989826",
   "metadata": {},
   "outputs": [],
   "source": []
  },
  {
   "cell_type": "code",
   "execution_count": null,
   "id": "c6deaacd",
   "metadata": {},
   "outputs": [],
   "source": []
  },
  {
   "cell_type": "code",
   "execution_count": 3,
   "id": "f4ae3c5b",
   "metadata": {
    "ExecuteTime": {
     "end_time": "2022-10-26T11:33:44.816072Z",
     "start_time": "2022-10-26T11:33:44.799606Z"
    }
   },
   "outputs": [],
   "source": [
    "import torch\n",
    "import torchvision\n",
    "from torchvision import transforms\n",
    "from torch.utils.data import DataLoader\n",
    "\n",
    "import os\n",
    "import glob"
   ]
  },
  {
   "cell_type": "code",
   "execution_count": 5,
   "id": "548e7158",
   "metadata": {
    "ExecuteTime": {
     "end_time": "2022-10-26T11:34:00.235390Z",
     "start_time": "2022-10-26T11:34:00.214612Z"
    }
   },
   "outputs": [],
   "source": [
    "device = 'cuda' if torch.cuda.is_available() else 'cpu'\n",
    "\n",
    "torch.manual_seed(777)\n",
    "if device == 'cuda':\n",
    "  torch.cuda.manual_seed_all(777)"
   ]
  },
  {
   "cell_type": "code",
   "execution_count": 6,
   "id": "f93a243a",
   "metadata": {
    "ExecuteTime": {
     "end_time": "2022-10-26T11:37:17.204520Z",
     "start_time": "2022-10-26T11:37:17.186336Z"
    }
   },
   "outputs": [],
   "source": [
    "# 경로 지정\n",
    "\n",
    "train_path = './cnn_example/data/'\n",
    "test_path = './cnn_example/data/'\n",
    "\n",
    "dolphin_dir = './cnn_example/target/dolphin/'\n",
    "shark_dir = './cnn_example/target/shark/'\n",
    "whale_dir = './cnn_example/target/whale/'"
   ]
  },
  {
   "cell_type": "code",
   "execution_count": 7,
   "id": "9d98b399",
   "metadata": {
    "ExecuteTime": {
     "end_time": "2022-10-26T11:38:06.879683Z",
     "start_time": "2022-10-26T11:38:06.848916Z"
    }
   },
   "outputs": [
    {
     "ename": "RuntimeError",
     "evalue": "Found 0 files in subfolders of: ./cnn_example/data/\nSupported extensions are: .jpg,.jpeg,.png,.ppm,.bmp,.pgm,.tif,.tiff,.webp",
     "output_type": "error",
     "traceback": [
      "\u001b[1;31m---------------------------------------------------------------------------\u001b[0m",
      "\u001b[1;31mRuntimeError\u001b[0m                              Traceback (most recent call last)",
      "\u001b[1;32m<ipython-input-7-b28794d9fb6e>\u001b[0m in \u001b[0;36m<module>\u001b[1;34m\u001b[0m\n\u001b[1;32m----> 1\u001b[1;33m \u001b[0mtorchvision\u001b[0m\u001b[1;33m.\u001b[0m\u001b[0mdatasets\u001b[0m\u001b[1;33m.\u001b[0m\u001b[0mImageFolder\u001b[0m\u001b[1;33m(\u001b[0m\u001b[0mroot\u001b[0m\u001b[1;33m=\u001b[0m\u001b[0mtrain_path\u001b[0m\u001b[1;33m)\u001b[0m\u001b[1;33m\u001b[0m\u001b[1;33m\u001b[0m\u001b[0m\n\u001b[0m",
      "\u001b[1;32m~\\anaconda3\\envs\\keras\\lib\\site-packages\\torchvision\\datasets\\folder.py\u001b[0m in \u001b[0;36m__init__\u001b[1;34m(self, root, transform, target_transform, loader, is_valid_file)\u001b[0m\n\u001b[0;32m    254\u001b[0m                                           \u001b[0mtransform\u001b[0m\u001b[1;33m=\u001b[0m\u001b[0mtransform\u001b[0m\u001b[1;33m,\u001b[0m\u001b[1;33m\u001b[0m\u001b[1;33m\u001b[0m\u001b[0m\n\u001b[0;32m    255\u001b[0m                                           \u001b[0mtarget_transform\u001b[0m\u001b[1;33m=\u001b[0m\u001b[0mtarget_transform\u001b[0m\u001b[1;33m,\u001b[0m\u001b[1;33m\u001b[0m\u001b[1;33m\u001b[0m\u001b[0m\n\u001b[1;32m--> 256\u001b[1;33m                                           is_valid_file=is_valid_file)\n\u001b[0m\u001b[0;32m    257\u001b[0m         \u001b[0mself\u001b[0m\u001b[1;33m.\u001b[0m\u001b[0mimgs\u001b[0m \u001b[1;33m=\u001b[0m \u001b[0mself\u001b[0m\u001b[1;33m.\u001b[0m\u001b[0msamples\u001b[0m\u001b[1;33m\u001b[0m\u001b[1;33m\u001b[0m\u001b[0m\n",
      "\u001b[1;32m~\\anaconda3\\envs\\keras\\lib\\site-packages\\torchvision\\datasets\\folder.py\u001b[0m in \u001b[0;36m__init__\u001b[1;34m(self, root, loader, extensions, transform, target_transform, is_valid_file)\u001b[0m\n\u001b[0;32m    130\u001b[0m             \u001b[1;32mif\u001b[0m \u001b[0mextensions\u001b[0m \u001b[1;32mis\u001b[0m \u001b[1;32mnot\u001b[0m \u001b[1;32mNone\u001b[0m\u001b[1;33m:\u001b[0m\u001b[1;33m\u001b[0m\u001b[1;33m\u001b[0m\u001b[0m\n\u001b[0;32m    131\u001b[0m                 \u001b[0mmsg\u001b[0m \u001b[1;33m+=\u001b[0m \u001b[1;34m\"Supported extensions are: {}\"\u001b[0m\u001b[1;33m.\u001b[0m\u001b[0mformat\u001b[0m\u001b[1;33m(\u001b[0m\u001b[1;34m\",\"\u001b[0m\u001b[1;33m.\u001b[0m\u001b[0mjoin\u001b[0m\u001b[1;33m(\u001b[0m\u001b[0mextensions\u001b[0m\u001b[1;33m)\u001b[0m\u001b[1;33m)\u001b[0m\u001b[1;33m\u001b[0m\u001b[1;33m\u001b[0m\u001b[0m\n\u001b[1;32m--> 132\u001b[1;33m             \u001b[1;32mraise\u001b[0m \u001b[0mRuntimeError\u001b[0m\u001b[1;33m(\u001b[0m\u001b[0mmsg\u001b[0m\u001b[1;33m)\u001b[0m\u001b[1;33m\u001b[0m\u001b[1;33m\u001b[0m\u001b[0m\n\u001b[0m\u001b[0;32m    133\u001b[0m \u001b[1;33m\u001b[0m\u001b[0m\n\u001b[0;32m    134\u001b[0m         \u001b[0mself\u001b[0m\u001b[1;33m.\u001b[0m\u001b[0mloader\u001b[0m \u001b[1;33m=\u001b[0m \u001b[0mloader\u001b[0m\u001b[1;33m\u001b[0m\u001b[1;33m\u001b[0m\u001b[0m\n",
      "\u001b[1;31mRuntimeError\u001b[0m: Found 0 files in subfolders of: ./cnn_example/data/\nSupported extensions are: .jpg,.jpeg,.png,.ppm,.bmp,.pgm,.tif,.tiff,.webp"
     ]
    }
   ],
   "source": [
    "torchvision.datasets.ImageFolder(root=train_path)"
   ]
  }
 ],
 "metadata": {
  "kernelspec": {
   "display_name": "Python 3",
   "language": "python",
   "name": "python3"
  },
  "language_info": {
   "codemirror_mode": {
    "name": "ipython",
    "version": 3
   },
   "file_extension": ".py",
   "mimetype": "text/x-python",
   "name": "python",
   "nbconvert_exporter": "python",
   "pygments_lexer": "ipython3",
   "version": "3.6.7"
  },
  "toc": {
   "base_numbering": 1,
   "nav_menu": {},
   "number_sections": true,
   "sideBar": true,
   "skip_h1_title": false,
   "title_cell": "Table of Contents",
   "title_sidebar": "Contents",
   "toc_cell": false,
   "toc_position": {},
   "toc_section_display": true,
   "toc_window_display": false
  },
  "varInspector": {
   "cols": {
    "lenName": 16,
    "lenType": 16,
    "lenVar": 40
   },
   "kernels_config": {
    "python": {
     "delete_cmd_postfix": "",
     "delete_cmd_prefix": "del ",
     "library": "var_list.py",
     "varRefreshCmd": "print(var_dic_list())"
    },
    "r": {
     "delete_cmd_postfix": ") ",
     "delete_cmd_prefix": "rm(",
     "library": "var_list.r",
     "varRefreshCmd": "cat(var_dic_list()) "
    }
   },
   "types_to_exclude": [
    "module",
    "function",
    "builtin_function_or_method",
    "instance",
    "_Feature"
   ],
   "window_display": false
  }
 },
 "nbformat": 4,
 "nbformat_minor": 5
}
