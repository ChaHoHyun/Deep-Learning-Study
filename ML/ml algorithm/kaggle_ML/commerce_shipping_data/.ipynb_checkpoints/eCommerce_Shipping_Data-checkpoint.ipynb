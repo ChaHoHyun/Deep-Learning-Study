{
 "cells": [
  {
   "cell_type": "markdown",
   "id": "56dc3872",
   "metadata": {},
   "source": [
    "## e-Commerce Shipping Data"
   ]
  },
  {
   "cell_type": "markdown",
   "id": "71caf545",
   "metadata": {},
   "source": [
    "### Introduction"
   ]
  },
  {
   "cell_type": "markdown",
   "id": "1c8190d9",
   "metadata": {},
   "source": [
    "- About Dataset<br>\n",
    "- Context<br>\n",
    "An international e-commerce company based wants to discover key insights from their customer database. They want to use some of the most advanced machine learning techniques to study their customers. The company sells electronic products.\n",
    "\n",
    "<br>\n",
    "\n",
    "- Content<br>\n",
    "The dataset used for model building contained 10999 observations of 12 variables.\n",
    "\n",
    "<br>\n",
    "\n",
    "The data contains the following information:\n",
    "  - ID: ID Number of Customers.<br>\n",
    "  - Warehouse block: The Company have big Warehouse which is divided in to block such as A,B,C,D,E.<br>\n",
    "  - Mode of shipment:The Company Ships the products in multiple way such as Ship, Flight and Road.<br>\n",
    "  - Customer care calls: The number of calls made from enquiry for enquiry of the shipment.<br>\n",
    "  - Customer rating: The company has rated from every customer. 1 is the lowest (Worst), 5 is the highest (Best).<br>\n",
    "  - Cost of the product: Cost of the Product in US Dollars.<br>\n",
    "  - Prior purchases: The Number of Prior Purchase.<br>\n",
    "  - Product importance: The company has categorized the product in the various parameter such as low, medium, high.<br>\n",
    "  - Gender: Male and Female.<br>\n",
    "  - Discount offered: Discount offered on that specific product.<br>\n",
    "  - Weight in gms: It is the weight in grams.<br>\n",
    "  - Reached on time: It is the target variable, where 1 Indicates that the product has NOT reached on time and 0 indicates it has reached on time.<br>\n",
    "  - Acknowledgements : I would like to specify that I am only making available on Github in Data collected data about product shipment to Kagglers. I made this as my project on Customer Analytics stored in GitHub repository.<br>\n",
    "\n",
    "\n",
    "- Inspiration<br>\n",
    "This data of Product Shipment Tracking, answer instantly to your questions:\n",
    "\n",
    "- What was Customer Rating? And was the product delivered on time? Is Customer query is being answered?<br>\n",
    "If Product importance is high. having higest rating or being delivered on time?"
   ]
  },
  {
   "cell_type": "markdown",
   "id": "9af87880",
   "metadata": {},
   "source": [
    "### Import Machine-Learning Library"
   ]
  },
  {
   "cell_type": "code",
   "execution_count": 23,
   "id": "cc0d664f",
   "metadata": {
    "ExecuteTime": {
     "end_time": "2022-08-28T13:57:18.164240Z",
     "start_time": "2022-08-28T13:57:18.157335Z"
    }
   },
   "outputs": [],
   "source": [
    "import pandas as pd\n",
    "import numpy as np\n",
    "import matplotlib.pyplot as plt\n",
    "import seaborn as sns\n",
    "sns.set()\n",
    "sns.set_style(\"whitegrid\")\n",
    "# plt.rc(\"figure\", figsize=(12,10))\n",
    "\n",
    "from sklearn.metrics import accuracy_score, mean_squared_log_error, mean_squared_error, roc_auc_score\n",
    "from sklearn.model_selection import train_test_split, GridSearchCV, cross_val_score, KFold, cross_val_predict\n",
    "\n",
    "from sklearn.tree import DecisionTreeClassifier as DT\n",
    "from sklearn.linear_model import LogisticRegression as LR\n",
    "from sklearn.ensemble import RandomForestClassifier as RFC\n",
    "from sklearn.neighbors import KNeighborsClassifier as KNN\n",
    "from sklearn.ensemble import GradientBoostingClassifier as GBM\n",
    "from sklearn.svm import SVC"
   ]
  },
  {
   "cell_type": "markdown",
   "id": "9df4046e",
   "metadata": {},
   "source": [
    "### Collecting CSV file"
   ]
  },
  {
   "cell_type": "code",
   "execution_count": 24,
   "id": "b709d381",
   "metadata": {
    "ExecuteTime": {
     "end_time": "2022-08-28T13:57:18.213070Z",
     "start_time": "2022-08-28T13:57:18.166968Z"
    }
   },
   "outputs": [],
   "source": [
    "x_train = pd.read_csv('./data/X_train.csv')\n",
    "y_train = pd.read_csv('./data/y_train.csv')\n",
    "test = pd.read_csv('./data/X_test.csv')"
   ]
  },
  {
   "cell_type": "code",
   "execution_count": 25,
   "id": "dcc9f9cf",
   "metadata": {
    "ExecuteTime": {
     "end_time": "2022-08-28T13:57:18.226443Z",
     "start_time": "2022-08-28T13:57:18.214887Z"
    }
   },
   "outputs": [
    {
     "name": "stdout",
     "output_type": "stream",
     "text": [
      "(6598, 11) (6598, 2) (4401, 11)\n",
      "ID                     0\n",
      "Warehouse_block        0\n",
      "Mode_of_Shipment       0\n",
      "Customer_care_calls    0\n",
      "Customer_rating        0\n",
      "Cost_of_the_Product    0\n",
      "Prior_purchases        0\n",
      "Product_importance     0\n",
      "Gender                 0\n",
      "Discount_offered       0\n",
      "Weight_in_gms          0\n",
      "dtype: int64 ID                     0\n",
      "Reached.on.Time_Y.N    0\n",
      "dtype: int64 ID                     0\n",
      "Warehouse_block        0\n",
      "Mode_of_Shipment       0\n",
      "Customer_care_calls    0\n",
      "Customer_rating        0\n",
      "Cost_of_the_Product    0\n",
      "Prior_purchases        0\n",
      "Product_importance     0\n",
      "Gender                 0\n",
      "Discount_offered       0\n",
      "Weight_in_gms          0\n",
      "dtype: int64\n"
     ]
    }
   ],
   "source": [
    "print(x_train.shape, y_train.shape, test.shape)\n",
    "print(x_train.isnull().sum(), y_train.isnull().sum(), test.isnull().sum())"
   ]
  },
  {
   "cell_type": "code",
   "execution_count": 26,
   "id": "22befa8f",
   "metadata": {
    "ExecuteTime": {
     "end_time": "2022-08-28T13:57:18.241312Z",
     "start_time": "2022-08-28T13:57:18.230204Z"
    }
   },
   "outputs": [
    {
     "name": "stdout",
     "output_type": "stream",
     "text": [
      "<class 'pandas.core.frame.DataFrame'>\n",
      "RangeIndex: 6598 entries, 0 to 6597\n",
      "Data columns (total 11 columns):\n",
      " #   Column               Non-Null Count  Dtype \n",
      "---  ------               --------------  ----- \n",
      " 0   ID                   6598 non-null   int64 \n",
      " 1   Warehouse_block      6598 non-null   object\n",
      " 2   Mode_of_Shipment     6598 non-null   object\n",
      " 3   Customer_care_calls  6598 non-null   object\n",
      " 4   Customer_rating      6598 non-null   int64 \n",
      " 5   Cost_of_the_Product  6598 non-null   int64 \n",
      " 6   Prior_purchases      6598 non-null   int64 \n",
      " 7   Product_importance   6598 non-null   object\n",
      " 8   Gender               6598 non-null   object\n",
      " 9   Discount_offered     6598 non-null   int64 \n",
      " 10  Weight_in_gms        6598 non-null   int64 \n",
      "dtypes: int64(6), object(5)\n",
      "memory usage: 567.1+ KB\n"
     ]
    }
   ],
   "source": [
    "x_train.info()"
   ]
  },
  {
   "cell_type": "code",
   "execution_count": 27,
   "id": "082f50c2",
   "metadata": {
    "ExecuteTime": {
     "end_time": "2022-08-28T13:57:18.255776Z",
     "start_time": "2022-08-28T13:57:18.243530Z"
    }
   },
   "outputs": [
    {
     "name": "stdout",
     "output_type": "stream",
     "text": [
      "<class 'pandas.core.frame.DataFrame'>\n",
      "RangeIndex: 6598 entries, 0 to 6597\n",
      "Data columns (total 2 columns):\n",
      " #   Column               Non-Null Count  Dtype\n",
      "---  ------               --------------  -----\n",
      " 0   ID                   6598 non-null   int64\n",
      " 1   Reached.on.Time_Y.N  6598 non-null   int64\n",
      "dtypes: int64(2)\n",
      "memory usage: 103.2 KB\n"
     ]
    }
   ],
   "source": [
    "y_train.info()"
   ]
  },
  {
   "cell_type": "code",
   "execution_count": 28,
   "id": "9d293440",
   "metadata": {
    "ExecuteTime": {
     "end_time": "2022-08-28T13:57:18.277196Z",
     "start_time": "2022-08-28T13:57:18.257596Z"
    }
   },
   "outputs": [
    {
     "name": "stdout",
     "output_type": "stream",
     "text": [
      "<class 'pandas.core.frame.DataFrame'>\n",
      "RangeIndex: 4401 entries, 0 to 4400\n",
      "Data columns (total 11 columns):\n",
      " #   Column               Non-Null Count  Dtype \n",
      "---  ------               --------------  ----- \n",
      " 0   ID                   4401 non-null   int64 \n",
      " 1   Warehouse_block      4401 non-null   object\n",
      " 2   Mode_of_Shipment     4401 non-null   object\n",
      " 3   Customer_care_calls  4401 non-null   object\n",
      " 4   Customer_rating      4401 non-null   int64 \n",
      " 5   Cost_of_the_Product  4401 non-null   int64 \n",
      " 6   Prior_purchases      4401 non-null   int64 \n",
      " 7   Product_importance   4401 non-null   object\n",
      " 8   Gender               4401 non-null   object\n",
      " 9   Discount_offered     4401 non-null   int64 \n",
      " 10  Weight_in_gms        4401 non-null   int64 \n",
      "dtypes: int64(6), object(5)\n",
      "memory usage: 378.3+ KB\n"
     ]
    }
   ],
   "source": [
    "test.info()"
   ]
  },
  {
   "cell_type": "code",
   "execution_count": 29,
   "id": "dd826d24",
   "metadata": {
    "ExecuteTime": {
     "end_time": "2022-08-28T13:57:18.302186Z",
     "start_time": "2022-08-28T13:57:18.279657Z"
    }
   },
   "outputs": [
    {
     "data": {
      "text/html": [
       "<div>\n",
       "<style scoped>\n",
       "    .dataframe tbody tr th:only-of-type {\n",
       "        vertical-align: middle;\n",
       "    }\n",
       "\n",
       "    .dataframe tbody tr th {\n",
       "        vertical-align: top;\n",
       "    }\n",
       "\n",
       "    .dataframe thead th {\n",
       "        text-align: right;\n",
       "    }\n",
       "</style>\n",
       "<table border=\"1\" class=\"dataframe\">\n",
       "  <thead>\n",
       "    <tr style=\"text-align: right;\">\n",
       "      <th></th>\n",
       "      <th>ID</th>\n",
       "      <th>Warehouse_block</th>\n",
       "      <th>Mode_of_Shipment</th>\n",
       "      <th>Customer_care_calls</th>\n",
       "      <th>Customer_rating</th>\n",
       "      <th>Cost_of_the_Product</th>\n",
       "      <th>Prior_purchases</th>\n",
       "      <th>Product_importance</th>\n",
       "      <th>Gender</th>\n",
       "      <th>Discount_offered</th>\n",
       "      <th>Weight_in_gms</th>\n",
       "      <th>Reached.on.Time_Y.N</th>\n",
       "    </tr>\n",
       "  </thead>\n",
       "  <tbody>\n",
       "    <tr>\n",
       "      <th>0</th>\n",
       "      <td>6045</td>\n",
       "      <td>A</td>\n",
       "      <td>Flight</td>\n",
       "      <td>4</td>\n",
       "      <td>3</td>\n",
       "      <td>266</td>\n",
       "      <td>5</td>\n",
       "      <td>high</td>\n",
       "      <td>F</td>\n",
       "      <td>5</td>\n",
       "      <td>1590</td>\n",
       "      <td>0</td>\n",
       "    </tr>\n",
       "    <tr>\n",
       "      <th>1</th>\n",
       "      <td>44</td>\n",
       "      <td>F</td>\n",
       "      <td>Ship</td>\n",
       "      <td>3</td>\n",
       "      <td>1</td>\n",
       "      <td>174</td>\n",
       "      <td>2</td>\n",
       "      <td>low</td>\n",
       "      <td>M</td>\n",
       "      <td>44</td>\n",
       "      <td>1556</td>\n",
       "      <td>1</td>\n",
       "    </tr>\n",
       "    <tr>\n",
       "      <th>2</th>\n",
       "      <td>7940</td>\n",
       "      <td>F</td>\n",
       "      <td>Road</td>\n",
       "      <td>4</td>\n",
       "      <td>1</td>\n",
       "      <td>154</td>\n",
       "      <td>10</td>\n",
       "      <td>high</td>\n",
       "      <td>M</td>\n",
       "      <td>10</td>\n",
       "      <td>5674</td>\n",
       "      <td>1</td>\n",
       "    </tr>\n",
       "    <tr>\n",
       "      <th>3</th>\n",
       "      <td>1596</td>\n",
       "      <td>F</td>\n",
       "      <td>Ship</td>\n",
       "      <td>4</td>\n",
       "      <td>3</td>\n",
       "      <td>158</td>\n",
       "      <td>3</td>\n",
       "      <td>medium</td>\n",
       "      <td>F</td>\n",
       "      <td>27</td>\n",
       "      <td>1207</td>\n",
       "      <td>1</td>\n",
       "    </tr>\n",
       "    <tr>\n",
       "      <th>4</th>\n",
       "      <td>4395</td>\n",
       "      <td>A</td>\n",
       "      <td>Flight</td>\n",
       "      <td>5</td>\n",
       "      <td>3</td>\n",
       "      <td>175</td>\n",
       "      <td>3</td>\n",
       "      <td>low</td>\n",
       "      <td>M</td>\n",
       "      <td>7</td>\n",
       "      <td>4833</td>\n",
       "      <td>1</td>\n",
       "    </tr>\n",
       "  </tbody>\n",
       "</table>\n",
       "</div>"
      ],
      "text/plain": [
       "     ID Warehouse_block Mode_of_Shipment Customer_care_calls  Customer_rating  \\\n",
       "0  6045               A           Flight                   4                3   \n",
       "1    44               F             Ship                   3                1   \n",
       "2  7940               F             Road                   4                1   \n",
       "3  1596               F             Ship                   4                3   \n",
       "4  4395               A           Flight                   5                3   \n",
       "\n",
       "   Cost_of_the_Product  Prior_purchases Product_importance Gender  \\\n",
       "0                  266                5               high      F   \n",
       "1                  174                2                low      M   \n",
       "2                  154               10               high      M   \n",
       "3                  158                3             medium      F   \n",
       "4                  175                3                low      M   \n",
       "\n",
       "   Discount_offered  Weight_in_gms  Reached.on.Time_Y.N  \n",
       "0                 5           1590                    0  \n",
       "1                44           1556                    1  \n",
       "2                10           5674                    1  \n",
       "3                27           1207                    1  \n",
       "4                 7           4833                    1  "
      ]
     },
     "execution_count": 29,
     "metadata": {},
     "output_type": "execute_result"
    }
   ],
   "source": [
    "train = pd.merge(x_train, y_train, on='ID')\n",
    "train.head()"
   ]
  },
  {
   "cell_type": "code",
   "execution_count": 30,
   "id": "8dee5ffc",
   "metadata": {
    "ExecuteTime": {
     "end_time": "2022-08-28T13:57:18.310695Z",
     "start_time": "2022-08-28T13:57:18.304556Z"
    }
   },
   "outputs": [],
   "source": [
    "train.rename(columns={'Reached.on.Time_Y.N':'label'}, inplace=True)"
   ]
  },
  {
   "cell_type": "markdown",
   "id": "b1ba9141",
   "metadata": {},
   "source": [
    "### EDA & Feature Engineering"
   ]
  },
  {
   "cell_type": "code",
   "execution_count": 31,
   "id": "7882b914",
   "metadata": {
    "ExecuteTime": {
     "end_time": "2022-08-28T13:57:18.327928Z",
     "start_time": "2022-08-28T13:57:18.315575Z"
    }
   },
   "outputs": [],
   "source": [
    "dataset = [train, test]"
   ]
  },
  {
   "cell_type": "code",
   "execution_count": 32,
   "id": "50924c2c",
   "metadata": {
    "ExecuteTime": {
     "end_time": "2022-08-28T13:57:18.689460Z",
     "start_time": "2022-08-28T13:57:18.332211Z"
    }
   },
   "outputs": [
    {
     "data": {
      "text/plain": [
       "<AxesSubplot:>"
      ]
     },
     "execution_count": 32,
     "metadata": {},
     "output_type": "execute_result"
    },
    {
     "data": {
      "image/png": "[encoded data removed]",
      "text/plain": [
       "<Figure size 1440x1440 with 2 Axes>"
      ]
     },
     "metadata": {},
     "output_type": "display_data"
    }
   ],
   "source": [
    "cols=train.columns\n",
    "corr = train[cols].corr()\n",
    "mask = np.array(corr)\n",
    "\n",
    "plt.figure(figsize=(20,20))\n",
    "sns.heatmap(corr, vmax=0.8, square=True, annot=True, cmap=\"coolwarm\")"
   ]
  },
  {
   "cell_type": "markdown",
   "id": "bfce18f7",
   "metadata": {},
   "source": [
    "##### Categorical vs Numerical"
   ]
  },
  {
   "cell_type": "code",
   "execution_count": 33,
   "id": "18cf44cb",
   "metadata": {
    "ExecuteTime": {
     "end_time": "2022-08-28T13:57:18.704937Z",
     "start_time": "2022-08-28T13:57:18.691219Z"
    }
   },
   "outputs": [],
   "source": [
    "x = pd.concat([x_train, test], axis=0)\n",
    "x = x[x.columns.difference(['ID'])]\n",
    "\n",
    "numerical_features = x.select_dtypes(exclude='object').columns\n",
    "categorical_features = x.select_dtypes(include='object').columns"
   ]
  },
  {
   "cell_type": "code",
   "execution_count": 34,
   "id": "d9f04927",
   "metadata": {
    "ExecuteTime": {
     "end_time": "2022-08-28T13:57:18.724585Z",
     "start_time": "2022-08-28T13:57:18.707637Z"
    }
   },
   "outputs": [
    {
     "data": {
      "text/plain": [
       "Index(['Cost_of_the_Product', 'Customer_rating', 'Discount_offered',\n",
       "       'Prior_purchases', 'Weight_in_gms'],\n",
       "      dtype='object')"
      ]
     },
     "execution_count": 34,
     "metadata": {},
     "output_type": "execute_result"
    }
   ],
   "source": [
    "numerical_features"
   ]
  },
  {
   "cell_type": "code",
   "execution_count": 35,
   "id": "df709419",
   "metadata": {
    "ExecuteTime": {
     "end_time": "2022-08-28T13:57:18.739482Z",
     "start_time": "2022-08-28T13:57:18.727074Z"
    }
   },
   "outputs": [
    {
     "data": {
      "text/plain": [
       "Index(['Customer_care_calls', 'Gender', 'Mode_of_Shipment',\n",
       "       'Product_importance', 'Warehouse_block'],\n",
       "      dtype='object')"
      ]
     },
     "execution_count": 35,
     "metadata": {},
     "output_type": "execute_result"
    }
   ],
   "source": [
    "categorical_features"
   ]
  },
  {
   "cell_type": "markdown",
   "id": "d0859b4f",
   "metadata": {},
   "source": [
    "##### ID"
   ]
  },
  {
   "cell_type": "code",
   "execution_count": 36,
   "id": "110c7f34",
   "metadata": {
    "ExecuteTime": {
     "end_time": "2022-08-28T13:57:18.756798Z",
     "start_time": "2022-08-28T13:57:18.742491Z"
    }
   },
   "outputs": [
    {
     "data": {
      "text/plain": [
       "0       6045\n",
       "1         44\n",
       "2       7940\n",
       "3       1596\n",
       "4       4395\n",
       "        ... \n",
       "6593    8610\n",
       "6594    3390\n",
       "6595    5150\n",
       "6596    3950\n",
       "6597    5969\n",
       "Name: ID, Length: 6598, dtype: int64"
      ]
     },
     "execution_count": 36,
     "metadata": {},
     "output_type": "execute_result"
    }
   ],
   "source": [
    "train['ID']"
   ]
  },
  {
   "cell_type": "markdown",
   "id": "530306e7",
   "metadata": {},
   "source": [
    "##### Warehouse_block"
   ]
  },
  {
   "cell_type": "code",
   "execution_count": 37,
   "id": "5c4d6cca",
   "metadata": {
    "ExecuteTime": {
     "end_time": "2022-08-28T13:57:18.775443Z",
     "start_time": "2022-08-28T13:57:18.760089Z"
    }
   },
   "outputs": [
    {
     "data": {
      "text/plain": [
       "F    2262\n",
       "B    1116\n",
       "A    1090\n",
       "D    1069\n",
       "C    1061\n",
       "Name: Warehouse_block, dtype: int64"
      ]
     },
     "execution_count": 37,
     "metadata": {},
     "output_type": "execute_result"
    }
   ],
   "source": [
    "train['Warehouse_block'].value_counts()"
   ]
  },
  {
   "cell_type": "code",
   "execution_count": 38,
   "id": "e3aef8d0",
   "metadata": {
    "ExecuteTime": {
     "end_time": "2022-08-28T13:57:18.904423Z",
     "start_time": "2022-08-28T13:57:18.778665Z"
    }
   },
   "outputs": [
    {
     "data": {
      "text/plain": [
       "<AxesSubplot:xlabel='Warehouse_block', ylabel='count'>"
      ]
     },
     "execution_count": 38,
     "metadata": {},
     "output_type": "execute_result"
    },
    {
     "data": {
      "image/png": "[encoded data removed]",
      "text/plain": [
       "<Figure size 720x576 with 1 Axes>"
      ]
     },
     "metadata": {},
     "output_type": "display_data"
    }
   ],
   "source": [
    "plt.figure(figsize=(10,8))\n",
    "sns.countplot(data=train, x='Warehouse_block', hue='label')"
   ]
  },
  {
   "cell_type": "code",
   "execution_count": 39,
   "id": "b050702c",
   "metadata": {
    "ExecuteTime": {
     "end_time": "2022-08-28T13:57:18.921149Z",
     "start_time": "2022-08-28T13:57:18.906847Z"
    }
   },
   "outputs": [
    {
     "name": "stdout",
     "output_type": "stream",
     "text": [
      "A's the shipping rate : 43.39\n",
      "F's the shipping rate : 40.05\n",
      "C's the shipping rate : 38.83\n",
      "B's the shipping rate : 40.41\n",
      "D's the shipping rate : 39.2\n"
     ]
    }
   ],
   "source": [
    "house_list = train['Warehouse_block'].unique()\n",
    "\n",
    "for i in range(len(house_list)):\n",
    "    house = house_list[i]\n",
    "    df = train.loc[train['Warehouse_block'] == house]['label'].value_counts()\n",
    "    reach_percent = round(df.iloc[1]/(df.iloc[0] + df.iloc[1]) * 100, 2)\n",
    "    print(f\"{house}'s the shipping rate : {reach_percent}\")"
   ]
  },
  {
   "cell_type": "code",
   "execution_count": 40,
   "id": "82a92387",
   "metadata": {
    "ExecuteTime": {
     "end_time": "2022-08-28T13:57:18.943645Z",
     "start_time": "2022-08-28T13:57:18.923531Z"
    }
   },
   "outputs": [
    {
     "data": {
      "text/html": [
       "<div>\n",
       "<style scoped>\n",
       "    .dataframe tbody tr th:only-of-type {\n",
       "        vertical-align: middle;\n",
       "    }\n",
       "\n",
       "    .dataframe tbody tr th {\n",
       "        vertical-align: top;\n",
       "    }\n",
       "\n",
       "    .dataframe thead th {\n",
       "        text-align: right;\n",
       "    }\n",
       "</style>\n",
       "<table border=\"1\" class=\"dataframe\">\n",
       "  <thead>\n",
       "    <tr style=\"text-align: right;\">\n",
       "      <th></th>\n",
       "      <th>ID</th>\n",
       "      <th>Warehouse_block</th>\n",
       "      <th>Mode_of_Shipment</th>\n",
       "      <th>Customer_care_calls</th>\n",
       "      <th>Customer_rating</th>\n",
       "      <th>Cost_of_the_Product</th>\n",
       "      <th>Prior_purchases</th>\n",
       "      <th>Product_importance</th>\n",
       "      <th>Gender</th>\n",
       "      <th>Discount_offered</th>\n",
       "      <th>Weight_in_gms</th>\n",
       "      <th>label</th>\n",
       "      <th>house_A</th>\n",
       "      <th>house_B</th>\n",
       "      <th>house_C</th>\n",
       "      <th>house_D</th>\n",
       "      <th>house_F</th>\n",
       "    </tr>\n",
       "  </thead>\n",
       "  <tbody>\n",
       "    <tr>\n",
       "      <th>0</th>\n",
       "      <td>6045</td>\n",
       "      <td>A</td>\n",
       "      <td>Flight</td>\n",
       "      <td>4</td>\n",
       "      <td>3</td>\n",
       "      <td>266</td>\n",
       "      <td>5</td>\n",
       "      <td>high</td>\n",
       "      <td>F</td>\n",
       "      <td>5</td>\n",
       "      <td>1590</td>\n",
       "      <td>0</td>\n",
       "      <td>1</td>\n",
       "      <td>0</td>\n",
       "      <td>0</td>\n",
       "      <td>0</td>\n",
       "      <td>0</td>\n",
       "    </tr>\n",
       "    <tr>\n",
       "      <th>1</th>\n",
       "      <td>44</td>\n",
       "      <td>F</td>\n",
       "      <td>Ship</td>\n",
       "      <td>3</td>\n",
       "      <td>1</td>\n",
       "      <td>174</td>\n",
       "      <td>2</td>\n",
       "      <td>low</td>\n",
       "      <td>M</td>\n",
       "      <td>44</td>\n",
       "      <td>1556</td>\n",
       "      <td>1</td>\n",
       "      <td>0</td>\n",
       "      <td>0</td>\n",
       "      <td>0</td>\n",
       "      <td>0</td>\n",
       "      <td>1</td>\n",
       "    </tr>\n",
       "    <tr>\n",
       "      <th>2</th>\n",
       "      <td>7940</td>\n",
       "      <td>F</td>\n",
       "      <td>Road</td>\n",
       "      <td>4</td>\n",
       "      <td>1</td>\n",
       "      <td>154</td>\n",
       "      <td>10</td>\n",
       "      <td>high</td>\n",
       "      <td>M</td>\n",
       "      <td>10</td>\n",
       "      <td>5674</td>\n",
       "      <td>1</td>\n",
       "      <td>0</td>\n",
       "      <td>0</td>\n",
       "      <td>0</td>\n",
       "      <td>0</td>\n",
       "      <td>1</td>\n",
       "    </tr>\n",
       "    <tr>\n",
       "      <th>3</th>\n",
       "      <td>1596</td>\n",
       "      <td>F</td>\n",
       "      <td>Ship</td>\n",
       "      <td>4</td>\n",
       "      <td>3</td>\n",
       "      <td>158</td>\n",
       "      <td>3</td>\n",
       "      <td>medium</td>\n",
       "      <td>F</td>\n",
       "      <td>27</td>\n",
       "      <td>1207</td>\n",
       "      <td>1</td>\n",
       "      <td>0</td>\n",
       "      <td>0</td>\n",
       "      <td>0</td>\n",
       "      <td>0</td>\n",
       "      <td>1</td>\n",
       "    </tr>\n",
       "    <tr>\n",
       "      <th>4</th>\n",
       "      <td>4395</td>\n",
       "      <td>A</td>\n",
       "      <td>Flight</td>\n",
       "      <td>5</td>\n",
       "      <td>3</td>\n",
       "      <td>175</td>\n",
       "      <td>3</td>\n",
       "      <td>low</td>\n",
       "      <td>M</td>\n",
       "      <td>7</td>\n",
       "      <td>4833</td>\n",
       "      <td>1</td>\n",
       "      <td>1</td>\n",
       "      <td>0</td>\n",
       "      <td>0</td>\n",
       "      <td>0</td>\n",
       "      <td>0</td>\n",
       "    </tr>\n",
       "  </tbody>\n",
       "</table>\n",
       "</div>"
      ],
      "text/plain": [
       "     ID Warehouse_block Mode_of_Shipment Customer_care_calls  Customer_rating  \\\n",
       "0  6045               A           Flight                   4                3   \n",
       "1    44               F             Ship                   3                1   \n",
       "2  7940               F             Road                   4                1   \n",
       "3  1596               F             Ship                   4                3   \n",
       "4  4395               A           Flight                   5                3   \n",
       "\n",
       "   Cost_of_the_Product  Prior_purchases Product_importance Gender  \\\n",
       "0                  266                5               high      F   \n",
       "1                  174                2                low      M   \n",
       "2                  154               10               high      M   \n",
       "3                  158                3             medium      F   \n",
       "4                  175                3                low      M   \n",
       "\n",
       "   Discount_offered  Weight_in_gms  label  house_A  house_B  house_C  house_D  \\\n",
       "0                 5           1590      0        1        0        0        0   \n",
       "1                44           1556      1        0        0        0        0   \n",
       "2                10           5674      1        0        0        0        0   \n",
       "3                27           1207      1        0        0        0        0   \n",
       "4                 7           4833      1        1        0        0        0   \n",
       "\n",
       "   house_F  \n",
       "0        0  \n",
       "1        1  \n",
       "2        1  \n",
       "3        1  \n",
       "4        0  "
      ]
     },
     "execution_count": 40,
     "metadata": {},
     "output_type": "execute_result"
    }
   ],
   "source": [
    "dummies = pd.get_dummies(train['Warehouse_block'], prefix='house')\n",
    "train = pd.concat([train, dummies], axis=1)\n",
    "train.head()"
   ]
  },
  {
   "cell_type": "code",
   "execution_count": 41,
   "id": "bbd9a70e",
   "metadata": {
    "ExecuteTime": {
     "end_time": "2022-08-28T13:57:18.968305Z",
     "start_time": "2022-08-28T13:57:18.946859Z"
    }
   },
   "outputs": [
    {
     "data": {
      "text/html": [
       "<div>\n",
       "<style scoped>\n",
       "    .dataframe tbody tr th:only-of-type {\n",
       "        vertical-align: middle;\n",
       "    }\n",
       "\n",
       "    .dataframe tbody tr th {\n",
       "        vertical-align: top;\n",
       "    }\n",
       "\n",
       "    .dataframe thead th {\n",
       "        text-align: right;\n",
       "    }\n",
       "</style>\n",
       "<table border=\"1\" class=\"dataframe\">\n",
       "  <thead>\n",
       "    <tr style=\"text-align: right;\">\n",
       "      <th></th>\n",
       "      <th>ID</th>\n",
       "      <th>Warehouse_block</th>\n",
       "      <th>Mode_of_Shipment</th>\n",
       "      <th>Customer_care_calls</th>\n",
       "      <th>Customer_rating</th>\n",
       "      <th>Cost_of_the_Product</th>\n",
       "      <th>Prior_purchases</th>\n",
       "      <th>Product_importance</th>\n",
       "      <th>Gender</th>\n",
       "      <th>Discount_offered</th>\n",
       "      <th>Weight_in_gms</th>\n",
       "      <th>house_A</th>\n",
       "      <th>house_B</th>\n",
       "      <th>house_C</th>\n",
       "      <th>house_D</th>\n",
       "      <th>house_F</th>\n",
       "    </tr>\n",
       "  </thead>\n",
       "  <tbody>\n",
       "    <tr>\n",
       "      <th>0</th>\n",
       "      <td>6811</td>\n",
       "      <td>D</td>\n",
       "      <td>Ship</td>\n",
       "      <td>5</td>\n",
       "      <td>2</td>\n",
       "      <td>259</td>\n",
       "      <td>5</td>\n",
       "      <td>low</td>\n",
       "      <td>F</td>\n",
       "      <td>7</td>\n",
       "      <td>1032</td>\n",
       "      <td>0</td>\n",
       "      <td>0</td>\n",
       "      <td>0</td>\n",
       "      <td>1</td>\n",
       "      <td>0</td>\n",
       "    </tr>\n",
       "    <tr>\n",
       "      <th>1</th>\n",
       "      <td>4320</td>\n",
       "      <td>F</td>\n",
       "      <td>Ship</td>\n",
       "      <td>3</td>\n",
       "      <td>5</td>\n",
       "      <td>133</td>\n",
       "      <td>3</td>\n",
       "      <td>medium</td>\n",
       "      <td>F</td>\n",
       "      <td>4</td>\n",
       "      <td>5902</td>\n",
       "      <td>0</td>\n",
       "      <td>0</td>\n",
       "      <td>0</td>\n",
       "      <td>0</td>\n",
       "      <td>1</td>\n",
       "    </tr>\n",
       "    <tr>\n",
       "      <th>2</th>\n",
       "      <td>5732</td>\n",
       "      <td>F</td>\n",
       "      <td>Road</td>\n",
       "      <td>3</td>\n",
       "      <td>4</td>\n",
       "      <td>191</td>\n",
       "      <td>5</td>\n",
       "      <td>medium</td>\n",
       "      <td>F</td>\n",
       "      <td>4</td>\n",
       "      <td>4243</td>\n",
       "      <td>0</td>\n",
       "      <td>0</td>\n",
       "      <td>0</td>\n",
       "      <td>0</td>\n",
       "      <td>1</td>\n",
       "    </tr>\n",
       "    <tr>\n",
       "      <th>3</th>\n",
       "      <td>7429</td>\n",
       "      <td>D</td>\n",
       "      <td>Ship</td>\n",
       "      <td>4</td>\n",
       "      <td>2</td>\n",
       "      <td>221</td>\n",
       "      <td>3</td>\n",
       "      <td>low</td>\n",
       "      <td>M</td>\n",
       "      <td>10</td>\n",
       "      <td>4126</td>\n",
       "      <td>0</td>\n",
       "      <td>0</td>\n",
       "      <td>0</td>\n",
       "      <td>1</td>\n",
       "      <td>0</td>\n",
       "    </tr>\n",
       "    <tr>\n",
       "      <th>4</th>\n",
       "      <td>2191</td>\n",
       "      <td>D</td>\n",
       "      <td>Flight</td>\n",
       "      <td>4</td>\n",
       "      <td>5</td>\n",
       "      <td>230</td>\n",
       "      <td>2</td>\n",
       "      <td>low</td>\n",
       "      <td>F</td>\n",
       "      <td>38</td>\n",
       "      <td>2890</td>\n",
       "      <td>0</td>\n",
       "      <td>0</td>\n",
       "      <td>0</td>\n",
       "      <td>1</td>\n",
       "      <td>0</td>\n",
       "    </tr>\n",
       "  </tbody>\n",
       "</table>\n",
       "</div>"
      ],
      "text/plain": [
       "     ID Warehouse_block Mode_of_Shipment Customer_care_calls  Customer_rating  \\\n",
       "0  6811               D             Ship                   5                2   \n",
       "1  4320               F             Ship                   3                5   \n",
       "2  5732               F             Road                   3                4   \n",
       "3  7429               D             Ship                   4                2   \n",
       "4  2191               D           Flight                   4                5   \n",
       "\n",
       "   Cost_of_the_Product  Prior_purchases Product_importance Gender  \\\n",
       "0                  259                5                low      F   \n",
       "1                  133                3             medium      F   \n",
       "2                  191                5             medium      F   \n",
       "3                  221                3                low      M   \n",
       "4                  230                2                low      F   \n",
       "\n",
       "   Discount_offered  Weight_in_gms  house_A  house_B  house_C  house_D  \\\n",
       "0                 7           1032        0        0        0        1   \n",
       "1                 4           5902        0        0        0        0   \n",
       "2                 4           4243        0        0        0        0   \n",
       "3                10           4126        0        0        0        1   \n",
       "4                38           2890        0        0        0        1   \n",
       "\n",
       "   house_F  \n",
       "0        0  \n",
       "1        1  \n",
       "2        1  \n",
       "3        0  \n",
       "4        0  "
      ]
     },
     "execution_count": 41,
     "metadata": {},
     "output_type": "execute_result"
    }
   ],
   "source": [
    "dummies = pd.get_dummies(test['Warehouse_block'], prefix='house')\n",
    "test = pd.concat([test, dummies], axis=1)\n",
    "test.head()"
   ]
  },
  {
   "cell_type": "code",
   "execution_count": 42,
   "id": "cb706c15",
   "metadata": {
    "ExecuteTime": {
     "end_time": "2022-08-28T13:57:19.153680Z",
     "start_time": "2022-08-28T13:57:19.144579Z"
    }
   },
   "outputs": [],
   "source": [
    "for data in dataset:\n",
    "    data.drop(columns='Warehouse_block', axis=1, inplace=True)"
   ]
  },
  {
   "cell_type": "markdown",
   "id": "3bffc871",
   "metadata": {},
   "source": [
    "###### Mode_of_Shipment"
   ]
  },
  {
   "cell_type": "code",
   "execution_count": 43,
   "id": "dc8bc466",
   "metadata": {
    "ExecuteTime": {
     "end_time": "2022-08-28T13:57:19.105111Z",
     "start_time": "2022-08-28T13:57:18.990892Z"
    }
   },
   "outputs": [
    {
     "data": {
      "text/plain": [
       "<AxesSubplot:xlabel='Mode_of_Shipment', ylabel='count'>"
      ]
     },
     "execution_count": 43,
     "metadata": {},
     "output_type": "execute_result"
    },
    {
     "data": {
      "image/png": "[encoded data removed]",
      "text/plain": [
       "<Figure size 720x576 with 1 Axes>"
      ]
     },
     "metadata": {},
     "output_type": "display_data"
    }
   ],
   "source": [
    "plt.figure(figsize=(10,8))\n",
    "sns.countplot(data=train, x='Mode_of_Shipment', hue='label')"
   ]
  },
  {
   "cell_type": "code",
   "execution_count": 44,
   "id": "076fae8b",
   "metadata": {
    "ExecuteTime": {
     "end_time": "2022-08-28T13:57:19.122999Z",
     "start_time": "2022-08-28T13:57:19.107441Z"
    }
   },
   "outputs": [
    {
     "data": {
      "text/html": [
       "<div>\n",
       "<style scoped>\n",
       "    .dataframe tbody tr th:only-of-type {\n",
       "        vertical-align: middle;\n",
       "    }\n",
       "\n",
       "    .dataframe tbody tr th {\n",
       "        vertical-align: top;\n",
       "    }\n",
       "\n",
       "    .dataframe thead th {\n",
       "        text-align: right;\n",
       "    }\n",
       "</style>\n",
       "<table border=\"1\" class=\"dataframe\">\n",
       "  <thead>\n",
       "    <tr style=\"text-align: right;\">\n",
       "      <th></th>\n",
       "      <th>ID</th>\n",
       "      <th>Warehouse_block</th>\n",
       "      <th>Mode_of_Shipment</th>\n",
       "      <th>Customer_care_calls</th>\n",
       "      <th>Customer_rating</th>\n",
       "      <th>Cost_of_the_Product</th>\n",
       "      <th>Prior_purchases</th>\n",
       "      <th>Product_importance</th>\n",
       "      <th>Gender</th>\n",
       "      <th>Discount_offered</th>\n",
       "      <th>Weight_in_gms</th>\n",
       "      <th>label</th>\n",
       "      <th>house_A</th>\n",
       "      <th>house_B</th>\n",
       "      <th>house_C</th>\n",
       "      <th>house_D</th>\n",
       "      <th>house_F</th>\n",
       "      <th>ship_Flight</th>\n",
       "      <th>ship_Road</th>\n",
       "      <th>ship_Ship</th>\n",
       "    </tr>\n",
       "  </thead>\n",
       "  <tbody>\n",
       "    <tr>\n",
       "      <th>0</th>\n",
       "      <td>6045</td>\n",
       "      <td>A</td>\n",
       "      <td>Flight</td>\n",
       "      <td>4</td>\n",
       "      <td>3</td>\n",
       "      <td>266</td>\n",
       "      <td>5</td>\n",
       "      <td>high</td>\n",
       "      <td>F</td>\n",
       "      <td>5</td>\n",
       "      <td>1590</td>\n",
       "      <td>0</td>\n",
       "      <td>1</td>\n",
       "      <td>0</td>\n",
       "      <td>0</td>\n",
       "      <td>0</td>\n",
       "      <td>0</td>\n",
       "      <td>1</td>\n",
       "      <td>0</td>\n",
       "      <td>0</td>\n",
       "    </tr>\n",
       "    <tr>\n",
       "      <th>1</th>\n",
       "      <td>44</td>\n",
       "      <td>F</td>\n",
       "      <td>Ship</td>\n",
       "      <td>3</td>\n",
       "      <td>1</td>\n",
       "      <td>174</td>\n",
       "      <td>2</td>\n",
       "      <td>low</td>\n",
       "      <td>M</td>\n",
       "      <td>44</td>\n",
       "      <td>1556</td>\n",
       "      <td>1</td>\n",
       "      <td>0</td>\n",
       "      <td>0</td>\n",
       "      <td>0</td>\n",
       "      <td>0</td>\n",
       "      <td>1</td>\n",
       "      <td>0</td>\n",
       "      <td>0</td>\n",
       "      <td>1</td>\n",
       "    </tr>\n",
       "    <tr>\n",
       "      <th>2</th>\n",
       "      <td>7940</td>\n",
       "      <td>F</td>\n",
       "      <td>Road</td>\n",
       "      <td>4</td>\n",
       "      <td>1</td>\n",
       "      <td>154</td>\n",
       "      <td>10</td>\n",
       "      <td>high</td>\n",
       "      <td>M</td>\n",
       "      <td>10</td>\n",
       "      <td>5674</td>\n",
       "      <td>1</td>\n",
       "      <td>0</td>\n",
       "      <td>0</td>\n",
       "      <td>0</td>\n",
       "      <td>0</td>\n",
       "      <td>1</td>\n",
       "      <td>0</td>\n",
       "      <td>1</td>\n",
       "      <td>0</td>\n",
       "    </tr>\n",
       "    <tr>\n",
       "      <th>3</th>\n",
       "      <td>1596</td>\n",
       "      <td>F</td>\n",
       "      <td>Ship</td>\n",
       "      <td>4</td>\n",
       "      <td>3</td>\n",
       "      <td>158</td>\n",
       "      <td>3</td>\n",
       "      <td>medium</td>\n",
       "      <td>F</td>\n",
       "      <td>27</td>\n",
       "      <td>1207</td>\n",
       "      <td>1</td>\n",
       "      <td>0</td>\n",
       "      <td>0</td>\n",
       "      <td>0</td>\n",
       "      <td>0</td>\n",
       "      <td>1</td>\n",
       "      <td>0</td>\n",
       "      <td>0</td>\n",
       "      <td>1</td>\n",
       "    </tr>\n",
       "    <tr>\n",
       "      <th>4</th>\n",
       "      <td>4395</td>\n",
       "      <td>A</td>\n",
       "      <td>Flight</td>\n",
       "      <td>5</td>\n",
       "      <td>3</td>\n",
       "      <td>175</td>\n",
       "      <td>3</td>\n",
       "      <td>low</td>\n",
       "      <td>M</td>\n",
       "      <td>7</td>\n",
       "      <td>4833</td>\n",
       "      <td>1</td>\n",
       "      <td>1</td>\n",
       "      <td>0</td>\n",
       "      <td>0</td>\n",
       "      <td>0</td>\n",
       "      <td>0</td>\n",
       "      <td>1</td>\n",
       "      <td>0</td>\n",
       "      <td>0</td>\n",
       "    </tr>\n",
       "  </tbody>\n",
       "</table>\n",
       "</div>"
      ],
      "text/plain": [
       "     ID Warehouse_block Mode_of_Shipment Customer_care_calls  Customer_rating  \\\n",
       "0  6045               A           Flight                   4                3   \n",
       "1    44               F             Ship                   3                1   \n",
       "2  7940               F             Road                   4                1   \n",
       "3  1596               F             Ship                   4                3   \n",
       "4  4395               A           Flight                   5                3   \n",
       "\n",
       "   Cost_of_the_Product  Prior_purchases Product_importance Gender  \\\n",
       "0                  266                5               high      F   \n",
       "1                  174                2                low      M   \n",
       "2                  154               10               high      M   \n",
       "3                  158                3             medium      F   \n",
       "4                  175                3                low      M   \n",
       "\n",
       "   Discount_offered  Weight_in_gms  label  house_A  house_B  house_C  house_D  \\\n",
       "0                 5           1590      0        1        0        0        0   \n",
       "1                44           1556      1        0        0        0        0   \n",
       "2                10           5674      1        0        0        0        0   \n",
       "3                27           1207      1        0        0        0        0   \n",
       "4                 7           4833      1        1        0        0        0   \n",
       "\n",
       "   house_F  ship_Flight  ship_Road  ship_Ship  \n",
       "0        0            1          0          0  \n",
       "1        1            0          0          1  \n",
       "2        1            0          1          0  \n",
       "3        1            0          0          1  \n",
       "4        0            1          0          0  "
      ]
     },
     "execution_count": 44,
     "metadata": {},
     "output_type": "execute_result"
    }
   ],
   "source": [
    "dummies = pd.get_dummies(train['Mode_of_Shipment'], prefix='ship')\n",
    "train = pd.concat([train, dummies], axis=1)\n",
    "train.head()"
   ]
  },
  {
   "cell_type": "code",
   "execution_count": 45,
   "id": "aebb6f30",
   "metadata": {
    "ExecuteTime": {
     "end_time": "2022-08-28T13:57:19.141938Z",
     "start_time": "2022-08-28T13:57:19.126289Z"
    }
   },
   "outputs": [
    {
     "data": {
      "text/html": [
       "<div>\n",
       "<style scoped>\n",
       "    .dataframe tbody tr th:only-of-type {\n",
       "        vertical-align: middle;\n",
       "    }\n",
       "\n",
       "    .dataframe tbody tr th {\n",
       "        vertical-align: top;\n",
       "    }\n",
       "\n",
       "    .dataframe thead th {\n",
       "        text-align: right;\n",
       "    }\n",
       "</style>\n",
       "<table border=\"1\" class=\"dataframe\">\n",
       "  <thead>\n",
       "    <tr style=\"text-align: right;\">\n",
       "      <th></th>\n",
       "      <th>ID</th>\n",
       "      <th>Warehouse_block</th>\n",
       "      <th>Mode_of_Shipment</th>\n",
       "      <th>Customer_care_calls</th>\n",
       "      <th>Customer_rating</th>\n",
       "      <th>Cost_of_the_Product</th>\n",
       "      <th>Prior_purchases</th>\n",
       "      <th>Product_importance</th>\n",
       "      <th>Gender</th>\n",
       "      <th>Discount_offered</th>\n",
       "      <th>Weight_in_gms</th>\n",
       "      <th>house_A</th>\n",
       "      <th>house_B</th>\n",
       "      <th>house_C</th>\n",
       "      <th>house_D</th>\n",
       "      <th>house_F</th>\n",
       "      <th>ship_Flight</th>\n",
       "      <th>ship_Road</th>\n",
       "      <th>ship_Ship</th>\n",
       "    </tr>\n",
       "  </thead>\n",
       "  <tbody>\n",
       "    <tr>\n",
       "      <th>0</th>\n",
       "      <td>6811</td>\n",
       "      <td>D</td>\n",
       "      <td>Ship</td>\n",
       "      <td>5</td>\n",
       "      <td>2</td>\n",
       "      <td>259</td>\n",
       "      <td>5</td>\n",
       "      <td>low</td>\n",
       "      <td>F</td>\n",
       "      <td>7</td>\n",
       "      <td>1032</td>\n",
       "      <td>0</td>\n",
       "      <td>0</td>\n",
       "      <td>0</td>\n",
       "      <td>1</td>\n",
       "      <td>0</td>\n",
       "      <td>0</td>\n",
       "      <td>0</td>\n",
       "      <td>1</td>\n",
       "    </tr>\n",
       "    <tr>\n",
       "      <th>1</th>\n",
       "      <td>4320</td>\n",
       "      <td>F</td>\n",
       "      <td>Ship</td>\n",
       "      <td>3</td>\n",
       "      <td>5</td>\n",
       "      <td>133</td>\n",
       "      <td>3</td>\n",
       "      <td>medium</td>\n",
       "      <td>F</td>\n",
       "      <td>4</td>\n",
       "      <td>5902</td>\n",
       "      <td>0</td>\n",
       "      <td>0</td>\n",
       "      <td>0</td>\n",
       "      <td>0</td>\n",
       "      <td>1</td>\n",
       "      <td>0</td>\n",
       "      <td>0</td>\n",
       "      <td>1</td>\n",
       "    </tr>\n",
       "    <tr>\n",
       "      <th>2</th>\n",
       "      <td>5732</td>\n",
       "      <td>F</td>\n",
       "      <td>Road</td>\n",
       "      <td>3</td>\n",
       "      <td>4</td>\n",
       "      <td>191</td>\n",
       "      <td>5</td>\n",
       "      <td>medium</td>\n",
       "      <td>F</td>\n",
       "      <td>4</td>\n",
       "      <td>4243</td>\n",
       "      <td>0</td>\n",
       "      <td>0</td>\n",
       "      <td>0</td>\n",
       "      <td>0</td>\n",
       "      <td>1</td>\n",
       "      <td>0</td>\n",
       "      <td>1</td>\n",
       "      <td>0</td>\n",
       "    </tr>\n",
       "    <tr>\n",
       "      <th>3</th>\n",
       "      <td>7429</td>\n",
       "      <td>D</td>\n",
       "      <td>Ship</td>\n",
       "      <td>4</td>\n",
       "      <td>2</td>\n",
       "      <td>221</td>\n",
       "      <td>3</td>\n",
       "      <td>low</td>\n",
       "      <td>M</td>\n",
       "      <td>10</td>\n",
       "      <td>4126</td>\n",
       "      <td>0</td>\n",
       "      <td>0</td>\n",
       "      <td>0</td>\n",
       "      <td>1</td>\n",
       "      <td>0</td>\n",
       "      <td>0</td>\n",
       "      <td>0</td>\n",
       "      <td>1</td>\n",
       "    </tr>\n",
       "    <tr>\n",
       "      <th>4</th>\n",
       "      <td>2191</td>\n",
       "      <td>D</td>\n",
       "      <td>Flight</td>\n",
       "      <td>4</td>\n",
       "      <td>5</td>\n",
       "      <td>230</td>\n",
       "      <td>2</td>\n",
       "      <td>low</td>\n",
       "      <td>F</td>\n",
       "      <td>38</td>\n",
       "      <td>2890</td>\n",
       "      <td>0</td>\n",
       "      <td>0</td>\n",
       "      <td>0</td>\n",
       "      <td>1</td>\n",
       "      <td>0</td>\n",
       "      <td>1</td>\n",
       "      <td>0</td>\n",
       "      <td>0</td>\n",
       "    </tr>\n",
       "  </tbody>\n",
       "</table>\n",
       "</div>"
      ],
      "text/plain": [
       "     ID Warehouse_block Mode_of_Shipment Customer_care_calls  Customer_rating  \\\n",
       "0  6811               D             Ship                   5                2   \n",
       "1  4320               F             Ship                   3                5   \n",
       "2  5732               F             Road                   3                4   \n",
       "3  7429               D             Ship                   4                2   \n",
       "4  2191               D           Flight                   4                5   \n",
       "\n",
       "   Cost_of_the_Product  Prior_purchases Product_importance Gender  \\\n",
       "0                  259                5                low      F   \n",
       "1                  133                3             medium      F   \n",
       "2                  191                5             medium      F   \n",
       "3                  221                3                low      M   \n",
       "4                  230                2                low      F   \n",
       "\n",
       "   Discount_offered  Weight_in_gms  house_A  house_B  house_C  house_D  \\\n",
       "0                 7           1032        0        0        0        1   \n",
       "1                 4           5902        0        0        0        0   \n",
       "2                 4           4243        0        0        0        0   \n",
       "3                10           4126        0        0        0        1   \n",
       "4                38           2890        0        0        0        1   \n",
       "\n",
       "   house_F  ship_Flight  ship_Road  ship_Ship  \n",
       "0        0            0          0          1  \n",
       "1        1            0          0          1  \n",
       "2        1            0          1          0  \n",
       "3        0            0          0          1  \n",
       "4        0            1          0          0  "
      ]
     },
     "execution_count": 45,
     "metadata": {},
     "output_type": "execute_result"
    }
   ],
   "source": [
    "dummies = pd.get_dummies(test['Mode_of_Shipment'], prefix='ship')\n",
    "test = pd.concat([test, dummies], axis=1)\n",
    "test.head()"
   ]
  },
  {
   "cell_type": "code",
   "execution_count": 46,
   "id": "d8ff852f",
   "metadata": {
    "ExecuteTime": {
     "end_time": "2022-08-28T13:57:19.153680Z",
     "start_time": "2022-08-28T13:57:19.144579Z"
    }
   },
   "outputs": [],
   "source": [
    "train.drop(columns='Mode_of_Shipment', axis=1, inplace=True)\n",
    "test.drop(columns='Mode_of_Shipment', axis=1, inplace=True)"
   ]
  },
  {
   "cell_type": "markdown",
   "id": "3db01ea1",
   "metadata": {},
   "source": [
    "##### Customer_care_calls"
   ]
  },
  {
   "cell_type": "code",
   "execution_count": 47,
   "id": "78ffd5b1",
   "metadata": {
    "ExecuteTime": {
     "end_time": "2022-08-28T13:57:19.169759Z",
     "start_time": "2022-08-28T13:57:19.155896Z"
    }
   },
   "outputs": [
    {
     "data": {
      "text/plain": [
       "4     2115\n",
       "3     1919\n",
       "5     1403\n",
       "6      604\n",
       "2      404\n",
       "$7     153\n",
       "Name: Customer_care_calls, dtype: int64"
      ]
     },
     "execution_count": 47,
     "metadata": {},
     "output_type": "execute_result"
    }
   ],
   "source": [
    "train['Customer_care_calls'].value_counts()"
   ]
  },
  {
   "cell_type": "code",
   "execution_count": 48,
   "id": "1ae82f4e",
   "metadata": {
    "ExecuteTime": {
     "end_time": "2022-08-28T13:57:19.185020Z",
     "start_time": "2022-08-28T13:57:19.171528Z"
    }
   },
   "outputs": [],
   "source": [
    "train['call'] = train['Customer_care_calls'].copy()\n",
    "test['call'] = test['Customer_care_calls'].copy()"
   ]
  },
  {
   "cell_type": "code",
   "execution_count": 49,
   "id": "dd1697fa",
   "metadata": {
    "ExecuteTime": {
     "end_time": "2022-08-28T13:57:19.207494Z",
     "start_time": "2022-08-28T13:57:19.187387Z"
    }
   },
   "outputs": [],
   "source": [
    "train.loc[train['Customer_care_calls'].str.contains('7'), 'call'] = '7'\n",
    "test.loc[test['Customer_care_calls'].str.contains('7'), 'call'] = '7'"
   ]
  },
  {
   "cell_type": "code",
   "execution_count": 50,
   "id": "4f63f4b7",
   "metadata": {
    "ExecuteTime": {
     "end_time": "2022-08-28T13:57:19.337748Z",
     "start_time": "2022-08-28T13:57:19.212503Z"
    }
   },
   "outputs": [
    {
     "data": {
      "text/plain": [
       "<AxesSubplot:xlabel='call', ylabel='count'>"
      ]
     },
     "execution_count": 50,
     "metadata": {},
     "output_type": "execute_result"
    },
    {
     "data": {
      "image/png": "[encoded data removed]",
      "text/plain": [
       "<Figure size 720x576 with 1 Axes>"
      ]
     },
     "metadata": {},
     "output_type": "display_data"
    }
   ],
   "source": [
    "plt.figure(figsize=(10,8))\n",
    "sns.countplot(data=train, x='call', hue='label')"
   ]
  },
  {
   "cell_type": "code",
   "execution_count": 51,
   "id": "f5baa202",
   "metadata": {
    "ExecuteTime": {
     "end_time": "2022-08-28T13:57:19.358326Z",
     "start_time": "2022-08-28T13:57:19.341365Z"
    }
   },
   "outputs": [
    {
     "data": {
      "text/html": [
       "<div>\n",
       "<style scoped>\n",
       "    .dataframe tbody tr th:only-of-type {\n",
       "        vertical-align: middle;\n",
       "    }\n",
       "\n",
       "    .dataframe tbody tr th {\n",
       "        vertical-align: top;\n",
       "    }\n",
       "\n",
       "    .dataframe thead th {\n",
       "        text-align: right;\n",
       "    }\n",
       "</style>\n",
       "<table border=\"1\" class=\"dataframe\">\n",
       "  <thead>\n",
       "    <tr style=\"text-align: right;\">\n",
       "      <th></th>\n",
       "      <th>ID</th>\n",
       "      <th>Warehouse_block</th>\n",
       "      <th>Customer_care_calls</th>\n",
       "      <th>Customer_rating</th>\n",
       "      <th>Cost_of_the_Product</th>\n",
       "      <th>Prior_purchases</th>\n",
       "      <th>Product_importance</th>\n",
       "      <th>Gender</th>\n",
       "      <th>Discount_offered</th>\n",
       "      <th>Weight_in_gms</th>\n",
       "      <th>...</th>\n",
       "      <th>ship_Flight</th>\n",
       "      <th>ship_Road</th>\n",
       "      <th>ship_Ship</th>\n",
       "      <th>call</th>\n",
       "      <th>call_2</th>\n",
       "      <th>call_3</th>\n",
       "      <th>call_4</th>\n",
       "      <th>call_5</th>\n",
       "      <th>call_6</th>\n",
       "      <th>call_7</th>\n",
       "    </tr>\n",
       "  </thead>\n",
       "  <tbody>\n",
       "    <tr>\n",
       "      <th>0</th>\n",
       "      <td>6045</td>\n",
       "      <td>A</td>\n",
       "      <td>4</td>\n",
       "      <td>3</td>\n",
       "      <td>266</td>\n",
       "      <td>5</td>\n",
       "      <td>high</td>\n",
       "      <td>F</td>\n",
       "      <td>5</td>\n",
       "      <td>1590</td>\n",
       "      <td>...</td>\n",
       "      <td>1</td>\n",
       "      <td>0</td>\n",
       "      <td>0</td>\n",
       "      <td>4</td>\n",
       "      <td>0</td>\n",
       "      <td>0</td>\n",
       "      <td>1</td>\n",
       "      <td>0</td>\n",
       "      <td>0</td>\n",
       "      <td>0</td>\n",
       "    </tr>\n",
       "    <tr>\n",
       "      <th>1</th>\n",
       "      <td>44</td>\n",
       "      <td>F</td>\n",
       "      <td>3</td>\n",
       "      <td>1</td>\n",
       "      <td>174</td>\n",
       "      <td>2</td>\n",
       "      <td>low</td>\n",
       "      <td>M</td>\n",
       "      <td>44</td>\n",
       "      <td>1556</td>\n",
       "      <td>...</td>\n",
       "      <td>0</td>\n",
       "      <td>0</td>\n",
       "      <td>1</td>\n",
       "      <td>3</td>\n",
       "      <td>0</td>\n",
       "      <td>1</td>\n",
       "      <td>0</td>\n",
       "      <td>0</td>\n",
       "      <td>0</td>\n",
       "      <td>0</td>\n",
       "    </tr>\n",
       "    <tr>\n",
       "      <th>2</th>\n",
       "      <td>7940</td>\n",
       "      <td>F</td>\n",
       "      <td>4</td>\n",
       "      <td>1</td>\n",
       "      <td>154</td>\n",
       "      <td>10</td>\n",
       "      <td>high</td>\n",
       "      <td>M</td>\n",
       "      <td>10</td>\n",
       "      <td>5674</td>\n",
       "      <td>...</td>\n",
       "      <td>0</td>\n",
       "      <td>1</td>\n",
       "      <td>0</td>\n",
       "      <td>4</td>\n",
       "      <td>0</td>\n",
       "      <td>0</td>\n",
       "      <td>1</td>\n",
       "      <td>0</td>\n",
       "      <td>0</td>\n",
       "      <td>0</td>\n",
       "    </tr>\n",
       "    <tr>\n",
       "      <th>3</th>\n",
       "      <td>1596</td>\n",
       "      <td>F</td>\n",
       "      <td>4</td>\n",
       "      <td>3</td>\n",
       "      <td>158</td>\n",
       "      <td>3</td>\n",
       "      <td>medium</td>\n",
       "      <td>F</td>\n",
       "      <td>27</td>\n",
       "      <td>1207</td>\n",
       "      <td>...</td>\n",
       "      <td>0</td>\n",
       "      <td>0</td>\n",
       "      <td>1</td>\n",
       "      <td>4</td>\n",
       "      <td>0</td>\n",
       "      <td>0</td>\n",
       "      <td>1</td>\n",
       "      <td>0</td>\n",
       "      <td>0</td>\n",
       "      <td>0</td>\n",
       "    </tr>\n",
       "    <tr>\n",
       "      <th>4</th>\n",
       "      <td>4395</td>\n",
       "      <td>A</td>\n",
       "      <td>5</td>\n",
       "      <td>3</td>\n",
       "      <td>175</td>\n",
       "      <td>3</td>\n",
       "      <td>low</td>\n",
       "      <td>M</td>\n",
       "      <td>7</td>\n",
       "      <td>4833</td>\n",
       "      <td>...</td>\n",
       "      <td>1</td>\n",
       "      <td>0</td>\n",
       "      <td>0</td>\n",
       "      <td>5</td>\n",
       "      <td>0</td>\n",
       "      <td>0</td>\n",
       "      <td>0</td>\n",
       "      <td>1</td>\n",
       "      <td>0</td>\n",
       "      <td>0</td>\n",
       "    </tr>\n",
       "  </tbody>\n",
       "</table>\n",
       "<p>5 rows × 26 columns</p>\n",
       "</div>"
      ],
      "text/plain": [
       "     ID Warehouse_block Customer_care_calls  Customer_rating  \\\n",
       "0  6045               A                   4                3   \n",
       "1    44               F                   3                1   \n",
       "2  7940               F                   4                1   \n",
       "3  1596               F                   4                3   \n",
       "4  4395               A                   5                3   \n",
       "\n",
       "   Cost_of_the_Product  Prior_purchases Product_importance Gender  \\\n",
       "0                  266                5               high      F   \n",
       "1                  174                2                low      M   \n",
       "2                  154               10               high      M   \n",
       "3                  158                3             medium      F   \n",
       "4                  175                3                low      M   \n",
       "\n",
       "   Discount_offered  Weight_in_gms  ...  ship_Flight  ship_Road  ship_Ship  \\\n",
       "0                 5           1590  ...            1          0          0   \n",
       "1                44           1556  ...            0          0          1   \n",
       "2                10           5674  ...            0          1          0   \n",
       "3                27           1207  ...            0          0          1   \n",
       "4                 7           4833  ...            1          0          0   \n",
       "\n",
       "   call  call_2  call_3  call_4  call_5  call_6 call_7  \n",
       "0     4       0       0       1       0       0      0  \n",
       "1     3       0       1       0       0       0      0  \n",
       "2     4       0       0       1       0       0      0  \n",
       "3     4       0       0       1       0       0      0  \n",
       "4     5       0       0       0       1       0      0  \n",
       "\n",
       "[5 rows x 26 columns]"
      ]
     },
     "execution_count": 51,
     "metadata": {},
     "output_type": "execute_result"
    }
   ],
   "source": [
    "dummies = pd.get_dummies(train['call'], prefix='call')\n",
    "train = pd.concat([train, dummies], axis=1)\n",
    "train.head()"
   ]
  },
  {
   "cell_type": "code",
   "execution_count": 52,
   "id": "e00cc55b",
   "metadata": {
    "ExecuteTime": {
     "end_time": "2022-08-28T13:57:19.377167Z",
     "start_time": "2022-08-28T13:57:19.360461Z"
    }
   },
   "outputs": [
    {
     "data": {
      "text/html": [
       "<div>\n",
       "<style scoped>\n",
       "    .dataframe tbody tr th:only-of-type {\n",
       "        vertical-align: middle;\n",
       "    }\n",
       "\n",
       "    .dataframe tbody tr th {\n",
       "        vertical-align: top;\n",
       "    }\n",
       "\n",
       "    .dataframe thead th {\n",
       "        text-align: right;\n",
       "    }\n",
       "</style>\n",
       "<table border=\"1\" class=\"dataframe\">\n",
       "  <thead>\n",
       "    <tr style=\"text-align: right;\">\n",
       "      <th></th>\n",
       "      <th>ID</th>\n",
       "      <th>Warehouse_block</th>\n",
       "      <th>Customer_care_calls</th>\n",
       "      <th>Customer_rating</th>\n",
       "      <th>Cost_of_the_Product</th>\n",
       "      <th>Prior_purchases</th>\n",
       "      <th>Product_importance</th>\n",
       "      <th>Gender</th>\n",
       "      <th>Discount_offered</th>\n",
       "      <th>Weight_in_gms</th>\n",
       "      <th>...</th>\n",
       "      <th>ship_Flight</th>\n",
       "      <th>ship_Road</th>\n",
       "      <th>ship_Ship</th>\n",
       "      <th>call</th>\n",
       "      <th>call_2</th>\n",
       "      <th>call_3</th>\n",
       "      <th>call_4</th>\n",
       "      <th>call_5</th>\n",
       "      <th>call_6</th>\n",
       "      <th>call_7</th>\n",
       "    </tr>\n",
       "  </thead>\n",
       "  <tbody>\n",
       "    <tr>\n",
       "      <th>0</th>\n",
       "      <td>6811</td>\n",
       "      <td>D</td>\n",
       "      <td>5</td>\n",
       "      <td>2</td>\n",
       "      <td>259</td>\n",
       "      <td>5</td>\n",
       "      <td>low</td>\n",
       "      <td>F</td>\n",
       "      <td>7</td>\n",
       "      <td>1032</td>\n",
       "      <td>...</td>\n",
       "      <td>0</td>\n",
       "      <td>0</td>\n",
       "      <td>1</td>\n",
       "      <td>5</td>\n",
       "      <td>0</td>\n",
       "      <td>0</td>\n",
       "      <td>0</td>\n",
       "      <td>1</td>\n",
       "      <td>0</td>\n",
       "      <td>0</td>\n",
       "    </tr>\n",
       "    <tr>\n",
       "      <th>1</th>\n",
       "      <td>4320</td>\n",
       "      <td>F</td>\n",
       "      <td>3</td>\n",
       "      <td>5</td>\n",
       "      <td>133</td>\n",
       "      <td>3</td>\n",
       "      <td>medium</td>\n",
       "      <td>F</td>\n",
       "      <td>4</td>\n",
       "      <td>5902</td>\n",
       "      <td>...</td>\n",
       "      <td>0</td>\n",
       "      <td>0</td>\n",
       "      <td>1</td>\n",
       "      <td>3</td>\n",
       "      <td>0</td>\n",
       "      <td>1</td>\n",
       "      <td>0</td>\n",
       "      <td>0</td>\n",
       "      <td>0</td>\n",
       "      <td>0</td>\n",
       "    </tr>\n",
       "    <tr>\n",
       "      <th>2</th>\n",
       "      <td>5732</td>\n",
       "      <td>F</td>\n",
       "      <td>3</td>\n",
       "      <td>4</td>\n",
       "      <td>191</td>\n",
       "      <td>5</td>\n",
       "      <td>medium</td>\n",
       "      <td>F</td>\n",
       "      <td>4</td>\n",
       "      <td>4243</td>\n",
       "      <td>...</td>\n",
       "      <td>0</td>\n",
       "      <td>1</td>\n",
       "      <td>0</td>\n",
       "      <td>3</td>\n",
       "      <td>0</td>\n",
       "      <td>1</td>\n",
       "      <td>0</td>\n",
       "      <td>0</td>\n",
       "      <td>0</td>\n",
       "      <td>0</td>\n",
       "    </tr>\n",
       "    <tr>\n",
       "      <th>3</th>\n",
       "      <td>7429</td>\n",
       "      <td>D</td>\n",
       "      <td>4</td>\n",
       "      <td>2</td>\n",
       "      <td>221</td>\n",
       "      <td>3</td>\n",
       "      <td>low</td>\n",
       "      <td>M</td>\n",
       "      <td>10</td>\n",
       "      <td>4126</td>\n",
       "      <td>...</td>\n",
       "      <td>0</td>\n",
       "      <td>0</td>\n",
       "      <td>1</td>\n",
       "      <td>4</td>\n",
       "      <td>0</td>\n",
       "      <td>0</td>\n",
       "      <td>1</td>\n",
       "      <td>0</td>\n",
       "      <td>0</td>\n",
       "      <td>0</td>\n",
       "    </tr>\n",
       "    <tr>\n",
       "      <th>4</th>\n",
       "      <td>2191</td>\n",
       "      <td>D</td>\n",
       "      <td>4</td>\n",
       "      <td>5</td>\n",
       "      <td>230</td>\n",
       "      <td>2</td>\n",
       "      <td>low</td>\n",
       "      <td>F</td>\n",
       "      <td>38</td>\n",
       "      <td>2890</td>\n",
       "      <td>...</td>\n",
       "      <td>1</td>\n",
       "      <td>0</td>\n",
       "      <td>0</td>\n",
       "      <td>4</td>\n",
       "      <td>0</td>\n",
       "      <td>0</td>\n",
       "      <td>1</td>\n",
       "      <td>0</td>\n",
       "      <td>0</td>\n",
       "      <td>0</td>\n",
       "    </tr>\n",
       "  </tbody>\n",
       "</table>\n",
       "<p>5 rows × 25 columns</p>\n",
       "</div>"
      ],
      "text/plain": [
       "     ID Warehouse_block Customer_care_calls  Customer_rating  \\\n",
       "0  6811               D                   5                2   \n",
       "1  4320               F                   3                5   \n",
       "2  5732               F                   3                4   \n",
       "3  7429               D                   4                2   \n",
       "4  2191               D                   4                5   \n",
       "\n",
       "   Cost_of_the_Product  Prior_purchases Product_importance Gender  \\\n",
       "0                  259                5                low      F   \n",
       "1                  133                3             medium      F   \n",
       "2                  191                5             medium      F   \n",
       "3                  221                3                low      M   \n",
       "4                  230                2                low      F   \n",
       "\n",
       "   Discount_offered  Weight_in_gms  ...  ship_Flight  ship_Road  ship_Ship  \\\n",
       "0                 7           1032  ...            0          0          1   \n",
       "1                 4           5902  ...            0          0          1   \n",
       "2                 4           4243  ...            0          1          0   \n",
       "3                10           4126  ...            0          0          1   \n",
       "4                38           2890  ...            1          0          0   \n",
       "\n",
       "   call  call_2  call_3  call_4  call_5 call_6  call_7  \n",
       "0     5       0       0       0       1      0       0  \n",
       "1     3       0       1       0       0      0       0  \n",
       "2     3       0       1       0       0      0       0  \n",
       "3     4       0       0       1       0      0       0  \n",
       "4     4       0       0       1       0      0       0  \n",
       "\n",
       "[5 rows x 25 columns]"
      ]
     },
     "execution_count": 52,
     "metadata": {},
     "output_type": "execute_result"
    }
   ],
   "source": [
    "dummies = pd.get_dummies(test['call'], prefix='call')\n",
    "test = pd.concat([test, dummies], axis=1)\n",
    "test.head()"
   ]
  },
  {
   "cell_type": "code",
   "execution_count": 53,
   "id": "49a2fbd1",
   "metadata": {
    "ExecuteTime": {
     "end_time": "2022-08-28T13:57:19.393443Z",
     "start_time": "2022-08-28T13:57:19.378840Z"
    }
   },
   "outputs": [],
   "source": [
    "train.drop(columns=['Customer_care_calls', 'call'], axis=1, inplace=True)\n",
    "test.drop(columns=['Customer_care_calls', 'call'], axis=1, inplace=True)"
   ]
  },
  {
   "cell_type": "markdown",
   "id": "4d335c8b",
   "metadata": {},
   "source": [
    "##### Customer_rating"
   ]
  },
  {
   "cell_type": "code",
   "execution_count": 54,
   "id": "ee757054",
   "metadata": {
    "ExecuteTime": {
     "end_time": "2022-08-28T13:57:19.412486Z",
     "start_time": "2022-08-28T13:57:19.395948Z"
    }
   },
   "outputs": [
    {
     "data": {
      "text/plain": [
       "3    1367\n",
       "1    1341\n",
       "4    1330\n",
       "5    1285\n",
       "2    1275\n",
       "Name: Customer_rating, dtype: int64"
      ]
     },
     "execution_count": 54,
     "metadata": {},
     "output_type": "execute_result"
    }
   ],
   "source": [
    "train['Customer_rating'].value_counts()"
   ]
  },
  {
   "cell_type": "code",
   "execution_count": 55,
   "id": "b9bb9979",
   "metadata": {
    "ExecuteTime": {
     "end_time": "2022-08-28T13:57:19.578234Z",
     "start_time": "2022-08-28T13:57:19.414468Z"
    }
   },
   "outputs": [
    {
     "data": {
      "text/plain": [
       "<AxesSubplot:xlabel='Customer_rating', ylabel='count'>"
      ]
     },
     "execution_count": 55,
     "metadata": {},
     "output_type": "execute_result"
    },
    {
     "data": {
      "image/png": "[encoded data removed]",
      "text/plain": [
       "<Figure size 720x576 with 1 Axes>"
      ]
     },
     "metadata": {},
     "output_type": "display_data"
    }
   ],
   "source": [
    "plt.figure(figsize=(10,8))\n",
    "sns.countplot(data=train, x='Customer_rating', hue='label')"
   ]
  },
  {
   "cell_type": "markdown",
   "id": "037b5a47",
   "metadata": {},
   "source": [
    "##### Cost_of_the_Product"
   ]
  },
  {
   "cell_type": "code",
   "execution_count": 56,
   "id": "4cf2a007",
   "metadata": {
    "ExecuteTime": {
     "end_time": "2022-08-28T13:57:19.784079Z",
     "start_time": "2022-08-28T13:57:19.581317Z"
    }
   },
   "outputs": [
    {
     "name": "stderr",
     "output_type": "stream",
     "text": [
      "/home/chahohyun/anaconda3/lib/python3.7/site-packages/seaborn/distributions.py:2619: FutureWarning: `distplot` is a deprecated function and will be removed in a future version. Please adapt your code to use either `displot` (a figure-level function with similar flexibility) or `histplot` (an axes-level function for histograms).\n",
      "  warnings.warn(msg, FutureWarning)\n"
     ]
    },
    {
     "data": {
      "text/plain": [
       "<AxesSubplot:xlabel='Cost_of_the_Product', ylabel='Density'>"
      ]
     },
     "execution_count": 56,
     "metadata": {},
     "output_type": "execute_result"
    },
    {
     "data": {
      "image/png": "[encoded data removed]",
      "text/plain": [
       "<Figure size 1440x720 with 1 Axes>"
      ]
     },
     "metadata": {},
     "output_type": "display_data"
    }
   ],
   "source": [
    "plt.figure(figsize=(20,10))\n",
    "sns.distplot(train[\"Cost_of_the_Product\"])"
   ]
  },
  {
   "cell_type": "code",
   "execution_count": 57,
   "id": "54b9c41b",
   "metadata": {
    "ExecuteTime": {
     "end_time": "2022-08-28T13:57:20.009843Z",
     "start_time": "2022-08-28T13:57:19.787025Z"
    }
   },
   "outputs": [
    {
     "data": {
      "text/plain": [
       "<AxesSubplot:ylabel='Density'>"
      ]
     },
     "execution_count": 57,
     "metadata": {},
     "output_type": "execute_result"
    },
    {
     "data": {
      "image/png": "[encoded data removed]",
      "text/plain": [
       "<Figure size 1440x720 with 1 Axes>"
      ]
     },
     "metadata": {},
     "output_type": "display_data"
    }
   ],
   "source": [
    "train.loc[train['label'] == 1]['Cost_of_the_Product'].plot(kind='kde', figsize = (20, 10))\n",
    "train.loc[train['label'] == 0]['Cost_of_the_Product'].plot(kind='kde', figsize = (20, 10))"
   ]
  },
  {
   "cell_type": "code",
   "execution_count": 58,
   "id": "da442210",
   "metadata": {
    "ExecuteTime": {
     "end_time": "2022-08-28T13:57:20.018323Z",
     "start_time": "2022-08-28T13:57:20.013275Z"
    }
   },
   "outputs": [],
   "source": [
    "def plot_cost(cost_range):\n",
    "    train.loc[train['label'] == 1]['Cost_of_the_Product'].plot(kind='kde', figsize = (10, 8))\n",
    "    train.loc[train['label'] == 0]['Cost_of_the_Product'].plot(kind='kde')\n",
    "    plt.xlim(cost_range)"
   ]
  },
  {
   "cell_type": "code",
   "execution_count": 59,
   "id": "7db02c3a",
   "metadata": {
    "ExecuteTime": {
     "end_time": "2022-08-28T13:57:20.265836Z",
     "start_time": "2022-08-28T13:57:20.021407Z"
    }
   },
   "outputs": [
    {
     "data": {
      "text/plain": [
       "(0.0, 0.002)"
      ]
     },
     "execution_count": 59,
     "metadata": {},
     "output_type": "execute_result"
    },
    {
     "data": {
      "image/png": "[encoded data removed]",
      "text/plain": [
       "<Figure size 720x576 with 1 Axes>"
      ]
     },
     "metadata": {},
     "output_type": "display_data"
    }
   ],
   "source": [
    "plot_cost([90, 110])\n",
    "plt.ylim([0, 0.002])"
   ]
  },
  {
   "cell_type": "code",
   "execution_count": 60,
   "id": "575dddfa",
   "metadata": {
    "ExecuteTime": {
     "end_time": "2022-08-28T13:57:20.736473Z",
     "start_time": "2022-08-28T13:57:20.268293Z"
    }
   },
   "outputs": [
    {
     "data": {
      "text/plain": [
       "(0.004, 0.01)"
      ]
     },
     "execution_count": 60,
     "metadata": {},
     "output_type": "execute_result"
    },
    {
     "data": {
      "image/png": "[encoded data removed]",
      "text/plain": [
       "<Figure size 720x576 with 1 Axes>"
      ]
     },
     "metadata": {},
     "output_type": "display_data"
    }
   ],
   "source": [
    "plot_cost([200, 250])\n",
    "plt.ylim([0.004, 0.01])"
   ]
  },
  {
   "cell_type": "code",
   "execution_count": 61,
   "id": "9ed87a48",
   "metadata": {
    "ExecuteTime": {
     "end_time": "2022-08-28T13:57:20.747933Z",
     "start_time": "2022-08-28T13:57:20.738642Z"
    }
   },
   "outputs": [],
   "source": [
    "train.loc[train['Cost_of_the_Product'] < 100, 'cost'] = 'low'\n",
    "train.loc[(train['Cost_of_the_Product'] >= 100)&(train['Cost_of_the_Product'] < 210), 'cost'] = 'middle'\n",
    "train.loc[train['Cost_of_the_Product'] >= 210, 'cost'] = 'high'"
   ]
  },
  {
   "cell_type": "code",
   "execution_count": 62,
   "id": "47a5c5cc",
   "metadata": {
    "ExecuteTime": {
     "end_time": "2022-08-28T13:57:20.774005Z",
     "start_time": "2022-08-28T13:57:20.750196Z"
    }
   },
   "outputs": [],
   "source": [
    "test.loc[test['Cost_of_the_Product'] < 100, 'cost'] = 'low'\n",
    "test.loc[(test['Cost_of_the_Product'] >= 100)&(test['Cost_of_the_Product'] < 210), 'cost'] = 'middle'\n",
    "test.loc[test['Cost_of_the_Product'] >= 210, 'cost'] = 'high'"
   ]
  },
  {
   "cell_type": "code",
   "execution_count": 63,
   "id": "0b743a38",
   "metadata": {
    "ExecuteTime": {
     "end_time": "2022-08-28T13:57:20.824159Z",
     "start_time": "2022-08-28T13:57:20.808007Z"
    }
   },
   "outputs": [
    {
     "data": {
      "text/html": [
       "<div>\n",
       "<style scoped>\n",
       "    .dataframe tbody tr th:only-of-type {\n",
       "        vertical-align: middle;\n",
       "    }\n",
       "\n",
       "    .dataframe tbody tr th {\n",
       "        vertical-align: top;\n",
       "    }\n",
       "\n",
       "    .dataframe thead th {\n",
       "        text-align: right;\n",
       "    }\n",
       "</style>\n",
       "<table border=\"1\" class=\"dataframe\">\n",
       "  <thead>\n",
       "    <tr style=\"text-align: right;\">\n",
       "      <th></th>\n",
       "      <th>ID</th>\n",
       "      <th>Warehouse_block</th>\n",
       "      <th>Customer_rating</th>\n",
       "      <th>Cost_of_the_Product</th>\n",
       "      <th>Prior_purchases</th>\n",
       "      <th>Product_importance</th>\n",
       "      <th>Gender</th>\n",
       "      <th>Discount_offered</th>\n",
       "      <th>Weight_in_gms</th>\n",
       "      <th>label</th>\n",
       "      <th>...</th>\n",
       "      <th>call_2</th>\n",
       "      <th>call_3</th>\n",
       "      <th>call_4</th>\n",
       "      <th>call_5</th>\n",
       "      <th>call_6</th>\n",
       "      <th>call_7</th>\n",
       "      <th>cost</th>\n",
       "      <th>cost_high</th>\n",
       "      <th>cost_low</th>\n",
       "      <th>cost_middle</th>\n",
       "    </tr>\n",
       "  </thead>\n",
       "  <tbody>\n",
       "    <tr>\n",
       "      <th>0</th>\n",
       "      <td>6045</td>\n",
       "      <td>A</td>\n",
       "      <td>3</td>\n",
       "      <td>266</td>\n",
       "      <td>5</td>\n",
       "      <td>high</td>\n",
       "      <td>F</td>\n",
       "      <td>5</td>\n",
       "      <td>1590</td>\n",
       "      <td>0</td>\n",
       "      <td>...</td>\n",
       "      <td>0</td>\n",
       "      <td>0</td>\n",
       "      <td>1</td>\n",
       "      <td>0</td>\n",
       "      <td>0</td>\n",
       "      <td>0</td>\n",
       "      <td>high</td>\n",
       "      <td>1</td>\n",
       "      <td>0</td>\n",
       "      <td>0</td>\n",
       "    </tr>\n",
       "    <tr>\n",
       "      <th>1</th>\n",
       "      <td>44</td>\n",
       "      <td>F</td>\n",
       "      <td>1</td>\n",
       "      <td>174</td>\n",
       "      <td>2</td>\n",
       "      <td>low</td>\n",
       "      <td>M</td>\n",
       "      <td>44</td>\n",
       "      <td>1556</td>\n",
       "      <td>1</td>\n",
       "      <td>...</td>\n",
       "      <td>0</td>\n",
       "      <td>1</td>\n",
       "      <td>0</td>\n",
       "      <td>0</td>\n",
       "      <td>0</td>\n",
       "      <td>0</td>\n",
       "      <td>middle</td>\n",
       "      <td>0</td>\n",
       "      <td>0</td>\n",
       "      <td>1</td>\n",
       "    </tr>\n",
       "    <tr>\n",
       "      <th>2</th>\n",
       "      <td>7940</td>\n",
       "      <td>F</td>\n",
       "      <td>1</td>\n",
       "      <td>154</td>\n",
       "      <td>10</td>\n",
       "      <td>high</td>\n",
       "      <td>M</td>\n",
       "      <td>10</td>\n",
       "      <td>5674</td>\n",
       "      <td>1</td>\n",
       "      <td>...</td>\n",
       "      <td>0</td>\n",
       "      <td>0</td>\n",
       "      <td>1</td>\n",
       "      <td>0</td>\n",
       "      <td>0</td>\n",
       "      <td>0</td>\n",
       "      <td>middle</td>\n",
       "      <td>0</td>\n",
       "      <td>0</td>\n",
       "      <td>1</td>\n",
       "    </tr>\n",
       "    <tr>\n",
       "      <th>3</th>\n",
       "      <td>1596</td>\n",
       "      <td>F</td>\n",
       "      <td>3</td>\n",
       "      <td>158</td>\n",
       "      <td>3</td>\n",
       "      <td>medium</td>\n",
       "      <td>F</td>\n",
       "      <td>27</td>\n",
       "      <td>1207</td>\n",
       "      <td>1</td>\n",
       "      <td>...</td>\n",
       "      <td>0</td>\n",
       "      <td>0</td>\n",
       "      <td>1</td>\n",
       "      <td>0</td>\n",
       "      <td>0</td>\n",
       "      <td>0</td>\n",
       "      <td>middle</td>\n",
       "      <td>0</td>\n",
       "      <td>0</td>\n",
       "      <td>1</td>\n",
       "    </tr>\n",
       "    <tr>\n",
       "      <th>4</th>\n",
       "      <td>4395</td>\n",
       "      <td>A</td>\n",
       "      <td>3</td>\n",
       "      <td>175</td>\n",
       "      <td>3</td>\n",
       "      <td>low</td>\n",
       "      <td>M</td>\n",
       "      <td>7</td>\n",
       "      <td>4833</td>\n",
       "      <td>1</td>\n",
       "      <td>...</td>\n",
       "      <td>0</td>\n",
       "      <td>0</td>\n",
       "      <td>0</td>\n",
       "      <td>1</td>\n",
       "      <td>0</td>\n",
       "      <td>0</td>\n",
       "      <td>middle</td>\n",
       "      <td>0</td>\n",
       "      <td>0</td>\n",
       "      <td>1</td>\n",
       "    </tr>\n",
       "  </tbody>\n",
       "</table>\n",
       "<p>5 rows × 28 columns</p>\n",
       "</div>"
      ],
      "text/plain": [
       "     ID Warehouse_block  Customer_rating  Cost_of_the_Product  \\\n",
       "0  6045               A                3                  266   \n",
       "1    44               F                1                  174   \n",
       "2  7940               F                1                  154   \n",
       "3  1596               F                3                  158   \n",
       "4  4395               A                3                  175   \n",
       "\n",
       "   Prior_purchases Product_importance Gender  Discount_offered  Weight_in_gms  \\\n",
       "0                5               high      F                 5           1590   \n",
       "1                2                low      M                44           1556   \n",
       "2               10               high      M                10           5674   \n",
       "3                3             medium      F                27           1207   \n",
       "4                3                low      M                 7           4833   \n",
       "\n",
       "   label  ...  call_2  call_3  call_4  call_5  call_6  call_7    cost  \\\n",
       "0      0  ...       0       0       1       0       0       0    high   \n",
       "1      1  ...       0       1       0       0       0       0  middle   \n",
       "2      1  ...       0       0       1       0       0       0  middle   \n",
       "3      1  ...       0       0       1       0       0       0  middle   \n",
       "4      1  ...       0       0       0       1       0       0  middle   \n",
       "\n",
       "   cost_high  cost_low  cost_middle  \n",
       "0          1         0            0  \n",
       "1          0         0            1  \n",
       "2          0         0            1  \n",
       "3          0         0            1  \n",
       "4          0         0            1  \n",
       "\n",
       "[5 rows x 28 columns]"
      ]
     },
     "execution_count": 63,
     "metadata": {},
     "output_type": "execute_result"
    }
   ],
   "source": [
    "dummies = pd.get_dummies(train['cost'], prefix='cost')\n",
    "train = pd.concat([train, dummies], axis=1)\n",
    "train.head()"
   ]
  },
  {
   "cell_type": "code",
   "execution_count": 64,
   "id": "6100a5f1",
   "metadata": {
    "ExecuteTime": {
     "end_time": "2022-08-28T13:57:20.824159Z",
     "start_time": "2022-08-28T13:57:20.808007Z"
    }
   },
   "outputs": [
    {
     "data": {
      "text/html": [
       "<div>\n",
       "<style scoped>\n",
       "    .dataframe tbody tr th:only-of-type {\n",
       "        vertical-align: middle;\n",
       "    }\n",
       "\n",
       "    .dataframe tbody tr th {\n",
       "        vertical-align: top;\n",
       "    }\n",
       "\n",
       "    .dataframe thead th {\n",
       "        text-align: right;\n",
       "    }\n",
       "</style>\n",
       "<table border=\"1\" class=\"dataframe\">\n",
       "  <thead>\n",
       "    <tr style=\"text-align: right;\">\n",
       "      <th></th>\n",
       "      <th>ID</th>\n",
       "      <th>Warehouse_block</th>\n",
       "      <th>Customer_rating</th>\n",
       "      <th>Cost_of_the_Product</th>\n",
       "      <th>Prior_purchases</th>\n",
       "      <th>Product_importance</th>\n",
       "      <th>Gender</th>\n",
       "      <th>Discount_offered</th>\n",
       "      <th>Weight_in_gms</th>\n",
       "      <th>house_A</th>\n",
       "      <th>...</th>\n",
       "      <th>call_2</th>\n",
       "      <th>call_3</th>\n",
       "      <th>call_4</th>\n",
       "      <th>call_5</th>\n",
       "      <th>call_6</th>\n",
       "      <th>call_7</th>\n",
       "      <th>cost</th>\n",
       "      <th>cost_high</th>\n",
       "      <th>cost_low</th>\n",
       "      <th>cost_middle</th>\n",
       "    </tr>\n",
       "  </thead>\n",
       "  <tbody>\n",
       "    <tr>\n",
       "      <th>0</th>\n",
       "      <td>6811</td>\n",
       "      <td>D</td>\n",
       "      <td>2</td>\n",
       "      <td>259</td>\n",
       "      <td>5</td>\n",
       "      <td>low</td>\n",
       "      <td>F</td>\n",
       "      <td>7</td>\n",
       "      <td>1032</td>\n",
       "      <td>0</td>\n",
       "      <td>...</td>\n",
       "      <td>0</td>\n",
       "      <td>0</td>\n",
       "      <td>0</td>\n",
       "      <td>1</td>\n",
       "      <td>0</td>\n",
       "      <td>0</td>\n",
       "      <td>high</td>\n",
       "      <td>1</td>\n",
       "      <td>0</td>\n",
       "      <td>0</td>\n",
       "    </tr>\n",
       "    <tr>\n",
       "      <th>1</th>\n",
       "      <td>4320</td>\n",
       "      <td>F</td>\n",
       "      <td>5</td>\n",
       "      <td>133</td>\n",
       "      <td>3</td>\n",
       "      <td>medium</td>\n",
       "      <td>F</td>\n",
       "      <td>4</td>\n",
       "      <td>5902</td>\n",
       "      <td>0</td>\n",
       "      <td>...</td>\n",
       "      <td>0</td>\n",
       "      <td>1</td>\n",
       "      <td>0</td>\n",
       "      <td>0</td>\n",
       "      <td>0</td>\n",
       "      <td>0</td>\n",
       "      <td>middle</td>\n",
       "      <td>0</td>\n",
       "      <td>0</td>\n",
       "      <td>1</td>\n",
       "    </tr>\n",
       "    <tr>\n",
       "      <th>2</th>\n",
       "      <td>5732</td>\n",
       "      <td>F</td>\n",
       "      <td>4</td>\n",
       "      <td>191</td>\n",
       "      <td>5</td>\n",
       "      <td>medium</td>\n",
       "      <td>F</td>\n",
       "      <td>4</td>\n",
       "      <td>4243</td>\n",
       "      <td>0</td>\n",
       "      <td>...</td>\n",
       "      <td>0</td>\n",
       "      <td>1</td>\n",
       "      <td>0</td>\n",
       "      <td>0</td>\n",
       "      <td>0</td>\n",
       "      <td>0</td>\n",
       "      <td>middle</td>\n",
       "      <td>0</td>\n",
       "      <td>0</td>\n",
       "      <td>1</td>\n",
       "    </tr>\n",
       "    <tr>\n",
       "      <th>3</th>\n",
       "      <td>7429</td>\n",
       "      <td>D</td>\n",
       "      <td>2</td>\n",
       "      <td>221</td>\n",
       "      <td>3</td>\n",
       "      <td>low</td>\n",
       "      <td>M</td>\n",
       "      <td>10</td>\n",
       "      <td>4126</td>\n",
       "      <td>0</td>\n",
       "      <td>...</td>\n",
       "      <td>0</td>\n",
       "      <td>0</td>\n",
       "      <td>1</td>\n",
       "      <td>0</td>\n",
       "      <td>0</td>\n",
       "      <td>0</td>\n",
       "      <td>high</td>\n",
       "      <td>1</td>\n",
       "      <td>0</td>\n",
       "      <td>0</td>\n",
       "    </tr>\n",
       "    <tr>\n",
       "      <th>4</th>\n",
       "      <td>2191</td>\n",
       "      <td>D</td>\n",
       "      <td>5</td>\n",
       "      <td>230</td>\n",
       "      <td>2</td>\n",
       "      <td>low</td>\n",
       "      <td>F</td>\n",
       "      <td>38</td>\n",
       "      <td>2890</td>\n",
       "      <td>0</td>\n",
       "      <td>...</td>\n",
       "      <td>0</td>\n",
       "      <td>0</td>\n",
       "      <td>1</td>\n",
       "      <td>0</td>\n",
       "      <td>0</td>\n",
       "      <td>0</td>\n",
       "      <td>high</td>\n",
       "      <td>1</td>\n",
       "      <td>0</td>\n",
       "      <td>0</td>\n",
       "    </tr>\n",
       "  </tbody>\n",
       "</table>\n",
       "<p>5 rows × 27 columns</p>\n",
       "</div>"
      ],
      "text/plain": [
       "     ID Warehouse_block  Customer_rating  Cost_of_the_Product  \\\n",
       "0  6811               D                2                  259   \n",
       "1  4320               F                5                  133   \n",
       "2  5732               F                4                  191   \n",
       "3  7429               D                2                  221   \n",
       "4  2191               D                5                  230   \n",
       "\n",
       "   Prior_purchases Product_importance Gender  Discount_offered  Weight_in_gms  \\\n",
       "0                5                low      F                 7           1032   \n",
       "1                3             medium      F                 4           5902   \n",
       "2                5             medium      F                 4           4243   \n",
       "3                3                low      M                10           4126   \n",
       "4                2                low      F                38           2890   \n",
       "\n",
       "   house_A  ...  call_2  call_3  call_4  call_5  call_6  call_7    cost  \\\n",
       "0        0  ...       0       0       0       1       0       0    high   \n",
       "1        0  ...       0       1       0       0       0       0  middle   \n",
       "2        0  ...       0       1       0       0       0       0  middle   \n",
       "3        0  ...       0       0       1       0       0       0    high   \n",
       "4        0  ...       0       0       1       0       0       0    high   \n",
       "\n",
       "   cost_high  cost_low  cost_middle  \n",
       "0          1         0            0  \n",
       "1          0         0            1  \n",
       "2          0         0            1  \n",
       "3          1         0            0  \n",
       "4          1         0            0  \n",
       "\n",
       "[5 rows x 27 columns]"
      ]
     },
     "execution_count": 64,
     "metadata": {},
     "output_type": "execute_result"
    }
   ],
   "source": [
    "dummies = pd.get_dummies(test['cost'], prefix='cost')\n",
    "test = pd.concat([test, dummies], axis=1)\n",
    "test.head()"
   ]
  },
  {
   "cell_type": "markdown",
   "id": "a2fecbd0",
   "metadata": {},
   "source": [
    "##### Prior_purchases"
   ]
  },
  {
   "cell_type": "code",
   "execution_count": 65,
   "id": "098c8a5d",
   "metadata": {
    "ExecuteTime": {
     "end_time": "2022-08-28T13:57:20.832561Z",
     "start_time": "2022-08-28T13:57:20.826410Z"
    }
   },
   "outputs": [
    {
     "data": {
      "text/plain": [
       "3     2361\n",
       "2     1523\n",
       "4     1337\n",
       "5      778\n",
       "6      339\n",
       "10     104\n",
       "7       83\n",
       "8       73\n",
       "Name: Prior_purchases, dtype: int64"
      ]
     },
     "execution_count": 65,
     "metadata": {},
     "output_type": "execute_result"
    }
   ],
   "source": [
    "train['Prior_purchases'].value_counts()"
   ]
  },
  {
   "cell_type": "code",
   "execution_count": 66,
   "id": "36d470d7",
   "metadata": {
    "ExecuteTime": {
     "end_time": "2022-08-28T13:57:20.971177Z",
     "start_time": "2022-08-28T13:57:20.834493Z"
    }
   },
   "outputs": [
    {
     "data": {
      "text/plain": [
       "<AxesSubplot:xlabel='Prior_purchases', ylabel='count'>"
      ]
     },
     "execution_count": 66,
     "metadata": {},
     "output_type": "execute_result"
    },
    {
     "data": {
      "image/png": "[encoded data removed]",
      "text/plain": [
       "<Figure size 720x576 with 1 Axes>"
      ]
     },
     "metadata": {},
     "output_type": "display_data"
    }
   ],
   "source": [
    "plt.figure(figsize=(10,8))\n",
    "sns.countplot(data=train, x='Prior_purchases', hue='label')"
   ]
  },
  {
   "cell_type": "markdown",
   "id": "35c14883",
   "metadata": {},
   "source": [
    "##### Product_importance"
   ]
  },
  {
   "cell_type": "code",
   "execution_count": 67,
   "id": "6c9aa817",
   "metadata": {
    "ExecuteTime": {
     "end_time": "2022-08-28T13:57:20.980617Z",
     "start_time": "2022-08-28T13:57:20.973096Z"
    }
   },
   "outputs": [
    {
     "data": {
      "text/plain": [
       "0         high\n",
       "1          low\n",
       "2         high\n",
       "3       medium\n",
       "4          low\n",
       "         ...  \n",
       "6593    medium\n",
       "6594    medium\n",
       "6595    medium\n",
       "6596    medium\n",
       "6597    medium\n",
       "Name: Product_importance, Length: 6598, dtype: object"
      ]
     },
     "execution_count": 67,
     "metadata": {},
     "output_type": "execute_result"
    }
   ],
   "source": [
    "train['Product_importance']"
   ]
  },
  {
   "cell_type": "code",
   "execution_count": 68,
   "id": "25b50e00",
   "metadata": {
    "ExecuteTime": {
     "end_time": "2022-08-28T13:57:21.105918Z",
     "start_time": "2022-08-28T13:57:20.982358Z"
    }
   },
   "outputs": [
    {
     "data": {
      "text/plain": [
       "<AxesSubplot:xlabel='Product_importance', ylabel='count'>"
      ]
     },
     "execution_count": 68,
     "metadata": {},
     "output_type": "execute_result"
    },
    {
     "data": {
      "image/png": "[encoded data removed]",
      "text/plain": [
       "<Figure size 720x576 with 1 Axes>"
      ]
     },
     "metadata": {},
     "output_type": "display_data"
    }
   ],
   "source": [
    "plt.figure(figsize=(10,8))\n",
    "sns.countplot(data=train, x='Product_importance', hue='label')"
   ]
  },
  {
   "cell_type": "code",
   "execution_count": 69,
   "id": "a0d98b62",
   "metadata": {
    "ExecuteTime": {
     "end_time": "2022-08-28T13:57:21.123754Z",
     "start_time": "2022-08-28T13:57:21.108437Z"
    }
   },
   "outputs": [
    {
     "data": {
      "text/html": [
       "<div>\n",
       "<style scoped>\n",
       "    .dataframe tbody tr th:only-of-type {\n",
       "        vertical-align: middle;\n",
       "    }\n",
       "\n",
       "    .dataframe tbody tr th {\n",
       "        vertical-align: top;\n",
       "    }\n",
       "\n",
       "    .dataframe thead th {\n",
       "        text-align: right;\n",
       "    }\n",
       "</style>\n",
       "<table border=\"1\" class=\"dataframe\">\n",
       "  <thead>\n",
       "    <tr style=\"text-align: right;\">\n",
       "      <th></th>\n",
       "      <th>ID</th>\n",
       "      <th>Warehouse_block</th>\n",
       "      <th>Customer_rating</th>\n",
       "      <th>Cost_of_the_Product</th>\n",
       "      <th>Prior_purchases</th>\n",
       "      <th>Product_importance</th>\n",
       "      <th>Gender</th>\n",
       "      <th>Discount_offered</th>\n",
       "      <th>Weight_in_gms</th>\n",
       "      <th>label</th>\n",
       "      <th>...</th>\n",
       "      <th>call_5</th>\n",
       "      <th>call_6</th>\n",
       "      <th>call_7</th>\n",
       "      <th>cost</th>\n",
       "      <th>cost_high</th>\n",
       "      <th>cost_low</th>\n",
       "      <th>cost_middle</th>\n",
       "      <th>importance_high</th>\n",
       "      <th>importance_low</th>\n",
       "      <th>importance_medium</th>\n",
       "    </tr>\n",
       "  </thead>\n",
       "  <tbody>\n",
       "    <tr>\n",
       "      <th>0</th>\n",
       "      <td>6045</td>\n",
       "      <td>A</td>\n",
       "      <td>3</td>\n",
       "      <td>266</td>\n",
       "      <td>5</td>\n",
       "      <td>high</td>\n",
       "      <td>F</td>\n",
       "      <td>5</td>\n",
       "      <td>1590</td>\n",
       "      <td>0</td>\n",
       "      <td>...</td>\n",
       "      <td>0</td>\n",
       "      <td>0</td>\n",
       "      <td>0</td>\n",
       "      <td>high</td>\n",
       "      <td>1</td>\n",
       "      <td>0</td>\n",
       "      <td>0</td>\n",
       "      <td>1</td>\n",
       "      <td>0</td>\n",
       "      <td>0</td>\n",
       "    </tr>\n",
       "    <tr>\n",
       "      <th>1</th>\n",
       "      <td>44</td>\n",
       "      <td>F</td>\n",
       "      <td>1</td>\n",
       "      <td>174</td>\n",
       "      <td>2</td>\n",
       "      <td>low</td>\n",
       "      <td>M</td>\n",
       "      <td>44</td>\n",
       "      <td>1556</td>\n",
       "      <td>1</td>\n",
       "      <td>...</td>\n",
       "      <td>0</td>\n",
       "      <td>0</td>\n",
       "      <td>0</td>\n",
       "      <td>middle</td>\n",
       "      <td>0</td>\n",
       "      <td>0</td>\n",
       "      <td>1</td>\n",
       "      <td>0</td>\n",
       "      <td>1</td>\n",
       "      <td>0</td>\n",
       "    </tr>\n",
       "    <tr>\n",
       "      <th>2</th>\n",
       "      <td>7940</td>\n",
       "      <td>F</td>\n",
       "      <td>1</td>\n",
       "      <td>154</td>\n",
       "      <td>10</td>\n",
       "      <td>high</td>\n",
       "      <td>M</td>\n",
       "      <td>10</td>\n",
       "      <td>5674</td>\n",
       "      <td>1</td>\n",
       "      <td>...</td>\n",
       "      <td>0</td>\n",
       "      <td>0</td>\n",
       "      <td>0</td>\n",
       "      <td>middle</td>\n",
       "      <td>0</td>\n",
       "      <td>0</td>\n",
       "      <td>1</td>\n",
       "      <td>1</td>\n",
       "      <td>0</td>\n",
       "      <td>0</td>\n",
       "    </tr>\n",
       "    <tr>\n",
       "      <th>3</th>\n",
       "      <td>1596</td>\n",
       "      <td>F</td>\n",
       "      <td>3</td>\n",
       "      <td>158</td>\n",
       "      <td>3</td>\n",
       "      <td>medium</td>\n",
       "      <td>F</td>\n",
       "      <td>27</td>\n",
       "      <td>1207</td>\n",
       "      <td>1</td>\n",
       "      <td>...</td>\n",
       "      <td>0</td>\n",
       "      <td>0</td>\n",
       "      <td>0</td>\n",
       "      <td>middle</td>\n",
       "      <td>0</td>\n",
       "      <td>0</td>\n",
       "      <td>1</td>\n",
       "      <td>0</td>\n",
       "      <td>0</td>\n",
       "      <td>1</td>\n",
       "    </tr>\n",
       "    <tr>\n",
       "      <th>4</th>\n",
       "      <td>4395</td>\n",
       "      <td>A</td>\n",
       "      <td>3</td>\n",
       "      <td>175</td>\n",
       "      <td>3</td>\n",
       "      <td>low</td>\n",
       "      <td>M</td>\n",
       "      <td>7</td>\n",
       "      <td>4833</td>\n",
       "      <td>1</td>\n",
       "      <td>...</td>\n",
       "      <td>1</td>\n",
       "      <td>0</td>\n",
       "      <td>0</td>\n",
       "      <td>middle</td>\n",
       "      <td>0</td>\n",
       "      <td>0</td>\n",
       "      <td>1</td>\n",
       "      <td>0</td>\n",
       "      <td>1</td>\n",
       "      <td>0</td>\n",
       "    </tr>\n",
       "  </tbody>\n",
       "</table>\n",
       "<p>5 rows × 31 columns</p>\n",
       "</div>"
      ],
      "text/plain": [
       "     ID Warehouse_block  Customer_rating  Cost_of_the_Product  \\\n",
       "0  6045               A                3                  266   \n",
       "1    44               F                1                  174   \n",
       "2  7940               F                1                  154   \n",
       "3  1596               F                3                  158   \n",
       "4  4395               A                3                  175   \n",
       "\n",
       "   Prior_purchases Product_importance Gender  Discount_offered  Weight_in_gms  \\\n",
       "0                5               high      F                 5           1590   \n",
       "1                2                low      M                44           1556   \n",
       "2               10               high      M                10           5674   \n",
       "3                3             medium      F                27           1207   \n",
       "4                3                low      M                 7           4833   \n",
       "\n",
       "   label  ...  call_5  call_6  call_7    cost  cost_high  cost_low  \\\n",
       "0      0  ...       0       0       0    high          1         0   \n",
       "1      1  ...       0       0       0  middle          0         0   \n",
       "2      1  ...       0       0       0  middle          0         0   \n",
       "3      1  ...       0       0       0  middle          0         0   \n",
       "4      1  ...       1       0       0  middle          0         0   \n",
       "\n",
       "   cost_middle  importance_high  importance_low  importance_medium  \n",
       "0            0                1               0                  0  \n",
       "1            1                0               1                  0  \n",
       "2            1                1               0                  0  \n",
       "3            1                0               0                  1  \n",
       "4            1                0               1                  0  \n",
       "\n",
       "[5 rows x 31 columns]"
      ]
     },
     "execution_count": 69,
     "metadata": {},
     "output_type": "execute_result"
    }
   ],
   "source": [
    "dummies = pd.get_dummies(train['Product_importance'], prefix='importance')\n",
    "train = pd.concat([train, dummies], axis=1)\n",
    "train.head()"
   ]
  },
  {
   "cell_type": "code",
   "execution_count": 70,
   "id": "4b205d92",
   "metadata": {
    "ExecuteTime": {
     "end_time": "2022-08-28T13:57:21.148814Z",
     "start_time": "2022-08-28T13:57:21.125902Z"
    }
   },
   "outputs": [
    {
     "data": {
      "text/html": [
       "<div>\n",
       "<style scoped>\n",
       "    .dataframe tbody tr th:only-of-type {\n",
       "        vertical-align: middle;\n",
       "    }\n",
       "\n",
       "    .dataframe tbody tr th {\n",
       "        vertical-align: top;\n",
       "    }\n",
       "\n",
       "    .dataframe thead th {\n",
       "        text-align: right;\n",
       "    }\n",
       "</style>\n",
       "<table border=\"1\" class=\"dataframe\">\n",
       "  <thead>\n",
       "    <tr style=\"text-align: right;\">\n",
       "      <th></th>\n",
       "      <th>ID</th>\n",
       "      <th>Warehouse_block</th>\n",
       "      <th>Customer_rating</th>\n",
       "      <th>Cost_of_the_Product</th>\n",
       "      <th>Prior_purchases</th>\n",
       "      <th>Product_importance</th>\n",
       "      <th>Gender</th>\n",
       "      <th>Discount_offered</th>\n",
       "      <th>Weight_in_gms</th>\n",
       "      <th>house_A</th>\n",
       "      <th>...</th>\n",
       "      <th>call_5</th>\n",
       "      <th>call_6</th>\n",
       "      <th>call_7</th>\n",
       "      <th>cost</th>\n",
       "      <th>cost_high</th>\n",
       "      <th>cost_low</th>\n",
       "      <th>cost_middle</th>\n",
       "      <th>importance_high</th>\n",
       "      <th>importance_low</th>\n",
       "      <th>importance_medium</th>\n",
       "    </tr>\n",
       "  </thead>\n",
       "  <tbody>\n",
       "    <tr>\n",
       "      <th>0</th>\n",
       "      <td>6811</td>\n",
       "      <td>D</td>\n",
       "      <td>2</td>\n",
       "      <td>259</td>\n",
       "      <td>5</td>\n",
       "      <td>low</td>\n",
       "      <td>F</td>\n",
       "      <td>7</td>\n",
       "      <td>1032</td>\n",
       "      <td>0</td>\n",
       "      <td>...</td>\n",
       "      <td>1</td>\n",
       "      <td>0</td>\n",
       "      <td>0</td>\n",
       "      <td>high</td>\n",
       "      <td>1</td>\n",
       "      <td>0</td>\n",
       "      <td>0</td>\n",
       "      <td>0</td>\n",
       "      <td>1</td>\n",
       "      <td>0</td>\n",
       "    </tr>\n",
       "    <tr>\n",
       "      <th>1</th>\n",
       "      <td>4320</td>\n",
       "      <td>F</td>\n",
       "      <td>5</td>\n",
       "      <td>133</td>\n",
       "      <td>3</td>\n",
       "      <td>medium</td>\n",
       "      <td>F</td>\n",
       "      <td>4</td>\n",
       "      <td>5902</td>\n",
       "      <td>0</td>\n",
       "      <td>...</td>\n",
       "      <td>0</td>\n",
       "      <td>0</td>\n",
       "      <td>0</td>\n",
       "      <td>middle</td>\n",
       "      <td>0</td>\n",
       "      <td>0</td>\n",
       "      <td>1</td>\n",
       "      <td>0</td>\n",
       "      <td>0</td>\n",
       "      <td>1</td>\n",
       "    </tr>\n",
       "    <tr>\n",
       "      <th>2</th>\n",
       "      <td>5732</td>\n",
       "      <td>F</td>\n",
       "      <td>4</td>\n",
       "      <td>191</td>\n",
       "      <td>5</td>\n",
       "      <td>medium</td>\n",
       "      <td>F</td>\n",
       "      <td>4</td>\n",
       "      <td>4243</td>\n",
       "      <td>0</td>\n",
       "      <td>...</td>\n",
       "      <td>0</td>\n",
       "      <td>0</td>\n",
       "      <td>0</td>\n",
       "      <td>middle</td>\n",
       "      <td>0</td>\n",
       "      <td>0</td>\n",
       "      <td>1</td>\n",
       "      <td>0</td>\n",
       "      <td>0</td>\n",
       "      <td>1</td>\n",
       "    </tr>\n",
       "    <tr>\n",
       "      <th>3</th>\n",
       "      <td>7429</td>\n",
       "      <td>D</td>\n",
       "      <td>2</td>\n",
       "      <td>221</td>\n",
       "      <td>3</td>\n",
       "      <td>low</td>\n",
       "      <td>M</td>\n",
       "      <td>10</td>\n",
       "      <td>4126</td>\n",
       "      <td>0</td>\n",
       "      <td>...</td>\n",
       "      <td>0</td>\n",
       "      <td>0</td>\n",
       "      <td>0</td>\n",
       "      <td>high</td>\n",
       "      <td>1</td>\n",
       "      <td>0</td>\n",
       "      <td>0</td>\n",
       "      <td>0</td>\n",
       "      <td>1</td>\n",
       "      <td>0</td>\n",
       "    </tr>\n",
       "    <tr>\n",
       "      <th>4</th>\n",
       "      <td>2191</td>\n",
       "      <td>D</td>\n",
       "      <td>5</td>\n",
       "      <td>230</td>\n",
       "      <td>2</td>\n",
       "      <td>low</td>\n",
       "      <td>F</td>\n",
       "      <td>38</td>\n",
       "      <td>2890</td>\n",
       "      <td>0</td>\n",
       "      <td>...</td>\n",
       "      <td>0</td>\n",
       "      <td>0</td>\n",
       "      <td>0</td>\n",
       "      <td>high</td>\n",
       "      <td>1</td>\n",
       "      <td>0</td>\n",
       "      <td>0</td>\n",
       "      <td>0</td>\n",
       "      <td>1</td>\n",
       "      <td>0</td>\n",
       "    </tr>\n",
       "  </tbody>\n",
       "</table>\n",
       "<p>5 rows × 30 columns</p>\n",
       "</div>"
      ],
      "text/plain": [
       "     ID Warehouse_block  Customer_rating  Cost_of_the_Product  \\\n",
       "0  6811               D                2                  259   \n",
       "1  4320               F                5                  133   \n",
       "2  5732               F                4                  191   \n",
       "3  7429               D                2                  221   \n",
       "4  2191               D                5                  230   \n",
       "\n",
       "   Prior_purchases Product_importance Gender  Discount_offered  Weight_in_gms  \\\n",
       "0                5                low      F                 7           1032   \n",
       "1                3             medium      F                 4           5902   \n",
       "2                5             medium      F                 4           4243   \n",
       "3                3                low      M                10           4126   \n",
       "4                2                low      F                38           2890   \n",
       "\n",
       "   house_A  ...  call_5  call_6  call_7    cost  cost_high  cost_low  \\\n",
       "0        0  ...       1       0       0    high          1         0   \n",
       "1        0  ...       0       0       0  middle          0         0   \n",
       "2        0  ...       0       0       0  middle          0         0   \n",
       "3        0  ...       0       0       0    high          1         0   \n",
       "4        0  ...       0       0       0    high          1         0   \n",
       "\n",
       "   cost_middle  importance_high  importance_low  importance_medium  \n",
       "0            0                0               1                  0  \n",
       "1            1                0               0                  1  \n",
       "2            1                0               0                  1  \n",
       "3            0                0               1                  0  \n",
       "4            0                0               1                  0  \n",
       "\n",
       "[5 rows x 30 columns]"
      ]
     },
     "execution_count": 70,
     "metadata": {},
     "output_type": "execute_result"
    }
   ],
   "source": [
    "dummies = pd.get_dummies(test['Product_importance'], prefix='importance')\n",
    "test = pd.concat([test, dummies], axis=1)\n",
    "test.head()"
   ]
  },
  {
   "cell_type": "markdown",
   "id": "5a0bcc69",
   "metadata": {},
   "source": [
    "##### Gender"
   ]
  },
  {
   "cell_type": "code",
   "execution_count": 71,
   "id": "42b81d1b",
   "metadata": {
    "ExecuteTime": {
     "end_time": "2022-08-28T13:57:21.166172Z",
     "start_time": "2022-08-28T13:57:21.151206Z"
    }
   },
   "outputs": [
    {
     "data": {
      "text/plain": [
       "F    3311\n",
       "M    3287\n",
       "Name: Gender, dtype: int64"
      ]
     },
     "execution_count": 71,
     "metadata": {},
     "output_type": "execute_result"
    }
   ],
   "source": [
    "train['Gender'].value_counts()"
   ]
  },
  {
   "cell_type": "code",
   "execution_count": 72,
   "id": "6a76c418",
   "metadata": {
    "ExecuteTime": {
     "end_time": "2022-08-28T13:57:21.283954Z",
     "start_time": "2022-08-28T13:57:21.168066Z"
    }
   },
   "outputs": [
    {
     "data": {
      "text/plain": [
       "<AxesSubplot:xlabel='Gender', ylabel='count'>"
      ]
     },
     "execution_count": 72,
     "metadata": {},
     "output_type": "execute_result"
    },
    {
     "data": {
      "image/png": "[encoded data removed]",
      "text/plain": [
       "<Figure size 720x576 with 1 Axes>"
      ]
     },
     "metadata": {},
     "output_type": "display_data"
    }
   ],
   "source": [
    "plt.figure(figsize=(10,8))\n",
    "sns.countplot(data=train, x='Gender', hue='label')"
   ]
  },
  {
   "cell_type": "code",
   "execution_count": 73,
   "id": "5af0fe82",
   "metadata": {
    "ExecuteTime": {
     "end_time": "2022-08-28T13:57:21.301396Z",
     "start_time": "2022-08-28T13:57:21.286011Z"
    }
   },
   "outputs": [
    {
     "data": {
      "text/html": [
       "<div>\n",
       "<style scoped>\n",
       "    .dataframe tbody tr th:only-of-type {\n",
       "        vertical-align: middle;\n",
       "    }\n",
       "\n",
       "    .dataframe tbody tr th {\n",
       "        vertical-align: top;\n",
       "    }\n",
       "\n",
       "    .dataframe thead th {\n",
       "        text-align: right;\n",
       "    }\n",
       "</style>\n",
       "<table border=\"1\" class=\"dataframe\">\n",
       "  <thead>\n",
       "    <tr style=\"text-align: right;\">\n",
       "      <th></th>\n",
       "      <th>ID</th>\n",
       "      <th>Warehouse_block</th>\n",
       "      <th>Customer_rating</th>\n",
       "      <th>Cost_of_the_Product</th>\n",
       "      <th>Prior_purchases</th>\n",
       "      <th>Product_importance</th>\n",
       "      <th>Gender</th>\n",
       "      <th>Discount_offered</th>\n",
       "      <th>Weight_in_gms</th>\n",
       "      <th>label</th>\n",
       "      <th>...</th>\n",
       "      <th>call_7</th>\n",
       "      <th>cost</th>\n",
       "      <th>cost_high</th>\n",
       "      <th>cost_low</th>\n",
       "      <th>cost_middle</th>\n",
       "      <th>importance_high</th>\n",
       "      <th>importance_low</th>\n",
       "      <th>importance_medium</th>\n",
       "      <th>gender_F</th>\n",
       "      <th>gender_M</th>\n",
       "    </tr>\n",
       "  </thead>\n",
       "  <tbody>\n",
       "    <tr>\n",
       "      <th>0</th>\n",
       "      <td>6045</td>\n",
       "      <td>A</td>\n",
       "      <td>3</td>\n",
       "      <td>266</td>\n",
       "      <td>5</td>\n",
       "      <td>high</td>\n",
       "      <td>F</td>\n",
       "      <td>5</td>\n",
       "      <td>1590</td>\n",
       "      <td>0</td>\n",
       "      <td>...</td>\n",
       "      <td>0</td>\n",
       "      <td>high</td>\n",
       "      <td>1</td>\n",
       "      <td>0</td>\n",
       "      <td>0</td>\n",
       "      <td>1</td>\n",
       "      <td>0</td>\n",
       "      <td>0</td>\n",
       "      <td>1</td>\n",
       "      <td>0</td>\n",
       "    </tr>\n",
       "    <tr>\n",
       "      <th>1</th>\n",
       "      <td>44</td>\n",
       "      <td>F</td>\n",
       "      <td>1</td>\n",
       "      <td>174</td>\n",
       "      <td>2</td>\n",
       "      <td>low</td>\n",
       "      <td>M</td>\n",
       "      <td>44</td>\n",
       "      <td>1556</td>\n",
       "      <td>1</td>\n",
       "      <td>...</td>\n",
       "      <td>0</td>\n",
       "      <td>middle</td>\n",
       "      <td>0</td>\n",
       "      <td>0</td>\n",
       "      <td>1</td>\n",
       "      <td>0</td>\n",
       "      <td>1</td>\n",
       "      <td>0</td>\n",
       "      <td>0</td>\n",
       "      <td>1</td>\n",
       "    </tr>\n",
       "    <tr>\n",
       "      <th>2</th>\n",
       "      <td>7940</td>\n",
       "      <td>F</td>\n",
       "      <td>1</td>\n",
       "      <td>154</td>\n",
       "      <td>10</td>\n",
       "      <td>high</td>\n",
       "      <td>M</td>\n",
       "      <td>10</td>\n",
       "      <td>5674</td>\n",
       "      <td>1</td>\n",
       "      <td>...</td>\n",
       "      <td>0</td>\n",
       "      <td>middle</td>\n",
       "      <td>0</td>\n",
       "      <td>0</td>\n",
       "      <td>1</td>\n",
       "      <td>1</td>\n",
       "      <td>0</td>\n",
       "      <td>0</td>\n",
       "      <td>0</td>\n",
       "      <td>1</td>\n",
       "    </tr>\n",
       "    <tr>\n",
       "      <th>3</th>\n",
       "      <td>1596</td>\n",
       "      <td>F</td>\n",
       "      <td>3</td>\n",
       "      <td>158</td>\n",
       "      <td>3</td>\n",
       "      <td>medium</td>\n",
       "      <td>F</td>\n",
       "      <td>27</td>\n",
       "      <td>1207</td>\n",
       "      <td>1</td>\n",
       "      <td>...</td>\n",
       "      <td>0</td>\n",
       "      <td>middle</td>\n",
       "      <td>0</td>\n",
       "      <td>0</td>\n",
       "      <td>1</td>\n",
       "      <td>0</td>\n",
       "      <td>0</td>\n",
       "      <td>1</td>\n",
       "      <td>1</td>\n",
       "      <td>0</td>\n",
       "    </tr>\n",
       "    <tr>\n",
       "      <th>4</th>\n",
       "      <td>4395</td>\n",
       "      <td>A</td>\n",
       "      <td>3</td>\n",
       "      <td>175</td>\n",
       "      <td>3</td>\n",
       "      <td>low</td>\n",
       "      <td>M</td>\n",
       "      <td>7</td>\n",
       "      <td>4833</td>\n",
       "      <td>1</td>\n",
       "      <td>...</td>\n",
       "      <td>0</td>\n",
       "      <td>middle</td>\n",
       "      <td>0</td>\n",
       "      <td>0</td>\n",
       "      <td>1</td>\n",
       "      <td>0</td>\n",
       "      <td>1</td>\n",
       "      <td>0</td>\n",
       "      <td>0</td>\n",
       "      <td>1</td>\n",
       "    </tr>\n",
       "  </tbody>\n",
       "</table>\n",
       "<p>5 rows × 33 columns</p>\n",
       "</div>"
      ],
      "text/plain": [
       "     ID Warehouse_block  Customer_rating  Cost_of_the_Product  \\\n",
       "0  6045               A                3                  266   \n",
       "1    44               F                1                  174   \n",
       "2  7940               F                1                  154   \n",
       "3  1596               F                3                  158   \n",
       "4  4395               A                3                  175   \n",
       "\n",
       "   Prior_purchases Product_importance Gender  Discount_offered  Weight_in_gms  \\\n",
       "0                5               high      F                 5           1590   \n",
       "1                2                low      M                44           1556   \n",
       "2               10               high      M                10           5674   \n",
       "3                3             medium      F                27           1207   \n",
       "4                3                low      M                 7           4833   \n",
       "\n",
       "   label  ...  call_7    cost  cost_high  cost_low  cost_middle  \\\n",
       "0      0  ...       0    high          1         0            0   \n",
       "1      1  ...       0  middle          0         0            1   \n",
       "2      1  ...       0  middle          0         0            1   \n",
       "3      1  ...       0  middle          0         0            1   \n",
       "4      1  ...       0  middle          0         0            1   \n",
       "\n",
       "   importance_high  importance_low  importance_medium  gender_F  gender_M  \n",
       "0                1               0                  0         1         0  \n",
       "1                0               1                  0         0         1  \n",
       "2                1               0                  0         0         1  \n",
       "3                0               0                  1         1         0  \n",
       "4                0               1                  0         0         1  \n",
       "\n",
       "[5 rows x 33 columns]"
      ]
     },
     "execution_count": 73,
     "metadata": {},
     "output_type": "execute_result"
    }
   ],
   "source": [
    "dummies = pd.get_dummies(train['Gender'], prefix='gender')\n",
    "train = pd.concat([train, dummies], axis=1)\n",
    "train.head()"
   ]
  },
  {
   "cell_type": "code",
   "execution_count": 74,
   "id": "2e402a18",
   "metadata": {
    "ExecuteTime": {
     "end_time": "2022-08-28T13:57:21.319843Z",
     "start_time": "2022-08-28T13:57:21.303262Z"
    }
   },
   "outputs": [
    {
     "data": {
      "text/html": [
       "<div>\n",
       "<style scoped>\n",
       "    .dataframe tbody tr th:only-of-type {\n",
       "        vertical-align: middle;\n",
       "    }\n",
       "\n",
       "    .dataframe tbody tr th {\n",
       "        vertical-align: top;\n",
       "    }\n",
       "\n",
       "    .dataframe thead th {\n",
       "        text-align: right;\n",
       "    }\n",
       "</style>\n",
       "<table border=\"1\" class=\"dataframe\">\n",
       "  <thead>\n",
       "    <tr style=\"text-align: right;\">\n",
       "      <th></th>\n",
       "      <th>ID</th>\n",
       "      <th>Warehouse_block</th>\n",
       "      <th>Customer_rating</th>\n",
       "      <th>Cost_of_the_Product</th>\n",
       "      <th>Prior_purchases</th>\n",
       "      <th>Product_importance</th>\n",
       "      <th>Gender</th>\n",
       "      <th>Discount_offered</th>\n",
       "      <th>Weight_in_gms</th>\n",
       "      <th>house_A</th>\n",
       "      <th>...</th>\n",
       "      <th>call_7</th>\n",
       "      <th>cost</th>\n",
       "      <th>cost_high</th>\n",
       "      <th>cost_low</th>\n",
       "      <th>cost_middle</th>\n",
       "      <th>importance_high</th>\n",
       "      <th>importance_low</th>\n",
       "      <th>importance_medium</th>\n",
       "      <th>gender_F</th>\n",
       "      <th>gender_M</th>\n",
       "    </tr>\n",
       "  </thead>\n",
       "  <tbody>\n",
       "    <tr>\n",
       "      <th>0</th>\n",
       "      <td>6811</td>\n",
       "      <td>D</td>\n",
       "      <td>2</td>\n",
       "      <td>259</td>\n",
       "      <td>5</td>\n",
       "      <td>low</td>\n",
       "      <td>F</td>\n",
       "      <td>7</td>\n",
       "      <td>1032</td>\n",
       "      <td>0</td>\n",
       "      <td>...</td>\n",
       "      <td>0</td>\n",
       "      <td>high</td>\n",
       "      <td>1</td>\n",
       "      <td>0</td>\n",
       "      <td>0</td>\n",
       "      <td>0</td>\n",
       "      <td>1</td>\n",
       "      <td>0</td>\n",
       "      <td>1</td>\n",
       "      <td>0</td>\n",
       "    </tr>\n",
       "    <tr>\n",
       "      <th>1</th>\n",
       "      <td>4320</td>\n",
       "      <td>F</td>\n",
       "      <td>5</td>\n",
       "      <td>133</td>\n",
       "      <td>3</td>\n",
       "      <td>medium</td>\n",
       "      <td>F</td>\n",
       "      <td>4</td>\n",
       "      <td>5902</td>\n",
       "      <td>0</td>\n",
       "      <td>...</td>\n",
       "      <td>0</td>\n",
       "      <td>middle</td>\n",
       "      <td>0</td>\n",
       "      <td>0</td>\n",
       "      <td>1</td>\n",
       "      <td>0</td>\n",
       "      <td>0</td>\n",
       "      <td>1</td>\n",
       "      <td>1</td>\n",
       "      <td>0</td>\n",
       "    </tr>\n",
       "    <tr>\n",
       "      <th>2</th>\n",
       "      <td>5732</td>\n",
       "      <td>F</td>\n",
       "      <td>4</td>\n",
       "      <td>191</td>\n",
       "      <td>5</td>\n",
       "      <td>medium</td>\n",
       "      <td>F</td>\n",
       "      <td>4</td>\n",
       "      <td>4243</td>\n",
       "      <td>0</td>\n",
       "      <td>...</td>\n",
       "      <td>0</td>\n",
       "      <td>middle</td>\n",
       "      <td>0</td>\n",
       "      <td>0</td>\n",
       "      <td>1</td>\n",
       "      <td>0</td>\n",
       "      <td>0</td>\n",
       "      <td>1</td>\n",
       "      <td>1</td>\n",
       "      <td>0</td>\n",
       "    </tr>\n",
       "    <tr>\n",
       "      <th>3</th>\n",
       "      <td>7429</td>\n",
       "      <td>D</td>\n",
       "      <td>2</td>\n",
       "      <td>221</td>\n",
       "      <td>3</td>\n",
       "      <td>low</td>\n",
       "      <td>M</td>\n",
       "      <td>10</td>\n",
       "      <td>4126</td>\n",
       "      <td>0</td>\n",
       "      <td>...</td>\n",
       "      <td>0</td>\n",
       "      <td>high</td>\n",
       "      <td>1</td>\n",
       "      <td>0</td>\n",
       "      <td>0</td>\n",
       "      <td>0</td>\n",
       "      <td>1</td>\n",
       "      <td>0</td>\n",
       "      <td>0</td>\n",
       "      <td>1</td>\n",
       "    </tr>\n",
       "    <tr>\n",
       "      <th>4</th>\n",
       "      <td>2191</td>\n",
       "      <td>D</td>\n",
       "      <td>5</td>\n",
       "      <td>230</td>\n",
       "      <td>2</td>\n",
       "      <td>low</td>\n",
       "      <td>F</td>\n",
       "      <td>38</td>\n",
       "      <td>2890</td>\n",
       "      <td>0</td>\n",
       "      <td>...</td>\n",
       "      <td>0</td>\n",
       "      <td>high</td>\n",
       "      <td>1</td>\n",
       "      <td>0</td>\n",
       "      <td>0</td>\n",
       "      <td>0</td>\n",
       "      <td>1</td>\n",
       "      <td>0</td>\n",
       "      <td>1</td>\n",
       "      <td>0</td>\n",
       "    </tr>\n",
       "  </tbody>\n",
       "</table>\n",
       "<p>5 rows × 32 columns</p>\n",
       "</div>"
      ],
      "text/plain": [
       "     ID Warehouse_block  Customer_rating  Cost_of_the_Product  \\\n",
       "0  6811               D                2                  259   \n",
       "1  4320               F                5                  133   \n",
       "2  5732               F                4                  191   \n",
       "3  7429               D                2                  221   \n",
       "4  2191               D                5                  230   \n",
       "\n",
       "   Prior_purchases Product_importance Gender  Discount_offered  Weight_in_gms  \\\n",
       "0                5                low      F                 7           1032   \n",
       "1                3             medium      F                 4           5902   \n",
       "2                5             medium      F                 4           4243   \n",
       "3                3                low      M                10           4126   \n",
       "4                2                low      F                38           2890   \n",
       "\n",
       "   house_A  ...  call_7    cost  cost_high  cost_low  cost_middle  \\\n",
       "0        0  ...       0    high          1         0            0   \n",
       "1        0  ...       0  middle          0         0            1   \n",
       "2        0  ...       0  middle          0         0            1   \n",
       "3        0  ...       0    high          1         0            0   \n",
       "4        0  ...       0    high          1         0            0   \n",
       "\n",
       "   importance_high  importance_low  importance_medium  gender_F  gender_M  \n",
       "0                0               1                  0         1         0  \n",
       "1                0               0                  1         1         0  \n",
       "2                0               0                  1         1         0  \n",
       "3                0               1                  0         0         1  \n",
       "4                0               1                  0         1         0  \n",
       "\n",
       "[5 rows x 32 columns]"
      ]
     },
     "execution_count": 74,
     "metadata": {},
     "output_type": "execute_result"
    }
   ],
   "source": [
    "dummies = pd.get_dummies(test['Gender'], prefix='gender')\n",
    "test = pd.concat([test, dummies], axis=1)\n",
    "test.head()"
   ]
  },
  {
   "cell_type": "markdown",
   "id": "b5f672e6",
   "metadata": {},
   "source": [
    "##### Discount_offered"
   ]
  },
  {
   "cell_type": "code",
   "execution_count": 75,
   "id": "cdb9fcd6",
   "metadata": {
    "ExecuteTime": {
     "end_time": "2022-08-28T13:57:21.328373Z",
     "start_time": "2022-08-28T13:57:21.322205Z"
    }
   },
   "outputs": [
    {
     "data": {
      "text/plain": [
       "(1, 65)"
      ]
     },
     "execution_count": 75,
     "metadata": {},
     "output_type": "execute_result"
    }
   ],
   "source": [
    "train['Discount_offered'].min(), train['Discount_offered'].max()"
   ]
  },
  {
   "cell_type": "code",
   "execution_count": 76,
   "id": "632666e2",
   "metadata": {
    "ExecuteTime": {
     "end_time": "2022-08-28T13:57:21.624079Z",
     "start_time": "2022-08-28T13:57:21.332588Z"
    }
   },
   "outputs": [
    {
     "name": "stderr",
     "output_type": "stream",
     "text": [
      "/home/chahohyun/anaconda3/lib/python3.7/site-packages/seaborn/distributions.py:2619: FutureWarning: `distplot` is a deprecated function and will be removed in a future version. Please adapt your code to use either `displot` (a figure-level function with similar flexibility) or `histplot` (an axes-level function for histograms).\n",
      "  warnings.warn(msg, FutureWarning)\n"
     ]
    },
    {
     "data": {
      "text/plain": [
       "<AxesSubplot:xlabel='Discount_offered', ylabel='Density'>"
      ]
     },
     "execution_count": 76,
     "metadata": {},
     "output_type": "execute_result"
    },
    {
     "data": {
      "image/png": "[encoded data removed]",
      "text/plain": [
       "<Figure size 1440x720 with 1 Axes>"
      ]
     },
     "metadata": {},
     "output_type": "display_data"
    }
   ],
   "source": [
    "plt.figure(figsize=(20,10))\n",
    "sns.distplot(train[\"Discount_offered\"])"
   ]
  },
  {
   "cell_type": "code",
   "execution_count": 77,
   "id": "2846b24d",
   "metadata": {
    "ExecuteTime": {
     "end_time": "2022-08-28T13:57:21.841462Z",
     "start_time": "2022-08-28T13:57:21.627024Z"
    }
   },
   "outputs": [
    {
     "data": {
      "text/plain": [
       "(0.0, 70.0)"
      ]
     },
     "execution_count": 77,
     "metadata": {},
     "output_type": "execute_result"
    },
    {
     "data": {
      "image/png": "[encoded data removed]",
      "text/plain": [
       "<Figure size 1440x720 with 1 Axes>"
      ]
     },
     "metadata": {},
     "output_type": "display_data"
    }
   ],
   "source": [
    "train.loc[train['label'] == 1]['Discount_offered'].plot(kind='kde', figsize = (20, 10))\n",
    "train.loc[train['label'] == 0]['Discount_offered'].plot(kind='kde', figsize = (20, 10))\n",
    "plt.xlim([0, 70])"
   ]
  },
  {
   "cell_type": "code",
   "execution_count": 78,
   "id": "cc4022b2",
   "metadata": {
    "ExecuteTime": {
     "end_time": "2022-08-28T13:57:22.063569Z",
     "start_time": "2022-08-28T13:57:21.844729Z"
    }
   },
   "outputs": [
    {
     "data": {
      "text/plain": [
       "(10.0, 13.0)"
      ]
     },
     "execution_count": 78,
     "metadata": {},
     "output_type": "execute_result"
    },
    {
     "data": {
      "image/png": "[encoded data removed]",
      "text/plain": [
       "<Figure size 1440x720 with 1 Axes>"
      ]
     },
     "metadata": {},
     "output_type": "display_data"
    }
   ],
   "source": [
    "train.loc[train['label'] == 1]['Discount_offered'].plot(kind='kde', figsize = (20, 10))\n",
    "train.loc[train['label'] == 0]['Discount_offered'].plot(kind='kde', figsize = (20, 10))\n",
    "plt.xlim([10, 13])"
   ]
  },
  {
   "cell_type": "code",
   "execution_count": 79,
   "id": "23b42d36",
   "metadata": {
    "ExecuteTime": {
     "end_time": "2022-08-28T13:57:22.075187Z",
     "start_time": "2022-08-28T13:57:22.066123Z"
    }
   },
   "outputs": [],
   "source": [
    "train['discount'] = train['Discount_offered'].copy()\n",
    "train.loc[train['Discount_offered'] < 11, 'discount'] = 'low'\n",
    "train.loc[train['Discount_offered'] >= 11, 'discount'] = 'high'"
   ]
  },
  {
   "cell_type": "code",
   "execution_count": 80,
   "id": "5b3f6fe0",
   "metadata": {
    "ExecuteTime": {
     "end_time": "2022-08-28T13:57:22.108766Z",
     "start_time": "2022-08-28T13:57:22.077104Z"
    }
   },
   "outputs": [
    {
     "data": {
      "text/html": [
       "<div>\n",
       "<style scoped>\n",
       "    .dataframe tbody tr th:only-of-type {\n",
       "        vertical-align: middle;\n",
       "    }\n",
       "\n",
       "    .dataframe tbody tr th {\n",
       "        vertical-align: top;\n",
       "    }\n",
       "\n",
       "    .dataframe thead th {\n",
       "        text-align: right;\n",
       "    }\n",
       "</style>\n",
       "<table border=\"1\" class=\"dataframe\">\n",
       "  <thead>\n",
       "    <tr style=\"text-align: right;\">\n",
       "      <th></th>\n",
       "      <th>ID</th>\n",
       "      <th>Warehouse_block</th>\n",
       "      <th>Customer_rating</th>\n",
       "      <th>Cost_of_the_Product</th>\n",
       "      <th>Prior_purchases</th>\n",
       "      <th>Product_importance</th>\n",
       "      <th>Gender</th>\n",
       "      <th>Discount_offered</th>\n",
       "      <th>Weight_in_gms</th>\n",
       "      <th>label</th>\n",
       "      <th>...</th>\n",
       "      <th>cost_low</th>\n",
       "      <th>cost_middle</th>\n",
       "      <th>importance_high</th>\n",
       "      <th>importance_low</th>\n",
       "      <th>importance_medium</th>\n",
       "      <th>gender_F</th>\n",
       "      <th>gender_M</th>\n",
       "      <th>discount</th>\n",
       "      <th>discount_high</th>\n",
       "      <th>discount_low</th>\n",
       "    </tr>\n",
       "  </thead>\n",
       "  <tbody>\n",
       "    <tr>\n",
       "      <th>0</th>\n",
       "      <td>6045</td>\n",
       "      <td>A</td>\n",
       "      <td>3</td>\n",
       "      <td>266</td>\n",
       "      <td>5</td>\n",
       "      <td>high</td>\n",
       "      <td>F</td>\n",
       "      <td>5</td>\n",
       "      <td>1590</td>\n",
       "      <td>0</td>\n",
       "      <td>...</td>\n",
       "      <td>0</td>\n",
       "      <td>0</td>\n",
       "      <td>1</td>\n",
       "      <td>0</td>\n",
       "      <td>0</td>\n",
       "      <td>1</td>\n",
       "      <td>0</td>\n",
       "      <td>low</td>\n",
       "      <td>0</td>\n",
       "      <td>1</td>\n",
       "    </tr>\n",
       "    <tr>\n",
       "      <th>1</th>\n",
       "      <td>44</td>\n",
       "      <td>F</td>\n",
       "      <td>1</td>\n",
       "      <td>174</td>\n",
       "      <td>2</td>\n",
       "      <td>low</td>\n",
       "      <td>M</td>\n",
       "      <td>44</td>\n",
       "      <td>1556</td>\n",
       "      <td>1</td>\n",
       "      <td>...</td>\n",
       "      <td>0</td>\n",
       "      <td>1</td>\n",
       "      <td>0</td>\n",
       "      <td>1</td>\n",
       "      <td>0</td>\n",
       "      <td>0</td>\n",
       "      <td>1</td>\n",
       "      <td>high</td>\n",
       "      <td>1</td>\n",
       "      <td>0</td>\n",
       "    </tr>\n",
       "    <tr>\n",
       "      <th>2</th>\n",
       "      <td>7940</td>\n",
       "      <td>F</td>\n",
       "      <td>1</td>\n",
       "      <td>154</td>\n",
       "      <td>10</td>\n",
       "      <td>high</td>\n",
       "      <td>M</td>\n",
       "      <td>10</td>\n",
       "      <td>5674</td>\n",
       "      <td>1</td>\n",
       "      <td>...</td>\n",
       "      <td>0</td>\n",
       "      <td>1</td>\n",
       "      <td>1</td>\n",
       "      <td>0</td>\n",
       "      <td>0</td>\n",
       "      <td>0</td>\n",
       "      <td>1</td>\n",
       "      <td>low</td>\n",
       "      <td>0</td>\n",
       "      <td>1</td>\n",
       "    </tr>\n",
       "    <tr>\n",
       "      <th>3</th>\n",
       "      <td>1596</td>\n",
       "      <td>F</td>\n",
       "      <td>3</td>\n",
       "      <td>158</td>\n",
       "      <td>3</td>\n",
       "      <td>medium</td>\n",
       "      <td>F</td>\n",
       "      <td>27</td>\n",
       "      <td>1207</td>\n",
       "      <td>1</td>\n",
       "      <td>...</td>\n",
       "      <td>0</td>\n",
       "      <td>1</td>\n",
       "      <td>0</td>\n",
       "      <td>0</td>\n",
       "      <td>1</td>\n",
       "      <td>1</td>\n",
       "      <td>0</td>\n",
       "      <td>high</td>\n",
       "      <td>1</td>\n",
       "      <td>0</td>\n",
       "    </tr>\n",
       "    <tr>\n",
       "      <th>4</th>\n",
       "      <td>4395</td>\n",
       "      <td>A</td>\n",
       "      <td>3</td>\n",
       "      <td>175</td>\n",
       "      <td>3</td>\n",
       "      <td>low</td>\n",
       "      <td>M</td>\n",
       "      <td>7</td>\n",
       "      <td>4833</td>\n",
       "      <td>1</td>\n",
       "      <td>...</td>\n",
       "      <td>0</td>\n",
       "      <td>1</td>\n",
       "      <td>0</td>\n",
       "      <td>1</td>\n",
       "      <td>0</td>\n",
       "      <td>0</td>\n",
       "      <td>1</td>\n",
       "      <td>low</td>\n",
       "      <td>0</td>\n",
       "      <td>1</td>\n",
       "    </tr>\n",
       "  </tbody>\n",
       "</table>\n",
       "<p>5 rows × 36 columns</p>\n",
       "</div>"
      ],
      "text/plain": [
       "     ID Warehouse_block  Customer_rating  Cost_of_the_Product  \\\n",
       "0  6045               A                3                  266   \n",
       "1    44               F                1                  174   \n",
       "2  7940               F                1                  154   \n",
       "3  1596               F                3                  158   \n",
       "4  4395               A                3                  175   \n",
       "\n",
       "   Prior_purchases Product_importance Gender  Discount_offered  Weight_in_gms  \\\n",
       "0                5               high      F                 5           1590   \n",
       "1                2                low      M                44           1556   \n",
       "2               10               high      M                10           5674   \n",
       "3                3             medium      F                27           1207   \n",
       "4                3                low      M                 7           4833   \n",
       "\n",
       "   label  ...  cost_low  cost_middle  importance_high  importance_low  \\\n",
       "0      0  ...         0            0                1               0   \n",
       "1      1  ...         0            1                0               1   \n",
       "2      1  ...         0            1                1               0   \n",
       "3      1  ...         0            1                0               0   \n",
       "4      1  ...         0            1                0               1   \n",
       "\n",
       "   importance_medium  gender_F  gender_M  discount  discount_high  \\\n",
       "0                  0         1         0       low              0   \n",
       "1                  0         0         1      high              1   \n",
       "2                  0         0         1       low              0   \n",
       "3                  1         1         0      high              1   \n",
       "4                  0         0         1       low              0   \n",
       "\n",
       "   discount_low  \n",
       "0             1  \n",
       "1             0  \n",
       "2             1  \n",
       "3             0  \n",
       "4             1  \n",
       "\n",
       "[5 rows x 36 columns]"
      ]
     },
     "execution_count": 80,
     "metadata": {},
     "output_type": "execute_result"
    }
   ],
   "source": [
    "dummies = pd.get_dummies(train['discount'], prefix='discount')\n",
    "train = pd.concat([train, dummies], axis=1)\n",
    "train.head()"
   ]
  },
  {
   "cell_type": "code",
   "execution_count": 81,
   "id": "48049d4c",
   "metadata": {
    "ExecuteTime": {
     "end_time": "2022-08-28T13:57:22.125291Z",
     "start_time": "2022-08-28T13:57:22.111490Z"
    }
   },
   "outputs": [],
   "source": [
    "test['discount'] = test['Discount_offered'].copy()\n",
    "test.loc[test['Discount_offered'] < 11, 'discount'] = 'low'\n",
    "test.loc[test['Discount_offered'] >= 11, 'discount'] = 'high'"
   ]
  },
  {
   "cell_type": "code",
   "execution_count": 82,
   "id": "f563ba3d",
   "metadata": {
    "ExecuteTime": {
     "end_time": "2022-08-28T13:57:22.149627Z",
     "start_time": "2022-08-28T13:57:22.127758Z"
    }
   },
   "outputs": [
    {
     "data": {
      "text/html": [
       "<div>\n",
       "<style scoped>\n",
       "    .dataframe tbody tr th:only-of-type {\n",
       "        vertical-align: middle;\n",
       "    }\n",
       "\n",
       "    .dataframe tbody tr th {\n",
       "        vertical-align: top;\n",
       "    }\n",
       "\n",
       "    .dataframe thead th {\n",
       "        text-align: right;\n",
       "    }\n",
       "</style>\n",
       "<table border=\"1\" class=\"dataframe\">\n",
       "  <thead>\n",
       "    <tr style=\"text-align: right;\">\n",
       "      <th></th>\n",
       "      <th>ID</th>\n",
       "      <th>Warehouse_block</th>\n",
       "      <th>Customer_rating</th>\n",
       "      <th>Cost_of_the_Product</th>\n",
       "      <th>Prior_purchases</th>\n",
       "      <th>Product_importance</th>\n",
       "      <th>Gender</th>\n",
       "      <th>Discount_offered</th>\n",
       "      <th>Weight_in_gms</th>\n",
       "      <th>house_A</th>\n",
       "      <th>...</th>\n",
       "      <th>cost_low</th>\n",
       "      <th>cost_middle</th>\n",
       "      <th>importance_high</th>\n",
       "      <th>importance_low</th>\n",
       "      <th>importance_medium</th>\n",
       "      <th>gender_F</th>\n",
       "      <th>gender_M</th>\n",
       "      <th>discount</th>\n",
       "      <th>discount_high</th>\n",
       "      <th>discount_low</th>\n",
       "    </tr>\n",
       "  </thead>\n",
       "  <tbody>\n",
       "    <tr>\n",
       "      <th>0</th>\n",
       "      <td>6811</td>\n",
       "      <td>D</td>\n",
       "      <td>2</td>\n",
       "      <td>259</td>\n",
       "      <td>5</td>\n",
       "      <td>low</td>\n",
       "      <td>F</td>\n",
       "      <td>7</td>\n",
       "      <td>1032</td>\n",
       "      <td>0</td>\n",
       "      <td>...</td>\n",
       "      <td>0</td>\n",
       "      <td>0</td>\n",
       "      <td>0</td>\n",
       "      <td>1</td>\n",
       "      <td>0</td>\n",
       "      <td>1</td>\n",
       "      <td>0</td>\n",
       "      <td>low</td>\n",
       "      <td>0</td>\n",
       "      <td>1</td>\n",
       "    </tr>\n",
       "    <tr>\n",
       "      <th>1</th>\n",
       "      <td>4320</td>\n",
       "      <td>F</td>\n",
       "      <td>5</td>\n",
       "      <td>133</td>\n",
       "      <td>3</td>\n",
       "      <td>medium</td>\n",
       "      <td>F</td>\n",
       "      <td>4</td>\n",
       "      <td>5902</td>\n",
       "      <td>0</td>\n",
       "      <td>...</td>\n",
       "      <td>0</td>\n",
       "      <td>1</td>\n",
       "      <td>0</td>\n",
       "      <td>0</td>\n",
       "      <td>1</td>\n",
       "      <td>1</td>\n",
       "      <td>0</td>\n",
       "      <td>low</td>\n",
       "      <td>0</td>\n",
       "      <td>1</td>\n",
       "    </tr>\n",
       "    <tr>\n",
       "      <th>2</th>\n",
       "      <td>5732</td>\n",
       "      <td>F</td>\n",
       "      <td>4</td>\n",
       "      <td>191</td>\n",
       "      <td>5</td>\n",
       "      <td>medium</td>\n",
       "      <td>F</td>\n",
       "      <td>4</td>\n",
       "      <td>4243</td>\n",
       "      <td>0</td>\n",
       "      <td>...</td>\n",
       "      <td>0</td>\n",
       "      <td>1</td>\n",
       "      <td>0</td>\n",
       "      <td>0</td>\n",
       "      <td>1</td>\n",
       "      <td>1</td>\n",
       "      <td>0</td>\n",
       "      <td>low</td>\n",
       "      <td>0</td>\n",
       "      <td>1</td>\n",
       "    </tr>\n",
       "    <tr>\n",
       "      <th>3</th>\n",
       "      <td>7429</td>\n",
       "      <td>D</td>\n",
       "      <td>2</td>\n",
       "      <td>221</td>\n",
       "      <td>3</td>\n",
       "      <td>low</td>\n",
       "      <td>M</td>\n",
       "      <td>10</td>\n",
       "      <td>4126</td>\n",
       "      <td>0</td>\n",
       "      <td>...</td>\n",
       "      <td>0</td>\n",
       "      <td>0</td>\n",
       "      <td>0</td>\n",
       "      <td>1</td>\n",
       "      <td>0</td>\n",
       "      <td>0</td>\n",
       "      <td>1</td>\n",
       "      <td>low</td>\n",
       "      <td>0</td>\n",
       "      <td>1</td>\n",
       "    </tr>\n",
       "    <tr>\n",
       "      <th>4</th>\n",
       "      <td>2191</td>\n",
       "      <td>D</td>\n",
       "      <td>5</td>\n",
       "      <td>230</td>\n",
       "      <td>2</td>\n",
       "      <td>low</td>\n",
       "      <td>F</td>\n",
       "      <td>38</td>\n",
       "      <td>2890</td>\n",
       "      <td>0</td>\n",
       "      <td>...</td>\n",
       "      <td>0</td>\n",
       "      <td>0</td>\n",
       "      <td>0</td>\n",
       "      <td>1</td>\n",
       "      <td>0</td>\n",
       "      <td>1</td>\n",
       "      <td>0</td>\n",
       "      <td>high</td>\n",
       "      <td>1</td>\n",
       "      <td>0</td>\n",
       "    </tr>\n",
       "  </tbody>\n",
       "</table>\n",
       "<p>5 rows × 35 columns</p>\n",
       "</div>"
      ],
      "text/plain": [
       "     ID Warehouse_block  Customer_rating  Cost_of_the_Product  \\\n",
       "0  6811               D                2                  259   \n",
       "1  4320               F                5                  133   \n",
       "2  5732               F                4                  191   \n",
       "3  7429               D                2                  221   \n",
       "4  2191               D                5                  230   \n",
       "\n",
       "   Prior_purchases Product_importance Gender  Discount_offered  Weight_in_gms  \\\n",
       "0                5                low      F                 7           1032   \n",
       "1                3             medium      F                 4           5902   \n",
       "2                5             medium      F                 4           4243   \n",
       "3                3                low      M                10           4126   \n",
       "4                2                low      F                38           2890   \n",
       "\n",
       "   house_A  ...  cost_low  cost_middle  importance_high  importance_low  \\\n",
       "0        0  ...         0            0                0               1   \n",
       "1        0  ...         0            1                0               0   \n",
       "2        0  ...         0            1                0               0   \n",
       "3        0  ...         0            0                0               1   \n",
       "4        0  ...         0            0                0               1   \n",
       "\n",
       "   importance_medium  gender_F  gender_M  discount  discount_high  \\\n",
       "0                  0         1         0       low              0   \n",
       "1                  1         1         0       low              0   \n",
       "2                  1         1         0       low              0   \n",
       "3                  0         0         1       low              0   \n",
       "4                  0         1         0      high              1   \n",
       "\n",
       "   discount_low  \n",
       "0             1  \n",
       "1             1  \n",
       "2             1  \n",
       "3             1  \n",
       "4             0  \n",
       "\n",
       "[5 rows x 35 columns]"
      ]
     },
     "execution_count": 82,
     "metadata": {},
     "output_type": "execute_result"
    }
   ],
   "source": [
    "dummies = pd.get_dummies(test['discount'], prefix='discount')\n",
    "test = pd.concat([test, dummies], axis=1)\n",
    "test.head()"
   ]
  },
  {
   "cell_type": "markdown",
   "id": "01cbb6e3",
   "metadata": {},
   "source": [
    "##### Weight_in_gms"
   ]
  },
  {
   "cell_type": "code",
   "execution_count": 83,
   "id": "53defed7",
   "metadata": {
    "ExecuteTime": {
     "end_time": "2022-08-28T13:57:22.159423Z",
     "start_time": "2022-08-28T13:57:22.151225Z"
    }
   },
   "outputs": [
    {
     "data": {
      "text/plain": [
       "(1001, 7684)"
      ]
     },
     "execution_count": 83,
     "metadata": {},
     "output_type": "execute_result"
    }
   ],
   "source": [
    "train['Weight_in_gms'].min(), train['Weight_in_gms'].max()"
   ]
  },
  {
   "cell_type": "code",
   "execution_count": 84,
   "id": "6980a857",
   "metadata": {
    "ExecuteTime": {
     "end_time": "2022-08-28T13:57:22.371017Z",
     "start_time": "2022-08-28T13:57:22.163615Z"
    }
   },
   "outputs": [
    {
     "name": "stderr",
     "output_type": "stream",
     "text": [
      "/home/chahohyun/anaconda3/lib/python3.7/site-packages/seaborn/distributions.py:2619: FutureWarning: `distplot` is a deprecated function and will be removed in a future version. Please adapt your code to use either `displot` (a figure-level function with similar flexibility) or `histplot` (an axes-level function for histograms).\n",
      "  warnings.warn(msg, FutureWarning)\n"
     ]
    },
    {
     "data": {
      "text/plain": [
       "<AxesSubplot:xlabel='Weight_in_gms', ylabel='Density'>"
      ]
     },
     "execution_count": 84,
     "metadata": {},
     "output_type": "execute_result"
    },
    {
     "data": {
      "image/png": "[encoded data removed]",
      "text/plain": [
       "<Figure size 1440x720 with 1 Axes>"
      ]
     },
     "metadata": {},
     "output_type": "display_data"
    }
   ],
   "source": [
    "plt.figure(figsize=(20,10))\n",
    "sns.distplot(train[\"Weight_in_gms\"])"
   ]
  },
  {
   "cell_type": "code",
   "execution_count": 85,
   "id": "9dfdb84d",
   "metadata": {
    "ExecuteTime": {
     "end_time": "2022-08-28T13:57:22.612008Z",
     "start_time": "2022-08-28T13:57:22.373715Z"
    }
   },
   "outputs": [
    {
     "data": {
      "text/plain": [
       "(1000.0, 8000.0)"
      ]
     },
     "execution_count": 85,
     "metadata": {},
     "output_type": "execute_result"
    },
    {
     "data": {
      "image/png": "[encoded data removed]",
      "text/plain": [
       "<Figure size 1440x720 with 1 Axes>"
      ]
     },
     "metadata": {},
     "output_type": "display_data"
    }
   ],
   "source": [
    "train.loc[train['label'] == 1]['Weight_in_gms'].plot(kind='kde', figsize = (20, 10))\n",
    "train.loc[train['label'] == 0]['Weight_in_gms'].plot(kind='kde', figsize = (20, 10))\n",
    "plt.xlim([1000, 8000])"
   ]
  },
  {
   "cell_type": "code",
   "execution_count": 86,
   "id": "16503269",
   "metadata": {
    "ExecuteTime": {
     "end_time": "2022-08-28T13:57:22.828559Z",
     "start_time": "2022-08-28T13:57:22.614555Z"
    }
   },
   "outputs": [
    {
     "data": {
      "text/plain": [
       "(3900.0, 4000.0)"
      ]
     },
     "execution_count": 86,
     "metadata": {},
     "output_type": "execute_result"
    },
    {
     "data": {
      "image/png": "[encoded data removed]",
      "text/plain": [
       "<Figure size 1440x720 with 1 Axes>"
      ]
     },
     "metadata": {},
     "output_type": "display_data"
    }
   ],
   "source": [
    "train.loc[train['label'] == 1]['Weight_in_gms'].plot(kind='kde', figsize = (20, 10))\n",
    "train.loc[train['label'] == 0]['Weight_in_gms'].plot(kind='kde', figsize = (20, 10))\n",
    "plt.xlim([3900, 4000])"
   ]
  },
  {
   "cell_type": "code",
   "execution_count": 87,
   "id": "f2866547",
   "metadata": {
    "ExecuteTime": {
     "end_time": "2022-08-28T13:57:22.839079Z",
     "start_time": "2022-08-28T13:57:22.830572Z"
    }
   },
   "outputs": [],
   "source": [
    "train['weight'] = train['Weight_in_gms'].copy()\n",
    "train.loc[train['Weight_in_gms'] < 3960, 'weight'] = 'low'\n",
    "train.loc[train['Weight_in_gms'] >= 3960, 'weight'] = 'high'"
   ]
  },
  {
   "cell_type": "code",
   "execution_count": 88,
   "id": "cdfe64b6",
   "metadata": {
    "ExecuteTime": {
     "end_time": "2022-08-28T13:57:25.979540Z",
     "start_time": "2022-08-28T13:57:25.962269Z"
    }
   },
   "outputs": [
    {
     "data": {
      "text/html": [
       "<div>\n",
       "<style scoped>\n",
       "    .dataframe tbody tr th:only-of-type {\n",
       "        vertical-align: middle;\n",
       "    }\n",
       "\n",
       "    .dataframe tbody tr th {\n",
       "        vertical-align: top;\n",
       "    }\n",
       "\n",
       "    .dataframe thead th {\n",
       "        text-align: right;\n",
       "    }\n",
       "</style>\n",
       "<table border=\"1\" class=\"dataframe\">\n",
       "  <thead>\n",
       "    <tr style=\"text-align: right;\">\n",
       "      <th></th>\n",
       "      <th>ID</th>\n",
       "      <th>Warehouse_block</th>\n",
       "      <th>Customer_rating</th>\n",
       "      <th>Cost_of_the_Product</th>\n",
       "      <th>Prior_purchases</th>\n",
       "      <th>Product_importance</th>\n",
       "      <th>Gender</th>\n",
       "      <th>Discount_offered</th>\n",
       "      <th>Weight_in_gms</th>\n",
       "      <th>label</th>\n",
       "      <th>...</th>\n",
       "      <th>importance_low</th>\n",
       "      <th>importance_medium</th>\n",
       "      <th>gender_F</th>\n",
       "      <th>gender_M</th>\n",
       "      <th>discount</th>\n",
       "      <th>discount_high</th>\n",
       "      <th>discount_low</th>\n",
       "      <th>weight</th>\n",
       "      <th>weight_high</th>\n",
       "      <th>weight_low</th>\n",
       "    </tr>\n",
       "  </thead>\n",
       "  <tbody>\n",
       "    <tr>\n",
       "      <th>0</th>\n",
       "      <td>6045</td>\n",
       "      <td>A</td>\n",
       "      <td>3</td>\n",
       "      <td>266</td>\n",
       "      <td>5</td>\n",
       "      <td>high</td>\n",
       "      <td>F</td>\n",
       "      <td>5</td>\n",
       "      <td>1590</td>\n",
       "      <td>0</td>\n",
       "      <td>...</td>\n",
       "      <td>0</td>\n",
       "      <td>0</td>\n",
       "      <td>1</td>\n",
       "      <td>0</td>\n",
       "      <td>low</td>\n",
       "      <td>0</td>\n",
       "      <td>1</td>\n",
       "      <td>low</td>\n",
       "      <td>0</td>\n",
       "      <td>1</td>\n",
       "    </tr>\n",
       "    <tr>\n",
       "      <th>1</th>\n",
       "      <td>44</td>\n",
       "      <td>F</td>\n",
       "      <td>1</td>\n",
       "      <td>174</td>\n",
       "      <td>2</td>\n",
       "      <td>low</td>\n",
       "      <td>M</td>\n",
       "      <td>44</td>\n",
       "      <td>1556</td>\n",
       "      <td>1</td>\n",
       "      <td>...</td>\n",
       "      <td>1</td>\n",
       "      <td>0</td>\n",
       "      <td>0</td>\n",
       "      <td>1</td>\n",
       "      <td>high</td>\n",
       "      <td>1</td>\n",
       "      <td>0</td>\n",
       "      <td>low</td>\n",
       "      <td>0</td>\n",
       "      <td>1</td>\n",
       "    </tr>\n",
       "    <tr>\n",
       "      <th>2</th>\n",
       "      <td>7940</td>\n",
       "      <td>F</td>\n",
       "      <td>1</td>\n",
       "      <td>154</td>\n",
       "      <td>10</td>\n",
       "      <td>high</td>\n",
       "      <td>M</td>\n",
       "      <td>10</td>\n",
       "      <td>5674</td>\n",
       "      <td>1</td>\n",
       "      <td>...</td>\n",
       "      <td>0</td>\n",
       "      <td>0</td>\n",
       "      <td>0</td>\n",
       "      <td>1</td>\n",
       "      <td>low</td>\n",
       "      <td>0</td>\n",
       "      <td>1</td>\n",
       "      <td>high</td>\n",
       "      <td>1</td>\n",
       "      <td>0</td>\n",
       "    </tr>\n",
       "    <tr>\n",
       "      <th>3</th>\n",
       "      <td>1596</td>\n",
       "      <td>F</td>\n",
       "      <td>3</td>\n",
       "      <td>158</td>\n",
       "      <td>3</td>\n",
       "      <td>medium</td>\n",
       "      <td>F</td>\n",
       "      <td>27</td>\n",
       "      <td>1207</td>\n",
       "      <td>1</td>\n",
       "      <td>...</td>\n",
       "      <td>0</td>\n",
       "      <td>1</td>\n",
       "      <td>1</td>\n",
       "      <td>0</td>\n",
       "      <td>high</td>\n",
       "      <td>1</td>\n",
       "      <td>0</td>\n",
       "      <td>low</td>\n",
       "      <td>0</td>\n",
       "      <td>1</td>\n",
       "    </tr>\n",
       "    <tr>\n",
       "      <th>4</th>\n",
       "      <td>4395</td>\n",
       "      <td>A</td>\n",
       "      <td>3</td>\n",
       "      <td>175</td>\n",
       "      <td>3</td>\n",
       "      <td>low</td>\n",
       "      <td>M</td>\n",
       "      <td>7</td>\n",
       "      <td>4833</td>\n",
       "      <td>1</td>\n",
       "      <td>...</td>\n",
       "      <td>1</td>\n",
       "      <td>0</td>\n",
       "      <td>0</td>\n",
       "      <td>1</td>\n",
       "      <td>low</td>\n",
       "      <td>0</td>\n",
       "      <td>1</td>\n",
       "      <td>high</td>\n",
       "      <td>1</td>\n",
       "      <td>0</td>\n",
       "    </tr>\n",
       "  </tbody>\n",
       "</table>\n",
       "<p>5 rows × 39 columns</p>\n",
       "</div>"
      ],
      "text/plain": [
       "     ID Warehouse_block  Customer_rating  Cost_of_the_Product  \\\n",
       "0  6045               A                3                  266   \n",
       "1    44               F                1                  174   \n",
       "2  7940               F                1                  154   \n",
       "3  1596               F                3                  158   \n",
       "4  4395               A                3                  175   \n",
       "\n",
       "   Prior_purchases Product_importance Gender  Discount_offered  Weight_in_gms  \\\n",
       "0                5               high      F                 5           1590   \n",
       "1                2                low      M                44           1556   \n",
       "2               10               high      M                10           5674   \n",
       "3                3             medium      F                27           1207   \n",
       "4                3                low      M                 7           4833   \n",
       "\n",
       "   label  ...  importance_low  importance_medium  gender_F  gender_M  \\\n",
       "0      0  ...               0                  0         1         0   \n",
       "1      1  ...               1                  0         0         1   \n",
       "2      1  ...               0                  0         0         1   \n",
       "3      1  ...               0                  1         1         0   \n",
       "4      1  ...               1                  0         0         1   \n",
       "\n",
       "   discount  discount_high  discount_low  weight  weight_high  weight_low  \n",
       "0       low              0             1     low            0           1  \n",
       "1      high              1             0     low            0           1  \n",
       "2       low              0             1    high            1           0  \n",
       "3      high              1             0     low            0           1  \n",
       "4       low              0             1    high            1           0  \n",
       "\n",
       "[5 rows x 39 columns]"
      ]
     },
     "execution_count": 88,
     "metadata": {},
     "output_type": "execute_result"
    }
   ],
   "source": [
    "dummies = pd.get_dummies(train['weight'], prefix='weight')\n",
    "train = pd.concat([train, dummies], axis=1)\n",
    "train.head()"
   ]
  },
  {
   "cell_type": "code",
   "execution_count": 89,
   "id": "017233f4",
   "metadata": {
    "ExecuteTime": {
     "end_time": "2022-08-28T13:57:22.887253Z",
     "start_time": "2022-08-28T13:57:22.877776Z"
    }
   },
   "outputs": [],
   "source": [
    "test['weight'] = test['Weight_in_gms'].copy()\n",
    "test.loc[test['Weight_in_gms'] < 3960, 'weight'] = 'low'\n",
    "test.loc[test['Weight_in_gms'] >= 3960, 'weight'] = 'high'"
   ]
  },
  {
   "cell_type": "code",
   "execution_count": 90,
   "id": "9ec7e14a",
   "metadata": {
    "ExecuteTime": {
     "end_time": "2022-08-28T13:57:25.979540Z",
     "start_time": "2022-08-28T13:57:25.962269Z"
    }
   },
   "outputs": [
    {
     "data": {
      "text/html": [
       "<div>\n",
       "<style scoped>\n",
       "    .dataframe tbody tr th:only-of-type {\n",
       "        vertical-align: middle;\n",
       "    }\n",
       "\n",
       "    .dataframe tbody tr th {\n",
       "        vertical-align: top;\n",
       "    }\n",
       "\n",
       "    .dataframe thead th {\n",
       "        text-align: right;\n",
       "    }\n",
       "</style>\n",
       "<table border=\"1\" class=\"dataframe\">\n",
       "  <thead>\n",
       "    <tr style=\"text-align: right;\">\n",
       "      <th></th>\n",
       "      <th>ID</th>\n",
       "      <th>Warehouse_block</th>\n",
       "      <th>Customer_rating</th>\n",
       "      <th>Cost_of_the_Product</th>\n",
       "      <th>Prior_purchases</th>\n",
       "      <th>Product_importance</th>\n",
       "      <th>Gender</th>\n",
       "      <th>Discount_offered</th>\n",
       "      <th>Weight_in_gms</th>\n",
       "      <th>house_A</th>\n",
       "      <th>...</th>\n",
       "      <th>importance_low</th>\n",
       "      <th>importance_medium</th>\n",
       "      <th>gender_F</th>\n",
       "      <th>gender_M</th>\n",
       "      <th>discount</th>\n",
       "      <th>discount_high</th>\n",
       "      <th>discount_low</th>\n",
       "      <th>weight</th>\n",
       "      <th>weight_high</th>\n",
       "      <th>weight_low</th>\n",
       "    </tr>\n",
       "  </thead>\n",
       "  <tbody>\n",
       "    <tr>\n",
       "      <th>0</th>\n",
       "      <td>6811</td>\n",
       "      <td>D</td>\n",
       "      <td>2</td>\n",
       "      <td>259</td>\n",
       "      <td>5</td>\n",
       "      <td>low</td>\n",
       "      <td>F</td>\n",
       "      <td>7</td>\n",
       "      <td>1032</td>\n",
       "      <td>0</td>\n",
       "      <td>...</td>\n",
       "      <td>1</td>\n",
       "      <td>0</td>\n",
       "      <td>1</td>\n",
       "      <td>0</td>\n",
       "      <td>low</td>\n",
       "      <td>0</td>\n",
       "      <td>1</td>\n",
       "      <td>low</td>\n",
       "      <td>0</td>\n",
       "      <td>1</td>\n",
       "    </tr>\n",
       "    <tr>\n",
       "      <th>1</th>\n",
       "      <td>4320</td>\n",
       "      <td>F</td>\n",
       "      <td>5</td>\n",
       "      <td>133</td>\n",
       "      <td>3</td>\n",
       "      <td>medium</td>\n",
       "      <td>F</td>\n",
       "      <td>4</td>\n",
       "      <td>5902</td>\n",
       "      <td>0</td>\n",
       "      <td>...</td>\n",
       "      <td>0</td>\n",
       "      <td>1</td>\n",
       "      <td>1</td>\n",
       "      <td>0</td>\n",
       "      <td>low</td>\n",
       "      <td>0</td>\n",
       "      <td>1</td>\n",
       "      <td>high</td>\n",
       "      <td>1</td>\n",
       "      <td>0</td>\n",
       "    </tr>\n",
       "    <tr>\n",
       "      <th>2</th>\n",
       "      <td>5732</td>\n",
       "      <td>F</td>\n",
       "      <td>4</td>\n",
       "      <td>191</td>\n",
       "      <td>5</td>\n",
       "      <td>medium</td>\n",
       "      <td>F</td>\n",
       "      <td>4</td>\n",
       "      <td>4243</td>\n",
       "      <td>0</td>\n",
       "      <td>...</td>\n",
       "      <td>0</td>\n",
       "      <td>1</td>\n",
       "      <td>1</td>\n",
       "      <td>0</td>\n",
       "      <td>low</td>\n",
       "      <td>0</td>\n",
       "      <td>1</td>\n",
       "      <td>high</td>\n",
       "      <td>1</td>\n",
       "      <td>0</td>\n",
       "    </tr>\n",
       "    <tr>\n",
       "      <th>3</th>\n",
       "      <td>7429</td>\n",
       "      <td>D</td>\n",
       "      <td>2</td>\n",
       "      <td>221</td>\n",
       "      <td>3</td>\n",
       "      <td>low</td>\n",
       "      <td>M</td>\n",
       "      <td>10</td>\n",
       "      <td>4126</td>\n",
       "      <td>0</td>\n",
       "      <td>...</td>\n",
       "      <td>1</td>\n",
       "      <td>0</td>\n",
       "      <td>0</td>\n",
       "      <td>1</td>\n",
       "      <td>low</td>\n",
       "      <td>0</td>\n",
       "      <td>1</td>\n",
       "      <td>high</td>\n",
       "      <td>1</td>\n",
       "      <td>0</td>\n",
       "    </tr>\n",
       "    <tr>\n",
       "      <th>4</th>\n",
       "      <td>2191</td>\n",
       "      <td>D</td>\n",
       "      <td>5</td>\n",
       "      <td>230</td>\n",
       "      <td>2</td>\n",
       "      <td>low</td>\n",
       "      <td>F</td>\n",
       "      <td>38</td>\n",
       "      <td>2890</td>\n",
       "      <td>0</td>\n",
       "      <td>...</td>\n",
       "      <td>1</td>\n",
       "      <td>0</td>\n",
       "      <td>1</td>\n",
       "      <td>0</td>\n",
       "      <td>high</td>\n",
       "      <td>1</td>\n",
       "      <td>0</td>\n",
       "      <td>low</td>\n",
       "      <td>0</td>\n",
       "      <td>1</td>\n",
       "    </tr>\n",
       "  </tbody>\n",
       "</table>\n",
       "<p>5 rows × 38 columns</p>\n",
       "</div>"
      ],
      "text/plain": [
       "     ID Warehouse_block  Customer_rating  Cost_of_the_Product  \\\n",
       "0  6811               D                2                  259   \n",
       "1  4320               F                5                  133   \n",
       "2  5732               F                4                  191   \n",
       "3  7429               D                2                  221   \n",
       "4  2191               D                5                  230   \n",
       "\n",
       "   Prior_purchases Product_importance Gender  Discount_offered  Weight_in_gms  \\\n",
       "0                5                low      F                 7           1032   \n",
       "1                3             medium      F                 4           5902   \n",
       "2                5             medium      F                 4           4243   \n",
       "3                3                low      M                10           4126   \n",
       "4                2                low      F                38           2890   \n",
       "\n",
       "   house_A  ...  importance_low  importance_medium  gender_F  gender_M  \\\n",
       "0        0  ...               1                  0         1         0   \n",
       "1        0  ...               0                  1         1         0   \n",
       "2        0  ...               0                  1         1         0   \n",
       "3        0  ...               1                  0         0         1   \n",
       "4        0  ...               1                  0         1         0   \n",
       "\n",
       "   discount  discount_high  discount_low  weight  weight_high  weight_low  \n",
       "0       low              0             1     low            0           1  \n",
       "1       low              0             1    high            1           0  \n",
       "2       low              0             1    high            1           0  \n",
       "3       low              0             1    high            1           0  \n",
       "4      high              1             0     low            0           1  \n",
       "\n",
       "[5 rows x 38 columns]"
      ]
     },
     "execution_count": 90,
     "metadata": {},
     "output_type": "execute_result"
    }
   ],
   "source": [
    "dummies = pd.get_dummies(test['weight'], prefix='weight')\n",
    "test = pd.concat([test, dummies], axis=1)\n",
    "test.head()"
   ]
  },
  {
   "cell_type": "markdown",
   "id": "b6b680c4",
   "metadata": {},
   "source": [
    "### ML Modeling"
   ]
  },
  {
   "cell_type": "code",
   "execution_count": 91,
   "id": "ddac57ee",
   "metadata": {
    "ExecuteTime": {
     "end_time": "2022-08-28T13:57:28.809966Z",
     "start_time": "2022-08-28T13:57:28.804335Z"
    }
   },
   "outputs": [
    {
     "data": {
      "text/plain": [
       "Index(['ID', 'Warehouse_block', 'Customer_rating', 'Cost_of_the_Product',\n",
       "       'Prior_purchases', 'Product_importance', 'Gender', 'Discount_offered',\n",
       "       'Weight_in_gms', 'label', 'house_A', 'house_B', 'house_C', 'house_D',\n",
       "       'house_F', 'ship_Flight', 'ship_Road', 'ship_Ship', 'call_2', 'call_3',\n",
       "       'call_4', 'call_5', 'call_6', 'call_7', 'cost', 'cost_high', 'cost_low',\n",
       "       'cost_middle', 'importance_high', 'importance_low', 'importance_medium',\n",
       "       'gender_F', 'gender_M', 'discount', 'discount_high', 'discount_low',\n",
       "       'weight', 'weight_high', 'weight_low'],\n",
       "      dtype='object')"
      ]
     },
     "execution_count": 91,
     "metadata": {},
     "output_type": "execute_result"
    }
   ],
   "source": [
    "train.columns"
   ]
  },
  {
   "cell_type": "code",
   "execution_count": 92,
   "id": "c3cb8438",
   "metadata": {
    "ExecuteTime": {
     "end_time": "2022-08-28T13:57:36.409369Z",
     "start_time": "2022-08-28T13:57:36.403308Z"
    }
   },
   "outputs": [
    {
     "data": {
      "text/plain": [
       "Index(['Customer_care_calls', 'Gender', 'Mode_of_Shipment',\n",
       "       'Product_importance', 'Warehouse_block'],\n",
       "      dtype='object')"
      ]
     },
     "execution_count": 92,
     "metadata": {},
     "output_type": "execute_result"
    }
   ],
   "source": [
    "categorical_features"
   ]
  },
  {
   "cell_type": "code",
   "execution_count": 93,
   "id": "720934a9",
   "metadata": {
    "ExecuteTime": {
     "end_time": "2022-08-28T13:57:43.502278Z",
     "start_time": "2022-08-28T13:57:43.497622Z"
    }
   },
   "outputs": [
    {
     "data": {
      "text/plain": [
       "Index(['Cost_of_the_Product', 'Customer_rating', 'Discount_offered',\n",
       "       'Prior_purchases', 'Weight_in_gms'],\n",
       "      dtype='object')"
      ]
     },
     "execution_count": 93,
     "metadata": {},
     "output_type": "execute_result"
    }
   ],
   "source": [
    "numerical_features"
   ]
  },
  {
   "cell_type": "code",
   "execution_count": 100,
   "id": "a8ca97a3",
   "metadata": {
    "ExecuteTime": {
     "end_time": "2022-08-28T14:00:11.396723Z",
     "start_time": "2022-08-28T14:00:11.393206Z"
    }
   },
   "outputs": [],
   "source": [
    "feature = ['Cost_of_the_Product', 'Customer_rating', 'Prior_purchases', 'Discount_offered', 'Weight_in_gms', 'Discount_offered',\n",
    "           'house_A', 'house_B', 'house_C', 'house_D', 'house_F', 'ship_Flight', 'ship_Road', 'ship_Ship', 'call_2', 'call_3', \n",
    "           'call_4', 'call_5', 'call_6', 'call_7', 'importance_high', 'importance_low', 'importance_medium', 'gender_F', 'gender_M']"
   ]
  },
  {
   "cell_type": "code",
   "execution_count": 101,
   "id": "f65162f8",
   "metadata": {
    "ExecuteTime": {
     "end_time": "2022-08-28T14:00:11.572126Z",
     "start_time": "2022-08-28T14:00:11.566804Z"
    }
   },
   "outputs": [],
   "source": [
    "x_train = train[feature]\n",
    "y_train = train['label']\n",
    "x_test = test[feature]"
   ]
  },
  {
   "cell_type": "code",
   "execution_count": 102,
   "id": "68afec14",
   "metadata": {
    "ExecuteTime": {
     "end_time": "2022-08-28T14:00:11.759136Z",
     "start_time": "2022-08-28T14:00:11.753426Z"
    }
   },
   "outputs": [
    {
     "data": {
      "text/plain": [
       "((6598, 25), (6598,), (4401, 25))"
      ]
     },
     "execution_count": 102,
     "metadata": {},
     "output_type": "execute_result"
    }
   ],
   "source": [
    "x_train.shape, y_train.shape, x_test.shape"
   ]
  },
  {
   "cell_type": "code",
   "execution_count": 105,
   "id": "bd793970",
   "metadata": {
    "ExecuteTime": {
     "end_time": "2022-08-28T14:00:41.248709Z",
     "start_time": "2022-08-28T14:00:31.962390Z"
    }
   },
   "outputs": [
    {
     "name": "stdout",
     "output_type": "stream",
     "text": [
      "DecisionTreeClassifier() Score : 0.64\n",
      "LogisticRegression() Score : 0.64\n",
      "KNeighborsClassifier(n_jobs=-1) Score : 0.65\n",
      "RandomForestClassifier() Score : 0.66\n",
      "GradientBoostingClassifier() Score : 0.68\n",
      "SVC() Score : 0.66\n"
     ]
    }
   ],
   "source": [
    "k_fold = KFold(n_splits=10, shuffle=True, random_state=0)\n",
    "model_list = [DT(), LR(), KNN(n_neighbors=5, n_jobs=-1), RFC(), GBM(), SVC()]\n",
    "\n",
    "for model in model_list:\n",
    "    score = cross_val_score(model, x_train, y_train, \n",
    "                            cv=k_fold, n_jobs=-1, scoring='accuracy').mean()\n",
    "    print(f\"{str(model)} Score : {np.round(score,2)}\")"
   ]
  },
  {
   "cell_type": "code",
   "execution_count": 122,
   "id": "45e368d5",
   "metadata": {
    "ExecuteTime": {
     "end_time": "2022-08-28T14:12:43.537926Z",
     "start_time": "2022-08-28T14:12:37.170136Z"
    }
   },
   "outputs": [],
   "source": [
    "clf = GBM(n_estimators=1000, random_state=0)\n",
    "clf.fit(x_train, y_train)\n",
    "\n",
    "res = clf.predict(x_test)"
   ]
  },
  {
   "cell_type": "code",
   "execution_count": 114,
   "id": "93902a8d",
   "metadata": {
    "ExecuteTime": {
     "end_time": "2022-08-28T14:10:19.518034Z",
     "start_time": "2022-08-28T14:10:18.972200Z"
    }
   },
   "outputs": [],
   "source": [
    "# clf = RFC()\n",
    "# clf.fit(x_train, y_train)\n",
    "\n",
    "# res = clf.predict(x_test)"
   ]
  },
  {
   "cell_type": "code",
   "execution_count": 115,
   "id": "d38c7e2a",
   "metadata": {
    "ExecuteTime": {
     "end_time": "2022-08-28T14:10:57.974853Z",
     "start_time": "2022-08-28T14:10:19.730085Z"
    }
   },
   "outputs": [
    {
     "name": "stdout",
     "output_type": "stream",
     "text": [
      "{'max_depth': 10, 'min_samples_split': 40}\n",
      "0.6815685666368001\n"
     ]
    }
   ],
   "source": [
    "# params = {\"max_depth\": [5, 10,20,30,40], \"min_samples_split\": [5, 10, 20,30, 40]}\n",
    "# grid = GridSearchCV(estimator=clf, param_grid=params, cv=5)\n",
    "# grid.fit(x_train, y_train)\n",
    "# print(grid.best_params_)\n",
    "# print(grid.best_score_)"
   ]
  },
  {
   "cell_type": "code",
   "execution_count": 118,
   "id": "d1382098",
   "metadata": {
    "ExecuteTime": {
     "end_time": "2022-08-28T14:11:56.709184Z",
     "start_time": "2022-08-28T14:11:53.296011Z"
    }
   },
   "outputs": [],
   "source": [
    "# clf =RFC(n_estimators=1000, random_state=0, max_depth=10, min_samples_split=40)\n",
    "# clf.fit(x_train, y_train)\n",
    "# res = clf.predict(x_test)"
   ]
  },
  {
   "cell_type": "code",
   "execution_count": 123,
   "id": "ea20a869",
   "metadata": {
    "ExecuteTime": {
     "end_time": "2022-08-28T14:14:08.039613Z",
     "start_time": "2022-08-28T14:14:08.035585Z"
    }
   },
   "outputs": [],
   "source": [
    "result = pd.DataFrame({'id' : test['ID'],\n",
    "'label' : res})"
   ]
  },
  {
   "cell_type": "code",
   "execution_count": 124,
   "id": "5214de83",
   "metadata": {
    "ExecuteTime": {
     "end_time": "2022-08-28T14:14:09.783146Z",
     "start_time": "2022-08-28T14:14:09.768402Z"
    }
   },
   "outputs": [],
   "source": [
    "y_test = pd.read_csv('./data/test_label/y_test.csv')\n",
    "y = y_test['Reached.on.Time_Y.N']"
   ]
  },
  {
   "cell_type": "code",
   "execution_count": 125,
   "id": "9299c922",
   "metadata": {
    "ExecuteTime": {
     "end_time": "2022-08-28T14:14:12.172026Z",
     "start_time": "2022-08-28T14:14:12.165689Z"
    }
   },
   "outputs": [
    {
     "name": "stdout",
     "output_type": "stream",
     "text": [
      "0.6645077931411776\n"
     ]
    }
   ],
   "source": [
    "print(roc_auc_score(y, res))"
   ]
  },
  {
   "cell_type": "markdown",
   "id": "c22987f7",
   "metadata": {},
   "source": [
    "- My code : 0.654\n",
    "- Feature Engineering : Dividing Numerical Data -> Not change & Input raw feature (0.01↑, Be : 0.665)\n",
    "- Change Model : GBM -> RFC + GridSearch (0.04↑, Be : 0.704)\n",
    "- Feature Engineering : raw Numerical Data -> Numerical Data skew ( - , 0.701)\n",
    "- Change Model : Numerical Data skew -> + Minmaxscaler ( - , 0.701)"
   ]
  }
 ],
 "metadata": {
  "kernelspec": {
   "display_name": "Python 3 (ipykernel)",
   "language": "python",
   "name": "python3"
  },
  "language_info": {
   "codemirror_mode": {
    "name": "ipython",
    "version": 3
   },
   "file_extension": ".py",
   "mimetype": "text/x-python",
   "name": "python",
   "nbconvert_exporter": "python",
   "pygments_lexer": "ipython3",
   "version": "3.7.7"
  }
 },
 "nbformat": 4,
 "nbformat_minor": 5
}
