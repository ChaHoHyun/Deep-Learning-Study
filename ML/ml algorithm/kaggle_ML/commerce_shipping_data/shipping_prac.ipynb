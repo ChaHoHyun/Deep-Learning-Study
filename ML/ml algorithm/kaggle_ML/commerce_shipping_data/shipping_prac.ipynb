{
 "cells": [
  {
   "cell_type": "code",
   "execution_count": 21,
   "id": "25ce528d",
   "metadata": {
    "ExecuteTime": {
     "end_time": "2022-08-28T14:32:14.738622Z",
     "start_time": "2022-08-28T14:32:14.732329Z"
    }
   },
   "outputs": [],
   "source": [
    "import pandas as pd\n",
    "import numpy as np\n",
    "import matplotlib.pyplot as plt\n",
    "import seaborn as sns\n",
    "sns.set()\n",
    "sns.set_style(\"whitegrid\")\n",
    "# plt.rc(\"figure\", figsize=(12,10))\n",
    "\n",
    "from sklearn.metrics import accuracy_score, mean_squared_log_error, mean_squared_error, roc_auc_score\n",
    "from sklearn.model_selection import train_test_split, GridSearchCV, cross_val_score, KFold, cross_val_predict\n",
    "from sklearn.preprocessing import MinMaxScaler\n",
    "\n",
    "from sklearn.tree import DecisionTreeClassifier as DT\n",
    "from sklearn.linear_model import LogisticRegression as LR\n",
    "from sklearn.ensemble import RandomForestClassifier as RFC\n",
    "from sklearn.neighbors import KNeighborsClassifier as KNN\n",
    "from sklearn.ensemble import GradientBoostingClassifier as GBM\n",
    "from sklearn.svm import SVC"
   ]
  },
  {
   "cell_type": "code",
   "execution_count": 2,
   "id": "7a4fb84d",
   "metadata": {
    "ExecuteTime": {
     "end_time": "2022-08-28T14:24:34.978646Z",
     "start_time": "2022-08-28T14:24:34.941339Z"
    }
   },
   "outputs": [],
   "source": [
    "x_train = pd.read_csv('./data/X_train.csv')\n",
    "y_train = pd.read_csv('./data/y_train.csv')\n",
    "test = pd.read_csv('./data/X_test.csv')\n",
    "\n",
    "len_train = len(x_train)\n",
    "len_test = len(test)"
   ]
  },
  {
   "cell_type": "code",
   "execution_count": 3,
   "id": "94a6fac3",
   "metadata": {
    "ExecuteTime": {
     "end_time": "2022-08-28T14:24:35.004895Z",
     "start_time": "2022-08-28T14:24:34.980362Z"
    }
   },
   "outputs": [
    {
     "data": {
      "text/html": [
       "<div>\n",
       "<style scoped>\n",
       "    .dataframe tbody tr th:only-of-type {\n",
       "        vertical-align: middle;\n",
       "    }\n",
       "\n",
       "    .dataframe tbody tr th {\n",
       "        vertical-align: top;\n",
       "    }\n",
       "\n",
       "    .dataframe thead th {\n",
       "        text-align: right;\n",
       "    }\n",
       "</style>\n",
       "<table border=\"1\" class=\"dataframe\">\n",
       "  <thead>\n",
       "    <tr style=\"text-align: right;\">\n",
       "      <th></th>\n",
       "      <th>ID</th>\n",
       "      <th>Warehouse_block</th>\n",
       "      <th>Mode_of_Shipment</th>\n",
       "      <th>Customer_care_calls</th>\n",
       "      <th>Customer_rating</th>\n",
       "      <th>Cost_of_the_Product</th>\n",
       "      <th>Prior_purchases</th>\n",
       "      <th>Product_importance</th>\n",
       "      <th>Gender</th>\n",
       "      <th>Discount_offered</th>\n",
       "      <th>Weight_in_gms</th>\n",
       "      <th>Reached.on.Time_Y.N</th>\n",
       "    </tr>\n",
       "  </thead>\n",
       "  <tbody>\n",
       "    <tr>\n",
       "      <th>0</th>\n",
       "      <td>6045</td>\n",
       "      <td>A</td>\n",
       "      <td>Flight</td>\n",
       "      <td>4</td>\n",
       "      <td>3</td>\n",
       "      <td>266</td>\n",
       "      <td>5</td>\n",
       "      <td>high</td>\n",
       "      <td>F</td>\n",
       "      <td>5</td>\n",
       "      <td>1590</td>\n",
       "      <td>0</td>\n",
       "    </tr>\n",
       "    <tr>\n",
       "      <th>1</th>\n",
       "      <td>44</td>\n",
       "      <td>F</td>\n",
       "      <td>Ship</td>\n",
       "      <td>3</td>\n",
       "      <td>1</td>\n",
       "      <td>174</td>\n",
       "      <td>2</td>\n",
       "      <td>low</td>\n",
       "      <td>M</td>\n",
       "      <td>44</td>\n",
       "      <td>1556</td>\n",
       "      <td>1</td>\n",
       "    </tr>\n",
       "    <tr>\n",
       "      <th>2</th>\n",
       "      <td>7940</td>\n",
       "      <td>F</td>\n",
       "      <td>Road</td>\n",
       "      <td>4</td>\n",
       "      <td>1</td>\n",
       "      <td>154</td>\n",
       "      <td>10</td>\n",
       "      <td>high</td>\n",
       "      <td>M</td>\n",
       "      <td>10</td>\n",
       "      <td>5674</td>\n",
       "      <td>1</td>\n",
       "    </tr>\n",
       "    <tr>\n",
       "      <th>3</th>\n",
       "      <td>1596</td>\n",
       "      <td>F</td>\n",
       "      <td>Ship</td>\n",
       "      <td>4</td>\n",
       "      <td>3</td>\n",
       "      <td>158</td>\n",
       "      <td>3</td>\n",
       "      <td>medium</td>\n",
       "      <td>F</td>\n",
       "      <td>27</td>\n",
       "      <td>1207</td>\n",
       "      <td>1</td>\n",
       "    </tr>\n",
       "    <tr>\n",
       "      <th>4</th>\n",
       "      <td>4395</td>\n",
       "      <td>A</td>\n",
       "      <td>Flight</td>\n",
       "      <td>5</td>\n",
       "      <td>3</td>\n",
       "      <td>175</td>\n",
       "      <td>3</td>\n",
       "      <td>low</td>\n",
       "      <td>M</td>\n",
       "      <td>7</td>\n",
       "      <td>4833</td>\n",
       "      <td>1</td>\n",
       "    </tr>\n",
       "  </tbody>\n",
       "</table>\n",
       "</div>"
      ],
      "text/plain": [
       "     ID Warehouse_block Mode_of_Shipment Customer_care_calls  Customer_rating  \\\n",
       "0  6045               A           Flight                   4                3   \n",
       "1    44               F             Ship                   3                1   \n",
       "2  7940               F             Road                   4                1   \n",
       "3  1596               F             Ship                   4                3   \n",
       "4  4395               A           Flight                   5                3   \n",
       "\n",
       "   Cost_of_the_Product  Prior_purchases Product_importance Gender  \\\n",
       "0                  266                5               high      F   \n",
       "1                  174                2                low      M   \n",
       "2                  154               10               high      M   \n",
       "3                  158                3             medium      F   \n",
       "4                  175                3                low      M   \n",
       "\n",
       "   Discount_offered  Weight_in_gms  Reached.on.Time_Y.N  \n",
       "0                 5           1590                    0  \n",
       "1                44           1556                    1  \n",
       "2                10           5674                    1  \n",
       "3                27           1207                    1  \n",
       "4                 7           4833                    1  "
      ]
     },
     "execution_count": 3,
     "metadata": {},
     "output_type": "execute_result"
    }
   ],
   "source": [
    "train = pd.merge(x_train, y_train, on='ID')\n",
    "train.head()"
   ]
  },
  {
   "cell_type": "code",
   "execution_count": 4,
   "id": "929fc535",
   "metadata": {
    "ExecuteTime": {
     "end_time": "2022-08-28T14:24:35.011501Z",
     "start_time": "2022-08-28T14:24:35.007884Z"
    }
   },
   "outputs": [],
   "source": [
    "train.rename(columns={'Reached.on.Time_Y.N':'label'}, inplace=True)"
   ]
  },
  {
   "cell_type": "markdown",
   "id": "aff23da9",
   "metadata": {},
   "source": [
    "### Categorical vs Numerical"
   ]
  },
  {
   "cell_type": "markdown",
   "id": "c9495262",
   "metadata": {},
   "source": [
    "##### Categorical"
   ]
  },
  {
   "cell_type": "code",
   "execution_count": 5,
   "id": "0eb75508",
   "metadata": {
    "ExecuteTime": {
     "end_time": "2022-08-28T14:24:35.036159Z",
     "start_time": "2022-08-28T14:24:35.013248Z"
    }
   },
   "outputs": [],
   "source": [
    "x = pd.concat([x_train, test], axis=0)\n",
    "x = x[x.columns.difference(['ID'])]\n",
    "\n",
    "numerical_features = x.select_dtypes(exclude='object').columns\n",
    "categorical_features = x.select_dtypes(include='object').columns"
   ]
  },
  {
   "cell_type": "code",
   "execution_count": 6,
   "id": "503691b8",
   "metadata": {
    "ExecuteTime": {
     "end_time": "2022-08-28T14:24:35.072058Z",
     "start_time": "2022-08-28T14:24:35.039290Z"
    }
   },
   "outputs": [
    {
     "data": {
      "text/html": [
       "<div>\n",
       "<style scoped>\n",
       "    .dataframe tbody tr th:only-of-type {\n",
       "        vertical-align: middle;\n",
       "    }\n",
       "\n",
       "    .dataframe tbody tr th {\n",
       "        vertical-align: top;\n",
       "    }\n",
       "\n",
       "    .dataframe thead th {\n",
       "        text-align: right;\n",
       "    }\n",
       "</style>\n",
       "<table border=\"1\" class=\"dataframe\">\n",
       "  <thead>\n",
       "    <tr style=\"text-align: right;\">\n",
       "      <th></th>\n",
       "      <th>Cost_of_the_Product</th>\n",
       "      <th>Customer_rating</th>\n",
       "      <th>Discount_offered</th>\n",
       "      <th>Prior_purchases</th>\n",
       "      <th>Weight_in_gms</th>\n",
       "      <th>Customer_care_calls_$7</th>\n",
       "      <th>Customer_care_calls_2</th>\n",
       "      <th>Customer_care_calls_3</th>\n",
       "      <th>Customer_care_calls_4</th>\n",
       "      <th>Customer_care_calls_5</th>\n",
       "      <th>...</th>\n",
       "      <th>Mode_of_Shipment_Road</th>\n",
       "      <th>Mode_of_Shipment_Ship</th>\n",
       "      <th>Product_importance_high</th>\n",
       "      <th>Product_importance_low</th>\n",
       "      <th>Product_importance_medium</th>\n",
       "      <th>Warehouse_block_A</th>\n",
       "      <th>Warehouse_block_B</th>\n",
       "      <th>Warehouse_block_C</th>\n",
       "      <th>Warehouse_block_D</th>\n",
       "      <th>Warehouse_block_F</th>\n",
       "    </tr>\n",
       "  </thead>\n",
       "  <tbody>\n",
       "    <tr>\n",
       "      <th>0</th>\n",
       "      <td>266</td>\n",
       "      <td>3</td>\n",
       "      <td>5</td>\n",
       "      <td>5</td>\n",
       "      <td>1590</td>\n",
       "      <td>0</td>\n",
       "      <td>0</td>\n",
       "      <td>0</td>\n",
       "      <td>1</td>\n",
       "      <td>0</td>\n",
       "      <td>...</td>\n",
       "      <td>0</td>\n",
       "      <td>0</td>\n",
       "      <td>1</td>\n",
       "      <td>0</td>\n",
       "      <td>0</td>\n",
       "      <td>1</td>\n",
       "      <td>0</td>\n",
       "      <td>0</td>\n",
       "      <td>0</td>\n",
       "      <td>0</td>\n",
       "    </tr>\n",
       "    <tr>\n",
       "      <th>1</th>\n",
       "      <td>174</td>\n",
       "      <td>1</td>\n",
       "      <td>44</td>\n",
       "      <td>2</td>\n",
       "      <td>1556</td>\n",
       "      <td>0</td>\n",
       "      <td>0</td>\n",
       "      <td>1</td>\n",
       "      <td>0</td>\n",
       "      <td>0</td>\n",
       "      <td>...</td>\n",
       "      <td>0</td>\n",
       "      <td>1</td>\n",
       "      <td>0</td>\n",
       "      <td>1</td>\n",
       "      <td>0</td>\n",
       "      <td>0</td>\n",
       "      <td>0</td>\n",
       "      <td>0</td>\n",
       "      <td>0</td>\n",
       "      <td>1</td>\n",
       "    </tr>\n",
       "    <tr>\n",
       "      <th>2</th>\n",
       "      <td>154</td>\n",
       "      <td>1</td>\n",
       "      <td>10</td>\n",
       "      <td>10</td>\n",
       "      <td>5674</td>\n",
       "      <td>0</td>\n",
       "      <td>0</td>\n",
       "      <td>0</td>\n",
       "      <td>1</td>\n",
       "      <td>0</td>\n",
       "      <td>...</td>\n",
       "      <td>1</td>\n",
       "      <td>0</td>\n",
       "      <td>1</td>\n",
       "      <td>0</td>\n",
       "      <td>0</td>\n",
       "      <td>0</td>\n",
       "      <td>0</td>\n",
       "      <td>0</td>\n",
       "      <td>0</td>\n",
       "      <td>1</td>\n",
       "    </tr>\n",
       "    <tr>\n",
       "      <th>3</th>\n",
       "      <td>158</td>\n",
       "      <td>3</td>\n",
       "      <td>27</td>\n",
       "      <td>3</td>\n",
       "      <td>1207</td>\n",
       "      <td>0</td>\n",
       "      <td>0</td>\n",
       "      <td>0</td>\n",
       "      <td>1</td>\n",
       "      <td>0</td>\n",
       "      <td>...</td>\n",
       "      <td>0</td>\n",
       "      <td>1</td>\n",
       "      <td>0</td>\n",
       "      <td>0</td>\n",
       "      <td>1</td>\n",
       "      <td>0</td>\n",
       "      <td>0</td>\n",
       "      <td>0</td>\n",
       "      <td>0</td>\n",
       "      <td>1</td>\n",
       "    </tr>\n",
       "    <tr>\n",
       "      <th>4</th>\n",
       "      <td>175</td>\n",
       "      <td>3</td>\n",
       "      <td>7</td>\n",
       "      <td>3</td>\n",
       "      <td>4833</td>\n",
       "      <td>0</td>\n",
       "      <td>0</td>\n",
       "      <td>0</td>\n",
       "      <td>0</td>\n",
       "      <td>1</td>\n",
       "      <td>...</td>\n",
       "      <td>0</td>\n",
       "      <td>0</td>\n",
       "      <td>0</td>\n",
       "      <td>1</td>\n",
       "      <td>0</td>\n",
       "      <td>1</td>\n",
       "      <td>0</td>\n",
       "      <td>0</td>\n",
       "      <td>0</td>\n",
       "      <td>0</td>\n",
       "    </tr>\n",
       "    <tr>\n",
       "      <th>...</th>\n",
       "      <td>...</td>\n",
       "      <td>...</td>\n",
       "      <td>...</td>\n",
       "      <td>...</td>\n",
       "      <td>...</td>\n",
       "      <td>...</td>\n",
       "      <td>...</td>\n",
       "      <td>...</td>\n",
       "      <td>...</td>\n",
       "      <td>...</td>\n",
       "      <td>...</td>\n",
       "      <td>...</td>\n",
       "      <td>...</td>\n",
       "      <td>...</td>\n",
       "      <td>...</td>\n",
       "      <td>...</td>\n",
       "      <td>...</td>\n",
       "      <td>...</td>\n",
       "      <td>...</td>\n",
       "      <td>...</td>\n",
       "      <td>...</td>\n",
       "    </tr>\n",
       "    <tr>\n",
       "      <th>4396</th>\n",
       "      <td>157</td>\n",
       "      <td>1</td>\n",
       "      <td>31</td>\n",
       "      <td>3</td>\n",
       "      <td>1712</td>\n",
       "      <td>0</td>\n",
       "      <td>0</td>\n",
       "      <td>0</td>\n",
       "      <td>1</td>\n",
       "      <td>0</td>\n",
       "      <td>...</td>\n",
       "      <td>0</td>\n",
       "      <td>0</td>\n",
       "      <td>0</td>\n",
       "      <td>0</td>\n",
       "      <td>1</td>\n",
       "      <td>0</td>\n",
       "      <td>0</td>\n",
       "      <td>0</td>\n",
       "      <td>0</td>\n",
       "      <td>1</td>\n",
       "    </tr>\n",
       "    <tr>\n",
       "      <th>4397</th>\n",
       "      <td>139</td>\n",
       "      <td>5</td>\n",
       "      <td>7</td>\n",
       "      <td>2</td>\n",
       "      <td>5536</td>\n",
       "      <td>0</td>\n",
       "      <td>0</td>\n",
       "      <td>1</td>\n",
       "      <td>0</td>\n",
       "      <td>0</td>\n",
       "      <td>...</td>\n",
       "      <td>1</td>\n",
       "      <td>0</td>\n",
       "      <td>0</td>\n",
       "      <td>0</td>\n",
       "      <td>1</td>\n",
       "      <td>0</td>\n",
       "      <td>1</td>\n",
       "      <td>0</td>\n",
       "      <td>0</td>\n",
       "      <td>0</td>\n",
       "    </tr>\n",
       "    <tr>\n",
       "      <th>4398</th>\n",
       "      <td>170</td>\n",
       "      <td>1</td>\n",
       "      <td>3</td>\n",
       "      <td>10</td>\n",
       "      <td>5211</td>\n",
       "      <td>0</td>\n",
       "      <td>0</td>\n",
       "      <td>0</td>\n",
       "      <td>1</td>\n",
       "      <td>0</td>\n",
       "      <td>...</td>\n",
       "      <td>1</td>\n",
       "      <td>0</td>\n",
       "      <td>0</td>\n",
       "      <td>0</td>\n",
       "      <td>1</td>\n",
       "      <td>1</td>\n",
       "      <td>0</td>\n",
       "      <td>0</td>\n",
       "      <td>0</td>\n",
       "      <td>0</td>\n",
       "    </tr>\n",
       "    <tr>\n",
       "      <th>4399</th>\n",
       "      <td>244</td>\n",
       "      <td>1</td>\n",
       "      <td>1</td>\n",
       "      <td>3</td>\n",
       "      <td>5695</td>\n",
       "      <td>0</td>\n",
       "      <td>0</td>\n",
       "      <td>1</td>\n",
       "      <td>0</td>\n",
       "      <td>0</td>\n",
       "      <td>...</td>\n",
       "      <td>0</td>\n",
       "      <td>1</td>\n",
       "      <td>0</td>\n",
       "      <td>0</td>\n",
       "      <td>1</td>\n",
       "      <td>0</td>\n",
       "      <td>1</td>\n",
       "      <td>0</td>\n",
       "      <td>0</td>\n",
       "      <td>0</td>\n",
       "    </tr>\n",
       "    <tr>\n",
       "      <th>4400</th>\n",
       "      <td>234</td>\n",
       "      <td>4</td>\n",
       "      <td>46</td>\n",
       "      <td>2</td>\n",
       "      <td>3108</td>\n",
       "      <td>0</td>\n",
       "      <td>0</td>\n",
       "      <td>1</td>\n",
       "      <td>0</td>\n",
       "      <td>0</td>\n",
       "      <td>...</td>\n",
       "      <td>0</td>\n",
       "      <td>1</td>\n",
       "      <td>0</td>\n",
       "      <td>0</td>\n",
       "      <td>1</td>\n",
       "      <td>1</td>\n",
       "      <td>0</td>\n",
       "      <td>0</td>\n",
       "      <td>0</td>\n",
       "      <td>0</td>\n",
       "    </tr>\n",
       "  </tbody>\n",
       "</table>\n",
       "<p>10999 rows × 24 columns</p>\n",
       "</div>"
      ],
      "text/plain": [
       "      Cost_of_the_Product  Customer_rating  Discount_offered  Prior_purchases  \\\n",
       "0                     266                3                 5                5   \n",
       "1                     174                1                44                2   \n",
       "2                     154                1                10               10   \n",
       "3                     158                3                27                3   \n",
       "4                     175                3                 7                3   \n",
       "...                   ...              ...               ...              ...   \n",
       "4396                  157                1                31                3   \n",
       "4397                  139                5                 7                2   \n",
       "4398                  170                1                 3               10   \n",
       "4399                  244                1                 1                3   \n",
       "4400                  234                4                46                2   \n",
       "\n",
       "      Weight_in_gms  Customer_care_calls_$7  Customer_care_calls_2  \\\n",
       "0              1590                       0                      0   \n",
       "1              1556                       0                      0   \n",
       "2              5674                       0                      0   \n",
       "3              1207                       0                      0   \n",
       "4              4833                       0                      0   \n",
       "...             ...                     ...                    ...   \n",
       "4396           1712                       0                      0   \n",
       "4397           5536                       0                      0   \n",
       "4398           5211                       0                      0   \n",
       "4399           5695                       0                      0   \n",
       "4400           3108                       0                      0   \n",
       "\n",
       "      Customer_care_calls_3  Customer_care_calls_4  Customer_care_calls_5  \\\n",
       "0                         0                      1                      0   \n",
       "1                         1                      0                      0   \n",
       "2                         0                      1                      0   \n",
       "3                         0                      1                      0   \n",
       "4                         0                      0                      1   \n",
       "...                     ...                    ...                    ...   \n",
       "4396                      0                      1                      0   \n",
       "4397                      1                      0                      0   \n",
       "4398                      0                      1                      0   \n",
       "4399                      1                      0                      0   \n",
       "4400                      1                      0                      0   \n",
       "\n",
       "      ...  Mode_of_Shipment_Road  Mode_of_Shipment_Ship  \\\n",
       "0     ...                      0                      0   \n",
       "1     ...                      0                      1   \n",
       "2     ...                      1                      0   \n",
       "3     ...                      0                      1   \n",
       "4     ...                      0                      0   \n",
       "...   ...                    ...                    ...   \n",
       "4396  ...                      0                      0   \n",
       "4397  ...                      1                      0   \n",
       "4398  ...                      1                      0   \n",
       "4399  ...                      0                      1   \n",
       "4400  ...                      0                      1   \n",
       "\n",
       "      Product_importance_high  Product_importance_low  \\\n",
       "0                           1                       0   \n",
       "1                           0                       1   \n",
       "2                           1                       0   \n",
       "3                           0                       0   \n",
       "4                           0                       1   \n",
       "...                       ...                     ...   \n",
       "4396                        0                       0   \n",
       "4397                        0                       0   \n",
       "4398                        0                       0   \n",
       "4399                        0                       0   \n",
       "4400                        0                       0   \n",
       "\n",
       "      Product_importance_medium  Warehouse_block_A  Warehouse_block_B  \\\n",
       "0                             0                  1                  0   \n",
       "1                             0                  0                  0   \n",
       "2                             0                  0                  0   \n",
       "3                             1                  0                  0   \n",
       "4                             0                  1                  0   \n",
       "...                         ...                ...                ...   \n",
       "4396                          1                  0                  0   \n",
       "4397                          1                  0                  1   \n",
       "4398                          1                  1                  0   \n",
       "4399                          1                  0                  1   \n",
       "4400                          1                  1                  0   \n",
       "\n",
       "      Warehouse_block_C  Warehouse_block_D  Warehouse_block_F  \n",
       "0                     0                  0                  0  \n",
       "1                     0                  0                  1  \n",
       "2                     0                  0                  1  \n",
       "3                     0                  0                  1  \n",
       "4                     0                  0                  0  \n",
       "...                 ...                ...                ...  \n",
       "4396                  0                  0                  1  \n",
       "4397                  0                  0                  0  \n",
       "4398                  0                  0                  0  \n",
       "4399                  0                  0                  0  \n",
       "4400                  0                  0                  0  \n",
       "\n",
       "[10999 rows x 24 columns]"
      ]
     },
     "execution_count": 6,
     "metadata": {},
     "output_type": "execute_result"
    }
   ],
   "source": [
    "x_categorical = pd.get_dummies(x[categorical_features])\n",
    "x.drop(categorical_features, axis=1, inplace=True)\n",
    "\n",
    "x = pd.concat([x, x_categorical], axis=1)\n",
    "x"
   ]
  },
  {
   "cell_type": "markdown",
   "id": "17deadc4",
   "metadata": {},
   "source": [
    "##### Numerical"
   ]
  },
  {
   "cell_type": "code",
   "execution_count": 7,
   "id": "c3a5f0d4",
   "metadata": {
    "ExecuteTime": {
     "end_time": "2022-08-28T14:24:35.094578Z",
     "start_time": "2022-08-28T14:24:35.074464Z"
    }
   },
   "outputs": [
    {
     "data": {
      "text/html": [
       "<div>\n",
       "<style scoped>\n",
       "    .dataframe tbody tr th:only-of-type {\n",
       "        vertical-align: middle;\n",
       "    }\n",
       "\n",
       "    .dataframe tbody tr th {\n",
       "        vertical-align: top;\n",
       "    }\n",
       "\n",
       "    .dataframe thead th {\n",
       "        text-align: right;\n",
       "    }\n",
       "</style>\n",
       "<table border=\"1\" class=\"dataframe\">\n",
       "  <thead>\n",
       "    <tr style=\"text-align: right;\">\n",
       "      <th></th>\n",
       "      <th>Cost_of_the_Product</th>\n",
       "      <th>Customer_rating</th>\n",
       "      <th>Discount_offered</th>\n",
       "      <th>Prior_purchases</th>\n",
       "      <th>Weight_in_gms</th>\n",
       "    </tr>\n",
       "  </thead>\n",
       "  <tbody>\n",
       "    <tr>\n",
       "      <th>count</th>\n",
       "      <td>10999.000000</td>\n",
       "      <td>10999.000000</td>\n",
       "      <td>10999.000000</td>\n",
       "      <td>10999.000000</td>\n",
       "      <td>10999.000000</td>\n",
       "    </tr>\n",
       "    <tr>\n",
       "      <th>mean</th>\n",
       "      <td>210.196836</td>\n",
       "      <td>2.990545</td>\n",
       "      <td>13.373216</td>\n",
       "      <td>3.567597</td>\n",
       "      <td>3634.016729</td>\n",
       "    </tr>\n",
       "    <tr>\n",
       "      <th>std</th>\n",
       "      <td>48.063272</td>\n",
       "      <td>1.413603</td>\n",
       "      <td>16.205527</td>\n",
       "      <td>1.522860</td>\n",
       "      <td>1635.377251</td>\n",
       "    </tr>\n",
       "    <tr>\n",
       "      <th>min</th>\n",
       "      <td>96.000000</td>\n",
       "      <td>1.000000</td>\n",
       "      <td>1.000000</td>\n",
       "      <td>2.000000</td>\n",
       "      <td>1001.000000</td>\n",
       "    </tr>\n",
       "    <tr>\n",
       "      <th>25%</th>\n",
       "      <td>169.000000</td>\n",
       "      <td>2.000000</td>\n",
       "      <td>4.000000</td>\n",
       "      <td>3.000000</td>\n",
       "      <td>1839.500000</td>\n",
       "    </tr>\n",
       "    <tr>\n",
       "      <th>50%</th>\n",
       "      <td>214.000000</td>\n",
       "      <td>3.000000</td>\n",
       "      <td>7.000000</td>\n",
       "      <td>3.000000</td>\n",
       "      <td>4149.000000</td>\n",
       "    </tr>\n",
       "    <tr>\n",
       "      <th>75%</th>\n",
       "      <td>251.000000</td>\n",
       "      <td>4.000000</td>\n",
       "      <td>10.000000</td>\n",
       "      <td>4.000000</td>\n",
       "      <td>5050.000000</td>\n",
       "    </tr>\n",
       "    <tr>\n",
       "      <th>max</th>\n",
       "      <td>310.000000</td>\n",
       "      <td>5.000000</td>\n",
       "      <td>65.000000</td>\n",
       "      <td>10.000000</td>\n",
       "      <td>7846.000000</td>\n",
       "    </tr>\n",
       "  </tbody>\n",
       "</table>\n",
       "</div>"
      ],
      "text/plain": [
       "       Cost_of_the_Product  Customer_rating  Discount_offered  \\\n",
       "count         10999.000000     10999.000000      10999.000000   \n",
       "mean            210.196836         2.990545         13.373216   \n",
       "std              48.063272         1.413603         16.205527   \n",
       "min              96.000000         1.000000          1.000000   \n",
       "25%             169.000000         2.000000          4.000000   \n",
       "50%             214.000000         3.000000          7.000000   \n",
       "75%             251.000000         4.000000         10.000000   \n",
       "max             310.000000         5.000000         65.000000   \n",
       "\n",
       "       Prior_purchases  Weight_in_gms  \n",
       "count     10999.000000   10999.000000  \n",
       "mean          3.567597    3634.016729  \n",
       "std           1.522860    1635.377251  \n",
       "min           2.000000    1001.000000  \n",
       "25%           3.000000    1839.500000  \n",
       "50%           3.000000    4149.000000  \n",
       "75%           4.000000    5050.000000  \n",
       "max          10.000000    7846.000000  "
      ]
     },
     "execution_count": 7,
     "metadata": {},
     "output_type": "execute_result"
    }
   ],
   "source": [
    "x[numerical_features].describe()"
   ]
  },
  {
   "cell_type": "code",
   "execution_count": 8,
   "id": "4f7bc5fb",
   "metadata": {
    "ExecuteTime": {
     "end_time": "2022-08-28T14:24:35.107789Z",
     "start_time": "2022-08-28T14:24:35.096959Z"
    }
   },
   "outputs": [
    {
     "name": "stdout",
     "output_type": "stream",
     "text": [
      "Discount_offered       1.798684\n",
      "Prior_purchases        1.681668\n",
      "Weight_in_gms          0.249713\n",
      "Cost_of_the_Product    0.157096\n",
      "Customer_rating        0.004359\n",
      "dtype: float64\n"
     ]
    }
   ],
   "source": [
    "# Check skewness\n",
    "\n",
    "from scipy.stats import skew\n",
    "print(x[numerical_features].apply(skew).apply(abs).sort_values(ascending=False))"
   ]
  },
  {
   "cell_type": "code",
   "execution_count": 9,
   "id": "d5c6a44e",
   "metadata": {
    "ExecuteTime": {
     "end_time": "2022-08-28T14:24:35.128603Z",
     "start_time": "2022-08-28T14:24:35.109735Z"
    }
   },
   "outputs": [
    {
     "name": "stdout",
     "output_type": "stream",
     "text": [
      "Prior_purchases        0.666728\n",
      "Discount_offered       0.532147\n",
      "Weight_in_gms          0.249713\n",
      "Cost_of_the_Product    0.157096\n",
      "Customer_rating        0.004359\n",
      "dtype: float64\n"
     ]
    }
   ],
   "source": [
    "x[numerical_features] = x[numerical_features].apply(lambda x: np.log1p(x) if abs(skew(x)) > 0.5 else x)\n",
    "print(x[numerical_features].apply(skew).apply(abs).sort_values(ascending=False))"
   ]
  },
  {
   "cell_type": "code",
   "execution_count": 10,
   "id": "2d156fcd",
   "metadata": {
    "ExecuteTime": {
     "end_time": "2022-08-28T14:24:41.548723Z",
     "start_time": "2022-08-28T14:24:41.545113Z"
    }
   },
   "outputs": [],
   "source": [
    "X_train = x[:len_train]\n",
    "X_test = x[len_train:]"
   ]
  },
  {
   "cell_type": "code",
   "execution_count": 24,
   "id": "fbfe8fe9",
   "metadata": {
    "ExecuteTime": {
     "end_time": "2022-08-28T14:34:56.504202Z",
     "start_time": "2022-08-28T14:34:56.495464Z"
    }
   },
   "outputs": [],
   "source": [
    "scaler = MinMaxScaler()\n",
    "scaler.fit(X_train)\n",
    "\n",
    "X_all_scaled = pd.DataFrame(data=scaler.transform(x), columns = x.columns)"
   ]
  },
  {
   "cell_type": "code",
   "execution_count": 25,
   "id": "a3ac74e1",
   "metadata": {
    "ExecuteTime": {
     "end_time": "2022-08-28T14:34:57.322279Z",
     "start_time": "2022-08-28T14:34:57.317978Z"
    }
   },
   "outputs": [],
   "source": [
    "X_train = X_all_scaled[:len_train]\n",
    "X_test = X_all_scaled[len_train:]"
   ]
  },
  {
   "cell_type": "code",
   "execution_count": 26,
   "id": "ebc5ffca",
   "metadata": {
    "ExecuteTime": {
     "end_time": "2022-08-28T14:35:01.918777Z",
     "start_time": "2022-08-28T14:35:01.894473Z"
    }
   },
   "outputs": [
    {
     "ename": "KeyError",
     "evalue": "'Reached.on.Time_Y.N'",
     "output_type": "error",
     "traceback": [
      "\u001b[0;31m---------------------------------------------------------------------------\u001b[0m",
      "\u001b[0;31mKeyError\u001b[0m                                  Traceback (most recent call last)",
      "\u001b[0;32m/tmp/ipykernel_1701/2946142422.py\u001b[0m in \u001b[0;36m<module>\u001b[0;34m\u001b[0m\n\u001b[0;32m----> 1\u001b[0;31m \u001b[0my_train\u001b[0m \u001b[0;34m=\u001b[0m \u001b[0my_train\u001b[0m\u001b[0;34m[\u001b[0m\u001b[0;34m'Reached.on.Time_Y.N'\u001b[0m\u001b[0;34m]\u001b[0m\u001b[0;34m\u001b[0m\u001b[0;34m\u001b[0m\u001b[0m\n\u001b[0m",
      "\u001b[0;32m~/anaconda3/lib/python3.7/site-packages/pandas/core/series.py\u001b[0m in \u001b[0;36m__getitem__\u001b[0;34m(self, key)\u001b[0m\n\u001b[1;32m    940\u001b[0m \u001b[0;34m\u001b[0m\u001b[0m\n\u001b[1;32m    941\u001b[0m         \u001b[0;32melif\u001b[0m \u001b[0mkey_is_scalar\u001b[0m\u001b[0;34m:\u001b[0m\u001b[0;34m\u001b[0m\u001b[0;34m\u001b[0m\u001b[0m\n\u001b[0;32m--> 942\u001b[0;31m             \u001b[0;32mreturn\u001b[0m \u001b[0mself\u001b[0m\u001b[0;34m.\u001b[0m\u001b[0m_get_value\u001b[0m\u001b[0;34m(\u001b[0m\u001b[0mkey\u001b[0m\u001b[0;34m)\u001b[0m\u001b[0;34m\u001b[0m\u001b[0;34m\u001b[0m\u001b[0m\n\u001b[0m\u001b[1;32m    943\u001b[0m \u001b[0;34m\u001b[0m\u001b[0m\n\u001b[1;32m    944\u001b[0m         \u001b[0;32mif\u001b[0m \u001b[0mis_hashable\u001b[0m\u001b[0;34m(\u001b[0m\u001b[0mkey\u001b[0m\u001b[0;34m)\u001b[0m\u001b[0;34m:\u001b[0m\u001b[0;34m\u001b[0m\u001b[0;34m\u001b[0m\u001b[0m\n",
      "\u001b[0;32m~/anaconda3/lib/python3.7/site-packages/pandas/core/series.py\u001b[0m in \u001b[0;36m_get_value\u001b[0;34m(self, label, takeable)\u001b[0m\n\u001b[1;32m   1049\u001b[0m \u001b[0;34m\u001b[0m\u001b[0m\n\u001b[1;32m   1050\u001b[0m         \u001b[0;31m# Similar to Index.get_value, but we do not fall back to positional\u001b[0m\u001b[0;34m\u001b[0m\u001b[0;34m\u001b[0m\u001b[0;34m\u001b[0m\u001b[0m\n\u001b[0;32m-> 1051\u001b[0;31m         \u001b[0mloc\u001b[0m \u001b[0;34m=\u001b[0m \u001b[0mself\u001b[0m\u001b[0;34m.\u001b[0m\u001b[0mindex\u001b[0m\u001b[0;34m.\u001b[0m\u001b[0mget_loc\u001b[0m\u001b[0;34m(\u001b[0m\u001b[0mlabel\u001b[0m\u001b[0;34m)\u001b[0m\u001b[0;34m\u001b[0m\u001b[0;34m\u001b[0m\u001b[0m\n\u001b[0m\u001b[1;32m   1052\u001b[0m         \u001b[0;32mreturn\u001b[0m \u001b[0mself\u001b[0m\u001b[0;34m.\u001b[0m\u001b[0mindex\u001b[0m\u001b[0;34m.\u001b[0m\u001b[0m_get_values_for_loc\u001b[0m\u001b[0;34m(\u001b[0m\u001b[0mself\u001b[0m\u001b[0;34m,\u001b[0m \u001b[0mloc\u001b[0m\u001b[0;34m,\u001b[0m \u001b[0mlabel\u001b[0m\u001b[0;34m)\u001b[0m\u001b[0;34m\u001b[0m\u001b[0;34m\u001b[0m\u001b[0m\n\u001b[1;32m   1053\u001b[0m \u001b[0;34m\u001b[0m\u001b[0m\n",
      "\u001b[0;32m~/anaconda3/lib/python3.7/site-packages/pandas/core/indexes/range.py\u001b[0m in \u001b[0;36mget_loc\u001b[0;34m(self, key, method, tolerance)\u001b[0m\n\u001b[1;32m    386\u001b[0m                 \u001b[0;32mexcept\u001b[0m \u001b[0mValueError\u001b[0m \u001b[0;32mas\u001b[0m \u001b[0merr\u001b[0m\u001b[0;34m:\u001b[0m\u001b[0;34m\u001b[0m\u001b[0;34m\u001b[0m\u001b[0m\n\u001b[1;32m    387\u001b[0m                     \u001b[0;32mraise\u001b[0m \u001b[0mKeyError\u001b[0m\u001b[0;34m(\u001b[0m\u001b[0mkey\u001b[0m\u001b[0;34m)\u001b[0m \u001b[0;32mfrom\u001b[0m \u001b[0merr\u001b[0m\u001b[0;34m\u001b[0m\u001b[0;34m\u001b[0m\u001b[0m\n\u001b[0;32m--> 388\u001b[0;31m             \u001b[0;32mraise\u001b[0m \u001b[0mKeyError\u001b[0m\u001b[0;34m(\u001b[0m\u001b[0mkey\u001b[0m\u001b[0;34m)\u001b[0m\u001b[0;34m\u001b[0m\u001b[0;34m\u001b[0m\u001b[0m\n\u001b[0m\u001b[1;32m    389\u001b[0m         \u001b[0;32mreturn\u001b[0m \u001b[0msuper\u001b[0m\u001b[0;34m(\u001b[0m\u001b[0;34m)\u001b[0m\u001b[0;34m.\u001b[0m\u001b[0mget_loc\u001b[0m\u001b[0;34m(\u001b[0m\u001b[0mkey\u001b[0m\u001b[0;34m,\u001b[0m \u001b[0mmethod\u001b[0m\u001b[0;34m=\u001b[0m\u001b[0mmethod\u001b[0m\u001b[0;34m,\u001b[0m \u001b[0mtolerance\u001b[0m\u001b[0;34m=\u001b[0m\u001b[0mtolerance\u001b[0m\u001b[0;34m)\u001b[0m\u001b[0;34m\u001b[0m\u001b[0;34m\u001b[0m\u001b[0m\n\u001b[1;32m    390\u001b[0m \u001b[0;34m\u001b[0m\u001b[0m\n",
      "\u001b[0;31mKeyError\u001b[0m: 'Reached.on.Time_Y.N'"
     ]
    }
   ],
   "source": [
    "y_train = y_train['Reached.on.Time_Y.N']"
   ]
  },
  {
   "cell_type": "code",
   "execution_count": 28,
   "id": "f43abbad",
   "metadata": {
    "ExecuteTime": {
     "end_time": "2022-08-28T14:35:19.176509Z",
     "start_time": "2022-08-28T14:35:17.992229Z"
    }
   },
   "outputs": [
    {
     "name": "stdout",
     "output_type": "stream",
     "text": [
      "0.6489841801369768\n"
     ]
    }
   ],
   "source": [
    "clf = RFC()\n",
    "score = cross_val_score(clf, X_train, y_train, cv=3 )\n",
    "print(np.mean(score))"
   ]
  },
  {
   "cell_type": "code",
   "execution_count": 29,
   "id": "4fc5375a",
   "metadata": {
    "ExecuteTime": {
     "end_time": "2022-08-28T14:35:53.822107Z",
     "start_time": "2022-08-28T14:35:19.180738Z"
    }
   },
   "outputs": [
    {
     "name": "stdout",
     "output_type": "stream",
     "text": [
      "{'max_depth': 10, 'min_samples_split': 30}\n",
      "0.6814176258414317\n"
     ]
    }
   ],
   "source": [
    "params = {\"max_depth\": [5, 10,20,30,40], \"min_samples_split\": [5, 10, 20,30, 40]}\n",
    "grid = GridSearchCV(estimator=clf, param_grid=params, cv=5)\n",
    "grid.fit(X_train, y_train)\n",
    "print(grid.best_params_)\n",
    "print(grid.best_score_)"
   ]
  },
  {
   "cell_type": "code",
   "execution_count": 30,
   "id": "0df2dcf6",
   "metadata": {
    "ExecuteTime": {
     "end_time": "2022-08-28T14:36:04.762317Z",
     "start_time": "2022-08-28T14:35:53.824289Z"
    }
   },
   "outputs": [
    {
     "name": "stdout",
     "output_type": "stream",
     "text": [
      "0.6695971998291235\n"
     ]
    }
   ],
   "source": [
    "clf = RFC(n_estimators=1000, n_jobs=-1, max_depth = 10, min_samples_split = 5)\n",
    "score = cross_val_score(clf, X_train, y_train, cv=3)\n",
    "print(np.mean(score))\n",
    "clf.fit(X_train, y_train)\n",
    "res = clf.predict(X_test)"
   ]
  },
  {
   "cell_type": "code",
   "execution_count": 31,
   "id": "84092037",
   "metadata": {
    "ExecuteTime": {
     "end_time": "2022-08-28T14:36:04.804111Z",
     "start_time": "2022-08-28T14:36:04.768357Z"
    }
   },
   "outputs": [
    {
     "name": "stdout",
     "output_type": "stream",
     "text": [
      "0.6989491863595894\n"
     ]
    }
   ],
   "source": [
    "result = pd.DataFrame({'id' : test['ID'],\n",
    "'label' : res})\n",
    "\n",
    "y_test = pd.read_csv('./data/test_label/y_test.csv')\n",
    "y = y_test['Reached.on.Time_Y.N']\n",
    "\n",
    "print(roc_auc_score(y, res))"
   ]
  },
  {
   "cell_type": "code",
   "execution_count": 35,
   "id": "1f8c8d51",
   "metadata": {
    "ExecuteTime": {
     "end_time": "2022-08-28T14:37:49.244912Z",
     "start_time": "2022-08-28T14:37:49.227748Z"
    }
   },
   "outputs": [
    {
     "data": {
      "text/plain": [
       " 0    2957\n",
       " 1    1158\n",
       "-1     286\n",
       "Name: Reached.on.Time_Y.N, dtype: int64"
      ]
     },
     "execution_count": 35,
     "metadata": {},
     "output_type": "execute_result"
    }
   ],
   "source": [
    "(y - res).value_counts()"
   ]
  }
 ],
 "metadata": {
  "kernelspec": {
   "display_name": "Python 3 (ipykernel)",
   "language": "python",
   "name": "python3"
  },
  "language_info": {
   "codemirror_mode": {
    "name": "ipython",
    "version": 3
   },
   "file_extension": ".py",
   "mimetype": "text/x-python",
   "name": "python",
   "nbconvert_exporter": "python",
   "pygments_lexer": "ipython3",
   "version": "3.7.7"
  }
 },
 "nbformat": 4,
 "nbformat_minor": 5
}
