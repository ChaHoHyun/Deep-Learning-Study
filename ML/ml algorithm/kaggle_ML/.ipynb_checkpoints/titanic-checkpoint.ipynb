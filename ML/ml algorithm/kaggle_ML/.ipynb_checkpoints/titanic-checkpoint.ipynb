{
 "cells": [
  {
   "cell_type": "markdown",
   "id": "2dd6758f",
   "metadata": {},
   "source": [
    "## Titanic - Machine Learning from Disaster"
   ]
  },
  {
   "cell_type": "markdown",
   "id": "96f9898b",
   "metadata": {},
   "source": [
    "<img src=\"https://static1.squarespace.com/static/5006453fe4b09ef2252ba068/5095eabce4b06cb305058603/5095eabce4b02d37bef4c24c/1352002236895/100_anniversary_titanic_sinking_by_esai8mellows-d4xbme8.jpg\" alt=\"Titanic Disaster\" style=\"width: 720px;\"/>\n",
    "\n",
    "<p style=\"text-align: center;\">\n",
    "  <small>\n",
    "    [See <a href=\"https://www.kaggle.com/c/titanic/overview\">Titanic - Machine Learning from Disaster (Kaggle URL)</a>]\n",
    "  </small>\n",
    "</p>"
   ]
  },
  {
   "cell_type": "markdown",
   "id": "f43c807a",
   "metadata": {},
   "source": [
    "##### Overview"
   ]
  },
  {
   "cell_type": "markdown",
   "id": "f8bb230e",
   "metadata": {},
   "source": [
    "- object : The competition is simple: use machine learning to create a model that predicts which passengers survived the Titanic shipwreck.\n",
    "- evaluation<br>\n",
    "  $Accuracy=\\frac{TP + TN}{TP + TN + FP + FN}$\n",
    "  - where TP = True positive; FP = False positive; TN = True negative; FN = False negative"
   ]
  },
  {
   "cell_type": "markdown",
   "id": "f12bec3e",
   "metadata": {},
   "source": [
    "##### Data"
   ]
  },
  {
   "cell_type": "markdown",
   "id": "26b95d60",
   "metadata": {},
   "source": [
    " * Survived : 0 = died, 1 = survived\n",
    "<br>\n",
    "\n",
    " * Pclass : Ticket class for passengers\n",
    "   - 1st = Upper\n",
    "   - 2nd = Middle\n",
    "   - 3rd = Lower\n",
    "<br>\n",
    "\n",
    " * Sex : gender of passengers (composed of male and female)\n",
    "<br>\n",
    "\n",
    " * Age : Passenger's age (if age less than 1, it's fractional)\n",
    "<br>\n",
    "\n",
    " * Sibsp : The sibsp defines family relations in this way.\n",
    "   - Sibling = brother, sister, stepbrother, stepsister\n",
    "   - Spouse = husband, wife\n",
    "<br>\n",
    "\n",
    " * Parch : The parch defines family relations \n",
    "   - Parent = mother, father\n",
    "   - Child = daughter, son, stepdaughter, stepson\n",
    "<br>\n",
    "\n",
    " * Ticket : Number of ticket\n",
    " <br>\n",
    " \n",
    " * Fare : Fare fee of Titanic\n",
    " <br>\n",
    " \n",
    " * cabin : Cabin number\n",
    " <br>\n",
    " \n",
    " * embarked : Port of Embarkation \n",
    "   - C = Cherbourg\n",
    "   - Q = Queenstown\n",
    "   - S = Southampton"
   ]
  },
  {
   "cell_type": "markdown",
   "id": "7dde442a",
   "metadata": {},
   "source": [
    "### Collecting CSV data"
   ]
  },
  {
   "cell_type": "code",
   "execution_count": 57,
   "id": "43fed1cb",
   "metadata": {
    "ExecuteTime": {
     "end_time": "2022-08-19T16:19:12.796489Z",
     "start_time": "2022-08-19T16:19:12.787819Z"
    }
   },
   "outputs": [],
   "source": [
    "import pandas as pd\n",
    "import numpy as np\n",
    "import matplotlib.pyplot as plt\n",
    "import seaborn as sns\n",
    "sns.set()\n",
    "sns.set_style(\"whitegrid\")"
   ]
  },
  {
   "cell_type": "code",
   "execution_count": 58,
   "id": "c999f1b9",
   "metadata": {
    "ExecuteTime": {
     "end_time": "2022-08-19T16:19:12.846310Z",
     "start_time": "2022-08-19T16:19:12.803236Z"
    }
   },
   "outputs": [
    {
     "data": {
      "text/plain": [
       "((891, 12), (418, 11))"
      ]
     },
     "execution_count": 58,
     "metadata": {},
     "output_type": "execute_result"
    }
   ],
   "source": [
    "train = pd.read_csv(\"../titanic/train.csv\")\n",
    "test = pd.read_csv(\"../titanic/test.csv\")\n",
    "\n",
    "train.shape, test.shape"
   ]
  },
  {
   "cell_type": "markdown",
   "id": "4147eed6",
   "metadata": {},
   "source": [
    "##### Check Nan Data & Data type(int, str)"
   ]
  },
  {
   "cell_type": "code",
   "execution_count": 59,
   "id": "75b05139",
   "metadata": {
    "ExecuteTime": {
     "end_time": "2022-08-19T16:19:12.870115Z",
     "start_time": "2022-08-19T16:19:12.849049Z"
    }
   },
   "outputs": [
    {
     "name": "stdout",
     "output_type": "stream",
     "text": [
      "<class 'pandas.core.frame.DataFrame'>\n",
      "RangeIndex: 891 entries, 0 to 890\n",
      "Data columns (total 12 columns):\n",
      " #   Column       Non-Null Count  Dtype  \n",
      "---  ------       --------------  -----  \n",
      " 0   PassengerId  891 non-null    int64  \n",
      " 1   Survived     891 non-null    int64  \n",
      " 2   Pclass       891 non-null    int64  \n",
      " 3   Name         891 non-null    object \n",
      " 4   Sex          891 non-null    object \n",
      " 5   Age          714 non-null    float64\n",
      " 6   SibSp        891 non-null    int64  \n",
      " 7   Parch        891 non-null    int64  \n",
      " 8   Ticket       891 non-null    object \n",
      " 9   Fare         891 non-null    float64\n",
      " 10  Cabin        204 non-null    object \n",
      " 11  Embarked     889 non-null    object \n",
      "dtypes: float64(2), int64(5), object(5)\n",
      "memory usage: 83.7+ KB\n"
     ]
    }
   ],
   "source": [
    "train.info()"
   ]
  },
  {
   "cell_type": "code",
   "execution_count": 60,
   "id": "2965ef51",
   "metadata": {
    "ExecuteTime": {
     "end_time": "2022-08-19T16:19:12.891146Z",
     "start_time": "2022-08-19T16:19:12.874347Z"
    }
   },
   "outputs": [
    {
     "name": "stdout",
     "output_type": "stream",
     "text": [
      "<class 'pandas.core.frame.DataFrame'>\n",
      "RangeIndex: 418 entries, 0 to 417\n",
      "Data columns (total 11 columns):\n",
      " #   Column       Non-Null Count  Dtype  \n",
      "---  ------       --------------  -----  \n",
      " 0   PassengerId  418 non-null    int64  \n",
      " 1   Pclass       418 non-null    int64  \n",
      " 2   Name         418 non-null    object \n",
      " 3   Sex          418 non-null    object \n",
      " 4   Age          332 non-null    float64\n",
      " 5   SibSp        418 non-null    int64  \n",
      " 6   Parch        418 non-null    int64  \n",
      " 7   Ticket       418 non-null    object \n",
      " 8   Fare         417 non-null    float64\n",
      " 9   Cabin        91 non-null     object \n",
      " 10  Embarked     418 non-null    object \n",
      "dtypes: float64(2), int64(4), object(5)\n",
      "memory usage: 36.0+ KB\n"
     ]
    }
   ],
   "source": [
    "test.info()"
   ]
  },
  {
   "cell_type": "code",
   "execution_count": 61,
   "id": "95c29988",
   "metadata": {
    "ExecuteTime": {
     "end_time": "2022-08-19T16:19:12.908369Z",
     "start_time": "2022-08-19T16:19:12.894514Z"
    }
   },
   "outputs": [
    {
     "data": {
      "text/plain": [
       "PassengerId      0\n",
       "Survived         0\n",
       "Pclass           0\n",
       "Name             0\n",
       "Sex              0\n",
       "Age            177\n",
       "SibSp            0\n",
       "Parch            0\n",
       "Ticket           0\n",
       "Fare             0\n",
       "Cabin          687\n",
       "Embarked         2\n",
       "dtype: int64"
      ]
     },
     "execution_count": 61,
     "metadata": {},
     "output_type": "execute_result"
    }
   ],
   "source": [
    "train.isnull().sum()"
   ]
  },
  {
   "cell_type": "code",
   "execution_count": 62,
   "id": "1ddef4ea",
   "metadata": {
    "ExecuteTime": {
     "end_time": "2022-08-19T16:19:12.927447Z",
     "start_time": "2022-08-19T16:19:12.911658Z"
    }
   },
   "outputs": [
    {
     "data": {
      "text/plain": [
       "PassengerId      0\n",
       "Pclass           0\n",
       "Name             0\n",
       "Sex              0\n",
       "Age             86\n",
       "SibSp            0\n",
       "Parch            0\n",
       "Ticket           0\n",
       "Fare             1\n",
       "Cabin          327\n",
       "Embarked         0\n",
       "dtype: int64"
      ]
     },
     "execution_count": 62,
     "metadata": {},
     "output_type": "execute_result"
    }
   ],
   "source": [
    "test.isnull().sum()"
   ]
  },
  {
   "cell_type": "markdown",
   "id": "7ef1290b",
   "metadata": {},
   "source": [
    "### EDA"
   ]
  },
  {
   "cell_type": "code",
   "execution_count": 63,
   "id": "2b393d11",
   "metadata": {
    "ExecuteTime": {
     "end_time": "2022-08-19T16:19:12.942981Z",
     "start_time": "2022-08-19T16:19:12.929894Z"
    }
   },
   "outputs": [],
   "source": [
    "def barchart(feature):\n",
    "    dead = train.loc[train['Survived'] == 0][feature].value_counts()\n",
    "    survive = train.loc[train['Survived'] == 1][feature].value_counts()\n",
    "    df = pd.DataFrame([survive, dead])\n",
    "    df.index = ['Survived', 'Dead']\n",
    "    df.plot(kind='bar', stacked=True, figsize=(10,8))\n",
    "    plt.xticks(rotation=0)"
   ]
  },
  {
   "cell_type": "code",
   "execution_count": 64,
   "id": "af2df186",
   "metadata": {
    "ExecuteTime": {
     "end_time": "2022-08-19T16:19:13.111157Z",
     "start_time": "2022-08-19T16:19:12.947163Z"
    }
   },
   "outputs": [
    {
     "data": {
      "image/png": "[encoded data removed]",
      "text/plain": [
       "<Figure size 720x576 with 1 Axes>"
      ]
     },
     "metadata": {},
     "output_type": "display_data"
    }
   ],
   "source": [
    "barchart('Sex')"
   ]
  },
  {
   "cell_type": "code",
   "execution_count": 65,
   "id": "0b230e13",
   "metadata": {
    "ExecuteTime": {
     "end_time": "2022-08-19T16:19:13.248927Z",
     "start_time": "2022-08-19T16:19:13.114736Z"
    }
   },
   "outputs": [
    {
     "data": {
      "image/png": "[encoded data removed]",
      "text/plain": [
       "<Figure size 720x576 with 1 Axes>"
      ]
     },
     "metadata": {},
     "output_type": "display_data"
    }
   ],
   "source": [
    "barchart('Pclass')"
   ]
  },
  {
   "cell_type": "code",
   "execution_count": 66,
   "id": "60d17343",
   "metadata": {
    "ExecuteTime": {
     "end_time": "2022-08-19T16:19:13.384947Z",
     "start_time": "2022-08-19T16:19:13.252261Z"
    }
   },
   "outputs": [
    {
     "data": {
      "image/png": "[encoded data removed]",
      "text/plain": [
       "<Figure size 720x576 with 1 Axes>"
      ]
     },
     "metadata": {},
     "output_type": "display_data"
    }
   ],
   "source": [
    "barchart('SibSp')"
   ]
  },
  {
   "cell_type": "code",
   "execution_count": 67,
   "id": "fa08cd8c",
   "metadata": {
    "ExecuteTime": {
     "end_time": "2022-08-19T16:19:13.533517Z",
     "start_time": "2022-08-19T16:19:13.386998Z"
    }
   },
   "outputs": [
    {
     "data": {
      "image/png": "[encoded data removed]",
      "text/plain": [
       "<Figure size 720x576 with 1 Axes>"
      ]
     },
     "metadata": {},
     "output_type": "display_data"
    }
   ],
   "source": [
    "barchart('Parch')"
   ]
  },
  {
   "cell_type": "code",
   "execution_count": 68,
   "id": "a5d7b1ac",
   "metadata": {
    "ExecuteTime": {
     "end_time": "2022-08-19T16:19:13.644793Z",
     "start_time": "2022-08-19T16:19:13.536594Z"
    }
   },
   "outputs": [
    {
     "data": {
      "image/png": "[encoded data removed]",
      "text/plain": [
       "<Figure size 720x576 with 1 Axes>"
      ]
     },
     "metadata": {},
     "output_type": "display_data"
    }
   ],
   "source": [
    "barchart('Embarked')"
   ]
  },
  {
   "cell_type": "markdown",
   "id": "e6c19581",
   "metadata": {},
   "source": [
    "### Feature Engineering"
   ]
  },
  {
   "cell_type": "markdown",
   "id": "848e988a",
   "metadata": {},
   "source": [
    "#### Change data Format \n",
    "\n",
    "<br>\n",
    "\n",
    "- String to Integer\n",
    "\n",
    "- Sequantial to Categorical data"
   ]
  },
  {
   "cell_type": "markdown",
   "id": "03e6f956",
   "metadata": {},
   "source": [
    "##### Name"
   ]
  },
  {
   "cell_type": "code",
   "execution_count": 69,
   "id": "98c04fcc",
   "metadata": {
    "ExecuteTime": {
     "end_time": "2022-08-19T16:19:13.654034Z",
     "start_time": "2022-08-19T16:19:13.647361Z"
    }
   },
   "outputs": [],
   "source": [
    "dataset = [train, test]\n",
    "\n",
    "for data in dataset:\n",
    "    data['Title'] = train['Name'].str.extract('([A-Za-z]+)\\.', expand=False)"
   ]
  },
  {
   "cell_type": "code",
   "execution_count": 70,
   "id": "33abf744",
   "metadata": {
    "ExecuteTime": {
     "end_time": "2022-08-19T16:19:13.680234Z",
     "start_time": "2022-08-19T16:19:13.657058Z"
    },
    "scrolled": true
   },
   "outputs": [
    {
     "data": {
      "text/plain": [
       "Mr          517\n",
       "Miss        182\n",
       "Mrs         125\n",
       "Master       40\n",
       "Dr            7\n",
       "Rev           6\n",
       "Mlle          2\n",
       "Major         2\n",
       "Col           2\n",
       "Countess      1\n",
       "Capt          1\n",
       "Ms            1\n",
       "Sir           1\n",
       "Lady          1\n",
       "Mme           1\n",
       "Don           1\n",
       "Jonkheer      1\n",
       "Name: Title, dtype: int64"
      ]
     },
     "execution_count": 70,
     "metadata": {},
     "output_type": "execute_result"
    }
   ],
   "source": [
    "train['Title'].value_counts()"
   ]
  },
  {
   "cell_type": "code",
   "execution_count": 71,
   "id": "c8b8f27f",
   "metadata": {
    "ExecuteTime": {
     "end_time": "2022-08-19T16:19:13.707872Z",
     "start_time": "2022-08-19T16:19:13.681902Z"
    }
   },
   "outputs": [],
   "source": [
    "def divide_title(string):\n",
    "    if string == \"Mr\":\n",
    "        title_int = 0\n",
    "    elif string == \"Miss\":\n",
    "        title_int = 1\n",
    "    elif string == \"Mrs\":\n",
    "        title_int = 2\n",
    "    else:\n",
    "        title_int = 3\n",
    "    return title_int\n",
    "\n",
    "title_list=[]\n",
    "\n",
    "for i in range(train.shape[0]):\n",
    "    title_int = divide_title(train['Title'].iloc[i])\n",
    "    title_list.append(title_int)\n",
    "\n",
    "train['Title_int'] = pd.DataFrame (title_list)\n",
    "\n",
    "title_list=[]\n",
    "\n",
    "for i in range(test.shape[0]):\n",
    "    title_int = divide_title(test['Title'].iloc[i])\n",
    "    title_list.append(title_int)\n",
    "\n",
    "test['Title_int'] = pd.DataFrame (title_list)"
   ]
  },
  {
   "cell_type": "code",
   "execution_count": 72,
   "id": "b3054a3f",
   "metadata": {
    "ExecuteTime": {
     "end_time": "2022-08-19T16:19:13.830576Z",
     "start_time": "2022-08-19T16:19:13.710546Z"
    }
   },
   "outputs": [
    {
     "data": {
      "image/png": "[encoded data removed]",
      "text/plain": [
       "<Figure size 720x576 with 1 Axes>"
      ]
     },
     "metadata": {},
     "output_type": "display_data"
    }
   ],
   "source": [
    "barchart('Title_int')"
   ]
  },
  {
   "cell_type": "code",
   "execution_count": 73,
   "id": "aba4be33",
   "metadata": {
    "ExecuteTime": {
     "end_time": "2022-08-19T16:19:13.838369Z",
     "start_time": "2022-08-19T16:19:13.832397Z"
    }
   },
   "outputs": [],
   "source": [
    "train.drop(columns=['Name', 'Title'], axis=1, inplace=True)\n",
    "test.drop(columns=['Name', 'Title'], axis=1, inplace=True)"
   ]
  },
  {
   "cell_type": "markdown",
   "id": "2fab61d0",
   "metadata": {},
   "source": [
    "##### Sex"
   ]
  },
  {
   "cell_type": "code",
   "execution_count": 74,
   "id": "85f57721",
   "metadata": {
    "ExecuteTime": {
     "end_time": "2022-08-19T16:19:13.861105Z",
     "start_time": "2022-08-19T16:19:13.841089Z"
    }
   },
   "outputs": [],
   "source": [
    "sex_mapping = {'male' : 0, 'female' : 1}\n",
    "\n",
    "for data in dataset:\n",
    "    data['Sex_int'] = data['Sex'].map(sex_mapping)\n",
    "\n",
    "train.drop(columns='Sex', axis=1, inplace=True)\n",
    "test.drop(columns='Sex', axis=1, inplace=True)"
   ]
  },
  {
   "cell_type": "markdown",
   "id": "8089e70e",
   "metadata": {},
   "source": [
    "##### Age"
   ]
  },
  {
   "cell_type": "code",
   "execution_count": 75,
   "id": "3206767a",
   "metadata": {
    "ExecuteTime": {
     "end_time": "2022-08-19T16:19:13.883214Z",
     "start_time": "2022-08-19T16:19:13.863488Z"
    }
   },
   "outputs": [
    {
     "data": {
      "text/plain": [
       "(177, 86)"
      ]
     },
     "execution_count": 75,
     "metadata": {},
     "output_type": "execute_result"
    }
   ],
   "source": [
    "train['Age'].isnull().sum(), test['Age'].isnull().sum()"
   ]
  },
  {
   "cell_type": "code",
   "execution_count": 76,
   "id": "66e03a02",
   "metadata": {
    "ExecuteTime": {
     "end_time": "2022-08-19T16:19:13.905132Z",
     "start_time": "2022-08-19T16:19:13.885074Z"
    }
   },
   "outputs": [
    {
     "data": {
      "text/plain": [
       "(0, 0)"
      ]
     },
     "execution_count": 76,
     "metadata": {},
     "output_type": "execute_result"
    }
   ],
   "source": [
    "for data in dataset:\n",
    "    data['Age'].fillna(data.groupby('Title_int')['Age'].transform('median'), inplace=True)\n",
    "train['Age'].isnull().sum(), test['Age'].isnull().sum()"
   ]
  },
  {
   "cell_type": "code",
   "execution_count": 77,
   "id": "60d03d52",
   "metadata": {
    "ExecuteTime": {
     "end_time": "2022-08-19T16:19:14.191554Z",
     "start_time": "2022-08-19T16:19:13.907023Z"
    }
   },
   "outputs": [
    {
     "data": {
      "text/plain": [
       "<seaborn.axisgrid.FacetGrid at 0x7f0abbb28990>"
      ]
     },
     "execution_count": 77,
     "metadata": {},
     "output_type": "execute_result"
    },
    {
     "data": {
      "image/png": "[encoded data removed]",
      "text/plain": [
       "<Figure size 925.55x216 with 1 Axes>"
      ]
     },
     "metadata": {},
     "output_type": "display_data"
    }
   ],
   "source": [
    "facet = sns.FacetGrid(train, hue='Survived',aspect=4)\n",
    "facet.map(sns.kdeplot, 'Age', shade=True)\n",
    "plt.xlim(0, train['Age'].max())\n",
    "facet.add_legend()"
   ]
  },
  {
   "cell_type": "code",
   "execution_count": 78,
   "id": "7ff484b3",
   "metadata": {
    "ExecuteTime": {
     "end_time": "2022-08-19T16:19:14.221953Z",
     "start_time": "2022-08-19T16:19:14.194992Z"
    }
   },
   "outputs": [],
   "source": [
    "age_quantile = train['Age'].quantile([0.2, 0.4, 0.6, 0.8])\n",
    "\n",
    "for data in dataset:\n",
    "    data.loc[data['Age'] <= age_quantile.iloc[0], 'Age_enc'] = 0\n",
    "    data.loc[(data['Age'] > age_quantile.iloc[0]) & (data['Age'] <= age_quantile.iloc[1]), 'Age_enc'] = 1\n",
    "    data.loc[(data['Age'] > age_quantile.iloc[1])&(data['Age'] <= age_quantile.iloc[2]), 'Age_enc'] = 2\n",
    "    data.loc[(data['Age'] > age_quantile.iloc[2])&(data['Age'] <= age_quantile.iloc[3]), 'Age_enc'] = 3\n",
    "    data.loc[(data['Age'] > age_quantile.iloc[3]), 'Age_enc'] = 4\n",
    "\n",
    "for data in dataset:\n",
    "    data.drop(columns='Age', axis=1, inplace=True)"
   ]
  },
  {
   "cell_type": "code",
   "execution_count": 79,
   "id": "e3c231c4",
   "metadata": {
    "ExecuteTime": {
     "end_time": "2022-08-19T16:19:14.351565Z",
     "start_time": "2022-08-19T16:19:14.224868Z"
    }
   },
   "outputs": [
    {
     "data": {
      "image/png": "[encoded data removed]",
      "text/plain": [
       "<Figure size 720x576 with 1 Axes>"
      ]
     },
     "metadata": {},
     "output_type": "display_data"
    }
   ],
   "source": [
    "barchart('Age_enc')"
   ]
  },
  {
   "cell_type": "markdown",
   "id": "cadae23f",
   "metadata": {},
   "source": [
    "##### Embarked"
   ]
  },
  {
   "cell_type": "code",
   "execution_count": 80,
   "id": "2fb556d8",
   "metadata": {
    "ExecuteTime": {
     "end_time": "2022-08-19T16:19:14.358861Z",
     "start_time": "2022-08-19T16:19:14.353428Z"
    }
   },
   "outputs": [
    {
     "data": {
      "text/plain": [
       "array(['S', 'C', 'Q', nan], dtype=object)"
      ]
     },
     "execution_count": 80,
     "metadata": {},
     "output_type": "execute_result"
    }
   ],
   "source": [
    "train['Embarked'].unique()"
   ]
  },
  {
   "cell_type": "code",
   "execution_count": 81,
   "id": "033116e5",
   "metadata": {
    "ExecuteTime": {
     "end_time": "2022-08-19T16:19:14.489263Z",
     "start_time": "2022-08-19T16:19:14.360952Z"
    }
   },
   "outputs": [
    {
     "data": {
      "text/plain": [
       "<AxesSubplot:>"
      ]
     },
     "execution_count": 81,
     "metadata": {},
     "output_type": "execute_result"
    },
    {
     "data": {
      "image/png": "[encoded data removed]",
      "text/plain": [
       "<Figure size 720x576 with 1 Axes>"
      ]
     },
     "metadata": {},
     "output_type": "display_data"
    }
   ],
   "source": [
    "pclass1 = train.loc[train['Pclass'] == 1]['Embarked'].value_counts()\n",
    "pclass2 = train.loc[train['Pclass'] == 2]['Embarked'].value_counts()\n",
    "pclass3 = train.loc[train['Pclass'] == 3]['Embarked'].value_counts()\n",
    "\n",
    "pclass = pd.DataFrame([pclass1, pclass2, pclass3], index=['1st', '2nd', '3rd'])\n",
    "pclass.plot(kind='bar', stacked=True, figsize=(10,8))"
   ]
  },
  {
   "cell_type": "code",
   "execution_count": 82,
   "id": "725175c6",
   "metadata": {
    "ExecuteTime": {
     "end_time": "2022-08-19T16:19:14.496303Z",
     "start_time": "2022-08-19T16:19:14.491041Z"
    }
   },
   "outputs": [],
   "source": [
    "for data in dataset:\n",
    "    data['Embarked'].fillna('S', inplace=True)"
   ]
  },
  {
   "cell_type": "code",
   "execution_count": 83,
   "id": "5196c577",
   "metadata": {
    "ExecuteTime": {
     "end_time": "2022-08-19T16:19:14.517791Z",
     "start_time": "2022-08-19T16:19:14.498731Z"
    }
   },
   "outputs": [],
   "source": [
    "embarked_mapping = {'S':0, 'C':1, 'Q':2}\n",
    "\n",
    "for data in dataset:\n",
    "    data['Embarked_enc'] = data['Embarked'].map(embarked_mapping)\n",
    "    data.drop(columns='Embarked', axis=1, inplace=True)"
   ]
  },
  {
   "cell_type": "code",
   "execution_count": 84,
   "id": "8ea86fe4",
   "metadata": {
    "ExecuteTime": {
     "end_time": "2022-08-19T16:19:14.537777Z",
     "start_time": "2022-08-19T16:19:14.521487Z"
    }
   },
   "outputs": [],
   "source": [
    "for data in dataset:\n",
    "    data['Fare'].fillna(data.groupby('Pclass')['Fare'].transform('median'), inplace=True)"
   ]
  },
  {
   "cell_type": "code",
   "execution_count": 85,
   "id": "d70769c0",
   "metadata": {
    "ExecuteTime": {
     "end_time": "2022-08-19T16:19:14.568157Z",
     "start_time": "2022-08-19T16:19:14.540110Z"
    }
   },
   "outputs": [],
   "source": [
    "fare_quantile = train['Fare'].quantile([0.2, 0.4, 0.6, 0.8])\n",
    "\n",
    "for data in dataset:\n",
    "    data.loc[data['Fare'] <= fare_quantile.iloc[0], 'Fare_enc'] = 0\n",
    "    data.loc[(data['Fare'] > fare_quantile.iloc[0]) & (data['Fare'] <= fare_quantile.iloc[1]), 'Fare_enc'] = 1\n",
    "    data.loc[(data['Fare'] > fare_quantile.iloc[1])&(data['Fare'] <= fare_quantile.iloc[2]), 'Fare_enc'] = 2\n",
    "    data.loc[(data['Fare'] > fare_quantile.iloc[2])&(data['Fare'] <= fare_quantile.iloc[3]), 'Fare_enc'] = 3\n",
    "    data.loc[(data['Fare'] > fare_quantile.iloc[3]), 'Fare_enc'] = 4\n",
    "    data.drop(columns='Fare', axis=1, inplace=True)"
   ]
  },
  {
   "cell_type": "markdown",
   "id": "f1eeabc1",
   "metadata": {
    "ExecuteTime": {
     "end_time": "2022-08-19T15:43:40.136067Z",
     "start_time": "2022-08-19T15:43:40.110328Z"
    }
   },
   "source": [
    "##### Cabin"
   ]
  },
  {
   "cell_type": "code",
   "execution_count": 86,
   "id": "144a4695",
   "metadata": {
    "ExecuteTime": {
     "end_time": "2022-08-19T16:19:14.587328Z",
     "start_time": "2022-08-19T16:19:14.570279Z"
    }
   },
   "outputs": [
    {
     "data": {
      "text/plain": [
       "687"
      ]
     },
     "execution_count": 86,
     "metadata": {},
     "output_type": "execute_result"
    }
   ],
   "source": [
    "train['Cabin'].isna().sum()"
   ]
  },
  {
   "cell_type": "code",
   "execution_count": 87,
   "id": "920f58a2",
   "metadata": {
    "ExecuteTime": {
     "end_time": "2022-08-19T16:19:14.603324Z",
     "start_time": "2022-08-19T16:19:14.589017Z"
    }
   },
   "outputs": [],
   "source": [
    "for data in dataset:\n",
    "    data.drop(columns='Cabin', axis=1, inplace=True)"
   ]
  },
  {
   "cell_type": "markdown",
   "id": "000b82b8",
   "metadata": {},
   "source": [
    "##### Family Size"
   ]
  },
  {
   "cell_type": "code",
   "execution_count": 88,
   "id": "f6da273a",
   "metadata": {
    "ExecuteTime": {
     "end_time": "2022-08-19T16:19:14.625184Z",
     "start_time": "2022-08-19T16:19:14.605058Z"
    }
   },
   "outputs": [],
   "source": [
    "train['familysize'] = train['SibSp'] + train['Parch'] + 1\n",
    "test['familysize'] = test['SibSp'] + test['Parch'] + 1"
   ]
  },
  {
   "cell_type": "code",
   "execution_count": 89,
   "id": "00e9220c",
   "metadata": {
    "ExecuteTime": {
     "end_time": "2022-08-19T16:19:14.642799Z",
     "start_time": "2022-08-19T16:19:14.627773Z"
    }
   },
   "outputs": [],
   "source": [
    "for data in dataset:\n",
    "    data.drop(columns=['SibSp', 'Parch'], axis=1, inplace=True)"
   ]
  },
  {
   "cell_type": "markdown",
   "id": "f5820ce6",
   "metadata": {},
   "source": [
    "##### Ticket"
   ]
  },
  {
   "cell_type": "code",
   "execution_count": 90,
   "id": "962ba6a0",
   "metadata": {
    "ExecuteTime": {
     "end_time": "2022-08-19T16:19:14.660110Z",
     "start_time": "2022-08-19T16:19:14.644895Z"
    }
   },
   "outputs": [],
   "source": [
    "for data in dataset:\n",
    "    data.drop(columns='Ticket', axis=1, inplace=True)"
   ]
  },
  {
   "cell_type": "code",
   "execution_count": 91,
   "id": "684bdebb",
   "metadata": {
    "ExecuteTime": {
     "end_time": "2022-08-19T16:19:14.676745Z",
     "start_time": "2022-08-19T16:19:14.662743Z"
    }
   },
   "outputs": [],
   "source": [
    "target = train['Survived']\n",
    "train = train.drop(columns=['Survived', 'PassengerId'])"
   ]
  },
  {
   "cell_type": "markdown",
   "id": "e4c5ccdd",
   "metadata": {},
   "source": [
    "### ML Modeling"
   ]
  },
  {
   "cell_type": "code",
   "execution_count": 92,
   "id": "260be8ec",
   "metadata": {
    "ExecuteTime": {
     "end_time": "2022-08-19T16:19:15.678287Z",
     "start_time": "2022-08-19T16:19:14.680277Z"
    }
   },
   "outputs": [
    {
     "name": "stdout",
     "output_type": "stream",
     "text": [
      "DecisionTreeClassifier() Score : 0.79\n",
      "KNeighborsClassifier(n_jobs=-1) Score : 0.8\n",
      "RandomForestClassifier() Score : 0.81\n",
      "GradientBoostingClassifier() Score : 0.83\n",
      "SVC() Score : 0.82\n"
     ]
    }
   ],
   "source": [
    "from sklearn.metrics import accuracy_score\n",
    "from sklearn.model_selection import train_test_split, GridSearchCV, cross_val_score, KFold\n",
    "\n",
    "from sklearn.tree import DecisionTreeClassifier as DT\n",
    "from sklearn.ensemble import RandomForestClassifier as RFC\n",
    "from sklearn.neighbors import KNeighborsClassifier as KNN\n",
    "from sklearn.ensemble import GradientBoostingClassifier as GBM\n",
    "from sklearn.svm import SVC\n",
    "\n",
    "k_fold = KFold(n_splits=10, shuffle=True, random_state=0)\n",
    "clf_list = [DT(), KNN(n_neighbors=5, n_jobs=-1), RFC(), GBM(), SVC()]\n",
    "\n",
    "for clf in clf_list:\n",
    "    score = cross_val_score(clf, train, target, cv=k_fold, n_jobs=-1, scoring='accuracy').mean()\n",
    "    print(f\"{str(clf)} Score : {np.round(score,2)}\")"
   ]
  },
  {
   "cell_type": "code",
   "execution_count": 101,
   "id": "4fbe474e",
   "metadata": {
    "ExecuteTime": {
     "end_time": "2022-08-19T16:25:32.951922Z",
     "start_time": "2022-08-19T16:25:32.822677Z"
    }
   },
   "outputs": [],
   "source": [
    "clf = RFC()\n",
    "clf.fit(train, target)\n",
    "\n",
    "test1 = test.drop(columns='PassengerId')\n",
    "\n",
    "result = clf.predict(test1)"
   ]
  },
  {
   "cell_type": "code",
   "execution_count": 102,
   "id": "f40ab6f1",
   "metadata": {
    "ExecuteTime": {
     "end_time": "2022-08-19T16:25:33.056858Z",
     "start_time": "2022-08-19T16:25:33.045224Z"
    }
   },
   "outputs": [],
   "source": [
    "submission = pd.DataFrame({\n",
    "    \"PassengerId\" : test[\"PassengerId\"],\n",
    "    'Survived' : result\n",
    "})\n",
    "submission.to_csv('submission.csv', index=False)"
   ]
  },
  {
   "cell_type": "code",
   "execution_count": 103,
   "id": "5e5b066e",
   "metadata": {
    "ExecuteTime": {
     "end_time": "2022-08-19T16:25:33.129982Z",
     "start_time": "2022-08-19T16:25:33.113718Z"
    }
   },
   "outputs": [
    {
     "data": {
      "text/html": [
       "<div>\n",
       "<style scoped>\n",
       "    .dataframe tbody tr th:only-of-type {\n",
       "        vertical-align: middle;\n",
       "    }\n",
       "\n",
       "    .dataframe tbody tr th {\n",
       "        vertical-align: top;\n",
       "    }\n",
       "\n",
       "    .dataframe thead th {\n",
       "        text-align: right;\n",
       "    }\n",
       "</style>\n",
       "<table border=\"1\" class=\"dataframe\">\n",
       "  <thead>\n",
       "    <tr style=\"text-align: right;\">\n",
       "      <th></th>\n",
       "      <th>PassengerId</th>\n",
       "      <th>Survived</th>\n",
       "    </tr>\n",
       "  </thead>\n",
       "  <tbody>\n",
       "    <tr>\n",
       "      <th>0</th>\n",
       "      <td>892</td>\n",
       "      <td>0</td>\n",
       "    </tr>\n",
       "    <tr>\n",
       "      <th>1</th>\n",
       "      <td>893</td>\n",
       "      <td>0</td>\n",
       "    </tr>\n",
       "    <tr>\n",
       "      <th>2</th>\n",
       "      <td>894</td>\n",
       "      <td>0</td>\n",
       "    </tr>\n",
       "    <tr>\n",
       "      <th>3</th>\n",
       "      <td>895</td>\n",
       "      <td>0</td>\n",
       "    </tr>\n",
       "    <tr>\n",
       "      <th>4</th>\n",
       "      <td>896</td>\n",
       "      <td>0</td>\n",
       "    </tr>\n",
       "    <tr>\n",
       "      <th>...</th>\n",
       "      <td>...</td>\n",
       "      <td>...</td>\n",
       "    </tr>\n",
       "    <tr>\n",
       "      <th>413</th>\n",
       "      <td>1305</td>\n",
       "      <td>0</td>\n",
       "    </tr>\n",
       "    <tr>\n",
       "      <th>414</th>\n",
       "      <td>1306</td>\n",
       "      <td>1</td>\n",
       "    </tr>\n",
       "    <tr>\n",
       "      <th>415</th>\n",
       "      <td>1307</td>\n",
       "      <td>0</td>\n",
       "    </tr>\n",
       "    <tr>\n",
       "      <th>416</th>\n",
       "      <td>1308</td>\n",
       "      <td>0</td>\n",
       "    </tr>\n",
       "    <tr>\n",
       "      <th>417</th>\n",
       "      <td>1309</td>\n",
       "      <td>0</td>\n",
       "    </tr>\n",
       "  </tbody>\n",
       "</table>\n",
       "<p>418 rows × 2 columns</p>\n",
       "</div>"
      ],
      "text/plain": [
       "     PassengerId  Survived\n",
       "0            892         0\n",
       "1            893         0\n",
       "2            894         0\n",
       "3            895         0\n",
       "4            896         0\n",
       "..           ...       ...\n",
       "413         1305         0\n",
       "414         1306         1\n",
       "415         1307         0\n",
       "416         1308         0\n",
       "417         1309         0\n",
       "\n",
       "[418 rows x 2 columns]"
      ]
     },
     "execution_count": 103,
     "metadata": {},
     "output_type": "execute_result"
    }
   ],
   "source": [
    "submission = pd.read_csv(\"./submission.csv\")\n",
    "submission"
   ]
  },
  {
   "cell_type": "code",
   "execution_count": null,
   "id": "d177eeda",
   "metadata": {},
   "outputs": [],
   "source": []
  },
  {
   "cell_type": "code",
   "execution_count": null,
   "id": "09a39c14",
   "metadata": {},
   "outputs": [],
   "source": []
  },
  {
   "cell_type": "code",
   "execution_count": null,
   "id": "73e8d444",
   "metadata": {},
   "outputs": [],
   "source": []
  },
  {
   "cell_type": "code",
   "execution_count": null,
   "id": "198259a6",
   "metadata": {},
   "outputs": [],
   "source": []
  }
 ],
 "metadata": {
  "kernelspec": {
   "display_name": "Python 3 (ipykernel)",
   "language": "python",
   "name": "python3"
  },
  "language_info": {
   "codemirror_mode": {
    "name": "ipython",
    "version": 3
   },
   "file_extension": ".py",
   "mimetype": "text/x-python",
   "name": "python",
   "nbconvert_exporter": "python",
   "pygments_lexer": "ipython3",
   "version": "3.7.7"
  }
 },
 "nbformat": 4,
 "nbformat_minor": 5
}
