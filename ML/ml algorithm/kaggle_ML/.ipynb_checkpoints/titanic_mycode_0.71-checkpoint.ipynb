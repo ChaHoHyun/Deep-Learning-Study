{
 "cells": [
  {
   "cell_type": "markdown",
   "id": "2dd6758f",
   "metadata": {},
   "source": [
    "## Titanic - Machine Learning from Disaster"
   ]
  },
  {
   "cell_type": "markdown",
   "id": "96f9898b",
   "metadata": {},
   "source": [
    "<img src=\"https://static1.squarespace.com/static/5006453fe4b09ef2252ba068/5095eabce4b06cb305058603/5095eabce4b02d37bef4c24c/1352002236895/100_anniversary_titanic_sinking_by_esai8mellows-d4xbme8.jpg\" alt=\"Titanic Disaster\" style=\"width: 720px;\"/>\n",
    "\n",
    "<p style=\"text-align: center;\">\n",
    "  <small>\n",
    "    [See <a href=\"https://www.kaggle.com/c/titanic/overview\">Titanic - Machine Learning from Disaster (Kaggle URL)</a>]\n",
    "  </small>\n",
    "</p>"
   ]
  },
  {
   "cell_type": "markdown",
   "id": "f43c807a",
   "metadata": {},
   "source": [
    "##### Overview"
   ]
  },
  {
   "cell_type": "markdown",
   "id": "f8bb230e",
   "metadata": {},
   "source": [
    "- object : The competition is simple: use machine learning to create a model that predicts which passengers survived the Titanic shipwreck.\n",
    "- evaluation<br>\n",
    "  $Accuracy=\\frac{TP + TN}{TP + TN + FP + FN}$\n",
    "  - where TP = True positive; FP = False positive; TN = True negative; FN = False negative"
   ]
  },
  {
   "cell_type": "markdown",
   "id": "f12bec3e",
   "metadata": {},
   "source": [
    "##### Data"
   ]
  },
  {
   "cell_type": "markdown",
   "id": "26b95d60",
   "metadata": {},
   "source": [
    " * Survived : 0 = died, 1 = survived\n",
    "<br>\n",
    "\n",
    " * Pclass : Ticket class for passengers\n",
    "   - 1st = Upper\n",
    "   - 2nd = Middle\n",
    "   - 3rd = Lower\n",
    "<br>\n",
    "\n",
    " * Sex : gender of passengers (composed of male and female)\n",
    "<br>\n",
    "\n",
    " * Age : Passenger's age (if age less than 1, it's fractional)\n",
    "<br>\n",
    "\n",
    " * Sibsp : The sibsp defines family relations in this way.\n",
    "   - Sibling = brother, sister, stepbrother, stepsister\n",
    "   - Spouse = husband, wife\n",
    "<br>\n",
    "\n",
    " * Parch : The parch defines family relations \n",
    "   - Parent = mother, father\n",
    "   - Child = daughter, son, stepdaughter, stepson\n",
    "<br>\n",
    "\n",
    " * Ticket : Number of ticket\n",
    " <br>\n",
    " \n",
    " * Fare : Fare fee of Titanic\n",
    " <br>\n",
    " \n",
    " * cabin : Cabin number\n",
    " <br>\n",
    " \n",
    " * embarked : Port of Embarkation \n",
    "   - C = Cherbourg\n",
    "   - Q = Queenstown\n",
    "   - S = Southampton"
   ]
  },
  {
   "cell_type": "markdown",
   "id": "7dde442a",
   "metadata": {},
   "source": [
    "### Collecting CSV data"
   ]
  },
  {
   "cell_type": "code",
   "execution_count": 73,
   "id": "43fed1cb",
   "metadata": {
    "ExecuteTime": {
     "end_time": "2022-08-21T09:32:40.167463Z",
     "start_time": "2022-08-21T09:32:40.159718Z"
    }
   },
   "outputs": [],
   "source": [
    "import pandas as pd\n",
    "import numpy as np\n",
    "import matplotlib.pyplot as plt\n",
    "import seaborn as sns\n",
    "sns.set()\n",
    "sns.set_style(\"whitegrid\")"
   ]
  },
  {
   "cell_type": "code",
   "execution_count": 74,
   "id": "c999f1b9",
   "metadata": {
    "ExecuteTime": {
     "end_time": "2022-08-21T09:32:40.380241Z",
     "start_time": "2022-08-21T09:32:40.313307Z"
    }
   },
   "outputs": [
    {
     "data": {
      "text/plain": [
       "((891, 12), (418, 11))"
      ]
     },
     "execution_count": 74,
     "metadata": {},
     "output_type": "execute_result"
    }
   ],
   "source": [
    "train = pd.read_csv(\"../titanic/train.csv\")\n",
    "test = pd.read_csv(\"../titanic/test.csv\")\n",
    "\n",
    "train.shape, test.shape"
   ]
  },
  {
   "cell_type": "markdown",
   "id": "4147eed6",
   "metadata": {},
   "source": [
    "##### Check Nan Data & Data type(int, str)"
   ]
  },
  {
   "cell_type": "code",
   "execution_count": 75,
   "id": "75b05139",
   "metadata": {
    "ExecuteTime": {
     "end_time": "2022-08-21T09:32:40.633009Z",
     "start_time": "2022-08-21T09:32:40.607546Z"
    }
   },
   "outputs": [
    {
     "name": "stdout",
     "output_type": "stream",
     "text": [
      "<class 'pandas.core.frame.DataFrame'>\n",
      "RangeIndex: 891 entries, 0 to 890\n",
      "Data columns (total 12 columns):\n",
      " #   Column       Non-Null Count  Dtype  \n",
      "---  ------       --------------  -----  \n",
      " 0   PassengerId  891 non-null    int64  \n",
      " 1   Survived     891 non-null    int64  \n",
      " 2   Pclass       891 non-null    int64  \n",
      " 3   Name         891 non-null    object \n",
      " 4   Sex          891 non-null    object \n",
      " 5   Age          714 non-null    float64\n",
      " 6   SibSp        891 non-null    int64  \n",
      " 7   Parch        891 non-null    int64  \n",
      " 8   Ticket       891 non-null    object \n",
      " 9   Fare         891 non-null    float64\n",
      " 10  Cabin        204 non-null    object \n",
      " 11  Embarked     889 non-null    object \n",
      "dtypes: float64(2), int64(5), object(5)\n",
      "memory usage: 83.7+ KB\n"
     ]
    }
   ],
   "source": [
    "train.info()"
   ]
  },
  {
   "cell_type": "code",
   "execution_count": 76,
   "id": "2965ef51",
   "metadata": {
    "ExecuteTime": {
     "end_time": "2022-08-21T09:32:40.785983Z",
     "start_time": "2022-08-21T09:32:40.772337Z"
    }
   },
   "outputs": [
    {
     "name": "stdout",
     "output_type": "stream",
     "text": [
      "<class 'pandas.core.frame.DataFrame'>\n",
      "RangeIndex: 418 entries, 0 to 417\n",
      "Data columns (total 11 columns):\n",
      " #   Column       Non-Null Count  Dtype  \n",
      "---  ------       --------------  -----  \n",
      " 0   PassengerId  418 non-null    int64  \n",
      " 1   Pclass       418 non-null    int64  \n",
      " 2   Name         418 non-null    object \n",
      " 3   Sex          418 non-null    object \n",
      " 4   Age          332 non-null    float64\n",
      " 5   SibSp        418 non-null    int64  \n",
      " 6   Parch        418 non-null    int64  \n",
      " 7   Ticket       418 non-null    object \n",
      " 8   Fare         417 non-null    float64\n",
      " 9   Cabin        91 non-null     object \n",
      " 10  Embarked     418 non-null    object \n",
      "dtypes: float64(2), int64(4), object(5)\n",
      "memory usage: 36.0+ KB\n"
     ]
    }
   ],
   "source": [
    "test.info()"
   ]
  },
  {
   "cell_type": "code",
   "execution_count": 77,
   "id": "95c29988",
   "metadata": {
    "ExecuteTime": {
     "end_time": "2022-08-21T09:32:40.974342Z",
     "start_time": "2022-08-21T09:32:40.966469Z"
    }
   },
   "outputs": [
    {
     "data": {
      "text/plain": [
       "PassengerId      0\n",
       "Survived         0\n",
       "Pclass           0\n",
       "Name             0\n",
       "Sex              0\n",
       "Age            177\n",
       "SibSp            0\n",
       "Parch            0\n",
       "Ticket           0\n",
       "Fare             0\n",
       "Cabin          687\n",
       "Embarked         2\n",
       "dtype: int64"
      ]
     },
     "execution_count": 77,
     "metadata": {},
     "output_type": "execute_result"
    }
   ],
   "source": [
    "train.isnull().sum()"
   ]
  },
  {
   "cell_type": "code",
   "execution_count": 78,
   "id": "1ddef4ea",
   "metadata": {
    "ExecuteTime": {
     "end_time": "2022-08-21T09:32:41.428252Z",
     "start_time": "2022-08-21T09:32:41.420049Z"
    }
   },
   "outputs": [
    {
     "data": {
      "text/plain": [
       "PassengerId      0\n",
       "Pclass           0\n",
       "Name             0\n",
       "Sex              0\n",
       "Age             86\n",
       "SibSp            0\n",
       "Parch            0\n",
       "Ticket           0\n",
       "Fare             1\n",
       "Cabin          327\n",
       "Embarked         0\n",
       "dtype: int64"
      ]
     },
     "execution_count": 78,
     "metadata": {},
     "output_type": "execute_result"
    }
   ],
   "source": [
    "test.isnull().sum()"
   ]
  },
  {
   "cell_type": "markdown",
   "id": "7ef1290b",
   "metadata": {},
   "source": [
    "### EDA"
   ]
  },
  {
   "cell_type": "code",
   "execution_count": 7,
   "id": "2b393d11",
   "metadata": {
    "ExecuteTime": {
     "end_time": "2022-08-21T06:35:25.817272Z",
     "start_time": "2022-08-21T06:35:25.807910Z"
    }
   },
   "outputs": [],
   "source": [
    "def barchart(feature):\n",
    "    dead = train.loc[train['Survived'] == 0][feature].value_counts()\n",
    "    survive = train.loc[train['Survived'] == 1][feature].value_counts()\n",
    "    df = pd.DataFrame([survive, dead])\n",
    "    df.index = ['Survived', 'Dead']\n",
    "    df.plot(kind='bar', stacked=True, figsize=(10,8))\n",
    "    plt.xticks(rotation=0)"
   ]
  },
  {
   "cell_type": "code",
   "execution_count": 158,
   "id": "755d49e8",
   "metadata": {
    "ExecuteTime": {
     "end_time": "2022-08-21T11:01:26.919858Z",
     "start_time": "2022-08-21T11:01:26.909641Z"
    }
   },
   "outputs": [
    {
     "data": {
      "text/plain": [
       "(male      468\n",
       " female     81\n",
       " Name: Sex, dtype: int64,\n",
       " female    233\n",
       " male      109\n",
       " Name: Sex, dtype: int64)"
      ]
     },
     "execution_count": 158,
     "metadata": {},
     "output_type": "execute_result"
    }
   ],
   "source": [
    "train.loc[train['Survived'] == 0]['Sex'].value_counts(), train.loc[train['Survived'] == 1]['Sex'].value_counts()"
   ]
  },
  {
   "cell_type": "code",
   "execution_count": 8,
   "id": "af2df186",
   "metadata": {
    "ExecuteTime": {
     "end_time": "2022-08-21T06:35:25.946510Z",
     "start_time": "2022-08-21T06:35:25.819680Z"
    }
   },
   "outputs": [
    {
     "data": {
      "image/png": "[encoded data removed]",
      "text/plain": [
       "<Figure size 720x576 with 1 Axes>"
      ]
     },
     "metadata": {},
     "output_type": "display_data"
    }
   ],
   "source": [
    "barchart('Sex')"
   ]
  },
  {
   "cell_type": "code",
   "execution_count": 9,
   "id": "0b230e13",
   "metadata": {
    "ExecuteTime": {
     "end_time": "2022-08-21T06:35:26.046582Z",
     "start_time": "2022-08-21T06:35:25.948920Z"
    }
   },
   "outputs": [
    {
     "data": {
      "image/png": "[encoded data removed]",
      "text/plain": [
       "<Figure size 720x576 with 1 Axes>"
      ]
     },
     "metadata": {},
     "output_type": "display_data"
    }
   ],
   "source": [
    "barchart('Pclass')"
   ]
  },
  {
   "cell_type": "code",
   "execution_count": 10,
   "id": "60d17343",
   "metadata": {
    "ExecuteTime": {
     "end_time": "2022-08-21T06:35:26.189171Z",
     "start_time": "2022-08-21T06:35:26.049185Z"
    }
   },
   "outputs": [
    {
     "data": {
      "image/png": "[encoded data removed]",
      "text/plain": [
       "<Figure size 720x576 with 1 Axes>"
      ]
     },
     "metadata": {},
     "output_type": "display_data"
    }
   ],
   "source": [
    "barchart('SibSp')"
   ]
  },
  {
   "cell_type": "code",
   "execution_count": 11,
   "id": "fa08cd8c",
   "metadata": {
    "ExecuteTime": {
     "end_time": "2022-08-21T06:35:26.327827Z",
     "start_time": "2022-08-21T06:35:26.191881Z"
    }
   },
   "outputs": [
    {
     "data": {
      "image/png": "[encoded data removed]",
      "text/plain": [
       "<Figure size 720x576 with 1 Axes>"
      ]
     },
     "metadata": {},
     "output_type": "display_data"
    }
   ],
   "source": [
    "barchart('Parch')"
   ]
  },
  {
   "cell_type": "code",
   "execution_count": 12,
   "id": "a5d7b1ac",
   "metadata": {
    "ExecuteTime": {
     "end_time": "2022-08-21T06:35:26.615693Z",
     "start_time": "2022-08-21T06:35:26.333599Z"
    }
   },
   "outputs": [
    {
     "data": {
      "image/png": "[encoded data removed]",
      "text/plain": [
       "<Figure size 720x576 with 1 Axes>"
      ]
     },
     "metadata": {},
     "output_type": "display_data"
    }
   ],
   "source": [
    "barchart('Embarked')"
   ]
  },
  {
   "cell_type": "markdown",
   "id": "e6c19581",
   "metadata": {},
   "source": [
    "### Feature Engineering"
   ]
  },
  {
   "cell_type": "markdown",
   "id": "848e988a",
   "metadata": {},
   "source": [
    "#### Change data Format \n",
    "\n",
    "<br>\n",
    "\n",
    "- String to Integer\n",
    "\n",
    "- Sequantial to Categorical data"
   ]
  },
  {
   "cell_type": "markdown",
   "id": "03e6f956",
   "metadata": {},
   "source": [
    "##### Name"
   ]
  },
  {
   "cell_type": "code",
   "execution_count": 13,
   "id": "98c04fcc",
   "metadata": {
    "ExecuteTime": {
     "end_time": "2022-08-21T06:35:26.629799Z",
     "start_time": "2022-08-21T06:35:26.620598Z"
    }
   },
   "outputs": [],
   "source": [
    "dataset = [train, test]\n",
    "\n",
    "for data in dataset:\n",
    "    data['Title'] = train['Name'].str.extract('([A-Za-z]+)\\.', expand=False)"
   ]
  },
  {
   "cell_type": "code",
   "execution_count": 14,
   "id": "33abf744",
   "metadata": {
    "ExecuteTime": {
     "end_time": "2022-08-21T06:35:26.641513Z",
     "start_time": "2022-08-21T06:35:26.632485Z"
    },
    "scrolled": true
   },
   "outputs": [
    {
     "data": {
      "text/plain": [
       "Mr          517\n",
       "Miss        182\n",
       "Mrs         125\n",
       "Master       40\n",
       "Dr            7\n",
       "Rev           6\n",
       "Mlle          2\n",
       "Major         2\n",
       "Col           2\n",
       "Countess      1\n",
       "Capt          1\n",
       "Ms            1\n",
       "Sir           1\n",
       "Lady          1\n",
       "Mme           1\n",
       "Don           1\n",
       "Jonkheer      1\n",
       "Name: Title, dtype: int64"
      ]
     },
     "execution_count": 14,
     "metadata": {},
     "output_type": "execute_result"
    }
   ],
   "source": [
    "train['Title'].value_counts()"
   ]
  },
  {
   "cell_type": "code",
   "execution_count": 71,
   "id": "c8b8f27f",
   "metadata": {
    "ExecuteTime": {
     "end_time": "2022-08-21T07:08:31.055798Z",
     "start_time": "2022-08-21T07:08:31.002040Z"
    },
    "scrolled": true
   },
   "outputs": [
    {
     "ename": "KeyError",
     "evalue": "'Title'",
     "output_type": "error",
     "traceback": [
      "\u001b[0;31m---------------------------------------------------------------------------\u001b[0m",
      "\u001b[0;31mKeyError\u001b[0m                                  Traceback (most recent call last)",
      "\u001b[0;32m~/anaconda3/lib/python3.7/site-packages/pandas/core/indexes/base.py\u001b[0m in \u001b[0;36mget_loc\u001b[0;34m(self, key, method, tolerance)\u001b[0m\n\u001b[1;32m   3360\u001b[0m             \u001b[0;32mtry\u001b[0m\u001b[0;34m:\u001b[0m\u001b[0;34m\u001b[0m\u001b[0;34m\u001b[0m\u001b[0m\n\u001b[0;32m-> 3361\u001b[0;31m                 \u001b[0;32mreturn\u001b[0m \u001b[0mself\u001b[0m\u001b[0;34m.\u001b[0m\u001b[0m_engine\u001b[0m\u001b[0;34m.\u001b[0m\u001b[0mget_loc\u001b[0m\u001b[0;34m(\u001b[0m\u001b[0mcasted_key\u001b[0m\u001b[0;34m)\u001b[0m\u001b[0;34m\u001b[0m\u001b[0;34m\u001b[0m\u001b[0m\n\u001b[0m\u001b[1;32m   3362\u001b[0m             \u001b[0;32mexcept\u001b[0m \u001b[0mKeyError\u001b[0m \u001b[0;32mas\u001b[0m \u001b[0merr\u001b[0m\u001b[0;34m:\u001b[0m\u001b[0;34m\u001b[0m\u001b[0;34m\u001b[0m\u001b[0m\n",
      "\u001b[0;32m~/anaconda3/lib/python3.7/site-packages/pandas/_libs/index.pyx\u001b[0m in \u001b[0;36mpandas._libs.index.IndexEngine.get_loc\u001b[0;34m()\u001b[0m\n",
      "\u001b[0;32m~/anaconda3/lib/python3.7/site-packages/pandas/_libs/index.pyx\u001b[0m in \u001b[0;36mpandas._libs.index.IndexEngine.get_loc\u001b[0;34m()\u001b[0m\n",
      "\u001b[0;32mpandas/_libs/hashtable_class_helper.pxi\u001b[0m in \u001b[0;36mpandas._libs.hashtable.PyObjectHashTable.get_item\u001b[0;34m()\u001b[0m\n",
      "\u001b[0;32mpandas/_libs/hashtable_class_helper.pxi\u001b[0m in \u001b[0;36mpandas._libs.hashtable.PyObjectHashTable.get_item\u001b[0;34m()\u001b[0m\n",
      "\u001b[0;31mKeyError\u001b[0m: 'Title'",
      "\nThe above exception was the direct cause of the following exception:\n",
      "\u001b[0;31mKeyError\u001b[0m                                  Traceback (most recent call last)",
      "\u001b[0;32m/tmp/ipykernel_265/3816687041.py\u001b[0m in \u001b[0;36m<module>\u001b[0;34m\u001b[0m\n\u001b[1;32m     13\u001b[0m \u001b[0;34m\u001b[0m\u001b[0m\n\u001b[1;32m     14\u001b[0m \u001b[0;32mfor\u001b[0m \u001b[0mi\u001b[0m \u001b[0;32min\u001b[0m \u001b[0mrange\u001b[0m\u001b[0;34m(\u001b[0m\u001b[0mtest\u001b[0m\u001b[0;34m.\u001b[0m\u001b[0mshape\u001b[0m\u001b[0;34m[\u001b[0m\u001b[0;36m0\u001b[0m\u001b[0;34m]\u001b[0m\u001b[0;34m)\u001b[0m\u001b[0;34m:\u001b[0m\u001b[0;34m\u001b[0m\u001b[0;34m\u001b[0m\u001b[0m\n\u001b[0;32m---> 15\u001b[0;31m     \u001b[0mtitle_int\u001b[0m \u001b[0;34m=\u001b[0m \u001b[0mdivide_title\u001b[0m\u001b[0;34m(\u001b[0m\u001b[0mtest\u001b[0m\u001b[0;34m[\u001b[0m\u001b[0;34m'Title'\u001b[0m\u001b[0;34m]\u001b[0m\u001b[0;34m.\u001b[0m\u001b[0miloc\u001b[0m\u001b[0;34m[\u001b[0m\u001b[0mi\u001b[0m\u001b[0;34m]\u001b[0m\u001b[0;34m)\u001b[0m\u001b[0;34m\u001b[0m\u001b[0;34m\u001b[0m\u001b[0m\n\u001b[0m\u001b[1;32m     16\u001b[0m     \u001b[0mtitle_list\u001b[0m\u001b[0;34m.\u001b[0m\u001b[0mappend\u001b[0m\u001b[0;34m(\u001b[0m\u001b[0mtitle_int\u001b[0m\u001b[0;34m)\u001b[0m\u001b[0;34m\u001b[0m\u001b[0;34m\u001b[0m\u001b[0m\n\u001b[1;32m     17\u001b[0m \u001b[0;34m\u001b[0m\u001b[0m\n",
      "\u001b[0;32m~/anaconda3/lib/python3.7/site-packages/pandas/core/frame.py\u001b[0m in \u001b[0;36m__getitem__\u001b[0;34m(self, key)\u001b[0m\n\u001b[1;32m   3456\u001b[0m             \u001b[0;32mif\u001b[0m \u001b[0mself\u001b[0m\u001b[0;34m.\u001b[0m\u001b[0mcolumns\u001b[0m\u001b[0;34m.\u001b[0m\u001b[0mnlevels\u001b[0m \u001b[0;34m>\u001b[0m \u001b[0;36m1\u001b[0m\u001b[0;34m:\u001b[0m\u001b[0;34m\u001b[0m\u001b[0;34m\u001b[0m\u001b[0m\n\u001b[1;32m   3457\u001b[0m                 \u001b[0;32mreturn\u001b[0m \u001b[0mself\u001b[0m\u001b[0;34m.\u001b[0m\u001b[0m_getitem_multilevel\u001b[0m\u001b[0;34m(\u001b[0m\u001b[0mkey\u001b[0m\u001b[0;34m)\u001b[0m\u001b[0;34m\u001b[0m\u001b[0;34m\u001b[0m\u001b[0m\n\u001b[0;32m-> 3458\u001b[0;31m             \u001b[0mindexer\u001b[0m \u001b[0;34m=\u001b[0m \u001b[0mself\u001b[0m\u001b[0;34m.\u001b[0m\u001b[0mcolumns\u001b[0m\u001b[0;34m.\u001b[0m\u001b[0mget_loc\u001b[0m\u001b[0;34m(\u001b[0m\u001b[0mkey\u001b[0m\u001b[0;34m)\u001b[0m\u001b[0;34m\u001b[0m\u001b[0;34m\u001b[0m\u001b[0m\n\u001b[0m\u001b[1;32m   3459\u001b[0m             \u001b[0;32mif\u001b[0m \u001b[0mis_integer\u001b[0m\u001b[0;34m(\u001b[0m\u001b[0mindexer\u001b[0m\u001b[0;34m)\u001b[0m\u001b[0;34m:\u001b[0m\u001b[0;34m\u001b[0m\u001b[0;34m\u001b[0m\u001b[0m\n\u001b[1;32m   3460\u001b[0m                 \u001b[0mindexer\u001b[0m \u001b[0;34m=\u001b[0m \u001b[0;34m[\u001b[0m\u001b[0mindexer\u001b[0m\u001b[0;34m]\u001b[0m\u001b[0;34m\u001b[0m\u001b[0;34m\u001b[0m\u001b[0m\n",
      "\u001b[0;32m~/anaconda3/lib/python3.7/site-packages/pandas/core/indexes/base.py\u001b[0m in \u001b[0;36mget_loc\u001b[0;34m(self, key, method, tolerance)\u001b[0m\n\u001b[1;32m   3361\u001b[0m                 \u001b[0;32mreturn\u001b[0m \u001b[0mself\u001b[0m\u001b[0;34m.\u001b[0m\u001b[0m_engine\u001b[0m\u001b[0;34m.\u001b[0m\u001b[0mget_loc\u001b[0m\u001b[0;34m(\u001b[0m\u001b[0mcasted_key\u001b[0m\u001b[0;34m)\u001b[0m\u001b[0;34m\u001b[0m\u001b[0;34m\u001b[0m\u001b[0m\n\u001b[1;32m   3362\u001b[0m             \u001b[0;32mexcept\u001b[0m \u001b[0mKeyError\u001b[0m \u001b[0;32mas\u001b[0m \u001b[0merr\u001b[0m\u001b[0;34m:\u001b[0m\u001b[0;34m\u001b[0m\u001b[0;34m\u001b[0m\u001b[0m\n\u001b[0;32m-> 3363\u001b[0;31m                 \u001b[0;32mraise\u001b[0m \u001b[0mKeyError\u001b[0m\u001b[0;34m(\u001b[0m\u001b[0mkey\u001b[0m\u001b[0;34m)\u001b[0m \u001b[0;32mfrom\u001b[0m \u001b[0merr\u001b[0m\u001b[0;34m\u001b[0m\u001b[0;34m\u001b[0m\u001b[0m\n\u001b[0m\u001b[1;32m   3364\u001b[0m \u001b[0;34m\u001b[0m\u001b[0m\n\u001b[1;32m   3365\u001b[0m         \u001b[0;32mif\u001b[0m \u001b[0mis_scalar\u001b[0m\u001b[0;34m(\u001b[0m\u001b[0mkey\u001b[0m\u001b[0;34m)\u001b[0m \u001b[0;32mand\u001b[0m \u001b[0misna\u001b[0m\u001b[0;34m(\u001b[0m\u001b[0mkey\u001b[0m\u001b[0;34m)\u001b[0m \u001b[0;32mand\u001b[0m \u001b[0;32mnot\u001b[0m \u001b[0mself\u001b[0m\u001b[0;34m.\u001b[0m\u001b[0mhasnans\u001b[0m\u001b[0;34m:\u001b[0m\u001b[0;34m\u001b[0m\u001b[0;34m\u001b[0m\u001b[0m\n",
      "\u001b[0;31mKeyError\u001b[0m: 'Title'"
     ]
    }
   ],
   "source": [
    "def divide_title(string):\n",
    "    if string == \"Mr\":\n",
    "        title_int = 0\n",
    "    elif string == \"Miss\":\n",
    "        title_int = 1\n",
    "    elif string == \"Mrs\":\n",
    "        title_int = 2\n",
    "    else:\n",
    "        title_int = 3\n",
    "    return title_int\n",
    "\n",
    "title_list=[]\n",
    "\n",
    "for i in range(train.shape[0]):\n",
    "    title_int = divide_title(train['Title'].iloc[i])\n",
    "    title_list.append(title_int)\n",
    "\n",
    "train['Title_int'] = pd.DataFrame(title_list)\n",
    "\n",
    "title_list=[]\n",
    "\n",
    "for i in range(test.shape[0]):\n",
    "    title_int = divide_title(test['Title'].iloc[i])\n",
    "    title_list.append(title_int)\n",
    "\n",
    "test['Title_int'] = pd.DataFrame (title_list)"
   ]
  },
  {
   "cell_type": "code",
   "execution_count": 16,
   "id": "b3054a3f",
   "metadata": {
    "ExecuteTime": {
     "end_time": "2022-08-21T06:35:26.820432Z",
     "start_time": "2022-08-21T06:35:26.666429Z"
    }
   },
   "outputs": [
    {
     "data": {
      "image/png": "[encoded data removed]",
      "text/plain": [
       "<Figure size 720x576 with 1 Axes>"
      ]
     },
     "metadata": {},
     "output_type": "display_data"
    }
   ],
   "source": [
    "barchart('Title_int')"
   ]
  },
  {
   "cell_type": "code",
   "execution_count": 17,
   "id": "aba4be33",
   "metadata": {
    "ExecuteTime": {
     "end_time": "2022-08-21T06:35:26.829685Z",
     "start_time": "2022-08-21T06:35:26.823162Z"
    }
   },
   "outputs": [],
   "source": [
    "train.drop(columns=['Name', 'Title'], axis=1, inplace=True)\n",
    "test.drop(columns=['Name', 'Title'], axis=1, inplace=True)"
   ]
  },
  {
   "cell_type": "markdown",
   "id": "2fab61d0",
   "metadata": {},
   "source": [
    "##### Sex"
   ]
  },
  {
   "cell_type": "code",
   "execution_count": 18,
   "id": "85f57721",
   "metadata": {
    "ExecuteTime": {
     "end_time": "2022-08-21T06:35:26.849446Z",
     "start_time": "2022-08-21T06:35:26.832487Z"
    }
   },
   "outputs": [],
   "source": [
    "sex_mapping = {'male' : 0, 'female' : 1}\n",
    "\n",
    "for data in dataset:\n",
    "    data['Sex_int'] = data['Sex'].map(sex_mapping)\n",
    "\n",
    "train.drop(columns='Sex', axis=1, inplace=True)\n",
    "test.drop(columns='Sex', axis=1, inplace=True)"
   ]
  },
  {
   "cell_type": "markdown",
   "id": "8089e70e",
   "metadata": {},
   "source": [
    "##### Age"
   ]
  },
  {
   "cell_type": "code",
   "execution_count": 19,
   "id": "3206767a",
   "metadata": {
    "ExecuteTime": {
     "end_time": "2022-08-21T06:35:26.861701Z",
     "start_time": "2022-08-21T06:35:26.853373Z"
    }
   },
   "outputs": [
    {
     "data": {
      "text/plain": [
       "(177, 86)"
      ]
     },
     "execution_count": 19,
     "metadata": {},
     "output_type": "execute_result"
    }
   ],
   "source": [
    "train['Age'].isnull().sum(), test['Age'].isnull().sum()"
   ]
  },
  {
   "cell_type": "code",
   "execution_count": 20,
   "id": "66e03a02",
   "metadata": {
    "ExecuteTime": {
     "end_time": "2022-08-21T06:35:26.880546Z",
     "start_time": "2022-08-21T06:35:26.867010Z"
    }
   },
   "outputs": [
    {
     "data": {
      "text/plain": [
       "(0, 0)"
      ]
     },
     "execution_count": 20,
     "metadata": {},
     "output_type": "execute_result"
    }
   ],
   "source": [
    "for data in dataset:\n",
    "    data['Age'].fillna(data.groupby('Title_int')['Age'].transform('median'), inplace=True)\n",
    "train['Age'].isnull().sum(), test['Age'].isnull().sum()"
   ]
  },
  {
   "cell_type": "code",
   "execution_count": 109,
   "id": "da948751",
   "metadata": {
    "ExecuteTime": {
     "end_time": "2022-08-21T10:02:53.079439Z",
     "start_time": "2022-08-21T10:02:53.071776Z"
    }
   },
   "outputs": [
    {
     "data": {
      "text/plain": [
       "0      22.0\n",
       "4      35.0\n",
       "5       NaN\n",
       "6      54.0\n",
       "7       2.0\n",
       "       ... \n",
       "884    25.0\n",
       "885    39.0\n",
       "886    27.0\n",
       "888     NaN\n",
       "890    32.0\n",
       "Name: Age, Length: 549, dtype: float64"
      ]
     },
     "execution_count": 109,
     "metadata": {},
     "output_type": "execute_result"
    }
   ],
   "source": [
    "train.loc[train['Survived'] == 0]['Age']"
   ]
  },
  {
   "cell_type": "code",
   "execution_count": 117,
   "id": "6db086ef",
   "metadata": {
    "ExecuteTime": {
     "end_time": "2022-08-21T10:06:22.827258Z",
     "start_time": "2022-08-21T10:06:22.675382Z"
    }
   },
   "outputs": [
    {
     "data": {
      "text/plain": [
       "(0.0, 80.0)"
      ]
     },
     "execution_count": 117,
     "metadata": {},
     "output_type": "execute_result"
    },
    {
     "data": {
      "image/png": "[encoded data removed]",
      "text/plain": [
       "<Figure size 1080x216 with 1 Axes>"
      ]
     },
     "metadata": {},
     "output_type": "display_data"
    }
   ],
   "source": [
    "train.loc[train['Survived'] == 0]['Age'].plot(kind='kde')\n",
    "train.loc[train['Survived'] == 1]['Age'].plot(kind='kde', figsize=(15,3))\n",
    "plt.xlim([0, 80])"
   ]
  },
  {
   "cell_type": "code",
   "execution_count": 120,
   "id": "60d03d52",
   "metadata": {
    "ExecuteTime": {
     "end_time": "2022-08-21T10:07:44.029746Z",
     "start_time": "2022-08-21T10:07:43.789024Z"
    }
   },
   "outputs": [
    {
     "data": {
      "text/plain": [
       "<seaborn.axisgrid.FacetGrid at 0x7f357dd9d890>"
      ]
     },
     "execution_count": 120,
     "metadata": {},
     "output_type": "execute_result"
    },
    {
     "data": {
      "image/png": "[encoded data removed]",
      "text/plain": [
       "<Figure size 925.55x216 with 1 Axes>"
      ]
     },
     "metadata": {},
     "output_type": "display_data"
    }
   ],
   "source": [
    "facet = sns.FacetGrid(train, hue='Survived',aspect=4)\n",
    "facet.map(sns.kdeplot, 'Age', shade=True)\n",
    "plt.xlim(0, train['Age'].max())\n",
    "facet.add_legend()"
   ]
  },
  {
   "cell_type": "code",
   "execution_count": 22,
   "id": "7ff484b3",
   "metadata": {
    "ExecuteTime": {
     "end_time": "2022-08-21T06:35:27.222768Z",
     "start_time": "2022-08-21T06:35:27.206404Z"
    }
   },
   "outputs": [],
   "source": [
    "age_quantile = train['Age'].quantile([0.2, 0.4, 0.6, 0.8])\n",
    "\n",
    "for data in dataset:\n",
    "    data.loc[data['Age'] <= age_quantile.iloc[0], 'Age_enc'] = 0\n",
    "    data.loc[(data['Age'] > age_quantile.iloc[0]) & (data['Age'] <= age_quantile.iloc[1]), 'Age_enc'] = 1\n",
    "    data.loc[(data['Age'] > age_quantile.iloc[1])&(data['Age'] <= age_quantile.iloc[2]), 'Age_enc'] = 2\n",
    "    data.loc[(data['Age'] > age_quantile.iloc[2])&(data['Age'] <= age_quantile.iloc[3]), 'Age_enc'] = 3\n",
    "    data.loc[(data['Age'] > age_quantile.iloc[3]), 'Age_enc'] = 4\n",
    "\n",
    "for data in dataset:\n",
    "    data.drop(columns='Age', axis=1, inplace=True)"
   ]
  },
  {
   "cell_type": "code",
   "execution_count": 23,
   "id": "e3c231c4",
   "metadata": {
    "ExecuteTime": {
     "end_time": "2022-08-21T06:35:27.329583Z",
     "start_time": "2022-08-21T06:35:27.225433Z"
    }
   },
   "outputs": [
    {
     "data": {
      "image/png": "[encoded data removed]",
      "text/plain": [
       "<Figure size 720x576 with 1 Axes>"
      ]
     },
     "metadata": {},
     "output_type": "display_data"
    }
   ],
   "source": [
    "barchart('Age_enc')"
   ]
  },
  {
   "cell_type": "markdown",
   "id": "cadae23f",
   "metadata": {},
   "source": [
    "##### Embarked"
   ]
  },
  {
   "cell_type": "code",
   "execution_count": 24,
   "id": "2fb556d8",
   "metadata": {
    "ExecuteTime": {
     "end_time": "2022-08-21T06:35:27.338842Z",
     "start_time": "2022-08-21T06:35:27.332110Z"
    }
   },
   "outputs": [
    {
     "data": {
      "text/plain": [
       "array(['S', 'C', 'Q', nan], dtype=object)"
      ]
     },
     "execution_count": 24,
     "metadata": {},
     "output_type": "execute_result"
    }
   ],
   "source": [
    "train['Embarked'].unique()"
   ]
  },
  {
   "cell_type": "code",
   "execution_count": 25,
   "id": "033116e5",
   "metadata": {
    "ExecuteTime": {
     "end_time": "2022-08-21T06:35:27.461797Z",
     "start_time": "2022-08-21T06:35:27.340807Z"
    }
   },
   "outputs": [
    {
     "data": {
      "text/plain": [
       "<AxesSubplot:>"
      ]
     },
     "execution_count": 25,
     "metadata": {},
     "output_type": "execute_result"
    },
    {
     "data": {
      "image/png": "[encoded data removed]",
      "text/plain": [
       "<Figure size 720x576 with 1 Axes>"
      ]
     },
     "metadata": {},
     "output_type": "display_data"
    }
   ],
   "source": [
    "pclass1 = train.loc[train['Pclass'] == 1]['Embarked'].value_counts()\n",
    "pclass2 = train.loc[train['Pclass'] == 2]['Embarked'].value_counts()\n",
    "pclass3 = train.loc[train['Pclass'] == 3]['Embarked'].value_counts()\n",
    "\n",
    "pclass = pd.DataFrame([pclass1, pclass2, pclass3], index=['1st', '2nd', '3rd'])\n",
    "pclass.plot(kind='bar', stacked=True, figsize=(10,8))"
   ]
  },
  {
   "cell_type": "code",
   "execution_count": 26,
   "id": "725175c6",
   "metadata": {
    "ExecuteTime": {
     "end_time": "2022-08-21T06:35:27.468536Z",
     "start_time": "2022-08-21T06:35:27.464081Z"
    }
   },
   "outputs": [],
   "source": [
    "for data in dataset:\n",
    "    data['Embarked'].fillna('S', inplace=True)"
   ]
  },
  {
   "cell_type": "code",
   "execution_count": 27,
   "id": "5196c577",
   "metadata": {
    "ExecuteTime": {
     "end_time": "2022-08-21T06:35:27.483054Z",
     "start_time": "2022-08-21T06:35:27.470981Z"
    }
   },
   "outputs": [],
   "source": [
    "embarked_mapping = {'S':0, 'C':1, 'Q':2}\n",
    "\n",
    "for data in dataset:\n",
    "    data['Embarked_enc'] = data['Embarked'].map(embarked_mapping)\n",
    "    data.drop(columns='Embarked', axis=1, inplace=True)"
   ]
  },
  {
   "cell_type": "code",
   "execution_count": 28,
   "id": "8ea86fe4",
   "metadata": {
    "ExecuteTime": {
     "end_time": "2022-08-21T06:35:27.495162Z",
     "start_time": "2022-08-21T06:35:27.485155Z"
    }
   },
   "outputs": [],
   "source": [
    "for data in dataset:\n",
    "    data['Fare'].fillna(data.groupby('Pclass')['Fare'].transform('median'), inplace=True)"
   ]
  },
  {
   "cell_type": "code",
   "execution_count": 29,
   "id": "d70769c0",
   "metadata": {
    "ExecuteTime": {
     "end_time": "2022-08-21T06:35:27.514818Z",
     "start_time": "2022-08-21T06:35:27.497341Z"
    }
   },
   "outputs": [],
   "source": [
    "fare_quantile = train['Fare'].quantile([0.2, 0.4, 0.6, 0.8])\n",
    "\n",
    "for data in dataset:\n",
    "    data.loc[data['Fare'] <= fare_quantile.iloc[0], 'Fare_enc'] = 0\n",
    "    data.loc[(data['Fare'] > fare_quantile.iloc[0]) & (data['Fare'] <= fare_quantile.iloc[1]), 'Fare_enc'] = 1\n",
    "    data.loc[(data['Fare'] > fare_quantile.iloc[1])&(data['Fare'] <= fare_quantile.iloc[2]), 'Fare_enc'] = 2\n",
    "    data.loc[(data['Fare'] > fare_quantile.iloc[2])&(data['Fare'] <= fare_quantile.iloc[3]), 'Fare_enc'] = 3\n",
    "    data.loc[(data['Fare'] > fare_quantile.iloc[3]), 'Fare_enc'] = 4\n",
    "    data.drop(columns='Fare', axis=1, inplace=True)"
   ]
  },
  {
   "cell_type": "markdown",
   "id": "f1eeabc1",
   "metadata": {
    "ExecuteTime": {
     "end_time": "2022-08-19T15:43:40.136067Z",
     "start_time": "2022-08-19T15:43:40.110328Z"
    }
   },
   "source": [
    "##### Cabin"
   ]
  },
  {
   "cell_type": "code",
   "execution_count": 30,
   "id": "144a4695",
   "metadata": {
    "ExecuteTime": {
     "end_time": "2022-08-21T06:35:27.523796Z",
     "start_time": "2022-08-21T06:35:27.517012Z"
    }
   },
   "outputs": [
    {
     "data": {
      "text/plain": [
       "687"
      ]
     },
     "execution_count": 30,
     "metadata": {},
     "output_type": "execute_result"
    }
   ],
   "source": [
    "train['Cabin'].isna().sum()"
   ]
  },
  {
   "cell_type": "code",
   "execution_count": 31,
   "id": "920f58a2",
   "metadata": {
    "ExecuteTime": {
     "end_time": "2022-08-21T06:35:27.533859Z",
     "start_time": "2022-08-21T06:35:27.525503Z"
    }
   },
   "outputs": [],
   "source": [
    "for data in dataset:\n",
    "    data.drop(columns='Cabin', axis=1, inplace=True)"
   ]
  },
  {
   "cell_type": "markdown",
   "id": "000b82b8",
   "metadata": {},
   "source": [
    "##### Family Size"
   ]
  },
  {
   "cell_type": "code",
   "execution_count": 32,
   "id": "f6da273a",
   "metadata": {
    "ExecuteTime": {
     "end_time": "2022-08-21T06:35:27.544227Z",
     "start_time": "2022-08-21T06:35:27.535688Z"
    }
   },
   "outputs": [],
   "source": [
    "train['familysize'] = train['SibSp'] + train['Parch'] + 1\n",
    "test['familysize'] = test['SibSp'] + test['Parch'] + 1"
   ]
  },
  {
   "cell_type": "code",
   "execution_count": 33,
   "id": "00e9220c",
   "metadata": {
    "ExecuteTime": {
     "end_time": "2022-08-21T06:35:27.555260Z",
     "start_time": "2022-08-21T06:35:27.545805Z"
    }
   },
   "outputs": [],
   "source": [
    "for data in dataset:\n",
    "    data.drop(columns=['SibSp', 'Parch'], axis=1, inplace=True)"
   ]
  },
  {
   "cell_type": "markdown",
   "id": "f5820ce6",
   "metadata": {},
   "source": [
    "##### Ticket"
   ]
  },
  {
   "cell_type": "code",
   "execution_count": 34,
   "id": "962ba6a0",
   "metadata": {
    "ExecuteTime": {
     "end_time": "2022-08-21T06:35:27.566111Z",
     "start_time": "2022-08-21T06:35:27.557143Z"
    }
   },
   "outputs": [],
   "source": [
    "for data in dataset:\n",
    "    data.drop(columns='Ticket', axis=1, inplace=True)"
   ]
  },
  {
   "cell_type": "code",
   "execution_count": 35,
   "id": "684bdebb",
   "metadata": {
    "ExecuteTime": {
     "end_time": "2022-08-21T06:35:27.577006Z",
     "start_time": "2022-08-21T06:35:27.567888Z"
    }
   },
   "outputs": [],
   "source": [
    "target = train['Survived']\n",
    "train = train.drop(columns=['Survived', 'PassengerId'])"
   ]
  },
  {
   "cell_type": "markdown",
   "id": "e4c5ccdd",
   "metadata": {},
   "source": [
    "### ML Modeling"
   ]
  },
  {
   "cell_type": "code",
   "execution_count": 36,
   "id": "260be8ec",
   "metadata": {
    "ExecuteTime": {
     "end_time": "2022-08-21T06:35:30.343542Z",
     "start_time": "2022-08-21T06:35:27.578612Z"
    }
   },
   "outputs": [
    {
     "name": "stdout",
     "output_type": "stream",
     "text": [
      "DecisionTreeClassifier() Score : 0.79\n",
      "KNeighborsClassifier(n_jobs=-1) Score : 0.8\n",
      "RandomForestClassifier() Score : 0.81\n",
      "GradientBoostingClassifier() Score : 0.83\n",
      "SVC() Score : 0.82\n"
     ]
    }
   ],
   "source": [
    "from sklearn.metrics import accuracy_score\n",
    "from sklearn.model_selection import train_test_split, GridSearchCV, cross_val_score, KFold\n",
    "\n",
    "from sklearn.tree import DecisionTreeClassifier as DT\n",
    "from sklearn.ensemble import RandomForestClassifier as RFC\n",
    "from sklearn.neighbors import KNeighborsClassifier as KNN\n",
    "from sklearn.ensemble import GradientBoostingClassifier as GBM\n",
    "from sklearn.svm import SVC\n",
    "\n",
    "k_fold = KFold(n_splits=10, shuffle=True, random_state=0)\n",
    "clf_list = [DT(), KNN(n_neighbors=5, n_jobs=-1), RFC(), GBM(), SVC()]\n",
    "\n",
    "for clf in clf_list:\n",
    "    score = cross_val_score(clf, train, target, cv=k_fold, n_jobs=-1, scoring='accuracy').mean()\n",
    "    print(f\"{str(clf)} Score : {np.round(score,2)}\")"
   ]
  },
  {
   "cell_type": "markdown",
   "id": "36ffa169",
   "metadata": {},
   "source": [
    "##### Grid Search"
   ]
  },
  {
   "cell_type": "code",
   "execution_count": 67,
   "id": "743b4e31",
   "metadata": {
    "ExecuteTime": {
     "end_time": "2022-08-21T07:01:43.159897Z",
     "start_time": "2022-08-21T07:01:23.924571Z"
    }
   },
   "outputs": [
    {
     "name": "stdout",
     "output_type": "stream",
     "text": [
      "CPU times: user 2.11 s, sys: 27.5 ms, total: 2.14 s\n",
      "Wall time: 19.2 s\n",
      "81\n",
      "0.8372534332084894\n",
      "{'max_depth': 6, 'max_features': 0.8}\n"
     ]
    }
   ],
   "source": [
    "max_depth = np.arange(1, 10)\n",
    "max_features = np.arange(0.1, 1, 0.1)\n",
    "\n",
    "params = {\n",
    "    'max_depth': max_depth,\n",
    "    'max_features': max_features\n",
    "}\n",
    "\n",
    "clf = RFC()\n",
    "\n",
    "grid = GridSearchCV(clf, param_grid=params, n_jobs=-1, cv=k_fold, refit=True, scoring='accuracy')\n",
    "%time grid.fit(train, target)\n",
    "\n",
    "print(len(grid.cv_results_[\"params\"]))\n",
    "print(grid.best_score_)\n",
    "print(grid.best_params_)"
   ]
  },
  {
   "cell_type": "code",
   "execution_count": 68,
   "id": "4fbe474e",
   "metadata": {
    "ExecuteTime": {
     "end_time": "2022-08-21T07:03:37.969205Z",
     "start_time": "2022-08-21T07:03:33.287621Z"
    }
   },
   "outputs": [],
   "source": [
    "clf = RFC(n_estimators=1000, max_depth=6, max_features=0.8, n_jobs=-1, random_state=0)\n",
    "clf.fit(train, target)\n",
    "\n",
    "test1 = test.drop(columns='PassengerId')\n",
    "\n",
    "result = clf.predict(test1)"
   ]
  },
  {
   "cell_type": "code",
   "execution_count": 69,
   "id": "f40ab6f1",
   "metadata": {
    "ExecuteTime": {
     "end_time": "2022-08-21T07:03:41.660913Z",
     "start_time": "2022-08-21T07:03:41.649891Z"
    }
   },
   "outputs": [],
   "source": [
    "submission = pd.DataFrame({\n",
    "    \"PassengerId\" : test[\"PassengerId\"],\n",
    "    'Survived' : result\n",
    "})\n",
    "submission.to_csv('submission.csv', index=False)"
   ]
  },
  {
   "cell_type": "code",
   "execution_count": 70,
   "id": "5e5b066e",
   "metadata": {
    "ExecuteTime": {
     "end_time": "2022-08-21T07:03:41.933082Z",
     "start_time": "2022-08-21T07:03:41.916858Z"
    }
   },
   "outputs": [
    {
     "data": {
      "text/html": [
       "<div>\n",
       "<style scoped>\n",
       "    .dataframe tbody tr th:only-of-type {\n",
       "        vertical-align: middle;\n",
       "    }\n",
       "\n",
       "    .dataframe tbody tr th {\n",
       "        vertical-align: top;\n",
       "    }\n",
       "\n",
       "    .dataframe thead th {\n",
       "        text-align: right;\n",
       "    }\n",
       "</style>\n",
       "<table border=\"1\" class=\"dataframe\">\n",
       "  <thead>\n",
       "    <tr style=\"text-align: right;\">\n",
       "      <th></th>\n",
       "      <th>PassengerId</th>\n",
       "      <th>Survived</th>\n",
       "    </tr>\n",
       "  </thead>\n",
       "  <tbody>\n",
       "    <tr>\n",
       "      <th>0</th>\n",
       "      <td>892</td>\n",
       "      <td>0</td>\n",
       "    </tr>\n",
       "    <tr>\n",
       "      <th>1</th>\n",
       "      <td>893</td>\n",
       "      <td>0</td>\n",
       "    </tr>\n",
       "    <tr>\n",
       "      <th>2</th>\n",
       "      <td>894</td>\n",
       "      <td>0</td>\n",
       "    </tr>\n",
       "    <tr>\n",
       "      <th>3</th>\n",
       "      <td>895</td>\n",
       "      <td>0</td>\n",
       "    </tr>\n",
       "    <tr>\n",
       "      <th>4</th>\n",
       "      <td>896</td>\n",
       "      <td>0</td>\n",
       "    </tr>\n",
       "    <tr>\n",
       "      <th>...</th>\n",
       "      <td>...</td>\n",
       "      <td>...</td>\n",
       "    </tr>\n",
       "    <tr>\n",
       "      <th>413</th>\n",
       "      <td>1305</td>\n",
       "      <td>0</td>\n",
       "    </tr>\n",
       "    <tr>\n",
       "      <th>414</th>\n",
       "      <td>1306</td>\n",
       "      <td>1</td>\n",
       "    </tr>\n",
       "    <tr>\n",
       "      <th>415</th>\n",
       "      <td>1307</td>\n",
       "      <td>0</td>\n",
       "    </tr>\n",
       "    <tr>\n",
       "      <th>416</th>\n",
       "      <td>1308</td>\n",
       "      <td>0</td>\n",
       "    </tr>\n",
       "    <tr>\n",
       "      <th>417</th>\n",
       "      <td>1309</td>\n",
       "      <td>0</td>\n",
       "    </tr>\n",
       "  </tbody>\n",
       "</table>\n",
       "<p>418 rows × 2 columns</p>\n",
       "</div>"
      ],
      "text/plain": [
       "     PassengerId  Survived\n",
       "0            892         0\n",
       "1            893         0\n",
       "2            894         0\n",
       "3            895         0\n",
       "4            896         0\n",
       "..           ...       ...\n",
       "413         1305         0\n",
       "414         1306         1\n",
       "415         1307         0\n",
       "416         1308         0\n",
       "417         1309         0\n",
       "\n",
       "[418 rows x 2 columns]"
      ]
     },
     "execution_count": 70,
     "metadata": {},
     "output_type": "execute_result"
    }
   ],
   "source": [
    "submission = pd.read_csv(\"./submission.csv\")\n",
    "submission"
   ]
  }
 ],
 "metadata": {
  "kernelspec": {
   "display_name": "Python 3 (ipykernel)",
   "language": "python",
   "name": "python3"
  },
  "language_info": {
   "codemirror_mode": {
    "name": "ipython",
    "version": 3
   },
   "file_extension": ".py",
   "mimetype": "text/x-python",
   "name": "python",
   "nbconvert_exporter": "python",
   "pygments_lexer": "ipython3",
   "version": "3.7.7"
  }
 },
 "nbformat": 4,
 "nbformat_minor": 5
}
