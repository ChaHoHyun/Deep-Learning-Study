{
 "cells": [
  {
   "cell_type": "markdown",
   "id": "a6e29c84",
   "metadata": {},
   "source": [
    "## Bike Sharing Demand\n",
    "\n",
    "<br>\n",
    "\n",
    " Predict demand of bike by Machine Learing"
   ]
  },
  {
   "cell_type": "markdown",
   "id": "e938f175",
   "metadata": {},
   "source": [
    "### Introduction"
   ]
  },
  {
   "cell_type": "markdown",
   "id": "69dcb509",
   "metadata": {},
   "source": [
    "<img src=\"https://storage.googleapis.com/kaggle-competitions/kaggle/3948/media/bikes.png\" alt=\"Random Search for Hyper-Parameter Optimization\" style=\"width: 720px;\"/>\n",
    "\n",
    "<p style=\"text-align: center;\">\n",
    "  <small>\n",
    "    [See <a href=\"https://www.kaggle.com/c/bike-sharing-demand/overview\">Bike Sharing Demand (Kaggle URL)</a>]\n",
    "  </small>\n",
    "</p>"
   ]
  },
  {
   "cell_type": "markdown",
   "id": "25068c09",
   "metadata": {},
   "source": [
    "#####  Data"
   ]
  },
  {
   "cell_type": "markdown",
   "id": "f5305876",
   "metadata": {},
   "source": [
    "See, fork, and run a **random forest** benchmark model through Kaggle Scripts\n",
    "\n",
    "- Period of bike rental data : 2 years\n",
    "- train dataset : 19 days(1st ~ 19th) each month\n",
    "- test dataset : about 10 days(20th ~ last) each month\n",
    "\n",
    "We must predict the total count of bikes rented during 2 years for each month, hour."
   ]
  },
  {
   "cell_type": "markdown",
   "id": "ccb46227",
   "metadata": {},
   "source": [
    "- datetime - hourly date + timestamp (Year + Month + Day + Hour + Minutes + Seconds) \n",
    "- season -  1 = spring, 2 = summer, 3 = fall, 4 = winter \n",
    "- holiday - whether the day is considered a holiday\n",
    "- workingday - whether the day is neither a weekend nor holiday\n",
    "  (If it is not holiday or workingday, it will be **weekend**)\n",
    "- weather \n",
    "\n",
    "  * 1: Clear, Few clouds, Partly cloudy, Partly cloudy\n",
    "  \n",
    "  * 2: Mist + Cloudy, Mist + Broken clouds, Mist + Few clouds, Mist\n",
    "  \n",
    "  * 3: Light Snow, Light Rain + Thunderstorm + Scattered clouds, Light Rain + Scattered clouds\n",
    "  \n",
    "  * 4: Heavy Rain + Ice Pallets + Thunderstorm + Mist, Snow + Fog \n",
    "  \n",
    "- temp - temperature in Celsius\n",
    "- atemp - \"feels like\" temperature in Celsius\n",
    "- humidity - relative humidity\n",
    "- windspeed - wind speed\n",
    "- **casual** - number of non-registered user rentals initiated\n",
    "- **registered** - number of registered user rentals initiated\n",
    "- **count** - number of total rentals (casual + registered)\n",
    "\n",
    "$$ casual + registered = count $$"
   ]
  },
  {
   "cell_type": "markdown",
   "id": "049bd67a",
   "metadata": {},
   "source": [
    "- **Evaluation** : Submissions are evaluated one the Root Mean Squared Logarithmic Error (**RMSLE**). The RMSLE is calculated as\n",
    "\n",
    "<br>\n",
    "\n",
    "$$ RMSLE = \\sqrt {\\frac{1}{n}\\sum\\limits_{i=1}^n(log(p_i+1) - log(a_i + 1))^2} $$"
   ]
  },
  {
   "cell_type": "markdown",
   "id": "3a9ad31f",
   "metadata": {},
   "source": [
    "### Import Library"
   ]
  },
  {
   "cell_type": "code",
   "execution_count": 1,
   "id": "8de3d88c",
   "metadata": {
    "ExecuteTime": {
     "end_time": "2022-08-23T10:01:45.989155Z",
     "start_time": "2022-08-23T10:01:44.063306Z"
    }
   },
   "outputs": [],
   "source": [
    "import pandas as pd\n",
    "import numpy as np\n",
    "import matplotlib.pyplot as plt\n",
    "import seaborn as sns\n",
    "sns.set()\n",
    "sns.set_style(\"whitegrid\")\n",
    "\n",
    "from sklearn.metrics import accuracy_score\n",
    "from sklearn.model_selection import train_test_split, GridSearchCV, cross_val_score, KFold\n",
    "\n",
    "from sklearn.tree import DecisionTreeClassifier as DT\n",
    "from sklearn.ensemble import RandomForestClassifier as RFC\n",
    "from sklearn.neighbors import KNeighborsClassifier as KNN\n",
    "from sklearn.ensemble import GradientBoostingClassifier as GBM\n",
    "from sklearn.svm import SVC"
   ]
  },
  {
   "cell_type": "markdown",
   "id": "bfec60b3",
   "metadata": {},
   "source": [
    "### Import CSV file"
   ]
  },
  {
   "cell_type": "code",
   "execution_count": 2,
   "id": "dfa828db",
   "metadata": {
    "ExecuteTime": {
     "end_time": "2022-08-23T10:01:46.041664Z",
     "start_time": "2022-08-23T10:01:45.991368Z"
    }
   },
   "outputs": [],
   "source": [
    "train = pd.read_csv(\"../Bike_Sharing_Demand/data/train.csv\")\n",
    "test = pd.read_csv(\"../Bike_Sharing_Demand/data/test.csv\")\n",
    "sub_sample = pd.read_csv(\"../Bike_Sharing_Demand/data/sampleSubmission.csv\")"
   ]
  },
  {
   "cell_type": "code",
   "execution_count": 3,
   "id": "d7114e4b",
   "metadata": {
    "ExecuteTime": {
     "end_time": "2022-08-23T10:01:46.060413Z",
     "start_time": "2022-08-23T10:01:46.043570Z"
    }
   },
   "outputs": [
    {
     "data": {
      "text/html": [
       "<div>\n",
       "<style scoped>\n",
       "    .dataframe tbody tr th:only-of-type {\n",
       "        vertical-align: middle;\n",
       "    }\n",
       "\n",
       "    .dataframe tbody tr th {\n",
       "        vertical-align: top;\n",
       "    }\n",
       "\n",
       "    .dataframe thead th {\n",
       "        text-align: right;\n",
       "    }\n",
       "</style>\n",
       "<table border=\"1\" class=\"dataframe\">\n",
       "  <thead>\n",
       "    <tr style=\"text-align: right;\">\n",
       "      <th></th>\n",
       "      <th>datetime</th>\n",
       "      <th>season</th>\n",
       "      <th>holiday</th>\n",
       "      <th>workingday</th>\n",
       "      <th>weather</th>\n",
       "      <th>temp</th>\n",
       "      <th>atemp</th>\n",
       "      <th>humidity</th>\n",
       "      <th>windspeed</th>\n",
       "      <th>casual</th>\n",
       "      <th>registered</th>\n",
       "      <th>count</th>\n",
       "    </tr>\n",
       "  </thead>\n",
       "  <tbody>\n",
       "    <tr>\n",
       "      <th>0</th>\n",
       "      <td>2011-01-01 00:00:00</td>\n",
       "      <td>1</td>\n",
       "      <td>0</td>\n",
       "      <td>0</td>\n",
       "      <td>1</td>\n",
       "      <td>9.84</td>\n",
       "      <td>14.395</td>\n",
       "      <td>81</td>\n",
       "      <td>0.0</td>\n",
       "      <td>3</td>\n",
       "      <td>13</td>\n",
       "      <td>16</td>\n",
       "    </tr>\n",
       "    <tr>\n",
       "      <th>1</th>\n",
       "      <td>2011-01-01 01:00:00</td>\n",
       "      <td>1</td>\n",
       "      <td>0</td>\n",
       "      <td>0</td>\n",
       "      <td>1</td>\n",
       "      <td>9.02</td>\n",
       "      <td>13.635</td>\n",
       "      <td>80</td>\n",
       "      <td>0.0</td>\n",
       "      <td>8</td>\n",
       "      <td>32</td>\n",
       "      <td>40</td>\n",
       "    </tr>\n",
       "    <tr>\n",
       "      <th>2</th>\n",
       "      <td>2011-01-01 02:00:00</td>\n",
       "      <td>1</td>\n",
       "      <td>0</td>\n",
       "      <td>0</td>\n",
       "      <td>1</td>\n",
       "      <td>9.02</td>\n",
       "      <td>13.635</td>\n",
       "      <td>80</td>\n",
       "      <td>0.0</td>\n",
       "      <td>5</td>\n",
       "      <td>27</td>\n",
       "      <td>32</td>\n",
       "    </tr>\n",
       "    <tr>\n",
       "      <th>3</th>\n",
       "      <td>2011-01-01 03:00:00</td>\n",
       "      <td>1</td>\n",
       "      <td>0</td>\n",
       "      <td>0</td>\n",
       "      <td>1</td>\n",
       "      <td>9.84</td>\n",
       "      <td>14.395</td>\n",
       "      <td>75</td>\n",
       "      <td>0.0</td>\n",
       "      <td>3</td>\n",
       "      <td>10</td>\n",
       "      <td>13</td>\n",
       "    </tr>\n",
       "    <tr>\n",
       "      <th>4</th>\n",
       "      <td>2011-01-01 04:00:00</td>\n",
       "      <td>1</td>\n",
       "      <td>0</td>\n",
       "      <td>0</td>\n",
       "      <td>1</td>\n",
       "      <td>9.84</td>\n",
       "      <td>14.395</td>\n",
       "      <td>75</td>\n",
       "      <td>0.0</td>\n",
       "      <td>0</td>\n",
       "      <td>1</td>\n",
       "      <td>1</td>\n",
       "    </tr>\n",
       "  </tbody>\n",
       "</table>\n",
       "</div>"
      ],
      "text/plain": [
       "              datetime  season  holiday  workingday  weather  temp   atemp  \\\n",
       "0  2011-01-01 00:00:00       1        0           0        1  9.84  14.395   \n",
       "1  2011-01-01 01:00:00       1        0           0        1  9.02  13.635   \n",
       "2  2011-01-01 02:00:00       1        0           0        1  9.02  13.635   \n",
       "3  2011-01-01 03:00:00       1        0           0        1  9.84  14.395   \n",
       "4  2011-01-01 04:00:00       1        0           0        1  9.84  14.395   \n",
       "\n",
       "   humidity  windspeed  casual  registered  count  \n",
       "0        81        0.0       3          13     16  \n",
       "1        80        0.0       8          32     40  \n",
       "2        80        0.0       5          27     32  \n",
       "3        75        0.0       3          10     13  \n",
       "4        75        0.0       0           1      1  "
      ]
     },
     "execution_count": 3,
     "metadata": {},
     "output_type": "execute_result"
    }
   ],
   "source": [
    "train.head()"
   ]
  },
  {
   "cell_type": "code",
   "execution_count": 4,
   "id": "098f24a6",
   "metadata": {
    "ExecuteTime": {
     "end_time": "2022-08-23T10:01:46.078800Z",
     "start_time": "2022-08-23T10:01:46.063345Z"
    }
   },
   "outputs": [
    {
     "data": {
      "text/html": [
       "<div>\n",
       "<style scoped>\n",
       "    .dataframe tbody tr th:only-of-type {\n",
       "        vertical-align: middle;\n",
       "    }\n",
       "\n",
       "    .dataframe tbody tr th {\n",
       "        vertical-align: top;\n",
       "    }\n",
       "\n",
       "    .dataframe thead th {\n",
       "        text-align: right;\n",
       "    }\n",
       "</style>\n",
       "<table border=\"1\" class=\"dataframe\">\n",
       "  <thead>\n",
       "    <tr style=\"text-align: right;\">\n",
       "      <th></th>\n",
       "      <th>datetime</th>\n",
       "      <th>season</th>\n",
       "      <th>holiday</th>\n",
       "      <th>workingday</th>\n",
       "      <th>weather</th>\n",
       "      <th>temp</th>\n",
       "      <th>atemp</th>\n",
       "      <th>humidity</th>\n",
       "      <th>windspeed</th>\n",
       "    </tr>\n",
       "  </thead>\n",
       "  <tbody>\n",
       "    <tr>\n",
       "      <th>0</th>\n",
       "      <td>2011-01-20 00:00:00</td>\n",
       "      <td>1</td>\n",
       "      <td>0</td>\n",
       "      <td>1</td>\n",
       "      <td>1</td>\n",
       "      <td>10.66</td>\n",
       "      <td>11.365</td>\n",
       "      <td>56</td>\n",
       "      <td>26.0027</td>\n",
       "    </tr>\n",
       "    <tr>\n",
       "      <th>1</th>\n",
       "      <td>2011-01-20 01:00:00</td>\n",
       "      <td>1</td>\n",
       "      <td>0</td>\n",
       "      <td>1</td>\n",
       "      <td>1</td>\n",
       "      <td>10.66</td>\n",
       "      <td>13.635</td>\n",
       "      <td>56</td>\n",
       "      <td>0.0000</td>\n",
       "    </tr>\n",
       "    <tr>\n",
       "      <th>2</th>\n",
       "      <td>2011-01-20 02:00:00</td>\n",
       "      <td>1</td>\n",
       "      <td>0</td>\n",
       "      <td>1</td>\n",
       "      <td>1</td>\n",
       "      <td>10.66</td>\n",
       "      <td>13.635</td>\n",
       "      <td>56</td>\n",
       "      <td>0.0000</td>\n",
       "    </tr>\n",
       "    <tr>\n",
       "      <th>3</th>\n",
       "      <td>2011-01-20 03:00:00</td>\n",
       "      <td>1</td>\n",
       "      <td>0</td>\n",
       "      <td>1</td>\n",
       "      <td>1</td>\n",
       "      <td>10.66</td>\n",
       "      <td>12.880</td>\n",
       "      <td>56</td>\n",
       "      <td>11.0014</td>\n",
       "    </tr>\n",
       "    <tr>\n",
       "      <th>4</th>\n",
       "      <td>2011-01-20 04:00:00</td>\n",
       "      <td>1</td>\n",
       "      <td>0</td>\n",
       "      <td>1</td>\n",
       "      <td>1</td>\n",
       "      <td>10.66</td>\n",
       "      <td>12.880</td>\n",
       "      <td>56</td>\n",
       "      <td>11.0014</td>\n",
       "    </tr>\n",
       "  </tbody>\n",
       "</table>\n",
       "</div>"
      ],
      "text/plain": [
       "              datetime  season  holiday  workingday  weather   temp   atemp  \\\n",
       "0  2011-01-20 00:00:00       1        0           1        1  10.66  11.365   \n",
       "1  2011-01-20 01:00:00       1        0           1        1  10.66  13.635   \n",
       "2  2011-01-20 02:00:00       1        0           1        1  10.66  13.635   \n",
       "3  2011-01-20 03:00:00       1        0           1        1  10.66  12.880   \n",
       "4  2011-01-20 04:00:00       1        0           1        1  10.66  12.880   \n",
       "\n",
       "   humidity  windspeed  \n",
       "0        56    26.0027  \n",
       "1        56     0.0000  \n",
       "2        56     0.0000  \n",
       "3        56    11.0014  \n",
       "4        56    11.0014  "
      ]
     },
     "execution_count": 4,
     "metadata": {},
     "output_type": "execute_result"
    }
   ],
   "source": [
    "test.head()"
   ]
  },
  {
   "cell_type": "code",
   "execution_count": 5,
   "id": "6c8b0493",
   "metadata": {
    "ExecuteTime": {
     "end_time": "2022-08-23T10:01:46.097568Z",
     "start_time": "2022-08-23T10:01:46.085481Z"
    }
   },
   "outputs": [
    {
     "data": {
      "text/html": [
       "<div>\n",
       "<style scoped>\n",
       "    .dataframe tbody tr th:only-of-type {\n",
       "        vertical-align: middle;\n",
       "    }\n",
       "\n",
       "    .dataframe tbody tr th {\n",
       "        vertical-align: top;\n",
       "    }\n",
       "\n",
       "    .dataframe thead th {\n",
       "        text-align: right;\n",
       "    }\n",
       "</style>\n",
       "<table border=\"1\" class=\"dataframe\">\n",
       "  <thead>\n",
       "    <tr style=\"text-align: right;\">\n",
       "      <th></th>\n",
       "      <th>datetime</th>\n",
       "      <th>count</th>\n",
       "    </tr>\n",
       "  </thead>\n",
       "  <tbody>\n",
       "    <tr>\n",
       "      <th>0</th>\n",
       "      <td>2011-01-20 00:00:00</td>\n",
       "      <td>0</td>\n",
       "    </tr>\n",
       "    <tr>\n",
       "      <th>1</th>\n",
       "      <td>2011-01-20 01:00:00</td>\n",
       "      <td>0</td>\n",
       "    </tr>\n",
       "    <tr>\n",
       "      <th>2</th>\n",
       "      <td>2011-01-20 02:00:00</td>\n",
       "      <td>0</td>\n",
       "    </tr>\n",
       "    <tr>\n",
       "      <th>3</th>\n",
       "      <td>2011-01-20 03:00:00</td>\n",
       "      <td>0</td>\n",
       "    </tr>\n",
       "    <tr>\n",
       "      <th>4</th>\n",
       "      <td>2011-01-20 04:00:00</td>\n",
       "      <td>0</td>\n",
       "    </tr>\n",
       "  </tbody>\n",
       "</table>\n",
       "</div>"
      ],
      "text/plain": [
       "              datetime  count\n",
       "0  2011-01-20 00:00:00      0\n",
       "1  2011-01-20 01:00:00      0\n",
       "2  2011-01-20 02:00:00      0\n",
       "3  2011-01-20 03:00:00      0\n",
       "4  2011-01-20 04:00:00      0"
      ]
     },
     "execution_count": 5,
     "metadata": {},
     "output_type": "execute_result"
    }
   ],
   "source": [
    "sub_sample.head()"
   ]
  },
  {
   "cell_type": "code",
   "execution_count": 6,
   "id": "3dab5566",
   "metadata": {
    "ExecuteTime": {
     "end_time": "2022-08-23T10:01:46.130620Z",
     "start_time": "2022-08-23T10:01:46.099687Z"
    }
   },
   "outputs": [
    {
     "name": "stdout",
     "output_type": "stream",
     "text": [
      "(10886, 12) (6493, 9)\n",
      "<class 'pandas.core.frame.DataFrame'>\n",
      "RangeIndex: 10886 entries, 0 to 10885\n",
      "Data columns (total 12 columns):\n",
      " #   Column      Non-Null Count  Dtype  \n",
      "---  ------      --------------  -----  \n",
      " 0   datetime    10886 non-null  object \n",
      " 1   season      10886 non-null  int64  \n",
      " 2   holiday     10886 non-null  int64  \n",
      " 3   workingday  10886 non-null  int64  \n",
      " 4   weather     10886 non-null  int64  \n",
      " 5   temp        10886 non-null  float64\n",
      " 6   atemp       10886 non-null  float64\n",
      " 7   humidity    10886 non-null  int64  \n",
      " 8   windspeed   10886 non-null  float64\n",
      " 9   casual      10886 non-null  int64  \n",
      " 10  registered  10886 non-null  int64  \n",
      " 11  count       10886 non-null  int64  \n",
      "dtypes: float64(3), int64(8), object(1)\n",
      "memory usage: 1020.7+ KB\n",
      "<class 'pandas.core.frame.DataFrame'>\n",
      "RangeIndex: 6493 entries, 0 to 6492\n",
      "Data columns (total 9 columns):\n",
      " #   Column      Non-Null Count  Dtype  \n",
      "---  ------      --------------  -----  \n",
      " 0   datetime    6493 non-null   object \n",
      " 1   season      6493 non-null   int64  \n",
      " 2   holiday     6493 non-null   int64  \n",
      " 3   workingday  6493 non-null   int64  \n",
      " 4   weather     6493 non-null   int64  \n",
      " 5   temp        6493 non-null   float64\n",
      " 6   atemp       6493 non-null   float64\n",
      " 7   humidity    6493 non-null   int64  \n",
      " 8   windspeed   6493 non-null   float64\n",
      "dtypes: float64(3), int64(5), object(1)\n",
      "memory usage: 456.7+ KB\n",
      "None None\n"
     ]
    }
   ],
   "source": [
    "print(train.shape, test.shape)\n",
    "print(train.info(), test.info())"
   ]
  },
  {
   "cell_type": "code",
   "execution_count": 7,
   "id": "bd1cc818",
   "metadata": {
    "ExecuteTime": {
     "end_time": "2022-08-23T10:01:46.141979Z",
     "start_time": "2022-08-23T10:01:46.133419Z"
    }
   },
   "outputs": [
    {
     "name": "stdout",
     "output_type": "stream",
     "text": [
      "datetime      0\n",
      "season        0\n",
      "holiday       0\n",
      "workingday    0\n",
      "weather       0\n",
      "temp          0\n",
      "atemp         0\n",
      "humidity      0\n",
      "windspeed     0\n",
      "casual        0\n",
      "registered    0\n",
      "count         0\n",
      "dtype: int64 datetime      0\n",
      "season        0\n",
      "holiday       0\n",
      "workingday    0\n",
      "weather       0\n",
      "temp          0\n",
      "atemp         0\n",
      "humidity      0\n",
      "windspeed     0\n",
      "dtype: int64\n"
     ]
    }
   ],
   "source": [
    "print(train.isnull().sum(), test.isnull().sum())"
   ]
  },
  {
   "cell_type": "markdown",
   "id": "241ae98e",
   "metadata": {},
   "source": [
    "### EDA"
   ]
  },
  {
   "cell_type": "code",
   "execution_count": 8,
   "id": "19715459",
   "metadata": {
    "ExecuteTime": {
     "end_time": "2022-08-23T10:01:46.690065Z",
     "start_time": "2022-08-23T10:01:46.144751Z"
    }
   },
   "outputs": [
    {
     "data": {
      "text/plain": [
       "<AxesSubplot:>"
      ]
     },
     "execution_count": 8,
     "metadata": {},
     "output_type": "execute_result"
    },
    {
     "data": {
      "image/png": "[encoded data removed]",
      "text/plain": [
       "<Figure size 1440x1440 with 2 Axes>"
      ]
     },
     "metadata": {},
     "output_type": "display_data"
    }
   ],
   "source": [
    "cols = list(train.columns)\n",
    "corr = train[cols].corr()\n",
    "mask = np.array(corr)\n",
    "\n",
    "plt.figure(figsize=(20,20))\n",
    "sns.heatmap(corr, vmax=0.8, square=True, annot=True, cmap=\"coolwarm\")"
   ]
  },
  {
   "cell_type": "code",
   "execution_count": 9,
   "id": "4153c199",
   "metadata": {
    "ExecuteTime": {
     "end_time": "2022-08-23T10:01:46.697638Z",
     "start_time": "2022-08-23T10:01:46.691782Z"
    }
   },
   "outputs": [
    {
     "data": {
      "text/plain": [
       "str"
      ]
     },
     "execution_count": 9,
     "metadata": {},
     "output_type": "execute_result"
    }
   ],
   "source": [
    "type(train['datetime'].iloc[0])"
   ]
  },
  {
   "cell_type": "code",
   "execution_count": 10,
   "id": "c285bc4e",
   "metadata": {
    "ExecuteTime": {
     "end_time": "2022-08-23T10:01:46.718662Z",
     "start_time": "2022-08-23T10:01:46.700581Z"
    }
   },
   "outputs": [],
   "source": [
    "train['datetime'] = pd.to_datetime(train['datetime'])"
   ]
  },
  {
   "cell_type": "code",
   "execution_count": 11,
   "id": "0ee263fc",
   "metadata": {
    "ExecuteTime": {
     "end_time": "2022-08-23T10:01:46.737016Z",
     "start_time": "2022-08-23T10:01:46.720411Z"
    }
   },
   "outputs": [
    {
     "data": {
      "text/plain": [
       "pandas._libs.tslibs.timestamps.Timestamp"
      ]
     },
     "execution_count": 11,
     "metadata": {},
     "output_type": "execute_result"
    }
   ],
   "source": [
    "type(train['datetime'].iloc[0])"
   ]
  },
  {
   "cell_type": "code",
   "execution_count": 12,
   "id": "c50339bf",
   "metadata": {
    "ExecuteTime": {
     "end_time": "2022-08-23T10:01:46.752651Z",
     "start_time": "2022-08-23T10:01:46.738724Z"
    }
   },
   "outputs": [],
   "source": [
    "dataset = [train, test]"
   ]
  },
  {
   "cell_type": "markdown",
   "id": "91a7785f",
   "metadata": {},
   "source": [
    "##### Datetime"
   ]
  },
  {
   "cell_type": "code",
   "execution_count": 13,
   "id": "5ebe7941",
   "metadata": {
    "ExecuteTime": {
     "end_time": "2022-08-23T10:01:46.786249Z",
     "start_time": "2022-08-23T10:01:46.755097Z"
    }
   },
   "outputs": [],
   "source": [
    "for data in dataset:\n",
    "    data['datetime'] = pd.to_datetime(data['datetime'])\n",
    "    data['year'] = data['datetime'].dt.year\n",
    "    data['month'] = data['datetime'].dt.month\n",
    "    data['day'] = data['datetime'].dt.day\n",
    "    data['hour'] = data['datetime'].dt.hour\n",
    "    data['minute'] = data['datetime'].dt.minute\n",
    "    data['second'] = data['datetime'].dt.second"
   ]
  },
  {
   "cell_type": "code",
   "execution_count": 14,
   "id": "665c4589",
   "metadata": {
    "ExecuteTime": {
     "end_time": "2022-08-23T10:01:47.325228Z",
     "start_time": "2022-08-23T10:01:46.788342Z"
    }
   },
   "outputs": [
    {
     "data": {
      "image/png": "[encoded data removed]",
      "text/plain": [
       "<Figure size 1440x864 with 4 Axes>"
      ]
     },
     "metadata": {},
     "output_type": "display_data"
    }
   ],
   "source": [
    "plt.subplots(figsize=(20,12))\n",
    "\n",
    "col_list = ['year', 'month', 'day', 'hour']\n",
    "\n",
    "for i in range(len(col_list)):\n",
    "    plt.subplot(2,2,i+1)\n",
    "    \n",
    "    col_uni = train[col_list[i]].unique()\n",
    "    colors = sns.color_palette('hls',len(col_uni))\n",
    "    \n",
    "    train.groupby(col_list[i])['count'].mean().plot(kind='bar', color=colors)\n",
    "    plt.xlabel(col_list[i], fontsize=20, weight='bold')\n",
    "    plt.ylabel('Count', fontsize=20, weight='bold')\n",
    "    plt.xticks(fontsize=14, rotation=0)"
   ]
  },
  {
   "cell_type": "markdown",
   "id": "616485bd",
   "metadata": {},
   "source": [
    "- Minute & Second : Drop! (No meanings) + day : Drop! (We have to predict after 20th)\n",
    "- year_month : Need!"
   ]
  },
  {
   "cell_type": "code",
   "execution_count": 15,
   "id": "e32ba201",
   "metadata": {
    "ExecuteTime": {
     "end_time": "2022-08-23T10:01:47.856686Z",
     "start_time": "2022-08-23T10:01:47.327097Z"
    },
    "scrolled": true
   },
   "outputs": [
    {
     "data": {
      "text/plain": [
       "[Text(0, 0, '0'),\n",
       " Text(1, 0, '1'),\n",
       " Text(2, 0, '2'),\n",
       " Text(3, 0, '3'),\n",
       " Text(4, 0, '4'),\n",
       " Text(5, 0, '5'),\n",
       " Text(6, 0, '6'),\n",
       " Text(7, 0, '7'),\n",
       " Text(8, 0, '8'),\n",
       " Text(9, 0, '9'),\n",
       " Text(10, 0, '10'),\n",
       " Text(11, 0, '11'),\n",
       " Text(12, 0, '12'),\n",
       " Text(13, 0, '13'),\n",
       " Text(14, 0, '14'),\n",
       " Text(15, 0, '15'),\n",
       " Text(16, 0, '16'),\n",
       " Text(17, 0, '17'),\n",
       " Text(18, 0, '18'),\n",
       " Text(19, 0, '19'),\n",
       " Text(20, 0, '20'),\n",
       " Text(21, 0, '21'),\n",
       " Text(22, 0, '22'),\n",
       " Text(23, 0, '23')]"
      ]
     },
     "execution_count": 15,
     "metadata": {},
     "output_type": "execute_result"
    },
    {
     "data": {
      "image/png": "[encoded data removed]",
      "text/plain": [
       "<Figure size 1440x864 with 4 Axes>"
      ]
     },
     "metadata": {},
     "output_type": "display_data"
    }
   ],
   "source": [
    "figure, ((ax1, ax2),(ax3,ax4)) = plt.subplots(nrows=2, ncols=2, figsize=(20,12))\n",
    "\n",
    "colors = sns.color_palette('hls',len(train['month'].unique()))\n",
    "\n",
    "train.groupby('year')['count'].mean().plot(kind='bar', ax=ax1)\n",
    "ax1.set_xlabel('year', fontsize=20, weight='bold')\n",
    "ax1.set_ylabel('Count', fontsize=20, weight='bold')\n",
    "ax1.set_xticklabels(train['year'].unique(),fontsize=14, rotation=0)\n",
    "\n",
    "train.groupby('month')['count'].mean().plot(kind='bar', ax=ax2, color=colors)\n",
    "ax2.set_xlabel('month', fontsize=20, weight='bold')\n",
    "ax2.set_ylabel('Count', fontsize=20, weight='bold')\n",
    "ax2.set_xticklabels(train['month'].unique(),rotation=0)\n",
    "\n",
    "train.groupby('day')['count'].mean().plot(kind='bar', ax=ax3)\n",
    "ax3.set_xlabel('day', fontsize=20, weight='bold')\n",
    "ax3.set_ylabel('Count', fontsize=20, weight='bold')\n",
    "ax3.set_xticklabels(train['day'].unique(),fontsize=14, rotation=0)\n",
    "\n",
    "train.groupby('hour')['count'].mean().plot(kind='bar', ax=ax4)\n",
    "ax4.set_xlabel('hour', fontsize=20, weight='bold')\n",
    "ax4.set_ylabel('Count', fontsize=20, weight='bold')\n",
    "ax4.set_xticklabels(train['hour'].unique(),fontsize=14, rotation=0)"
   ]
  },
  {
   "cell_type": "code",
   "execution_count": 16,
   "id": "7747da33",
   "metadata": {
    "ExecuteTime": {
     "end_time": "2022-08-23T10:01:47.866883Z",
     "start_time": "2022-08-23T10:01:47.859466Z"
    }
   },
   "outputs": [],
   "source": [
    "for data in dataset:\n",
    "    data.drop(columns=['day', 'minute', 'second'], axis=1, inplace=True)"
   ]
  },
  {
   "cell_type": "code",
   "execution_count": 39,
   "id": "3fae3a1f",
   "metadata": {
    "ExecuteTime": {
     "end_time": "2022-08-23T10:18:11.701340Z",
     "start_time": "2022-08-23T10:18:11.697151Z"
    }
   },
   "outputs": [],
   "source": [
    "def make_year_month(df):\n",
    "    return df.strftime(\"%Y%m\")"
   ]
  },
  {
   "cell_type": "code",
   "execution_count": 83,
   "id": "70076392",
   "metadata": {
    "ExecuteTime": {
     "end_time": "2022-08-23T10:35:31.092651Z",
     "start_time": "2022-08-23T10:35:31.010184Z"
    }
   },
   "outputs": [],
   "source": [
    "for data in dataset:\n",
    "    data['year_month'] = data['datetime'].apply(make_year_month)"
   ]
  },
  {
   "cell_type": "code",
   "execution_count": 41,
   "id": "57d5f248",
   "metadata": {
    "ExecuteTime": {
     "end_time": "2022-08-23T10:18:13.109972Z",
     "start_time": "2022-08-23T10:18:12.911105Z"
    }
   },
   "outputs": [
    {
     "data": {
      "text/plain": [
       "<AxesSubplot:xlabel='year_month'>"
      ]
     },
     "execution_count": 41,
     "metadata": {},
     "output_type": "execute_result"
    },
    {
     "data": {
      "image/png": "[encoded data removed]",
      "text/plain": [
       "<Figure size 1152x576 with 1 Axes>"
      ]
     },
     "metadata": {},
     "output_type": "display_data"
    }
   ],
   "source": [
    "colors = sns.color_palette('hls',len(train['year_month'].unique()))\n",
    "train.groupby('year_month')['count'].mean().plot(kind='bar', figsize=(16, 8), color=colors)"
   ]
  },
  {
   "cell_type": "markdown",
   "id": "494a33cd",
   "metadata": {},
   "source": [
    "##### Season"
   ]
  },
  {
   "cell_type": "code",
   "execution_count": 85,
   "id": "6324670f",
   "metadata": {
    "ExecuteTime": {
     "end_time": "2022-08-23T10:35:49.942633Z",
     "start_time": "2022-08-23T10:35:49.935920Z"
    }
   },
   "outputs": [
    {
     "data": {
      "text/plain": [
       "(0, 0)"
      ]
     },
     "execution_count": 85,
     "metadata": {},
     "output_type": "execute_result"
    }
   ],
   "source": [
    "train['season'].isna().sum(), test['season'].isna().sum()"
   ]
  },
  {
   "cell_type": "code",
   "execution_count": 86,
   "id": "3b4de99b",
   "metadata": {
    "ExecuteTime": {
     "end_time": "2022-08-23T10:36:00.256480Z",
     "start_time": "2022-08-23T10:36:00.249921Z"
    }
   },
   "outputs": [
    {
     "data": {
      "text/plain": [
       "(4    2734\n",
       " 2    2733\n",
       " 3    2733\n",
       " 1    2686\n",
       " Name: season, dtype: int64,\n",
       " 3    1763\n",
       " 2    1676\n",
       " 1    1556\n",
       " 4    1498\n",
       " Name: season, dtype: int64)"
      ]
     },
     "execution_count": 86,
     "metadata": {},
     "output_type": "execute_result"
    }
   ],
   "source": [
    "train['season'].value_counts(), test['season'].value_counts()"
   ]
  },
  {
   "cell_type": "code",
   "execution_count": 119,
   "id": "7624f6f3",
   "metadata": {
    "ExecuteTime": {
     "end_time": "2022-08-23T10:55:04.182601Z",
     "start_time": "2022-08-23T10:55:04.077641Z"
    }
   },
   "outputs": [
    {
     "data": {
      "text/plain": [
       "(array([0, 1, 2, 3]),\n",
       " [Text(0, 0, '1'), Text(1, 0, '2'), Text(2, 0, '3'), Text(3, 0, '4')])"
      ]
     },
     "execution_count": 119,
     "metadata": {},
     "output_type": "execute_result"
    },
    {
     "data": {
      "image/png": "[encoded data removed]",
      "text/plain": [
       "<Figure size 720x576 with 1 Axes>"
      ]
     },
     "metadata": {},
     "output_type": "display_data"
    }
   ],
   "source": [
    "col_uni = train['season'].unique()\n",
    "colors = sns.color_palette('hls',len(col_uni))\n",
    "train.groupby('season')[\"count\"].mean().plot(kind='bar', color=colors, figsize=(10,8))\n",
    "plt.xlabel('season', fontsize=20, weight='bold')\n",
    "plt.ylabel('Count', fontsize=20, weight='bold')\n",
    "plt.xticks(fontsize=14, rotation=0)"
   ]
  },
  {
   "cell_type": "markdown",
   "id": "c8ee318e",
   "metadata": {},
   "source": [
    "##### holiday & workingday"
   ]
  },
  {
   "cell_type": "code",
   "execution_count": 88,
   "id": "353fc209",
   "metadata": {
    "ExecuteTime": {
     "end_time": "2022-08-23T10:36:21.781979Z",
     "start_time": "2022-08-23T10:36:21.776544Z"
    }
   },
   "outputs": [
    {
     "data": {
      "text/plain": [
       "(0, 0)"
      ]
     },
     "execution_count": 88,
     "metadata": {},
     "output_type": "execute_result"
    }
   ],
   "source": [
    "train['holiday'].isna().sum(), test['holiday'].isna().sum()"
   ]
  },
  {
   "cell_type": "code",
   "execution_count": 89,
   "id": "85dc8e33",
   "metadata": {
    "ExecuteTime": {
     "end_time": "2022-08-23T10:36:27.563301Z",
     "start_time": "2022-08-23T10:36:27.556353Z"
    }
   },
   "outputs": [
    {
     "data": {
      "text/plain": [
       "(0, 0)"
      ]
     },
     "execution_count": 89,
     "metadata": {},
     "output_type": "execute_result"
    }
   ],
   "source": [
    "train['workingday'].isna().sum(), test['workingday'].isna().sum()"
   ]
  },
  {
   "cell_type": "code",
   "execution_count": 90,
   "id": "599d49e1",
   "metadata": {
    "ExecuteTime": {
     "end_time": "2022-08-23T10:36:48.172010Z",
     "start_time": "2022-08-23T10:36:48.165228Z"
    }
   },
   "outputs": [
    {
     "data": {
      "text/plain": [
       "(1    7412\n",
       " 0    3474\n",
       " Name: workingday, dtype: int64,\n",
       " 1    4453\n",
       " 0    2040\n",
       " Name: workingday, dtype: int64)"
      ]
     },
     "execution_count": 90,
     "metadata": {},
     "output_type": "execute_result"
    }
   ],
   "source": [
    "train['workingday'].value_counts(), test['workingday'].value_counts()"
   ]
  },
  {
   "cell_type": "code",
   "execution_count": 91,
   "id": "532c6aa4",
   "metadata": {
    "ExecuteTime": {
     "end_time": "2022-08-23T10:37:01.075138Z",
     "start_time": "2022-08-23T10:37:01.068956Z"
    }
   },
   "outputs": [
    {
     "data": {
      "text/plain": [
       "(0    10575\n",
       " 1      311\n",
       " Name: holiday, dtype: int64,\n",
       " 0    6304\n",
       " 1     189\n",
       " Name: holiday, dtype: int64)"
      ]
     },
     "execution_count": 91,
     "metadata": {},
     "output_type": "execute_result"
    }
   ],
   "source": [
    "train['holiday'].value_counts(), test['holiday'].value_counts()"
   ]
  },
  {
   "cell_type": "code",
   "execution_count": 96,
   "id": "2e94fca1",
   "metadata": {
    "ExecuteTime": {
     "end_time": "2022-08-23T10:48:41.518854Z",
     "start_time": "2022-08-23T10:48:41.512238Z"
    }
   },
   "outputs": [],
   "source": [
    "for data in dataset:\n",
    "    data['weekend'] = (data['holiday'] == 0) & (data['workingday']==0)"
   ]
  },
  {
   "cell_type": "markdown",
   "id": "3f49ec37",
   "metadata": {
    "ExecuteTime": {
     "end_time": "2022-08-23T10:48:43.316705Z",
     "start_time": "2022-08-23T10:48:43.304283Z"
    }
   },
   "source": [
    "##### weather"
   ]
  },
  {
   "cell_type": "code",
   "execution_count": 100,
   "id": "208d8744",
   "metadata": {
    "ExecuteTime": {
     "end_time": "2022-08-23T10:49:54.268020Z",
     "start_time": "2022-08-23T10:49:54.259578Z"
    }
   },
   "outputs": [
    {
     "data": {
      "text/plain": [
       "(0,\n",
       " 1    7192\n",
       " 2    2834\n",
       " 3     859\n",
       " 4       1\n",
       " Name: weather, dtype: int64)"
      ]
     },
     "execution_count": 100,
     "metadata": {},
     "output_type": "execute_result"
    }
   ],
   "source": [
    "train['weather'].isna().sum(), train['weather'].value_counts()"
   ]
  },
  {
   "cell_type": "code",
   "execution_count": 101,
   "id": "a19bd8f0",
   "metadata": {
    "ExecuteTime": {
     "end_time": "2022-08-23T10:50:07.217624Z",
     "start_time": "2022-08-23T10:50:07.211379Z"
    },
    "scrolled": true
   },
   "outputs": [
    {
     "data": {
      "text/plain": [
       "(0,\n",
       " 1    4221\n",
       " 2    1710\n",
       " 3     560\n",
       " 4       2\n",
       " Name: weather, dtype: int64)"
      ]
     },
     "execution_count": 101,
     "metadata": {},
     "output_type": "execute_result"
    }
   ],
   "source": [
    "test['weather'].isna().sum(), test['weather'].value_counts()"
   ]
  },
  {
   "cell_type": "code",
   "execution_count": 113,
   "id": "9238d693",
   "metadata": {
    "ExecuteTime": {
     "end_time": "2022-08-23T10:53:19.669826Z",
     "start_time": "2022-08-23T10:53:19.665143Z"
    }
   },
   "outputs": [],
   "source": [
    "for data in dataset:\n",
    "    data.loc[data['weather'] == 4, 'weather'] = 3"
   ]
  },
  {
   "cell_type": "code",
   "execution_count": 118,
   "id": "b42b114b",
   "metadata": {
    "ExecuteTime": {
     "end_time": "2022-08-23T10:54:38.553408Z",
     "start_time": "2022-08-23T10:54:38.446411Z"
    }
   },
   "outputs": [
    {
     "data": {
      "text/plain": [
       "(array([0, 1, 2]), [Text(0, 0, '1'), Text(1, 0, '2'), Text(2, 0, '3')])"
      ]
     },
     "execution_count": 118,
     "metadata": {},
     "output_type": "execute_result"
    },
    {
     "data": {
      "image/png": "[encoded data removed]",
      "text/plain": [
       "<Figure size 720x576 with 1 Axes>"
      ]
     },
     "metadata": {},
     "output_type": "display_data"
    }
   ],
   "source": [
    "col_uni = train['weather'].unique()\n",
    "colors = sns.color_palette('hls',len(col_uni))\n",
    "\n",
    "train.groupby('weather')[\"count\"].mean().plot(kind='bar', color=colors, figsize=(10,8))\n",
    "plt.xlabel('weather', fontsize=20, weight='bold')\n",
    "plt.ylabel('Count', fontsize=20, weight='bold')\n",
    "plt.xticks(fontsize=14, rotation=0)"
   ]
  },
  {
   "cell_type": "markdown",
   "id": "f171678c",
   "metadata": {},
   "source": [
    "##### temp & atemp"
   ]
  },
  {
   "cell_type": "code",
   "execution_count": 120,
   "id": "7253d386",
   "metadata": {
    "ExecuteTime": {
     "end_time": "2022-08-23T10:55:17.668550Z",
     "start_time": "2022-08-23T10:55:17.662911Z"
    }
   },
   "outputs": [
    {
     "data": {
      "text/plain": [
       "Index(['datetime', 'season', 'holiday', 'workingday', 'weather', 'temp',\n",
       "       'atemp', 'humidity', 'windspeed', 'casual', 'registered', 'count',\n",
       "       'year', 'month', 'hour', 'year_month', 'weekend'],\n",
       "      dtype='object')"
      ]
     },
     "execution_count": 120,
     "metadata": {},
     "output_type": "execute_result"
    }
   ],
   "source": [
    "train.columns"
   ]
  },
  {
   "cell_type": "code",
   "execution_count": null,
   "id": "1ede5a99",
   "metadata": {},
   "outputs": [],
   "source": []
  },
  {
   "cell_type": "code",
   "execution_count": null,
   "id": "7e8d7bee",
   "metadata": {},
   "outputs": [],
   "source": []
  },
  {
   "cell_type": "code",
   "execution_count": null,
   "id": "dcdbbaf9",
   "metadata": {},
   "outputs": [],
   "source": []
  },
  {
   "cell_type": "code",
   "execution_count": null,
   "id": "fa0aa66b",
   "metadata": {},
   "outputs": [],
   "source": []
  },
  {
   "cell_type": "code",
   "execution_count": null,
   "id": "b0f5d01c",
   "metadata": {},
   "outputs": [],
   "source": []
  },
  {
   "cell_type": "code",
   "execution_count": null,
   "id": "a69afb3f",
   "metadata": {},
   "outputs": [],
   "source": []
  },
  {
   "cell_type": "code",
   "execution_count": null,
   "id": "a6b42805",
   "metadata": {},
   "outputs": [],
   "source": []
  }
 ],
 "metadata": {
  "kernelspec": {
   "display_name": "Python 3 (ipykernel)",
   "language": "python",
   "name": "python3"
  },
  "language_info": {
   "codemirror_mode": {
    "name": "ipython",
    "version": 3
   },
   "file_extension": ".py",
   "mimetype": "text/x-python",
   "name": "python",
   "nbconvert_exporter": "python",
   "pygments_lexer": "ipython3",
   "version": "3.7.7"
  }
 },
 "nbformat": 4,
 "nbformat_minor": 5
}
