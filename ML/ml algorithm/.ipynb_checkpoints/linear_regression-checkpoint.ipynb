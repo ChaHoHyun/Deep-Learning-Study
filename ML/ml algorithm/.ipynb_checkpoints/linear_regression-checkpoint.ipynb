{
 "cells": [
  {
   "cell_type": "markdown",
   "metadata": {},
   "source": [
    "### Linear Reggresion\n",
    "\n",
    "- [Sklearn Official document URL - Linear Regression](https://scikit-learn.org/stable/modules/generated/sklearn.linear_model.LinearRegression.html)\n",
    "\n",
    "> class sklearn.linear_model.LinearRegression(*, fit_intercept=True, normalize='deprecated', copy_X=True, n_jobs=None, positive=False)\n",
    "\n",
    "```python\n",
    "from sklearn.linear_model import LinearRegression\n",
    "```"
   ]
  },
  {
   "cell_type": "markdown",
   "metadata": {},
   "source": [
    "### Basic Example 1"
   ]
  },
  {
   "cell_type": "code",
   "execution_count": 29,
   "metadata": {
    "ExecuteTime": {
     "end_time": "2022-07-17T12:47:24.598505Z",
     "start_time": "2022-07-17T12:47:24.588399Z"
    }
   },
   "outputs": [
    {
     "name": "stdout",
     "output_type": "stream",
     "text": [
      " 1.0 \n",
      " [1. 2.] \n",
      " 3.0 \n",
      " [16.]\n"
     ]
    }
   ],
   "source": [
    "import numpy as np\n",
    "from sklearn.linear_model import LinearRegression\n",
    "\n",
    "x = np.array([[1, 1], [1, 2], [2, 2], [2, 3]])\n",
    "# y = 1 * x_0 + 2 * x_1 + 3\n",
    "y = np.dot(x, np.array([1, 2])) + 3\n",
    "\n",
    "# Create Model\n",
    "reg = LinearRegression(fit_intercept = True)\n",
    "\n",
    "# Lerning Model\n",
    "reg.fit(x,y)\n",
    "\n",
    "print(\"\",reg.score(x, y),\"\\n\",\n",
    "      reg.coef_ , \"\\n\",\n",
    "      reg.intercept_, \"\\n\",\n",
    "      # Predict New value\n",
    "      reg.predict(np.array([[3, 5]])))"
   ]
  },
  {
   "cell_type": "markdown",
   "metadata": {},
   "source": [
    "### Basic Example 2"
   ]
  },
  {
   "cell_type": "code",
   "execution_count": 30,
   "metadata": {
    "ExecuteTime": {
     "end_time": "2022-07-17T12:48:09.475101Z",
     "start_time": "2022-07-17T12:48:09.359796Z"
    }
   },
   "outputs": [
    {
     "data": {
      "image/png": "[encoded data removed]",
      "text/plain": [
       "<Figure size 720x576 with 1 Axes>"
      ]
     },
     "metadata": {},
     "output_type": "display_data"
    }
   ],
   "source": [
    "# Import the packages and classes needed for this example\n",
    "import numpy as np\n",
    "import matplotlib.pyplot as plt\n",
    "import seaborn as sns\n",
    "from sklearn.linear_model import LinearRegression\n",
    "sns.set_style(\"whitegrid\")\n",
    "plt.rcParams[\"figure.figsize\"] = (10, 8)\n",
    "\n",
    "# Create random data with numpy, and plot it with matplotlib\n",
    "rnstate = np.random.RandomState(1)\n",
    "x = 10 * rnstate.rand(50)\n",
    "y = 2 * x - 5 + rnstate.randn(50)\n",
    "plt.scatter(x, y)\n",
    "plt.show()"
   ]
  },
  {
   "cell_type": "code",
   "execution_count": 31,
   "metadata": {
    "ExecuteTime": {
     "end_time": "2022-07-17T12:48:31.523037Z",
     "start_time": "2022-07-17T12:48:31.417457Z"
    }
   },
   "outputs": [
    {
     "data": {
      "image/png": "[encoded data removed]",
      "text/plain": [
       "<Figure size 720x576 with 1 Axes>"
      ]
     },
     "metadata": {},
     "output_type": "display_data"
    }
   ],
   "source": [
    "# Create a linear regression model based the positioning of the data and predict a Best Fit\n",
    "model = LinearRegression(fit_intercept=True)\n",
    "model.fit(x[:, np.newaxis], y)\n",
    "xfit = np.linspace(0, 10, 1000)\n",
    "yfit = model.predict(xfit[:, np.newaxis])\n",
    "\n",
    "# Plot the estimated linear regression line with matplotlib:\n",
    "plt.scatter(x, y)\n",
    "plt.plot(xfit, yfit, color='red')\n",
    "plt.show()"
   ]
  },
  {
   "cell_type": "markdown",
   "metadata": {},
   "source": [
    "### Example for Iris data"
   ]
  },
  {
   "cell_type": "markdown",
   "metadata": {},
   "source": [
    "![](https://images.velog.io/images/sp1rit/post/99ee2aa3-1d43-42fb-b34d-b0f39ee90a58/image.png)"
   ]
  },
  {
   "cell_type": "code",
   "execution_count": 32,
   "metadata": {
    "ExecuteTime": {
     "end_time": "2022-07-17T12:49:13.909736Z",
     "start_time": "2022-07-17T12:49:13.850205Z"
    }
   },
   "outputs": [
    {
     "name": "stdout",
     "output_type": "stream",
     "text": [
      "(150, 4) (150,)\n"
     ]
    }
   ],
   "source": [
    "import numpy as np\n",
    "import matplotlib.pyplot as plt\n",
    "from sklearn import datasets\n",
    "\n",
    "# import Iris data-set\n",
    "iris = datasets.load_iris()\n",
    "X = iris.data\n",
    "y = iris.target\n",
    "\n",
    "print(X.shape,y.shape)"
   ]
  },
  {
   "cell_type": "markdown",
   "metadata": {},
   "source": [
    "- Number of X data(Input) : 150 and 4 feature\n",
    "- Number of y data(Output) : 150"
   ]
  },
  {
   "cell_type": "code",
   "execution_count": 36,
   "metadata": {
    "ExecuteTime": {
     "end_time": "2022-07-17T12:56:09.000533Z",
     "start_time": "2022-07-17T12:56:08.990835Z"
    }
   },
   "outputs": [
    {
     "data": {
      "text/plain": [
       "0.96"
      ]
     },
     "execution_count": 36,
     "metadata": {},
     "output_type": "execute_result"
    }
   ],
   "source": [
    "import numpy as np\n",
    "from sklearn.linear_model import LinearRegression\n",
    "from sklearn.model_selection import train_test_split\n",
    "from sklearn.metrics import accuracy_score\n",
    "\n",
    "# Divide train, test set from X, y data\n",
    "x_train, x_test, y_train, y_test = train_test_split(X, y,\n",
    "                                                   test_size=50,\n",
    "                                                   random_state=0)\n",
    "# Set Linear Regression model\n",
    "reg = LinearRegression()\n",
    "# fit model by data\n",
    "reg.fit(x_train, y_train)\n",
    "# validate the model\n",
    "y_pred = reg.predict(x_test)\n",
    "accuracy_score(y_test,np.abs(np.round(y_pred)))"
   ]
  }
 ],
 "metadata": {
  "interpreter": {
   "hash": "1970966842d556e3c06aa0bc168d8de5c906ec823583525009a99d6e6bfd9f77"
  },
  "kernelspec": {
   "display_name": "Python 3 (ipykernel)",
   "language": "python",
   "name": "python3"
  },
  "language_info": {
   "codemirror_mode": {
    "name": "ipython",
    "version": 3
   },
   "file_extension": ".py",
   "mimetype": "text/x-python",
   "name": "python",
   "nbconvert_exporter": "python",
   "pygments_lexer": "ipython3",
   "version": "3.7.7"
  }
 },
 "nbformat": 4,
 "nbformat_minor": 2
}
