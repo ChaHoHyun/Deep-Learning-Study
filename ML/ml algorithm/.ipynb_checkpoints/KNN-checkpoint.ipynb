{
 "cells": [
  {
   "cell_type": "markdown",
   "id": "8cdb129d",
   "metadata": {},
   "source": [
    "### KNN\n",
    "<br>\n",
    "- [Sklearn Official document URL - KNN](https://scikit-learn.org/stable/modules/generated/sklearn.neighbors.KNeighborsClassifier.html)\n",
    "\n",
    "> class sklearn.neighbors.KNeighborsClassifier(n_neighbors=5, *, weights='uniform', algorithm='auto', leaf_size=30, p=2, metric='minkowski', metric_params=None, n_jobs=None)\n",
    "\n",
    "```python\n",
    "from sklearn.neighbors import KNeighborsClassifier\n",
    "```"
   ]
  },
  {
   "cell_type": "markdown",
   "id": "c9eb2683",
   "metadata": {},
   "source": [
    "### Example code"
   ]
  },
  {
   "cell_type": "markdown",
   "id": "0b39adae",
   "metadata": {},
   "source": [
    "#####  Iris dataset"
   ]
  },
  {
   "cell_type": "code",
   "execution_count": 10,
   "id": "9824b166",
   "metadata": {
    "ExecuteTime": {
     "end_time": "2022-08-05T06:48:43.245668Z",
     "start_time": "2022-08-05T06:48:43.223633Z"
    }
   },
   "outputs": [
    {
     "name": "stdout",
     "output_type": "stream",
     "text": [
      "Only kneighbor Score : 0.98 \n",
      "PCA+kneighbor Score : 1.0\n"
     ]
    }
   ],
   "source": [
    "import numpy as np\n",
    "import matplotlib.pyplot as plt\n",
    "\n",
    "from sklearn import datasets\n",
    "from sklearn.model_selection import train_test_split\n",
    "from sklearn.neighbors import KNeighborsClassifier\n",
    "from sklearn.decomposition import PCA\n",
    "from sklearn.pipeline import Pipeline\n",
    "from sklearn.metrics import accuracy_score\n",
    "\n",
    "iris = datasets.load_iris()\n",
    "# x : Sepal Length, Sepal Width, Petal Length and Petal Width\n",
    "X = iris.data\n",
    "# y : 0 - Setosa, 1 - Versicolour, and 2 - Virginica\n",
    "y = iris.target\n",
    "\n",
    "# build your own linear regression model using iris data set\n",
    "# 1) Divide train/test\n",
    "X_train, X_test, y_train, y_test = train_test_split(X, y, \n",
    "                                                    test_size=1/3, \n",
    "                                                    random_state=1)\n",
    "# 2) Use KNN with pipeline(PCA : reduce dimension)\n",
    "knn = KNeighborsClassifier(n_neighbors=5)\n",
    "\n",
    "knn1, pca = KNeighborsClassifier(n_neighbors=5), PCA(n_components=2)\n",
    "knn_pca = Pipeline(steps = [('feature_extractor_pca',pca), ('neibor', knn1)])\n",
    "\n",
    "# 3) 학습하고\n",
    "knn.fit(X_train, y_train)\n",
    "knn_pca.fit(X_train, y_train)\n",
    "\n",
    "# 4) 성능 비교\n",
    "print(\"Only kneighbor Score :\",accuracy_score(y_test, np.abs(np.round(knn.predict(X_test)))),\"\\n\\\n",
    "PCA+kneighbor Score :\",accuracy_score(y_test, np.abs(np.round(knn_pca.predict(X_test)))))"
   ]
  },
  {
   "cell_type": "markdown",
   "id": "ef2992de",
   "metadata": {},
   "source": [
    "### K-fold Cross Validation\n",
    "<br>\n",
    "### KNN\n",
    "\n",
    "- [Sklearn Official document URL - cross_validation](https://scikit-learn.org/stable/modules/cross_validation.html)\n",
    "\n",
    "```python\n",
    "from sklearn.model_selection import cross_val_score\n",
    "```"
   ]
  },
  {
   "cell_type": "code",
   "execution_count": 42,
   "id": "f5a0c763",
   "metadata": {
    "ExecuteTime": {
     "end_time": "2022-08-05T07:12:27.606731Z",
     "start_time": "2022-08-05T07:12:27.568535Z"
    }
   },
   "outputs": [
    {
     "name": "stdout",
     "output_type": "stream",
     "text": [
      "list of missing value \n",
      " train : [0 0 0 0 0 0 2 0 0]\n",
      " test : [0 0 0 0 0 0 0 0 1 0]\n",
      " target : [0 0]\n"
     ]
    }
   ],
   "source": [
    "import pandas as pd\n",
    "import numpy as np\n",
    "\n",
    "train = pd.read_csv('titanic/train_preprocessing.csv') # X_train\n",
    "test = pd.read_csv('titanic/test_preprocessing.csv') # y_train\n",
    "target = pd.read_csv('titanic/target_preprocessing.csv') # X_tet\n",
    "\n",
    "print(f\"list of missing value \\n train : {train.isna().sum().values}\\n test : {test.isna().sum().values}\\n target : {target.isna().sum().values}\")\n",
    "\n",
    "train.fillna(0, inplace=True)\n",
    "test.fillna(0, inplace=True)\n",
    "# target.fillna(0, inplace=True)\n",
    "\n",
    "x = train.to_numpy()[:,1:]\n",
    "y = target.to_numpy()[:,1]\n",
    "X_test = test.to_numpy()[:,2:]"
   ]
  },
  {
   "cell_type": "code",
   "execution_count": 38,
   "id": "bb1d91e4",
   "metadata": {
    "ExecuteTime": {
     "end_time": "2022-08-05T07:09:59.257406Z",
     "start_time": "2022-08-05T07:09:59.248721Z"
    }
   },
   "outputs": [
    {
     "data": {
      "text/plain": [
       "array([0, 0, 0, 0, 0, 0, 2, 0, 0])"
      ]
     },
     "execution_count": 38,
     "metadata": {},
     "output_type": "execute_result"
    }
   ],
   "source": []
  },
  {
   "cell_type": "code",
   "execution_count": null,
   "id": "fbf26d51",
   "metadata": {},
   "outputs": [],
   "source": []
  },
  {
   "cell_type": "code",
   "execution_count": null,
   "id": "5995b1ba",
   "metadata": {},
   "outputs": [],
   "source": []
  }
 ],
 "metadata": {
  "kernelspec": {
   "display_name": "Python 3 (ipykernel)",
   "language": "python",
   "name": "python3"
  },
  "language_info": {
   "codemirror_mode": {
    "name": "ipython",
    "version": 3
   },
   "file_extension": ".py",
   "mimetype": "text/x-python",
   "name": "python",
   "nbconvert_exporter": "python",
   "pygments_lexer": "ipython3",
   "version": "3.7.7"
  }
 },
 "nbformat": 4,
 "nbformat_minor": 5
}
