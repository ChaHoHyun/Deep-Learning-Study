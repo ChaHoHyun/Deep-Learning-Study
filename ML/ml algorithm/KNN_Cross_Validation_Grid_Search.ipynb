{
 "cells": [
  {
   "cell_type": "markdown",
   "id": "8cdb129d",
   "metadata": {},
   "source": [
    "### KNN\n",
    "<br>\n",
    "- [Sklearn Official document URL - KNN](https://scikit-learn.org/stable/modules/generated/sklearn.neighbors.KNeighborsClassifier.html)\n",
    "\n",
    "> class sklearn.neighbors.KNeighborsClassifier(n_neighbors=5, *, weights='uniform', algorithm='auto', leaf_size=30, p=2, metric='minkowski', metric_params=None, n_jobs=None)\n",
    "\n",
    "```python\n",
    "from sklearn.neighbors import KNeighborsClassifier\n",
    "```"
   ]
  },
  {
   "cell_type": "markdown",
   "id": "c9eb2683",
   "metadata": {},
   "source": [
    "### Example code"
   ]
  },
  {
   "cell_type": "markdown",
   "id": "0b39adae",
   "metadata": {},
   "source": [
    "#####  Iris dataset"
   ]
  },
  {
   "cell_type": "code",
   "execution_count": 10,
   "id": "9824b166",
   "metadata": {
    "ExecuteTime": {
     "end_time": "2022-08-05T06:48:43.245668Z",
     "start_time": "2022-08-05T06:48:43.223633Z"
    }
   },
   "outputs": [
    {
     "name": "stdout",
     "output_type": "stream",
     "text": [
      "Only kneighbor Score : 0.98 \n",
      "PCA+kneighbor Score : 1.0\n"
     ]
    }
   ],
   "source": [
    "import numpy as np\n",
    "import matplotlib.pyplot as plt\n",
    "\n",
    "from sklearn import datasets\n",
    "from sklearn.model_selection import train_test_split\n",
    "from sklearn.neighbors import KNeighborsClassifier\n",
    "from sklearn.decomposition import PCA\n",
    "from sklearn.pipeline import Pipeline\n",
    "from sklearn.metrics import accuracy_score\n",
    "\n",
    "iris = datasets.load_iris()\n",
    "# x : Sepal Length, Sepal Width, Petal Length and Petal Width\n",
    "X = iris.data\n",
    "# y : 0 - Setosa, 1 - Versicolour, and 2 - Virginica\n",
    "y = iris.target\n",
    "\n",
    "# build your own linear regression model using iris data set\n",
    "# 1) Divide train/test\n",
    "X_train, X_test, y_train, y_test = train_test_split(X, y, \n",
    "                                                    test_size=1/3, \n",
    "                                                    random_state=1)\n",
    "# 2) Use KNN with pipeline(PCA : reduce dimension)\n",
    "knn = KNeighborsClassifier(n_neighbors=5)\n",
    "\n",
    "knn1, pca = KNeighborsClassifier(n_neighbors=5), PCA(n_components=2)\n",
    "knn_pca = Pipeline(steps = [('feature_extractor_pca',pca), ('neibor', knn1)])\n",
    "\n",
    "# 3) 학습하고\n",
    "knn.fit(X_train, y_train)\n",
    "knn_pca.fit(X_train, y_train)\n",
    "\n",
    "# 4) 성능 비교\n",
    "print(\"Only kneighbor Score :\",accuracy_score(y_test, np.abs(np.round(knn.predict(X_test)))),\"\\n\\\n",
    "PCA+kneighbor Score :\",accuracy_score(y_test, np.abs(np.round(knn_pca.predict(X_test)))))"
   ]
  },
  {
   "cell_type": "markdown",
   "id": "ef2992de",
   "metadata": {},
   "source": [
    "### Cross Validation\n",
    "\n",
    "<br>\n",
    "\n",
    "### K-fold Cross-validation\n",
    "\n",
    "- [Sklearn Official document URL - cross_validation](https://scikit-learn.org/stable/modules/cross_validation.html)\n",
    "\n",
    "```python\n",
    "from sklearn.model_selection import cross_val_score\n",
    "```"
   ]
  },
  {
   "cell_type": "code",
   "execution_count": 5,
   "id": "f5a0c763",
   "metadata": {
    "ExecuteTime": {
     "end_time": "2022-08-08T09:31:29.571358Z",
     "start_time": "2022-08-08T09:31:29.533831Z"
    }
   },
   "outputs": [
    {
     "name": "stdout",
     "output_type": "stream",
     "text": [
      "list of missing value \n",
      " train : [0 0 0 0 0 0 2 0 0]\n",
      " test : [0 0 0 0 0 0 0 0 1 0]\n",
      " target : [0 0]\n"
     ]
    }
   ],
   "source": [
    "import pandas as pd\n",
    "import numpy as np\n",
    "\n",
    "train = pd.read_csv('titanic/train_preprocessing.csv') # X_train\n",
    "test = pd.read_csv('titanic/test_preprocessing.csv') # y_train\n",
    "target = pd.read_csv('titanic/target_preprocessing.csv') # X_tet\n",
    "\n",
    "print(f\"list of missing value \\n train : {train.isna().sum().values}\\n test : {test.isna().sum().values}\\n target : {target.isna().sum().values}\")\n",
    "\n",
    "train.fillna(0, inplace=True)\n",
    "test.fillna(0, inplace=True)\n",
    "# target.fillna(0, inplace=True)\n",
    "\n",
    "x = train.to_numpy()[:,1:]\n",
    "y = target.to_numpy()[:,1]\n",
    "X_test = test.to_numpy()[:,2:]"
   ]
  },
  {
   "cell_type": "code",
   "execution_count": 7,
   "id": "bb1d91e4",
   "metadata": {
    "ExecuteTime": {
     "end_time": "2022-08-08T09:33:45.875925Z",
     "start_time": "2022-08-08T09:33:45.806716Z"
    }
   },
   "outputs": [
    {
     "name": "stdout",
     "output_type": "stream",
     "text": [
      "Score Array : [0.76282051 0.80128205 0.84615385 0.74358974 0.76774194] \n",
      "Score Mean : 0.784317617866005\n",
      "Score Std : 0.03607533685172391\n",
      "kneighbor + LDA 성능 : 0.7946428571428571\n"
     ]
    }
   ],
   "source": [
    "# 1) x, y -> train/test\n",
    "from sklearn.model_selection import train_test_split, cross_val_score\n",
    "\n",
    "x_train, x_test, y_train, y_test = train_test_split(x,y,\n",
    "                                                    test_size=1/8, \n",
    "                                                    random_state=0)\n",
    "\n",
    "# 2) LDA + KNN의 Pipeline Classifier만들고\n",
    "from sklearn.discriminant_analysis import LinearDiscriminantAnalysis as lda\n",
    "from sklearn.neighbors import KNeighborsClassifier\n",
    "from sklearn.pipeline import Pipeline as pipeline\n",
    "\n",
    "lda, kneighbor = lda(n_components=1), KNeighborsClassifier(n_neighbors=5)\n",
    "clf = pipeline(steps=[('LDA',lda),('kneighbor',kneighbor)])\n",
    "\n",
    "# 3) k-Fold Cross Validation 성능 확인\n",
    "from sklearn.metrics import accuracy_score\n",
    "from sklearn.model_selection import cross_val_score\n",
    "\n",
    "scores = cross_val_score(clf, x_train, y_train, cv=5)\n",
    "print(f\"Score Array : {scores} \\n\\\n",
    "Score Mean : {np.mean(scores)}\\n\\\n",
    "Score Std : {np.std(scores)}\")\n",
    "\n",
    "# 4) 유의미하다면 전체 데이터로 학습\n",
    "clf.fit(x_train, y_train)\n",
    "\n",
    "# 5) test 분리한걸로 검증\n",
    "print(\"kneighbor + LDA 성능 :\",accuracy_score(y_test, np.abs(np.round(clf.predict(x_test)))))\n",
    "\n",
    "# 6) 최종 학습된 모델로 아래 데이터 res로 예측\n",
    "res = clf.predict(X_test)"
   ]
  },
  {
   "cell_type": "markdown",
   "id": "aa9aa17b",
   "metadata": {},
   "source": [
    "### "
   ]
  },
  {
   "cell_type": "markdown",
   "id": "a74ec878",
   "metadata": {},
   "source": [
    "### Grid-Search\n",
    "\n",
    "<br>\n",
    "\n",
    "##### Grid-SearchCV\n",
    "\n",
    "- [Sklearn Official document URL - cross_validation](https://scikit-learn.org/stable/modules/generated/sklearn.model_selection.GridSearchCV.html#sklearn.model_selection.GridSearchCV)\n",
    "\n",
    "```python\n",
    "from sklearn.model_selection import GridSearchCV\n",
    "```\n",
    "\n",
    "##### RandomizedSearchCV\n",
    "\n",
    "- [Sklearn Official document URL - cross_validation](class sklearn.model_selection.RandomizedSearchCV(estimator, param_distributions, *, n_iter=10, scoring=None, n_jobs=None, refit=True, cv=None, verbose=0, pre_dispatch='2*n_jobs', random_state=None, error_score=nan, return_train_score=False))\n",
    "\n",
    "```python\n",
    "from sklearn.model_selection import RandomizedSearchCV\n",
    "```"
   ]
  },
  {
   "cell_type": "markdown",
   "id": "6de0e76a",
   "metadata": {},
   "source": [
    "```\n",
    "sklearn.model_selection.GridSearchCV(estimator, param_grid,scoring=None,\n",
    "          n_jobs=None, iid='deprecated', refit=True, cv=None, verbose=0, \n",
    "          pre_dispatch='2*n_jobs', error_score=nan, return_train_score=False)\n",
    "```\n",
    "\n",
    "1.estimator: Pass the model instance for which you want to check the hyperparameters.<br>\n",
    "2.params_grid: the dictionary object that holds the hyperparameters you want to try<br>\n",
    "3.scoring: evaluation metric that you want to use, you can simply pass a valid string/ object of evaluation metric<br>\n",
    "4.cv: number of cross-validation you have to try for each selected set of hyperparameters<br>\n",
    "5.verbose: you can set it to 1 to get the detailed print out while you fit the data to GridSearchCV<br>\n",
    "6.n_jobs: number of processes you wish to run in parallel for this task if it -1 it will use all available processors. "
   ]
  },
  {
   "cell_type": "code",
   "execution_count": 7,
   "id": "5995b1ba",
   "metadata": {
    "ExecuteTime": {
     "end_time": "2022-08-10T12:35:25.795613Z",
     "start_time": "2022-08-10T12:35:25.772342Z"
    }
   },
   "outputs": [
    {
     "name": "stdout",
     "output_type": "stream",
     "text": [
      "best parameters :  {'max_depth': 2, 'min_samples_split': 2}\n",
      "best score :  0.9333333333333332\n",
      "best model parameter :  DecisionTreeClassifier(max_depth=3)\n"
     ]
    },
    {
     "data": {
      "text/plain": [
       "0.9666666666666667"
      ]
     },
     "execution_count": 7,
     "metadata": {},
     "output_type": "execute_result"
    }
   ],
   "source": [
    "import pandas as pd\n",
    "import numpy as np\n",
    "from sklearn.datasets import load_iris\n",
    "from sklearn.tree import DecisionTreeClassifier\n",
    "from sklearn.model_selection import GridSearchCV, train_test_split\n",
    "from sklearn.metrics import accuracy_score\n",
    "\n",
    "iris_data = load_iris()\n",
    "label = iris_data.target\n",
    "data = iris_data.data\n",
    "\n",
    "X_train, X_val, y_train, y_val = train_test_split(data, label, test_size=0.2)\n",
    "\n",
    "\n",
    "# GridSearchCV의 param_grid 설정\n",
    "params = {\n",
    "    'max_depth': [2, 3],\n",
    "    'min_samples_split': [2, 3]\n",
    "}\n",
    "\n",
    "dtc = DecisionTreeClassifier()\n",
    "\n",
    "grid_tree = GridSearchCV(dtc, param_grid=params, cv=3, refit=True)\n",
    "grid_tree.fit(X_train, y_train)\n",
    "\n",
    "print('best parameters : ', grid_tree.best_params_)\n",
    "print('best score : ', grid_tree.best_score_)\n",
    "print('best model parameter : ', em)\n",
    "em = grid_tree.best_estimator_\n",
    "pred = em.predict(X_val)\n",
    "accuracy_score(y_val, pred)"
   ]
  }
 ],
 "metadata": {
  "kernelspec": {
   "display_name": "Python 3.9.1 64-bit",
   "language": "python",
   "name": "python3"
  },
  "language_info": {
   "codemirror_mode": {
    "name": "ipython",
    "version": 3
   },
   "file_extension": ".py",
   "mimetype": "text/x-python",
   "name": "python",
   "nbconvert_exporter": "python",
   "pygments_lexer": "ipython3",
   "version": "3.9.1"
  },
  "vscode": {
   "interpreter": {
    "hash": "81794d4967e6c3204c66dcd87b604927b115b27c00565d3d43f05ba2f3a2cb0d"
   }
  }
 },
 "nbformat": 4,
 "nbformat_minor": 5
}
